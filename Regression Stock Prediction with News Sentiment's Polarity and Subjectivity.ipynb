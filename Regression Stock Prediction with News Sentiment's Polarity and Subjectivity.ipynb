{
 "cells": [
  {
   "cell_type": "code",
   "execution_count": 1,
   "metadata": {},
   "outputs": [],
   "source": [
    "# pip install -U seaborn"
   ]
  },
  {
   "cell_type": "code",
   "execution_count": 84,
   "metadata": {},
   "outputs": [],
   "source": [
    "# Import libraries\n",
    "import datetime as dt\n",
    "import pandas as pd\n",
    "import numpy as np\n",
    "from numpy import arange\n",
    "import matplotlib.pyplot as plt\n",
    "import seaborn as sns\n",
    "\n",
    "import warnings\n",
    "warnings.filterwarnings('ignore')\n",
    "\n",
    "from pandas import read_csv\n",
    "from sklearn import metrics\n",
    "from sklearn.model_selection import train_test_split\n",
    "from sklearn.model_selection import KFold, StratifiedKFold, cross_val_score\n",
    "from sklearn import linear_model\n",
    "from sklearn import ensemble\n",
    "\n",
    "from sklearn.linear_model import LinearRegression\n",
    "from sklearn.linear_model import Ridge\n",
    "from sklearn.neighbors import KNeighborsRegressor\n",
    "from sklearn.neural_network import MLPRegressor\n",
    "from sklearn.svm import SVR\n",
    "from sklearn.ensemble import RandomForestRegressor\n",
    "\n",
    "from sklearn.preprocessing import StandardScaler\n",
    "from sklearn.model_selection import RandomizedSearchCV"
   ]
  },
  {
   "cell_type": "code",
   "execution_count": 5,
   "metadata": {},
   "outputs": [
    {
     "data": {
      "text/html": [
       "<div>\n",
       "<style scoped>\n",
       "    .dataframe tbody tr th:only-of-type {\n",
       "        vertical-align: middle;\n",
       "    }\n",
       "\n",
       "    .dataframe tbody tr th {\n",
       "        vertical-align: top;\n",
       "    }\n",
       "\n",
       "    .dataframe thead th {\n",
       "        text-align: right;\n",
       "    }\n",
       "</style>\n",
       "<table border=\"1\" class=\"dataframe\">\n",
       "  <thead>\n",
       "    <tr style=\"text-align: right;\">\n",
       "      <th></th>\n",
       "      <th>Open</th>\n",
       "      <th>High</th>\n",
       "      <th>Low</th>\n",
       "      <th>Qty</th>\n",
       "      <th>Turnover</th>\n",
       "      <th>economic-subjectivity</th>\n",
       "      <th>economic-polarity</th>\n",
       "      <th>political-subjectivity</th>\n",
       "      <th>political-polarity</th>\n",
       "      <th>Ltp</th>\n",
       "    </tr>\n",
       "    <tr>\n",
       "      <th>Date</th>\n",
       "      <th></th>\n",
       "      <th></th>\n",
       "      <th></th>\n",
       "      <th></th>\n",
       "      <th></th>\n",
       "      <th></th>\n",
       "      <th></th>\n",
       "      <th></th>\n",
       "      <th></th>\n",
       "      <th></th>\n",
       "    </tr>\n",
       "  </thead>\n",
       "  <tbody>\n",
       "    <tr>\n",
       "      <th>2022-06-29</th>\n",
       "      <td>318.9</td>\n",
       "      <td>318.9</td>\n",
       "      <td>310.0</td>\n",
       "      <td>310.0</td>\n",
       "      <td>6127716.2</td>\n",
       "      <td>0.457500</td>\n",
       "      <td>0.017500</td>\n",
       "      <td>0.460909</td>\n",
       "      <td>-0.122727</td>\n",
       "      <td>315.0</td>\n",
       "    </tr>\n",
       "    <tr>\n",
       "      <th>2022-06-28</th>\n",
       "      <td>312.0</td>\n",
       "      <td>316.5</td>\n",
       "      <td>306.0</td>\n",
       "      <td>306.0</td>\n",
       "      <td>5707986.7</td>\n",
       "      <td>0.195556</td>\n",
       "      <td>0.017778</td>\n",
       "      <td>0.425000</td>\n",
       "      <td>0.350000</td>\n",
       "      <td>313.0</td>\n",
       "    </tr>\n",
       "    <tr>\n",
       "      <th>2022-06-27</th>\n",
       "      <td>322.0</td>\n",
       "      <td>325.0</td>\n",
       "      <td>310.0</td>\n",
       "      <td>310.0</td>\n",
       "      <td>11125995.5</td>\n",
       "      <td>0.225000</td>\n",
       "      <td>-0.012500</td>\n",
       "      <td>0.457792</td>\n",
       "      <td>0.169481</td>\n",
       "      <td>312.0</td>\n",
       "    </tr>\n",
       "    <tr>\n",
       "      <th>2022-06-26</th>\n",
       "      <td>312.9</td>\n",
       "      <td>320.0</td>\n",
       "      <td>308.0</td>\n",
       "      <td>308.0</td>\n",
       "      <td>28577745.1</td>\n",
       "      <td>0.253704</td>\n",
       "      <td>0.038889</td>\n",
       "      <td>0.570909</td>\n",
       "      <td>0.241818</td>\n",
       "      <td>320.0</td>\n",
       "    </tr>\n",
       "    <tr>\n",
       "      <th>2022-06-24</th>\n",
       "      <td>305.0</td>\n",
       "      <td>310.0</td>\n",
       "      <td>298.2</td>\n",
       "      <td>298.2</td>\n",
       "      <td>25399389.8</td>\n",
       "      <td>0.280303</td>\n",
       "      <td>0.042424</td>\n",
       "      <td>0.300000</td>\n",
       "      <td>0.128788</td>\n",
       "      <td>307.0</td>\n",
       "    </tr>\n",
       "  </tbody>\n",
       "</table>\n",
       "</div>"
      ],
      "text/plain": [
       "             Open   High    Low    Qty    Turnover  economic-subjectivity  \\\n",
       "Date                                                                        \n",
       "2022-06-29  318.9  318.9  310.0  310.0   6127716.2               0.457500   \n",
       "2022-06-28  312.0  316.5  306.0  306.0   5707986.7               0.195556   \n",
       "2022-06-27  322.0  325.0  310.0  310.0  11125995.5               0.225000   \n",
       "2022-06-26  312.9  320.0  308.0  308.0  28577745.1               0.253704   \n",
       "2022-06-24  305.0  310.0  298.2  298.2  25399389.8               0.280303   \n",
       "\n",
       "            economic-polarity  political-subjectivity  political-polarity  \\\n",
       "Date                                                                        \n",
       "2022-06-29           0.017500                0.460909           -0.122727   \n",
       "2022-06-28           0.017778                0.425000            0.350000   \n",
       "2022-06-27          -0.012500                0.457792            0.169481   \n",
       "2022-06-26           0.038889                0.570909            0.241818   \n",
       "2022-06-24           0.042424                0.300000            0.128788   \n",
       "\n",
       "              Ltp  \n",
       "Date               \n",
       "2022-06-29  315.0  \n",
       "2022-06-28  313.0  \n",
       "2022-06-27  312.0  \n",
       "2022-06-26  320.0  \n",
       "2022-06-24  307.0  "
      ]
     },
     "execution_count": 5,
     "metadata": {},
     "output_type": "execute_result"
    }
   ],
   "source": [
    "df = pd.read_csv(\"Datasets/final-stock-dataset-with-sentiment-polarity-subjectivity.csv\", index_col=0)\n",
    "df.head()"
   ]
  },
  {
   "cell_type": "code",
   "execution_count": 6,
   "metadata": {},
   "outputs": [
    {
     "data": {
      "text/html": [
       "<div>\n",
       "<style scoped>\n",
       "    .dataframe tbody tr th:only-of-type {\n",
       "        vertical-align: middle;\n",
       "    }\n",
       "\n",
       "    .dataframe tbody tr th {\n",
       "        vertical-align: top;\n",
       "    }\n",
       "\n",
       "    .dataframe thead th {\n",
       "        text-align: right;\n",
       "    }\n",
       "</style>\n",
       "<table border=\"1\" class=\"dataframe\">\n",
       "  <thead>\n",
       "    <tr style=\"text-align: right;\">\n",
       "      <th></th>\n",
       "      <th>Open</th>\n",
       "      <th>High</th>\n",
       "      <th>Low</th>\n",
       "      <th>Qty</th>\n",
       "      <th>Turnover</th>\n",
       "      <th>economic-subjectivity</th>\n",
       "      <th>economic-polarity</th>\n",
       "      <th>political-subjectivity</th>\n",
       "      <th>political-polarity</th>\n",
       "      <th>Ltp</th>\n",
       "    </tr>\n",
       "    <tr>\n",
       "      <th>Date</th>\n",
       "      <th></th>\n",
       "      <th></th>\n",
       "      <th></th>\n",
       "      <th></th>\n",
       "      <th></th>\n",
       "      <th></th>\n",
       "      <th></th>\n",
       "      <th></th>\n",
       "      <th></th>\n",
       "      <th></th>\n",
       "    </tr>\n",
       "  </thead>\n",
       "  <tbody>\n",
       "    <tr>\n",
       "      <th>2022-06-29</th>\n",
       "      <td>318.9</td>\n",
       "      <td>318.9</td>\n",
       "      <td>310.0</td>\n",
       "      <td>310.0</td>\n",
       "      <td>6127716.2</td>\n",
       "      <td>0.457500</td>\n",
       "      <td>0.017500</td>\n",
       "      <td>0.460909</td>\n",
       "      <td>-0.122727</td>\n",
       "      <td>315.0</td>\n",
       "    </tr>\n",
       "    <tr>\n",
       "      <th>2022-06-28</th>\n",
       "      <td>312.0</td>\n",
       "      <td>316.5</td>\n",
       "      <td>306.0</td>\n",
       "      <td>306.0</td>\n",
       "      <td>5707986.7</td>\n",
       "      <td>0.195556</td>\n",
       "      <td>0.017778</td>\n",
       "      <td>0.425000</td>\n",
       "      <td>0.350000</td>\n",
       "      <td>313.0</td>\n",
       "    </tr>\n",
       "    <tr>\n",
       "      <th>2022-06-27</th>\n",
       "      <td>322.0</td>\n",
       "      <td>325.0</td>\n",
       "      <td>310.0</td>\n",
       "      <td>310.0</td>\n",
       "      <td>11125995.5</td>\n",
       "      <td>0.225000</td>\n",
       "      <td>-0.012500</td>\n",
       "      <td>0.457792</td>\n",
       "      <td>0.169481</td>\n",
       "      <td>312.0</td>\n",
       "    </tr>\n",
       "    <tr>\n",
       "      <th>2022-06-26</th>\n",
       "      <td>312.9</td>\n",
       "      <td>320.0</td>\n",
       "      <td>308.0</td>\n",
       "      <td>308.0</td>\n",
       "      <td>28577745.1</td>\n",
       "      <td>0.253704</td>\n",
       "      <td>0.038889</td>\n",
       "      <td>0.570909</td>\n",
       "      <td>0.241818</td>\n",
       "      <td>320.0</td>\n",
       "    </tr>\n",
       "    <tr>\n",
       "      <th>2022-06-24</th>\n",
       "      <td>305.0</td>\n",
       "      <td>310.0</td>\n",
       "      <td>298.2</td>\n",
       "      <td>298.2</td>\n",
       "      <td>25399389.8</td>\n",
       "      <td>0.280303</td>\n",
       "      <td>0.042424</td>\n",
       "      <td>0.300000</td>\n",
       "      <td>0.128788</td>\n",
       "      <td>307.0</td>\n",
       "    </tr>\n",
       "    <tr>\n",
       "      <th>...</th>\n",
       "      <td>...</td>\n",
       "      <td>...</td>\n",
       "      <td>...</td>\n",
       "      <td>...</td>\n",
       "      <td>...</td>\n",
       "      <td>...</td>\n",
       "      <td>...</td>\n",
       "      <td>...</td>\n",
       "      <td>...</td>\n",
       "      <td>...</td>\n",
       "    </tr>\n",
       "    <tr>\n",
       "      <th>2016-07-17</th>\n",
       "      <td>869.0</td>\n",
       "      <td>955.0</td>\n",
       "      <td>886.0</td>\n",
       "      <td>886.0</td>\n",
       "      <td>2538590.0</td>\n",
       "      <td>0.277273</td>\n",
       "      <td>0.218182</td>\n",
       "      <td>0.461818</td>\n",
       "      <td>0.004545</td>\n",
       "      <td>955.0</td>\n",
       "    </tr>\n",
       "    <tr>\n",
       "      <th>2016-07-14</th>\n",
       "      <td>790.0</td>\n",
       "      <td>869.0</td>\n",
       "      <td>805.0</td>\n",
       "      <td>805.0</td>\n",
       "      <td>151344.0</td>\n",
       "      <td>0.303030</td>\n",
       "      <td>0.090909</td>\n",
       "      <td>0.326515</td>\n",
       "      <td>-0.087879</td>\n",
       "      <td>869.0</td>\n",
       "    </tr>\n",
       "    <tr>\n",
       "      <th>2016-07-13</th>\n",
       "      <td>719.0</td>\n",
       "      <td>790.0</td>\n",
       "      <td>733.0</td>\n",
       "      <td>733.0</td>\n",
       "      <td>4231540.0</td>\n",
       "      <td>0.293182</td>\n",
       "      <td>0.337121</td>\n",
       "      <td>0.444805</td>\n",
       "      <td>-0.012987</td>\n",
       "      <td>790.0</td>\n",
       "    </tr>\n",
       "    <tr>\n",
       "      <th>2016-07-12</th>\n",
       "      <td>654.0</td>\n",
       "      <td>719.0</td>\n",
       "      <td>667.0</td>\n",
       "      <td>667.0</td>\n",
       "      <td>89570.0</td>\n",
       "      <td>0.315774</td>\n",
       "      <td>0.166369</td>\n",
       "      <td>0.343232</td>\n",
       "      <td>-0.007475</td>\n",
       "      <td>719.0</td>\n",
       "    </tr>\n",
       "    <tr>\n",
       "      <th>2016-07-11</th>\n",
       "      <td>595.0</td>\n",
       "      <td>654.0</td>\n",
       "      <td>606.0</td>\n",
       "      <td>606.0</td>\n",
       "      <td>685500.0</td>\n",
       "      <td>0.563333</td>\n",
       "      <td>0.000000</td>\n",
       "      <td>0.277381</td>\n",
       "      <td>-0.035714</td>\n",
       "      <td>654.0</td>\n",
       "    </tr>\n",
       "  </tbody>\n",
       "</table>\n",
       "<p>948 rows × 10 columns</p>\n",
       "</div>"
      ],
      "text/plain": [
       "             Open   High    Low    Qty    Turnover  economic-subjectivity  \\\n",
       "Date                                                                        \n",
       "2022-06-29  318.9  318.9  310.0  310.0   6127716.2               0.457500   \n",
       "2022-06-28  312.0  316.5  306.0  306.0   5707986.7               0.195556   \n",
       "2022-06-27  322.0  325.0  310.0  310.0  11125995.5               0.225000   \n",
       "2022-06-26  312.9  320.0  308.0  308.0  28577745.1               0.253704   \n",
       "2022-06-24  305.0  310.0  298.2  298.2  25399389.8               0.280303   \n",
       "...           ...    ...    ...    ...         ...                    ...   \n",
       "2016-07-17  869.0  955.0  886.0  886.0   2538590.0               0.277273   \n",
       "2016-07-14  790.0  869.0  805.0  805.0    151344.0               0.303030   \n",
       "2016-07-13  719.0  790.0  733.0  733.0   4231540.0               0.293182   \n",
       "2016-07-12  654.0  719.0  667.0  667.0     89570.0               0.315774   \n",
       "2016-07-11  595.0  654.0  606.0  606.0    685500.0               0.563333   \n",
       "\n",
       "            economic-polarity  political-subjectivity  political-polarity  \\\n",
       "Date                                                                        \n",
       "2022-06-29           0.017500                0.460909           -0.122727   \n",
       "2022-06-28           0.017778                0.425000            0.350000   \n",
       "2022-06-27          -0.012500                0.457792            0.169481   \n",
       "2022-06-26           0.038889                0.570909            0.241818   \n",
       "2022-06-24           0.042424                0.300000            0.128788   \n",
       "...                       ...                     ...                 ...   \n",
       "2016-07-17           0.218182                0.461818            0.004545   \n",
       "2016-07-14           0.090909                0.326515           -0.087879   \n",
       "2016-07-13           0.337121                0.444805           -0.012987   \n",
       "2016-07-12           0.166369                0.343232           -0.007475   \n",
       "2016-07-11           0.000000                0.277381           -0.035714   \n",
       "\n",
       "              Ltp  \n",
       "Date               \n",
       "2022-06-29  315.0  \n",
       "2022-06-28  313.0  \n",
       "2022-06-27  312.0  \n",
       "2022-06-26  320.0  \n",
       "2022-06-24  307.0  \n",
       "...           ...  \n",
       "2016-07-17  955.0  \n",
       "2016-07-14  869.0  \n",
       "2016-07-13  790.0  \n",
       "2016-07-12  719.0  \n",
       "2016-07-11  654.0  \n",
       "\n",
       "[948 rows x 10 columns]"
      ]
     },
     "execution_count": 6,
     "metadata": {},
     "output_type": "execute_result"
    }
   ],
   "source": [
    "df"
   ]
  },
  {
   "cell_type": "code",
   "execution_count": 7,
   "metadata": {},
   "outputs": [],
   "source": [
    "# df.to_csv(\"stock-dataset-with-sentiment-polarity-subjectivity.csv\")"
   ]
  },
  {
   "cell_type": "code",
   "execution_count": 8,
   "metadata": {},
   "outputs": [],
   "source": [
    "# df.set_index(\"Date\", inplace=True)\n",
    "# df.head()"
   ]
  },
  {
   "cell_type": "code",
   "execution_count": 9,
   "metadata": {},
   "outputs": [
    {
     "data": {
      "text/plain": [
       "dtype('float64')"
      ]
     },
     "execution_count": 9,
     "metadata": {},
     "output_type": "execute_result"
    }
   ],
   "source": [
    "df['Ltp'].dtypes"
   ]
  },
  {
   "cell_type": "code",
   "execution_count": 10,
   "metadata": {},
   "outputs": [
    {
     "data": {
      "text/plain": [
       "Open                      0\n",
       "High                      0\n",
       "Low                       0\n",
       "Qty                       0\n",
       "Turnover                  0\n",
       "economic-subjectivity     0\n",
       "economic-polarity         0\n",
       "political-subjectivity    0\n",
       "political-polarity        0\n",
       "Ltp                       0\n",
       "dtype: int64"
      ]
     },
     "execution_count": 10,
     "metadata": {},
     "output_type": "execute_result"
    }
   ],
   "source": [
    "#null value check\n",
    "df.isna().sum()"
   ]
  },
  {
   "cell_type": "code",
   "execution_count": 11,
   "metadata": {},
   "outputs": [
    {
     "data": {
      "image/png": "[encoded data removed]",
      "text/plain": [
       "<Figure size 1008x576 with 1 Axes>"
      ]
     },
     "metadata": {
      "needs_background": "light"
     },
     "output_type": "display_data"
    }
   ],
   "source": [
    "df['Ltp'].plot(figsize=(14,8))\n",
    "plt.ylabel(\"Last Trading Price\")\n",
    "plt.title(\"Last Trading Price Movement\")\n",
    "plt.show()"
   ]
  },
  {
   "cell_type": "code",
   "execution_count": 12,
   "metadata": {},
   "outputs": [
    {
     "data": {
      "image/png": "[encoded data removed]",
      "text/plain": [
       "<Figure size 1008x576 with 1 Axes>"
      ]
     },
     "metadata": {
      "needs_background": "light"
     },
     "output_type": "display_data"
    }
   ],
   "source": [
    "df['Turnover'].plot(figsize=(14,8))\n",
    "plt.ylabel(\"Turnover\")\n",
    "plt.title(\"Turnover Movement\")\n",
    "plt.show()"
   ]
  },
  {
   "cell_type": "code",
   "execution_count": 13,
   "metadata": {},
   "outputs": [
    {
     "data": {
      "image/png": "[encoded data removed]",
      "text/plain": [
       "<Figure size 1008x576 with 1 Axes>"
      ]
     },
     "metadata": {
      "needs_background": "light"
     },
     "output_type": "display_data"
    }
   ],
   "source": [
    "df['Qty'].plot(figsize=(14,8))\n",
    "plt.ylabel(\"Qty\")\n",
    "plt.title(\"Quantity Movement\")\n",
    "plt.show()"
   ]
  },
  {
   "cell_type": "code",
   "execution_count": 14,
   "metadata": {},
   "outputs": [
    {
     "data": {
      "text/plain": [
       "300.0    19\n",
       "315.0    12\n",
       "320.0    12\n",
       "314.0    11\n",
       "312.0    11\n",
       "         ..\n",
       "388.3     1\n",
       "350.0     1\n",
       "357.0     1\n",
       "396.6     1\n",
       "654.0     1\n",
       "Name: Ltp, Length: 383, dtype: int64"
      ]
     },
     "execution_count": 14,
     "metadata": {},
     "output_type": "execute_result"
    }
   ],
   "source": [
    "df['Ltp'].value_counts()"
   ]
  },
  {
   "cell_type": "code",
   "execution_count": 15,
   "metadata": {},
   "outputs": [],
   "source": [
    "# # Paiplot of  dataframe\n",
    "# sns.pairplot(df, hue = 'Ltp')"
   ]
  },
  {
   "cell_type": "code",
   "execution_count": 16,
   "metadata": {},
   "outputs": [
    {
     "data": {
      "text/html": [
       "<div>\n",
       "<style scoped>\n",
       "    .dataframe tbody tr th:only-of-type {\n",
       "        vertical-align: middle;\n",
       "    }\n",
       "\n",
       "    .dataframe tbody tr th {\n",
       "        vertical-align: top;\n",
       "    }\n",
       "\n",
       "    .dataframe thead th {\n",
       "        text-align: right;\n",
       "    }\n",
       "</style>\n",
       "<table border=\"1\" class=\"dataframe\">\n",
       "  <thead>\n",
       "    <tr style=\"text-align: right;\">\n",
       "      <th></th>\n",
       "      <th>Open</th>\n",
       "      <th>High</th>\n",
       "      <th>Low</th>\n",
       "      <th>Qty</th>\n",
       "      <th>Turnover</th>\n",
       "      <th>economic-subjectivity</th>\n",
       "      <th>economic-polarity</th>\n",
       "      <th>political-subjectivity</th>\n",
       "      <th>political-polarity</th>\n",
       "      <th>Ltp</th>\n",
       "    </tr>\n",
       "  </thead>\n",
       "  <tbody>\n",
       "    <tr>\n",
       "      <th>Open</th>\n",
       "      <td>1.000000</td>\n",
       "      <td>0.999023</td>\n",
       "      <td>0.999335</td>\n",
       "      <td>0.999335</td>\n",
       "      <td>0.249468</td>\n",
       "      <td>0.007509</td>\n",
       "      <td>0.148061</td>\n",
       "      <td>0.001911</td>\n",
       "      <td>0.008607</td>\n",
       "      <td>0.998562</td>\n",
       "    </tr>\n",
       "    <tr>\n",
       "      <th>High</th>\n",
       "      <td>0.999023</td>\n",
       "      <td>1.000000</td>\n",
       "      <td>0.999134</td>\n",
       "      <td>0.999134</td>\n",
       "      <td>0.259375</td>\n",
       "      <td>0.006479</td>\n",
       "      <td>0.150168</td>\n",
       "      <td>0.002528</td>\n",
       "      <td>0.009023</td>\n",
       "      <td>0.999587</td>\n",
       "    </tr>\n",
       "    <tr>\n",
       "      <th>Low</th>\n",
       "      <td>0.999335</td>\n",
       "      <td>0.999134</td>\n",
       "      <td>1.000000</td>\n",
       "      <td>1.000000</td>\n",
       "      <td>0.246582</td>\n",
       "      <td>0.004674</td>\n",
       "      <td>0.147470</td>\n",
       "      <td>0.002132</td>\n",
       "      <td>0.008001</td>\n",
       "      <td>0.999251</td>\n",
       "    </tr>\n",
       "    <tr>\n",
       "      <th>Qty</th>\n",
       "      <td>0.999335</td>\n",
       "      <td>0.999134</td>\n",
       "      <td>1.000000</td>\n",
       "      <td>1.000000</td>\n",
       "      <td>0.246582</td>\n",
       "      <td>0.004674</td>\n",
       "      <td>0.147470</td>\n",
       "      <td>0.002132</td>\n",
       "      <td>0.008001</td>\n",
       "      <td>0.999251</td>\n",
       "    </tr>\n",
       "    <tr>\n",
       "      <th>Turnover</th>\n",
       "      <td>0.249468</td>\n",
       "      <td>0.259375</td>\n",
       "      <td>0.246582</td>\n",
       "      <td>0.246582</td>\n",
       "      <td>1.000000</td>\n",
       "      <td>0.002024</td>\n",
       "      <td>0.010022</td>\n",
       "      <td>-0.006702</td>\n",
       "      <td>0.039462</td>\n",
       "      <td>0.253623</td>\n",
       "    </tr>\n",
       "    <tr>\n",
       "      <th>economic-subjectivity</th>\n",
       "      <td>0.007509</td>\n",
       "      <td>0.006479</td>\n",
       "      <td>0.004674</td>\n",
       "      <td>0.004674</td>\n",
       "      <td>0.002024</td>\n",
       "      <td>1.000000</td>\n",
       "      <td>0.234261</td>\n",
       "      <td>0.029147</td>\n",
       "      <td>0.012509</td>\n",
       "      <td>0.006837</td>\n",
       "    </tr>\n",
       "    <tr>\n",
       "      <th>economic-polarity</th>\n",
       "      <td>0.148061</td>\n",
       "      <td>0.150168</td>\n",
       "      <td>0.147470</td>\n",
       "      <td>0.147470</td>\n",
       "      <td>0.010022</td>\n",
       "      <td>0.234261</td>\n",
       "      <td>1.000000</td>\n",
       "      <td>0.025870</td>\n",
       "      <td>-0.029237</td>\n",
       "      <td>0.150450</td>\n",
       "    </tr>\n",
       "    <tr>\n",
       "      <th>political-subjectivity</th>\n",
       "      <td>0.001911</td>\n",
       "      <td>0.002528</td>\n",
       "      <td>0.002132</td>\n",
       "      <td>0.002132</td>\n",
       "      <td>-0.006702</td>\n",
       "      <td>0.029147</td>\n",
       "      <td>0.025870</td>\n",
       "      <td>1.000000</td>\n",
       "      <td>0.231214</td>\n",
       "      <td>0.003092</td>\n",
       "    </tr>\n",
       "    <tr>\n",
       "      <th>political-polarity</th>\n",
       "      <td>0.008607</td>\n",
       "      <td>0.009023</td>\n",
       "      <td>0.008001</td>\n",
       "      <td>0.008001</td>\n",
       "      <td>0.039462</td>\n",
       "      <td>0.012509</td>\n",
       "      <td>-0.029237</td>\n",
       "      <td>0.231214</td>\n",
       "      <td>1.000000</td>\n",
       "      <td>0.009975</td>\n",
       "    </tr>\n",
       "    <tr>\n",
       "      <th>Ltp</th>\n",
       "      <td>0.998562</td>\n",
       "      <td>0.999587</td>\n",
       "      <td>0.999251</td>\n",
       "      <td>0.999251</td>\n",
       "      <td>0.253623</td>\n",
       "      <td>0.006837</td>\n",
       "      <td>0.150450</td>\n",
       "      <td>0.003092</td>\n",
       "      <td>0.009975</td>\n",
       "      <td>1.000000</td>\n",
       "    </tr>\n",
       "  </tbody>\n",
       "</table>\n",
       "</div>"
      ],
      "text/plain": [
       "                            Open      High       Low       Qty  Turnover  \\\n",
       "Open                    1.000000  0.999023  0.999335  0.999335  0.249468   \n",
       "High                    0.999023  1.000000  0.999134  0.999134  0.259375   \n",
       "Low                     0.999335  0.999134  1.000000  1.000000  0.246582   \n",
       "Qty                     0.999335  0.999134  1.000000  1.000000  0.246582   \n",
       "Turnover                0.249468  0.259375  0.246582  0.246582  1.000000   \n",
       "economic-subjectivity   0.007509  0.006479  0.004674  0.004674  0.002024   \n",
       "economic-polarity       0.148061  0.150168  0.147470  0.147470  0.010022   \n",
       "political-subjectivity  0.001911  0.002528  0.002132  0.002132 -0.006702   \n",
       "political-polarity      0.008607  0.009023  0.008001  0.008001  0.039462   \n",
       "Ltp                     0.998562  0.999587  0.999251  0.999251  0.253623   \n",
       "\n",
       "                        economic-subjectivity  economic-polarity  \\\n",
       "Open                                 0.007509           0.148061   \n",
       "High                                 0.006479           0.150168   \n",
       "Low                                  0.004674           0.147470   \n",
       "Qty                                  0.004674           0.147470   \n",
       "Turnover                             0.002024           0.010022   \n",
       "economic-subjectivity                1.000000           0.234261   \n",
       "economic-polarity                    0.234261           1.000000   \n",
       "political-subjectivity               0.029147           0.025870   \n",
       "political-polarity                   0.012509          -0.029237   \n",
       "Ltp                                  0.006837           0.150450   \n",
       "\n",
       "                        political-subjectivity  political-polarity       Ltp  \n",
       "Open                                  0.001911            0.008607  0.998562  \n",
       "High                                  0.002528            0.009023  0.999587  \n",
       "Low                                   0.002132            0.008001  0.999251  \n",
       "Qty                                   0.002132            0.008001  0.999251  \n",
       "Turnover                             -0.006702            0.039462  0.253623  \n",
       "economic-subjectivity                 0.029147            0.012509  0.006837  \n",
       "economic-polarity                     0.025870           -0.029237  0.150450  \n",
       "political-subjectivity                1.000000            0.231214  0.003092  \n",
       "political-polarity                    0.231214            1.000000  0.009975  \n",
       "Ltp                                   0.003092            0.009975  1.000000  "
      ]
     },
     "execution_count": 16,
     "metadata": {},
     "output_type": "execute_result"
    }
   ],
   "source": [
    "## Make correlation matrix \n",
    "\n",
    "df.corr()"
   ]
  },
  {
   "cell_type": "code",
   "execution_count": 17,
   "metadata": {},
   "outputs": [
    {
     "data": {
      "image/png": "[encoded data removed]",
      "text/plain": [
       "<Figure size 1080x720 with 2 Axes>"
      ]
     },
     "metadata": {
      "needs_background": "light"
     },
     "output_type": "display_data"
    }
   ],
   "source": [
    "## making correlation matrix more understable \n",
    "\n",
    "corr_matrix = df.corr()\n",
    "fig, ax = plt.subplots(figsize=(15,10))\n",
    "ax =  sns.heatmap(corr_matrix,\n",
    "                  annot=True,\n",
    "                  linewidth=0.5,\n",
    "                  fmt=\".2f\",\n",
    "                  cmap=\"YlGnBu\",);"
   ]
  },
  {
   "cell_type": "markdown",
   "metadata": {},
   "source": [
    "# Summary Statistics and Visualize of Economic Text"
   ]
  },
  {
   "cell_type": "code",
   "execution_count": 18,
   "metadata": {},
   "outputs": [
    {
     "data": {
      "text/plain": [
       "count    948.000000\n",
       "mean       0.320811\n",
       "std        0.176394\n",
       "min        0.000000\n",
       "25%        0.200000\n",
       "50%        0.315757\n",
       "75%        0.439015\n",
       "max        1.000000\n",
       "Name: economic-subjectivity, dtype: float64"
      ]
     },
     "execution_count": 18,
     "metadata": {},
     "output_type": "execute_result"
    }
   ],
   "source": [
    "#Statistics of Economic Text Subjectivity\n",
    "df['economic-subjectivity'].describe()\n"
   ]
  },
  {
   "cell_type": "code",
   "execution_count": 19,
   "metadata": {},
   "outputs": [
    {
     "data": {
      "image/png": "[encoded data removed]",
      "text/plain": [
       "<Figure size 360x360 with 1 Axes>"
      ]
     },
     "metadata": {
      "needs_background": "light"
     },
     "output_type": "display_data"
    }
   ],
   "source": [
    "sns.displot(df['economic-subjectivity'], bins=20, kde=True);"
   ]
  },
  {
   "cell_type": "code",
   "execution_count": 20,
   "metadata": {},
   "outputs": [
    {
     "data": {
      "text/plain": [
       "count    948.000000\n",
       "mean       0.059365\n",
       "std        0.141399\n",
       "min       -0.600000\n",
       "25%       -0.006184\n",
       "50%        0.050000\n",
       "75%        0.136552\n",
       "max        1.000000\n",
       "Name: economic-polarity, dtype: float64"
      ]
     },
     "execution_count": 20,
     "metadata": {},
     "output_type": "execute_result"
    }
   ],
   "source": [
    "#Statistics of Economic Text Polarity\n",
    "df['economic-polarity'].describe()"
   ]
  },
  {
   "cell_type": "code",
   "execution_count": 21,
   "metadata": {},
   "outputs": [
    {
     "data": {
      "text/plain": [
       " 0.000000    104\n",
       " 0.050000     23\n",
       " 0.100000     22\n",
       " 0.250000     17\n",
       " 0.200000     12\n",
       "            ... \n",
       "-0.015000      1\n",
       "-0.150000      1\n",
       " 0.304167      1\n",
       " 0.006667      1\n",
       " 0.166369      1\n",
       "Name: economic-polarity, Length: 523, dtype: int64"
      ]
     },
     "execution_count": 21,
     "metadata": {},
     "output_type": "execute_result"
    }
   ],
   "source": [
    "#Statistics of Economic Text Polarity\n",
    "df['economic-polarity'].value_counts()"
   ]
  },
  {
   "cell_type": "code",
   "execution_count": 22,
   "metadata": {},
   "outputs": [
    {
     "data": {
      "image/png": "[encoded data removed]",
      "text/plain": [
       "<Figure size 360x360 with 1 Axes>"
      ]
     },
     "metadata": {
      "needs_background": "light"
     },
     "output_type": "display_data"
    }
   ],
   "source": [
    "sns.displot(df['economic-polarity'], bins=20, kde=True);"
   ]
  },
  {
   "cell_type": "code",
   "execution_count": 23,
   "metadata": {},
   "outputs": [
    {
     "data": {
      "text/plain": [
       "count    948.000000\n",
       "mean       0.307988\n",
       "std        0.198543\n",
       "min        0.000000\n",
       "25%        0.175000\n",
       "50%        0.300000\n",
       "75%        0.428417\n",
       "max        1.000000\n",
       "Name: political-subjectivity, dtype: float64"
      ]
     },
     "execution_count": 23,
     "metadata": {},
     "output_type": "execute_result"
    }
   ],
   "source": [
    "#Statistics of Political Text Subjectivity\n",
    "df['political-subjectivity'].describe()\n"
   ]
  },
  {
   "cell_type": "code",
   "execution_count": 24,
   "metadata": {},
   "outputs": [
    {
     "data": {
      "image/png": "[encoded data removed]",
      "text/plain": [
       "<Figure size 360x360 with 1 Axes>"
      ]
     },
     "metadata": {
      "needs_background": "light"
     },
     "output_type": "display_data"
    }
   ],
   "source": [
    "sns.displot(df['political-subjectivity'], bins=20, kde=True);"
   ]
  },
  {
   "cell_type": "code",
   "execution_count": 25,
   "metadata": {},
   "outputs": [
    {
     "data": {
      "text/plain": [
       "count    948.000000\n",
       "mean       0.044399\n",
       "std        0.137091\n",
       "min       -0.650000\n",
       "25%       -0.004505\n",
       "50%        0.027435\n",
       "75%        0.110278\n",
       "max        0.600000\n",
       "Name: political-polarity, dtype: float64"
      ]
     },
     "execution_count": 25,
     "metadata": {},
     "output_type": "execute_result"
    }
   ],
   "source": [
    "#Statistics of Political Text Polarity\n",
    "df['political-polarity'].describe()"
   ]
  },
  {
   "cell_type": "code",
   "execution_count": 26,
   "metadata": {},
   "outputs": [
    {
     "data": {
      "image/png": "[encoded data removed]",
      "text/plain": [
       "<Figure size 360x360 with 1 Axes>"
      ]
     },
     "metadata": {
      "needs_background": "light"
     },
     "output_type": "display_data"
    }
   ],
   "source": [
    "sns.displot(df['political-polarity'], bins=20, kde=True);"
   ]
  },
  {
   "cell_type": "code",
   "execution_count": 27,
   "metadata": {},
   "outputs": [
    {
     "data": {
      "image/png": "[encoded data removed]",
      "text/plain": [
       "<Figure size 1008x576 with 1 Axes>"
      ]
     },
     "metadata": {
      "needs_background": "light"
     },
     "output_type": "display_data"
    }
   ],
   "source": [
    "df['economic-polarity'].plot(figsize=(14,8))\n",
    "plt.ylabel(\"Economic News Polarity\")\n",
    "plt.title(\"Economic News Sentiment Polarity\")\n",
    "plt.show()"
   ]
  },
  {
   "cell_type": "code",
   "execution_count": 28,
   "metadata": {},
   "outputs": [
    {
     "data": {
      "image/png": "[encoded data removed]",
      "text/plain": [
       "<Figure size 1008x576 with 1 Axes>"
      ]
     },
     "metadata": {
      "needs_background": "light"
     },
     "output_type": "display_data"
    }
   ],
   "source": [
    "df['political-polarity'].plot(figsize=(14,8))\n",
    "plt.ylabel(\"Political News Polarity\")\n",
    "plt.title(\"Political News Sentiment Polarity\")\n",
    "plt.show()\n"
   ]
  },
  {
   "cell_type": "code",
   "execution_count": 29,
   "metadata": {},
   "outputs": [
    {
     "data": {
      "text/html": [
       "<div>\n",
       "<style scoped>\n",
       "    .dataframe tbody tr th:only-of-type {\n",
       "        vertical-align: middle;\n",
       "    }\n",
       "\n",
       "    .dataframe tbody tr th {\n",
       "        vertical-align: top;\n",
       "    }\n",
       "\n",
       "    .dataframe thead th {\n",
       "        text-align: right;\n",
       "    }\n",
       "</style>\n",
       "<table border=\"1\" class=\"dataframe\">\n",
       "  <thead>\n",
       "    <tr style=\"text-align: right;\">\n",
       "      <th></th>\n",
       "      <th>Open</th>\n",
       "      <th>High</th>\n",
       "      <th>Low</th>\n",
       "      <th>Qty</th>\n",
       "      <th>Turnover</th>\n",
       "      <th>economic-subjectivity</th>\n",
       "      <th>economic-polarity</th>\n",
       "      <th>political-subjectivity</th>\n",
       "      <th>political-polarity</th>\n",
       "      <th>Ltp</th>\n",
       "    </tr>\n",
       "    <tr>\n",
       "      <th>Date</th>\n",
       "      <th></th>\n",
       "      <th></th>\n",
       "      <th></th>\n",
       "      <th></th>\n",
       "      <th></th>\n",
       "      <th></th>\n",
       "      <th></th>\n",
       "      <th></th>\n",
       "      <th></th>\n",
       "      <th></th>\n",
       "    </tr>\n",
       "  </thead>\n",
       "  <tbody>\n",
       "    <tr>\n",
       "      <th>2022-06-29</th>\n",
       "      <td>318.9</td>\n",
       "      <td>318.9</td>\n",
       "      <td>310.0</td>\n",
       "      <td>310.0</td>\n",
       "      <td>6127716.2</td>\n",
       "      <td>0.457500</td>\n",
       "      <td>0.017500</td>\n",
       "      <td>0.460909</td>\n",
       "      <td>-0.122727</td>\n",
       "      <td>315.0</td>\n",
       "    </tr>\n",
       "    <tr>\n",
       "      <th>2022-06-28</th>\n",
       "      <td>312.0</td>\n",
       "      <td>316.5</td>\n",
       "      <td>306.0</td>\n",
       "      <td>306.0</td>\n",
       "      <td>5707986.7</td>\n",
       "      <td>0.195556</td>\n",
       "      <td>0.017778</td>\n",
       "      <td>0.425000</td>\n",
       "      <td>0.350000</td>\n",
       "      <td>313.0</td>\n",
       "    </tr>\n",
       "    <tr>\n",
       "      <th>2022-06-27</th>\n",
       "      <td>322.0</td>\n",
       "      <td>325.0</td>\n",
       "      <td>310.0</td>\n",
       "      <td>310.0</td>\n",
       "      <td>11125995.5</td>\n",
       "      <td>0.225000</td>\n",
       "      <td>-0.012500</td>\n",
       "      <td>0.457792</td>\n",
       "      <td>0.169481</td>\n",
       "      <td>312.0</td>\n",
       "    </tr>\n",
       "    <tr>\n",
       "      <th>2022-06-26</th>\n",
       "      <td>312.9</td>\n",
       "      <td>320.0</td>\n",
       "      <td>308.0</td>\n",
       "      <td>308.0</td>\n",
       "      <td>28577745.1</td>\n",
       "      <td>0.253704</td>\n",
       "      <td>0.038889</td>\n",
       "      <td>0.570909</td>\n",
       "      <td>0.241818</td>\n",
       "      <td>320.0</td>\n",
       "    </tr>\n",
       "    <tr>\n",
       "      <th>2022-06-24</th>\n",
       "      <td>305.0</td>\n",
       "      <td>310.0</td>\n",
       "      <td>298.2</td>\n",
       "      <td>298.2</td>\n",
       "      <td>25399389.8</td>\n",
       "      <td>0.280303</td>\n",
       "      <td>0.042424</td>\n",
       "      <td>0.300000</td>\n",
       "      <td>0.128788</td>\n",
       "      <td>307.0</td>\n",
       "    </tr>\n",
       "    <tr>\n",
       "      <th>...</th>\n",
       "      <td>...</td>\n",
       "      <td>...</td>\n",
       "      <td>...</td>\n",
       "      <td>...</td>\n",
       "      <td>...</td>\n",
       "      <td>...</td>\n",
       "      <td>...</td>\n",
       "      <td>...</td>\n",
       "      <td>...</td>\n",
       "      <td>...</td>\n",
       "    </tr>\n",
       "    <tr>\n",
       "      <th>2016-07-17</th>\n",
       "      <td>869.0</td>\n",
       "      <td>955.0</td>\n",
       "      <td>886.0</td>\n",
       "      <td>886.0</td>\n",
       "      <td>2538590.0</td>\n",
       "      <td>0.277273</td>\n",
       "      <td>0.218182</td>\n",
       "      <td>0.461818</td>\n",
       "      <td>0.004545</td>\n",
       "      <td>955.0</td>\n",
       "    </tr>\n",
       "    <tr>\n",
       "      <th>2016-07-14</th>\n",
       "      <td>790.0</td>\n",
       "      <td>869.0</td>\n",
       "      <td>805.0</td>\n",
       "      <td>805.0</td>\n",
       "      <td>151344.0</td>\n",
       "      <td>0.303030</td>\n",
       "      <td>0.090909</td>\n",
       "      <td>0.326515</td>\n",
       "      <td>-0.087879</td>\n",
       "      <td>869.0</td>\n",
       "    </tr>\n",
       "    <tr>\n",
       "      <th>2016-07-13</th>\n",
       "      <td>719.0</td>\n",
       "      <td>790.0</td>\n",
       "      <td>733.0</td>\n",
       "      <td>733.0</td>\n",
       "      <td>4231540.0</td>\n",
       "      <td>0.293182</td>\n",
       "      <td>0.337121</td>\n",
       "      <td>0.444805</td>\n",
       "      <td>-0.012987</td>\n",
       "      <td>790.0</td>\n",
       "    </tr>\n",
       "    <tr>\n",
       "      <th>2016-07-12</th>\n",
       "      <td>654.0</td>\n",
       "      <td>719.0</td>\n",
       "      <td>667.0</td>\n",
       "      <td>667.0</td>\n",
       "      <td>89570.0</td>\n",
       "      <td>0.315774</td>\n",
       "      <td>0.166369</td>\n",
       "      <td>0.343232</td>\n",
       "      <td>-0.007475</td>\n",
       "      <td>719.0</td>\n",
       "    </tr>\n",
       "    <tr>\n",
       "      <th>2016-07-11</th>\n",
       "      <td>595.0</td>\n",
       "      <td>654.0</td>\n",
       "      <td>606.0</td>\n",
       "      <td>606.0</td>\n",
       "      <td>685500.0</td>\n",
       "      <td>0.563333</td>\n",
       "      <td>0.000000</td>\n",
       "      <td>0.277381</td>\n",
       "      <td>-0.035714</td>\n",
       "      <td>654.0</td>\n",
       "    </tr>\n",
       "  </tbody>\n",
       "</table>\n",
       "<p>948 rows × 10 columns</p>\n",
       "</div>"
      ],
      "text/plain": [
       "             Open   High    Low    Qty    Turnover  economic-subjectivity  \\\n",
       "Date                                                                        \n",
       "2022-06-29  318.9  318.9  310.0  310.0   6127716.2               0.457500   \n",
       "2022-06-28  312.0  316.5  306.0  306.0   5707986.7               0.195556   \n",
       "2022-06-27  322.0  325.0  310.0  310.0  11125995.5               0.225000   \n",
       "2022-06-26  312.9  320.0  308.0  308.0  28577745.1               0.253704   \n",
       "2022-06-24  305.0  310.0  298.2  298.2  25399389.8               0.280303   \n",
       "...           ...    ...    ...    ...         ...                    ...   \n",
       "2016-07-17  869.0  955.0  886.0  886.0   2538590.0               0.277273   \n",
       "2016-07-14  790.0  869.0  805.0  805.0    151344.0               0.303030   \n",
       "2016-07-13  719.0  790.0  733.0  733.0   4231540.0               0.293182   \n",
       "2016-07-12  654.0  719.0  667.0  667.0     89570.0               0.315774   \n",
       "2016-07-11  595.0  654.0  606.0  606.0    685500.0               0.563333   \n",
       "\n",
       "            economic-polarity  political-subjectivity  political-polarity  \\\n",
       "Date                                                                        \n",
       "2022-06-29           0.017500                0.460909           -0.122727   \n",
       "2022-06-28           0.017778                0.425000            0.350000   \n",
       "2022-06-27          -0.012500                0.457792            0.169481   \n",
       "2022-06-26           0.038889                0.570909            0.241818   \n",
       "2022-06-24           0.042424                0.300000            0.128788   \n",
       "...                       ...                     ...                 ...   \n",
       "2016-07-17           0.218182                0.461818            0.004545   \n",
       "2016-07-14           0.090909                0.326515           -0.087879   \n",
       "2016-07-13           0.337121                0.444805           -0.012987   \n",
       "2016-07-12           0.166369                0.343232           -0.007475   \n",
       "2016-07-11           0.000000                0.277381           -0.035714   \n",
       "\n",
       "              Ltp  \n",
       "Date               \n",
       "2022-06-29  315.0  \n",
       "2022-06-28  313.0  \n",
       "2022-06-27  312.0  \n",
       "2022-06-26  320.0  \n",
       "2022-06-24  307.0  \n",
       "...           ...  \n",
       "2016-07-17  955.0  \n",
       "2016-07-14  869.0  \n",
       "2016-07-13  790.0  \n",
       "2016-07-12  719.0  \n",
       "2016-07-11  654.0  \n",
       "\n",
       "[948 rows x 10 columns]"
      ]
     },
     "execution_count": 29,
     "metadata": {},
     "output_type": "execute_result"
    }
   ],
   "source": [
    "df"
   ]
  },
  {
   "cell_type": "code",
   "execution_count": 30,
   "metadata": {},
   "outputs": [
    {
     "data": {
      "text/plain": [
       "Index(['Open', 'High', 'Low', 'Qty', 'Turnover', 'economic-subjectivity',\n",
       "       'economic-polarity', 'political-subjectivity', 'political-polarity',\n",
       "       'Ltp'],\n",
       "      dtype='object')"
      ]
     },
     "execution_count": 30,
     "metadata": {},
     "output_type": "execute_result"
    }
   ],
   "source": [
    "df.columns"
   ]
  },
  {
   "cell_type": "code",
   "execution_count": 31,
   "metadata": {},
   "outputs": [
    {
     "data": {
      "text/html": [
       "<div>\n",
       "<style scoped>\n",
       "    .dataframe tbody tr th:only-of-type {\n",
       "        vertical-align: middle;\n",
       "    }\n",
       "\n",
       "    .dataframe tbody tr th {\n",
       "        vertical-align: top;\n",
       "    }\n",
       "\n",
       "    .dataframe thead th {\n",
       "        text-align: right;\n",
       "    }\n",
       "</style>\n",
       "<table border=\"1\" class=\"dataframe\">\n",
       "  <thead>\n",
       "    <tr style=\"text-align: right;\">\n",
       "      <th></th>\n",
       "      <th>Open</th>\n",
       "      <th>High</th>\n",
       "      <th>Low</th>\n",
       "      <th>Qty</th>\n",
       "      <th>Turnover</th>\n",
       "      <th>economic-subjectivity</th>\n",
       "      <th>economic-polarity</th>\n",
       "      <th>political-subjectivity</th>\n",
       "      <th>political-polarity</th>\n",
       "      <th>Ltp</th>\n",
       "    </tr>\n",
       "    <tr>\n",
       "      <th>Date</th>\n",
       "      <th></th>\n",
       "      <th></th>\n",
       "      <th></th>\n",
       "      <th></th>\n",
       "      <th></th>\n",
       "      <th></th>\n",
       "      <th></th>\n",
       "      <th></th>\n",
       "      <th></th>\n",
       "      <th></th>\n",
       "    </tr>\n",
       "  </thead>\n",
       "  <tbody>\n",
       "    <tr>\n",
       "      <th>2022-06-29</th>\n",
       "      <td>318.9</td>\n",
       "      <td>318.9</td>\n",
       "      <td>310.0</td>\n",
       "      <td>310.0</td>\n",
       "      <td>6127716.2</td>\n",
       "      <td>0.457500</td>\n",
       "      <td>0.017500</td>\n",
       "      <td>0.460909</td>\n",
       "      <td>-0.122727</td>\n",
       "      <td>315.0</td>\n",
       "    </tr>\n",
       "    <tr>\n",
       "      <th>2022-06-28</th>\n",
       "      <td>312.0</td>\n",
       "      <td>316.5</td>\n",
       "      <td>306.0</td>\n",
       "      <td>306.0</td>\n",
       "      <td>5707986.7</td>\n",
       "      <td>0.195556</td>\n",
       "      <td>0.017778</td>\n",
       "      <td>0.425000</td>\n",
       "      <td>0.350000</td>\n",
       "      <td>313.0</td>\n",
       "    </tr>\n",
       "    <tr>\n",
       "      <th>2022-06-27</th>\n",
       "      <td>322.0</td>\n",
       "      <td>325.0</td>\n",
       "      <td>310.0</td>\n",
       "      <td>310.0</td>\n",
       "      <td>11125995.5</td>\n",
       "      <td>0.225000</td>\n",
       "      <td>-0.012500</td>\n",
       "      <td>0.457792</td>\n",
       "      <td>0.169481</td>\n",
       "      <td>312.0</td>\n",
       "    </tr>\n",
       "    <tr>\n",
       "      <th>2022-06-26</th>\n",
       "      <td>312.9</td>\n",
       "      <td>320.0</td>\n",
       "      <td>308.0</td>\n",
       "      <td>308.0</td>\n",
       "      <td>28577745.1</td>\n",
       "      <td>0.253704</td>\n",
       "      <td>0.038889</td>\n",
       "      <td>0.570909</td>\n",
       "      <td>0.241818</td>\n",
       "      <td>320.0</td>\n",
       "    </tr>\n",
       "    <tr>\n",
       "      <th>2022-06-24</th>\n",
       "      <td>305.0</td>\n",
       "      <td>310.0</td>\n",
       "      <td>298.2</td>\n",
       "      <td>298.2</td>\n",
       "      <td>25399389.8</td>\n",
       "      <td>0.280303</td>\n",
       "      <td>0.042424</td>\n",
       "      <td>0.300000</td>\n",
       "      <td>0.128788</td>\n",
       "      <td>307.0</td>\n",
       "    </tr>\n",
       "    <tr>\n",
       "      <th>...</th>\n",
       "      <td>...</td>\n",
       "      <td>...</td>\n",
       "      <td>...</td>\n",
       "      <td>...</td>\n",
       "      <td>...</td>\n",
       "      <td>...</td>\n",
       "      <td>...</td>\n",
       "      <td>...</td>\n",
       "      <td>...</td>\n",
       "      <td>...</td>\n",
       "    </tr>\n",
       "    <tr>\n",
       "      <th>2016-07-17</th>\n",
       "      <td>869.0</td>\n",
       "      <td>955.0</td>\n",
       "      <td>886.0</td>\n",
       "      <td>886.0</td>\n",
       "      <td>2538590.0</td>\n",
       "      <td>0.277273</td>\n",
       "      <td>0.218182</td>\n",
       "      <td>0.461818</td>\n",
       "      <td>0.004545</td>\n",
       "      <td>955.0</td>\n",
       "    </tr>\n",
       "    <tr>\n",
       "      <th>2016-07-14</th>\n",
       "      <td>790.0</td>\n",
       "      <td>869.0</td>\n",
       "      <td>805.0</td>\n",
       "      <td>805.0</td>\n",
       "      <td>151344.0</td>\n",
       "      <td>0.303030</td>\n",
       "      <td>0.090909</td>\n",
       "      <td>0.326515</td>\n",
       "      <td>-0.087879</td>\n",
       "      <td>869.0</td>\n",
       "    </tr>\n",
       "    <tr>\n",
       "      <th>2016-07-13</th>\n",
       "      <td>719.0</td>\n",
       "      <td>790.0</td>\n",
       "      <td>733.0</td>\n",
       "      <td>733.0</td>\n",
       "      <td>4231540.0</td>\n",
       "      <td>0.293182</td>\n",
       "      <td>0.337121</td>\n",
       "      <td>0.444805</td>\n",
       "      <td>-0.012987</td>\n",
       "      <td>790.0</td>\n",
       "    </tr>\n",
       "    <tr>\n",
       "      <th>2016-07-12</th>\n",
       "      <td>654.0</td>\n",
       "      <td>719.0</td>\n",
       "      <td>667.0</td>\n",
       "      <td>667.0</td>\n",
       "      <td>89570.0</td>\n",
       "      <td>0.315774</td>\n",
       "      <td>0.166369</td>\n",
       "      <td>0.343232</td>\n",
       "      <td>-0.007475</td>\n",
       "      <td>719.0</td>\n",
       "    </tr>\n",
       "    <tr>\n",
       "      <th>2016-07-11</th>\n",
       "      <td>595.0</td>\n",
       "      <td>654.0</td>\n",
       "      <td>606.0</td>\n",
       "      <td>606.0</td>\n",
       "      <td>685500.0</td>\n",
       "      <td>0.563333</td>\n",
       "      <td>0.000000</td>\n",
       "      <td>0.277381</td>\n",
       "      <td>-0.035714</td>\n",
       "      <td>654.0</td>\n",
       "    </tr>\n",
       "  </tbody>\n",
       "</table>\n",
       "<p>948 rows × 10 columns</p>\n",
       "</div>"
      ],
      "text/plain": [
       "             Open   High    Low    Qty    Turnover  economic-subjectivity  \\\n",
       "Date                                                                        \n",
       "2022-06-29  318.9  318.9  310.0  310.0   6127716.2               0.457500   \n",
       "2022-06-28  312.0  316.5  306.0  306.0   5707986.7               0.195556   \n",
       "2022-06-27  322.0  325.0  310.0  310.0  11125995.5               0.225000   \n",
       "2022-06-26  312.9  320.0  308.0  308.0  28577745.1               0.253704   \n",
       "2022-06-24  305.0  310.0  298.2  298.2  25399389.8               0.280303   \n",
       "...           ...    ...    ...    ...         ...                    ...   \n",
       "2016-07-17  869.0  955.0  886.0  886.0   2538590.0               0.277273   \n",
       "2016-07-14  790.0  869.0  805.0  805.0    151344.0               0.303030   \n",
       "2016-07-13  719.0  790.0  733.0  733.0   4231540.0               0.293182   \n",
       "2016-07-12  654.0  719.0  667.0  667.0     89570.0               0.315774   \n",
       "2016-07-11  595.0  654.0  606.0  606.0    685500.0               0.563333   \n",
       "\n",
       "            economic-polarity  political-subjectivity  political-polarity  \\\n",
       "Date                                                                        \n",
       "2022-06-29           0.017500                0.460909           -0.122727   \n",
       "2022-06-28           0.017778                0.425000            0.350000   \n",
       "2022-06-27          -0.012500                0.457792            0.169481   \n",
       "2022-06-26           0.038889                0.570909            0.241818   \n",
       "2022-06-24           0.042424                0.300000            0.128788   \n",
       "...                       ...                     ...                 ...   \n",
       "2016-07-17           0.218182                0.461818            0.004545   \n",
       "2016-07-14           0.090909                0.326515           -0.087879   \n",
       "2016-07-13           0.337121                0.444805           -0.012987   \n",
       "2016-07-12           0.166369                0.343232           -0.007475   \n",
       "2016-07-11           0.000000                0.277381           -0.035714   \n",
       "\n",
       "              Ltp  \n",
       "Date               \n",
       "2022-06-29  315.0  \n",
       "2022-06-28  313.0  \n",
       "2022-06-27  312.0  \n",
       "2022-06-26  320.0  \n",
       "2022-06-24  307.0  \n",
       "...           ...  \n",
       "2016-07-17  955.0  \n",
       "2016-07-14  869.0  \n",
       "2016-07-13  790.0  \n",
       "2016-07-12  719.0  \n",
       "2016-07-11  654.0  \n",
       "\n",
       "[948 rows x 10 columns]"
      ]
     },
     "execution_count": 31,
     "metadata": {},
     "output_type": "execute_result"
    }
   ],
   "source": [
    "df"
   ]
  },
  {
   "cell_type": "code",
   "execution_count": 32,
   "metadata": {},
   "outputs": [
    {
     "data": {
      "text/html": [
       "<div>\n",
       "<style scoped>\n",
       "    .dataframe tbody tr th:only-of-type {\n",
       "        vertical-align: middle;\n",
       "    }\n",
       "\n",
       "    .dataframe tbody tr th {\n",
       "        vertical-align: top;\n",
       "    }\n",
       "\n",
       "    .dataframe thead th {\n",
       "        text-align: right;\n",
       "    }\n",
       "</style>\n",
       "<table border=\"1\" class=\"dataframe\">\n",
       "  <thead>\n",
       "    <tr style=\"text-align: right;\">\n",
       "      <th></th>\n",
       "      <th>Open</th>\n",
       "      <th>High</th>\n",
       "      <th>Low</th>\n",
       "      <th>Qty</th>\n",
       "      <th>Turnover</th>\n",
       "      <th>economic-subjectivity</th>\n",
       "      <th>economic-polarity</th>\n",
       "      <th>political-subjectivity</th>\n",
       "      <th>political-polarity</th>\n",
       "      <th>Ltp</th>\n",
       "    </tr>\n",
       "    <tr>\n",
       "      <th>Date</th>\n",
       "      <th></th>\n",
       "      <th></th>\n",
       "      <th></th>\n",
       "      <th></th>\n",
       "      <th></th>\n",
       "      <th></th>\n",
       "      <th></th>\n",
       "      <th></th>\n",
       "      <th></th>\n",
       "      <th></th>\n",
       "    </tr>\n",
       "  </thead>\n",
       "  <tbody>\n",
       "    <tr>\n",
       "      <th>2022-06-29</th>\n",
       "      <td>318.9</td>\n",
       "      <td>318.9</td>\n",
       "      <td>310.0</td>\n",
       "      <td>310.0</td>\n",
       "      <td>6127716.2</td>\n",
       "      <td>0.457500</td>\n",
       "      <td>0.017500</td>\n",
       "      <td>0.460909</td>\n",
       "      <td>-0.122727</td>\n",
       "      <td>315.0</td>\n",
       "    </tr>\n",
       "    <tr>\n",
       "      <th>2022-06-28</th>\n",
       "      <td>312.0</td>\n",
       "      <td>316.5</td>\n",
       "      <td>306.0</td>\n",
       "      <td>306.0</td>\n",
       "      <td>5707986.7</td>\n",
       "      <td>0.195556</td>\n",
       "      <td>0.017778</td>\n",
       "      <td>0.425000</td>\n",
       "      <td>0.350000</td>\n",
       "      <td>313.0</td>\n",
       "    </tr>\n",
       "    <tr>\n",
       "      <th>2022-06-27</th>\n",
       "      <td>322.0</td>\n",
       "      <td>325.0</td>\n",
       "      <td>310.0</td>\n",
       "      <td>310.0</td>\n",
       "      <td>11125995.5</td>\n",
       "      <td>0.225000</td>\n",
       "      <td>-0.012500</td>\n",
       "      <td>0.457792</td>\n",
       "      <td>0.169481</td>\n",
       "      <td>312.0</td>\n",
       "    </tr>\n",
       "    <tr>\n",
       "      <th>2022-06-26</th>\n",
       "      <td>312.9</td>\n",
       "      <td>320.0</td>\n",
       "      <td>308.0</td>\n",
       "      <td>308.0</td>\n",
       "      <td>28577745.1</td>\n",
       "      <td>0.253704</td>\n",
       "      <td>0.038889</td>\n",
       "      <td>0.570909</td>\n",
       "      <td>0.241818</td>\n",
       "      <td>320.0</td>\n",
       "    </tr>\n",
       "    <tr>\n",
       "      <th>2022-06-24</th>\n",
       "      <td>305.0</td>\n",
       "      <td>310.0</td>\n",
       "      <td>298.2</td>\n",
       "      <td>298.2</td>\n",
       "      <td>25399389.8</td>\n",
       "      <td>0.280303</td>\n",
       "      <td>0.042424</td>\n",
       "      <td>0.300000</td>\n",
       "      <td>0.128788</td>\n",
       "      <td>307.0</td>\n",
       "    </tr>\n",
       "  </tbody>\n",
       "</table>\n",
       "</div>"
      ],
      "text/plain": [
       "             Open   High    Low    Qty    Turnover  economic-subjectivity  \\\n",
       "Date                                                                        \n",
       "2022-06-29  318.9  318.9  310.0  310.0   6127716.2               0.457500   \n",
       "2022-06-28  312.0  316.5  306.0  306.0   5707986.7               0.195556   \n",
       "2022-06-27  322.0  325.0  310.0  310.0  11125995.5               0.225000   \n",
       "2022-06-26  312.9  320.0  308.0  308.0  28577745.1               0.253704   \n",
       "2022-06-24  305.0  310.0  298.2  298.2  25399389.8               0.280303   \n",
       "\n",
       "            economic-polarity  political-subjectivity  political-polarity  \\\n",
       "Date                                                                        \n",
       "2022-06-29           0.017500                0.460909           -0.122727   \n",
       "2022-06-28           0.017778                0.425000            0.350000   \n",
       "2022-06-27          -0.012500                0.457792            0.169481   \n",
       "2022-06-26           0.038889                0.570909            0.241818   \n",
       "2022-06-24           0.042424                0.300000            0.128788   \n",
       "\n",
       "              Ltp  \n",
       "Date               \n",
       "2022-06-29  315.0  \n",
       "2022-06-28  313.0  \n",
       "2022-06-27  312.0  \n",
       "2022-06-26  320.0  \n",
       "2022-06-24  307.0  "
      ]
     },
     "execution_count": 32,
     "metadata": {},
     "output_type": "execute_result"
    }
   ],
   "source": [
    "df.head()"
   ]
  },
  {
   "cell_type": "code",
   "execution_count": 33,
   "metadata": {},
   "outputs": [
    {
     "data": {
      "text/html": [
       "<div>\n",
       "<style scoped>\n",
       "    .dataframe tbody tr th:only-of-type {\n",
       "        vertical-align: middle;\n",
       "    }\n",
       "\n",
       "    .dataframe tbody tr th {\n",
       "        vertical-align: top;\n",
       "    }\n",
       "\n",
       "    .dataframe thead th {\n",
       "        text-align: right;\n",
       "    }\n",
       "</style>\n",
       "<table border=\"1\" class=\"dataframe\">\n",
       "  <thead>\n",
       "    <tr style=\"text-align: right;\">\n",
       "      <th></th>\n",
       "      <th>Open</th>\n",
       "      <th>High</th>\n",
       "      <th>Low</th>\n",
       "      <th>Qty</th>\n",
       "      <th>Turnover</th>\n",
       "      <th>economic-subjectivity</th>\n",
       "      <th>economic-polarity</th>\n",
       "      <th>political-subjectivity</th>\n",
       "      <th>political-polarity</th>\n",
       "    </tr>\n",
       "    <tr>\n",
       "      <th>Date</th>\n",
       "      <th></th>\n",
       "      <th></th>\n",
       "      <th></th>\n",
       "      <th></th>\n",
       "      <th></th>\n",
       "      <th></th>\n",
       "      <th></th>\n",
       "      <th></th>\n",
       "      <th></th>\n",
       "    </tr>\n",
       "  </thead>\n",
       "  <tbody>\n",
       "    <tr>\n",
       "      <th>2022-06-29</th>\n",
       "      <td>318.9</td>\n",
       "      <td>318.9</td>\n",
       "      <td>310.0</td>\n",
       "      <td>310.0</td>\n",
       "      <td>6127716.2</td>\n",
       "      <td>0.457500</td>\n",
       "      <td>0.017500</td>\n",
       "      <td>0.460909</td>\n",
       "      <td>-0.122727</td>\n",
       "    </tr>\n",
       "    <tr>\n",
       "      <th>2022-06-28</th>\n",
       "      <td>312.0</td>\n",
       "      <td>316.5</td>\n",
       "      <td>306.0</td>\n",
       "      <td>306.0</td>\n",
       "      <td>5707986.7</td>\n",
       "      <td>0.195556</td>\n",
       "      <td>0.017778</td>\n",
       "      <td>0.425000</td>\n",
       "      <td>0.350000</td>\n",
       "    </tr>\n",
       "    <tr>\n",
       "      <th>2022-06-27</th>\n",
       "      <td>322.0</td>\n",
       "      <td>325.0</td>\n",
       "      <td>310.0</td>\n",
       "      <td>310.0</td>\n",
       "      <td>11125995.5</td>\n",
       "      <td>0.225000</td>\n",
       "      <td>-0.012500</td>\n",
       "      <td>0.457792</td>\n",
       "      <td>0.169481</td>\n",
       "    </tr>\n",
       "    <tr>\n",
       "      <th>2022-06-26</th>\n",
       "      <td>312.9</td>\n",
       "      <td>320.0</td>\n",
       "      <td>308.0</td>\n",
       "      <td>308.0</td>\n",
       "      <td>28577745.1</td>\n",
       "      <td>0.253704</td>\n",
       "      <td>0.038889</td>\n",
       "      <td>0.570909</td>\n",
       "      <td>0.241818</td>\n",
       "    </tr>\n",
       "    <tr>\n",
       "      <th>2022-06-24</th>\n",
       "      <td>305.0</td>\n",
       "      <td>310.0</td>\n",
       "      <td>298.2</td>\n",
       "      <td>298.2</td>\n",
       "      <td>25399389.8</td>\n",
       "      <td>0.280303</td>\n",
       "      <td>0.042424</td>\n",
       "      <td>0.300000</td>\n",
       "      <td>0.128788</td>\n",
       "    </tr>\n",
       "    <tr>\n",
       "      <th>...</th>\n",
       "      <td>...</td>\n",
       "      <td>...</td>\n",
       "      <td>...</td>\n",
       "      <td>...</td>\n",
       "      <td>...</td>\n",
       "      <td>...</td>\n",
       "      <td>...</td>\n",
       "      <td>...</td>\n",
       "      <td>...</td>\n",
       "    </tr>\n",
       "    <tr>\n",
       "      <th>2016-07-17</th>\n",
       "      <td>869.0</td>\n",
       "      <td>955.0</td>\n",
       "      <td>886.0</td>\n",
       "      <td>886.0</td>\n",
       "      <td>2538590.0</td>\n",
       "      <td>0.277273</td>\n",
       "      <td>0.218182</td>\n",
       "      <td>0.461818</td>\n",
       "      <td>0.004545</td>\n",
       "    </tr>\n",
       "    <tr>\n",
       "      <th>2016-07-14</th>\n",
       "      <td>790.0</td>\n",
       "      <td>869.0</td>\n",
       "      <td>805.0</td>\n",
       "      <td>805.0</td>\n",
       "      <td>151344.0</td>\n",
       "      <td>0.303030</td>\n",
       "      <td>0.090909</td>\n",
       "      <td>0.326515</td>\n",
       "      <td>-0.087879</td>\n",
       "    </tr>\n",
       "    <tr>\n",
       "      <th>2016-07-13</th>\n",
       "      <td>719.0</td>\n",
       "      <td>790.0</td>\n",
       "      <td>733.0</td>\n",
       "      <td>733.0</td>\n",
       "      <td>4231540.0</td>\n",
       "      <td>0.293182</td>\n",
       "      <td>0.337121</td>\n",
       "      <td>0.444805</td>\n",
       "      <td>-0.012987</td>\n",
       "    </tr>\n",
       "    <tr>\n",
       "      <th>2016-07-12</th>\n",
       "      <td>654.0</td>\n",
       "      <td>719.0</td>\n",
       "      <td>667.0</td>\n",
       "      <td>667.0</td>\n",
       "      <td>89570.0</td>\n",
       "      <td>0.315774</td>\n",
       "      <td>0.166369</td>\n",
       "      <td>0.343232</td>\n",
       "      <td>-0.007475</td>\n",
       "    </tr>\n",
       "    <tr>\n",
       "      <th>2016-07-11</th>\n",
       "      <td>595.0</td>\n",
       "      <td>654.0</td>\n",
       "      <td>606.0</td>\n",
       "      <td>606.0</td>\n",
       "      <td>685500.0</td>\n",
       "      <td>0.563333</td>\n",
       "      <td>0.000000</td>\n",
       "      <td>0.277381</td>\n",
       "      <td>-0.035714</td>\n",
       "    </tr>\n",
       "  </tbody>\n",
       "</table>\n",
       "<p>948 rows × 9 columns</p>\n",
       "</div>"
      ],
      "text/plain": [
       "             Open   High    Low    Qty    Turnover  economic-subjectivity  \\\n",
       "Date                                                                        \n",
       "2022-06-29  318.9  318.9  310.0  310.0   6127716.2               0.457500   \n",
       "2022-06-28  312.0  316.5  306.0  306.0   5707986.7               0.195556   \n",
       "2022-06-27  322.0  325.0  310.0  310.0  11125995.5               0.225000   \n",
       "2022-06-26  312.9  320.0  308.0  308.0  28577745.1               0.253704   \n",
       "2022-06-24  305.0  310.0  298.2  298.2  25399389.8               0.280303   \n",
       "...           ...    ...    ...    ...         ...                    ...   \n",
       "2016-07-17  869.0  955.0  886.0  886.0   2538590.0               0.277273   \n",
       "2016-07-14  790.0  869.0  805.0  805.0    151344.0               0.303030   \n",
       "2016-07-13  719.0  790.0  733.0  733.0   4231540.0               0.293182   \n",
       "2016-07-12  654.0  719.0  667.0  667.0     89570.0               0.315774   \n",
       "2016-07-11  595.0  654.0  606.0  606.0    685500.0               0.563333   \n",
       "\n",
       "            economic-polarity  political-subjectivity  political-polarity  \n",
       "Date                                                                       \n",
       "2022-06-29           0.017500                0.460909           -0.122727  \n",
       "2022-06-28           0.017778                0.425000            0.350000  \n",
       "2022-06-27          -0.012500                0.457792            0.169481  \n",
       "2022-06-26           0.038889                0.570909            0.241818  \n",
       "2022-06-24           0.042424                0.300000            0.128788  \n",
       "...                       ...                     ...                 ...  \n",
       "2016-07-17           0.218182                0.461818            0.004545  \n",
       "2016-07-14           0.090909                0.326515           -0.087879  \n",
       "2016-07-13           0.337121                0.444805           -0.012987  \n",
       "2016-07-12           0.166369                0.343232           -0.007475  \n",
       "2016-07-11           0.000000                0.277381           -0.035714  \n",
       "\n",
       "[948 rows x 9 columns]"
      ]
     },
     "execution_count": 33,
     "metadata": {},
     "output_type": "execute_result"
    }
   ],
   "source": [
    "df.iloc[:, 0:9]"
   ]
  },
  {
   "cell_type": "code",
   "execution_count": 34,
   "metadata": {},
   "outputs": [
    {
     "data": {
      "text/plain": [
       "Date\n",
       "2022-06-29    315.0\n",
       "2022-06-28    313.0\n",
       "2022-06-27    312.0\n",
       "2022-06-26    320.0\n",
       "2022-06-24    307.0\n",
       "              ...  \n",
       "2016-07-17    955.0\n",
       "2016-07-14    869.0\n",
       "2016-07-13    790.0\n",
       "2016-07-12    719.0\n",
       "2016-07-11    654.0\n",
       "Name: Ltp, Length: 948, dtype: float64"
      ]
     },
     "execution_count": 34,
     "metadata": {},
     "output_type": "execute_result"
    }
   ],
   "source": [
    "df.iloc[:, 9]"
   ]
  },
  {
   "cell_type": "code",
   "execution_count": 35,
   "metadata": {},
   "outputs": [
    {
     "data": {
      "text/html": [
       "<div>\n",
       "<style scoped>\n",
       "    .dataframe tbody tr th:only-of-type {\n",
       "        vertical-align: middle;\n",
       "    }\n",
       "\n",
       "    .dataframe tbody tr th {\n",
       "        vertical-align: top;\n",
       "    }\n",
       "\n",
       "    .dataframe thead th {\n",
       "        text-align: right;\n",
       "    }\n",
       "</style>\n",
       "<table border=\"1\" class=\"dataframe\">\n",
       "  <thead>\n",
       "    <tr style=\"text-align: right;\">\n",
       "      <th></th>\n",
       "      <th>Open</th>\n",
       "      <th>High</th>\n",
       "      <th>Low</th>\n",
       "      <th>Qty</th>\n",
       "      <th>Turnover</th>\n",
       "      <th>economic-subjectivity</th>\n",
       "      <th>economic-polarity</th>\n",
       "      <th>political-subjectivity</th>\n",
       "      <th>political-polarity</th>\n",
       "      <th>Ltp</th>\n",
       "    </tr>\n",
       "    <tr>\n",
       "      <th>Date</th>\n",
       "      <th></th>\n",
       "      <th></th>\n",
       "      <th></th>\n",
       "      <th></th>\n",
       "      <th></th>\n",
       "      <th></th>\n",
       "      <th></th>\n",
       "      <th></th>\n",
       "      <th></th>\n",
       "      <th></th>\n",
       "    </tr>\n",
       "  </thead>\n",
       "  <tbody>\n",
       "    <tr>\n",
       "      <th>2022-06-29</th>\n",
       "      <td>318.9</td>\n",
       "      <td>318.9</td>\n",
       "      <td>310.0</td>\n",
       "      <td>310.0</td>\n",
       "      <td>6127716.2</td>\n",
       "      <td>0.457500</td>\n",
       "      <td>0.017500</td>\n",
       "      <td>0.460909</td>\n",
       "      <td>-0.122727</td>\n",
       "      <td>315.0</td>\n",
       "    </tr>\n",
       "    <tr>\n",
       "      <th>2022-06-28</th>\n",
       "      <td>312.0</td>\n",
       "      <td>316.5</td>\n",
       "      <td>306.0</td>\n",
       "      <td>306.0</td>\n",
       "      <td>5707986.7</td>\n",
       "      <td>0.195556</td>\n",
       "      <td>0.017778</td>\n",
       "      <td>0.425000</td>\n",
       "      <td>0.350000</td>\n",
       "      <td>313.0</td>\n",
       "    </tr>\n",
       "    <tr>\n",
       "      <th>2022-06-27</th>\n",
       "      <td>322.0</td>\n",
       "      <td>325.0</td>\n",
       "      <td>310.0</td>\n",
       "      <td>310.0</td>\n",
       "      <td>11125995.5</td>\n",
       "      <td>0.225000</td>\n",
       "      <td>-0.012500</td>\n",
       "      <td>0.457792</td>\n",
       "      <td>0.169481</td>\n",
       "      <td>312.0</td>\n",
       "    </tr>\n",
       "    <tr>\n",
       "      <th>2022-06-26</th>\n",
       "      <td>312.9</td>\n",
       "      <td>320.0</td>\n",
       "      <td>308.0</td>\n",
       "      <td>308.0</td>\n",
       "      <td>28577745.1</td>\n",
       "      <td>0.253704</td>\n",
       "      <td>0.038889</td>\n",
       "      <td>0.570909</td>\n",
       "      <td>0.241818</td>\n",
       "      <td>320.0</td>\n",
       "    </tr>\n",
       "    <tr>\n",
       "      <th>2022-06-24</th>\n",
       "      <td>305.0</td>\n",
       "      <td>310.0</td>\n",
       "      <td>298.2</td>\n",
       "      <td>298.2</td>\n",
       "      <td>25399389.8</td>\n",
       "      <td>0.280303</td>\n",
       "      <td>0.042424</td>\n",
       "      <td>0.300000</td>\n",
       "      <td>0.128788</td>\n",
       "      <td>307.0</td>\n",
       "    </tr>\n",
       "    <tr>\n",
       "      <th>...</th>\n",
       "      <td>...</td>\n",
       "      <td>...</td>\n",
       "      <td>...</td>\n",
       "      <td>...</td>\n",
       "      <td>...</td>\n",
       "      <td>...</td>\n",
       "      <td>...</td>\n",
       "      <td>...</td>\n",
       "      <td>...</td>\n",
       "      <td>...</td>\n",
       "    </tr>\n",
       "    <tr>\n",
       "      <th>2016-07-17</th>\n",
       "      <td>869.0</td>\n",
       "      <td>955.0</td>\n",
       "      <td>886.0</td>\n",
       "      <td>886.0</td>\n",
       "      <td>2538590.0</td>\n",
       "      <td>0.277273</td>\n",
       "      <td>0.218182</td>\n",
       "      <td>0.461818</td>\n",
       "      <td>0.004545</td>\n",
       "      <td>955.0</td>\n",
       "    </tr>\n",
       "    <tr>\n",
       "      <th>2016-07-14</th>\n",
       "      <td>790.0</td>\n",
       "      <td>869.0</td>\n",
       "      <td>805.0</td>\n",
       "      <td>805.0</td>\n",
       "      <td>151344.0</td>\n",
       "      <td>0.303030</td>\n",
       "      <td>0.090909</td>\n",
       "      <td>0.326515</td>\n",
       "      <td>-0.087879</td>\n",
       "      <td>869.0</td>\n",
       "    </tr>\n",
       "    <tr>\n",
       "      <th>2016-07-13</th>\n",
       "      <td>719.0</td>\n",
       "      <td>790.0</td>\n",
       "      <td>733.0</td>\n",
       "      <td>733.0</td>\n",
       "      <td>4231540.0</td>\n",
       "      <td>0.293182</td>\n",
       "      <td>0.337121</td>\n",
       "      <td>0.444805</td>\n",
       "      <td>-0.012987</td>\n",
       "      <td>790.0</td>\n",
       "    </tr>\n",
       "    <tr>\n",
       "      <th>2016-07-12</th>\n",
       "      <td>654.0</td>\n",
       "      <td>719.0</td>\n",
       "      <td>667.0</td>\n",
       "      <td>667.0</td>\n",
       "      <td>89570.0</td>\n",
       "      <td>0.315774</td>\n",
       "      <td>0.166369</td>\n",
       "      <td>0.343232</td>\n",
       "      <td>-0.007475</td>\n",
       "      <td>719.0</td>\n",
       "    </tr>\n",
       "    <tr>\n",
       "      <th>2016-07-11</th>\n",
       "      <td>595.0</td>\n",
       "      <td>654.0</td>\n",
       "      <td>606.0</td>\n",
       "      <td>606.0</td>\n",
       "      <td>685500.0</td>\n",
       "      <td>0.563333</td>\n",
       "      <td>0.000000</td>\n",
       "      <td>0.277381</td>\n",
       "      <td>-0.035714</td>\n",
       "      <td>654.0</td>\n",
       "    </tr>\n",
       "  </tbody>\n",
       "</table>\n",
       "<p>948 rows × 10 columns</p>\n",
       "</div>"
      ],
      "text/plain": [
       "             Open   High    Low    Qty    Turnover  economic-subjectivity  \\\n",
       "Date                                                                        \n",
       "2022-06-29  318.9  318.9  310.0  310.0   6127716.2               0.457500   \n",
       "2022-06-28  312.0  316.5  306.0  306.0   5707986.7               0.195556   \n",
       "2022-06-27  322.0  325.0  310.0  310.0  11125995.5               0.225000   \n",
       "2022-06-26  312.9  320.0  308.0  308.0  28577745.1               0.253704   \n",
       "2022-06-24  305.0  310.0  298.2  298.2  25399389.8               0.280303   \n",
       "...           ...    ...    ...    ...         ...                    ...   \n",
       "2016-07-17  869.0  955.0  886.0  886.0   2538590.0               0.277273   \n",
       "2016-07-14  790.0  869.0  805.0  805.0    151344.0               0.303030   \n",
       "2016-07-13  719.0  790.0  733.0  733.0   4231540.0               0.293182   \n",
       "2016-07-12  654.0  719.0  667.0  667.0     89570.0               0.315774   \n",
       "2016-07-11  595.0  654.0  606.0  606.0    685500.0               0.563333   \n",
       "\n",
       "            economic-polarity  political-subjectivity  political-polarity  \\\n",
       "Date                                                                        \n",
       "2022-06-29           0.017500                0.460909           -0.122727   \n",
       "2022-06-28           0.017778                0.425000            0.350000   \n",
       "2022-06-27          -0.012500                0.457792            0.169481   \n",
       "2022-06-26           0.038889                0.570909            0.241818   \n",
       "2022-06-24           0.042424                0.300000            0.128788   \n",
       "...                       ...                     ...                 ...   \n",
       "2016-07-17           0.218182                0.461818            0.004545   \n",
       "2016-07-14           0.090909                0.326515           -0.087879   \n",
       "2016-07-13           0.337121                0.444805           -0.012987   \n",
       "2016-07-12           0.166369                0.343232           -0.007475   \n",
       "2016-07-11           0.000000                0.277381           -0.035714   \n",
       "\n",
       "              Ltp  \n",
       "Date               \n",
       "2022-06-29  315.0  \n",
       "2022-06-28  313.0  \n",
       "2022-06-27  312.0  \n",
       "2022-06-26  320.0  \n",
       "2022-06-24  307.0  \n",
       "...           ...  \n",
       "2016-07-17  955.0  \n",
       "2016-07-14  869.0  \n",
       "2016-07-13  790.0  \n",
       "2016-07-12  719.0  \n",
       "2016-07-11  654.0  \n",
       "\n",
       "[948 rows x 10 columns]"
      ]
     },
     "execution_count": 35,
     "metadata": {},
     "output_type": "execute_result"
    }
   ],
   "source": [
    "df"
   ]
  },
  {
   "cell_type": "code",
   "execution_count": 36,
   "metadata": {},
   "outputs": [],
   "source": [
    "# Create feature data set\n",
    "X = df\n",
    "X = np.array(X.drop(['Ltp'], 1))\n",
    "\n",
    "# Create target data set\n",
    "y = np.array(df['Ltp'])"
   ]
  },
  {
   "cell_type": "code",
   "execution_count": 37,
   "metadata": {},
   "outputs": [
    {
     "data": {
      "text/plain": [
       "(948, 9)"
      ]
     },
     "execution_count": 37,
     "metadata": {},
     "output_type": "execute_result"
    }
   ],
   "source": [
    "X.shape"
   ]
  },
  {
   "cell_type": "code",
   "execution_count": 38,
   "metadata": {},
   "outputs": [
    {
     "data": {
      "text/plain": [
       "(948,)"
      ]
     },
     "execution_count": 38,
     "metadata": {},
     "output_type": "execute_result"
    }
   ],
   "source": [
    "y.shape"
   ]
  },
  {
   "cell_type": "markdown",
   "metadata": {},
   "source": [
    "# Lets split the data into 5 folds. "
   ]
  },
  {
   "cell_type": "code",
   "execution_count": 143,
   "metadata": {},
   "outputs": [
    {
     "name": "stdout",
     "output_type": "stream",
     "text": [
      "Fold:1, Train set: 758, Test set:190\n",
      "Fold:2, Train set: 758, Test set:190\n",
      "Fold:3, Train set: 758, Test set:190\n",
      "Fold:4, Train set: 759, Test set:189\n",
      "Fold:5, Train set: 759, Test set:189\n"
     ]
    }
   ],
   "source": [
    "# Lets split the data into 5 folds.  \n",
    "kf5 =KFold(n_splits=5, shuffle=True, random_state=42)\n",
    "\n",
    "\n",
    "count = 1\n",
    "for train_index5, test_index5 in kf5.split(X, y):\n",
    "    print(f'Fold:{count}, Train set: {len(train_index5)}, Test set:{len(test_index5)}')\n",
    "    count += 1"
   ]
  },
  {
   "cell_type": "code",
   "execution_count": 144,
   "metadata": {},
   "outputs": [],
   "source": [
    "# X_train5 = train_index5.reshape(-1,1)\n",
    "# y_train5 = train_index5.reshape(-1,1)\n",
    "\n",
    "\n",
    "# X_test5 = test_index5.reshape(-1,1)\n",
    "# y_test5 = test_index5.reshape(-1,1)"
   ]
  },
  {
   "cell_type": "markdown",
   "metadata": {},
   "source": [
    "# Lets split the data into 10 folds."
   ]
  },
  {
   "cell_type": "code",
   "execution_count": 145,
   "metadata": {},
   "outputs": [
    {
     "data": {
      "text/plain": [
       "array([[ 3.18900000e+02,  3.18900000e+02,  3.10000000e+02, ...,\n",
       "         1.75000000e-02,  4.60909091e-01, -1.22727273e-01],\n",
       "       [ 3.12000000e+02,  3.16500000e+02,  3.06000000e+02, ...,\n",
       "         1.77777778e-02,  4.25000000e-01,  3.50000000e-01],\n",
       "       [ 3.22000000e+02,  3.25000000e+02,  3.10000000e+02, ...,\n",
       "        -1.25000000e-02,  4.57792208e-01,  1.69480519e-01],\n",
       "       ...,\n",
       "       [ 7.19000000e+02,  7.90000000e+02,  7.33000000e+02, ...,\n",
       "         3.37121212e-01,  4.44805195e-01, -1.29870130e-02],\n",
       "       [ 6.54000000e+02,  7.19000000e+02,  6.67000000e+02, ...,\n",
       "         1.66369048e-01,  3.43232323e-01, -7.47474747e-03],\n",
       "       [ 5.95000000e+02,  6.54000000e+02,  6.06000000e+02, ...,\n",
       "         0.00000000e+00,  2.77380952e-01, -3.57142857e-02]])"
      ]
     },
     "execution_count": 145,
     "metadata": {},
     "output_type": "execute_result"
    }
   ],
   "source": [
    "X"
   ]
  },
  {
   "cell_type": "code",
   "execution_count": 146,
   "metadata": {},
   "outputs": [
    {
     "data": {
      "text/plain": [
       "array([ 315. ,  313. ,  312. ,  320. ,  307. ,  310. ,  309.7,  323.3,\n",
       "        306. ,  310. ,  316. ,  318. ,  319. ,  328. ,  334. ,  336. ,\n",
       "        366. ,  376.6,  382. ,  385. ,  386. ,  382. ,  377. ,  383. ,\n",
       "        385. ,  386.1,  388. ,  396. ,  396.6,  389. ,  393. ,  398. ,\n",
       "        399. ,  397. ,  402. ,  392. ,  395. ,  400. ,  388.3,  392. ,\n",
       "        395. ,  393. ,  395. ,  399. ,  397. ,  395. ,  395. ,  398. ,\n",
       "        402.2,  405.5,  409. ,  408. ,  406.7,  404. ,  408. ,  412. ,\n",
       "        410. ,  400. ,  408. ,  411.5,  415.5,  424. ,  427.3,  423.9,\n",
       "        419. ,  427. ,  425.9,  430. ,  424. ,  423. ,  433. ,  452.6,\n",
       "        460. ,  443. ,  445.8,  454. ,  458. ,  472. ,  467.5,  470. ,\n",
       "        475. ,  470. ,  470. ,  459. ,  453. ,  464.7,  457. ,  464. ,\n",
       "        463. ,  459. ,  468. ,  451.1,  446.1,  430.1,  426. ,  425. ,\n",
       "        429. ,  440. ,  417. ,  420. ,  463. ,  465. ,  468. ,  479. ,\n",
       "        482. ,  489. ,  492.1,  497.1,  497. ,  506. ,  504. ,  497. ,\n",
       "        495. ,  488. ,  514. ,  502. ,  502. ,  498.8,  491. ,  477.1,\n",
       "        466. ,  451. ,  434. ,  444. ,  459. ,  459. ,  467. ,  479. ,\n",
       "        487. ,  483.2,  499.2,  508. ,  518. ,  504. ,  485. ,  487. ,\n",
       "        495. ,  506.2,  517.9,  516.7,  513. ,  511. ,  519. ,  537. ,\n",
       "        538.5,  558. ,  568. ,  573. ,  564. ,  576. ,  579. ,  582.1,\n",
       "        582.1,  589. ,  567.5,  571. ,  578. ,  580. ,  594.8,  572. ,\n",
       "        553.5,  548. ,  547. ,  504. ,  496. ,  499. ,  496. ,  504. ,\n",
       "        490. ,  490. ,  496. ,  496. ,  483. ,  488. ,  501. ,  484. ,\n",
       "        505. ,  507. ,  511. ,  523. ,  492. ,  474. ,  445. ,  447. ,\n",
       "        442. ,  440. ,  448. ,  446. ,  439. ,  431. ,  429. ,  428. ,\n",
       "        426. ,  419. ,  417. ,  421. ,  420. ,  421. ,  420. ,  424. ,\n",
       "        406. ,  408. ,  422. ,  423. ,  430. ,  430. ,  445. ,  453. ,\n",
       "        445. ,  430. ,  427. ,  417. ,  407. ,  401. ,  406. ,  398. ,\n",
       "        402. ,  407. ,  403. ,  398. ,  388. ,  388. ,  390. ,  396. ,\n",
       "        398. ,  408. ,  417. ,  414. ,  417. ,  429. ,  436. ,  437. ,\n",
       "        423. ,  396. ,  390. ,  396. ,  397. ,  368. ,  382. ,  389. ,\n",
       "        395. ,  397. ,  395. ,  396. ,  399. ,  399. ,  406. ,  413. ,\n",
       "        415. ,  420. ,  472. ,  466. ,  398. ,  377. ,  379. ,  379. ,\n",
       "        384. ,  385. ,  372. ,  364. ,  349. ,  348. ,  365. ,  367. ,\n",
       "        372. ,  377. ,  368. ,  358. ,  384. ,  396. ,  366. ,  351. ,\n",
       "        339. ,  335. ,  338. ,  335. ,  342. ,  340. ,  334. ,  347. ,\n",
       "        330. ,  327. ,  320. ,  317. ,  319. ,  318. ,  319. ,  322. ,\n",
       "        325. ,  323. ,  313. ,  315. ,  316. ,  311. ,  312. ,  312. ,\n",
       "        319. ,  319. ,  310. ,  305. ,  306. ,  304. ,  301. ,  303. ,\n",
       "        301. ,  305. ,  305. ,  301. ,  295. ,  293. ,  296. ,  296. ,\n",
       "        293. ,  292. ,  295. ,  300. ,  300. ,  311. ,  317. ,  320. ,\n",
       "        318. ,  313. ,  320. ,  322. ,  330. ,  306. ,  296. ,  286. ,\n",
       "        285. ,  283. ,  264. ,  289. ,  292. ,  291. ,  294. ,  304. ,\n",
       "        300. ,  311. ,  326. ,  302. ,  381. ,  365. ,  351. ,  347. ,\n",
       "        351. ,  323. ,  322. ,  322. ,  321. ,  312. ,  309. ,  314. ,\n",
       "        315. ,  312. ,  312. ,  310. ,  310. ,  311. ,  308. ,  317. ,\n",
       "        325. ,  327. ,  329. ,  337. ,  326. ,  323. ,  316. ,  315. ,\n",
       "        313. ,  282. ,  282. ,  288. ,  290. ,  290. ,  289. ,  286. ,\n",
       "        285. ,  286. ,  287. ,  288. ,  288. ,  291. ,  291. ,  289. ,\n",
       "        289. ,  279. ,  281. ,  280. ,  277. ,  276. ,  283. ,  283. ,\n",
       "        283. ,  284. ,  287. ,  289. ,  288. ,  291. ,  294. ,  289. ,\n",
       "        299. ,  296. ,  294. ,  288. ,  291. ,  291. ,  294. ,  294. ,\n",
       "        338. ,  337. ,  328. ,  325. ,  326. ,  326. ,  326. ,  328. ,\n",
       "        326. ,  330. ,  331. ,  325. ,  305. ,  312. ,  316. ,  316. ,\n",
       "        314. ,  314. ,  314. ,  318. ,  314. ,  315. ,  316. ,  315. ,\n",
       "        315. ,  319. ,  315. ,  317. ,  316. ,  316. ,  318. ,  319. ,\n",
       "        324. ,  322. ,  320. ,  321. ,  324. ,  327. ,  326. ,  324. ,\n",
       "        327. ,  327. ,  325. ,  318. ,  316. ,  314. ,  314. ,  313. ,\n",
       "        320. ,  322. ,  322. ,  321. ,  320. ,  315. ,  322. ,  318. ,\n",
       "        320. ,  320. ,  321. ,  324. ,  320. ,  325. ,  325. ,  340. ,\n",
       "        339. ,  334. ,  335. ,  336. ,  336. ,  337. ,  337. ,  337. ,\n",
       "        340. ,  343. ,  342. ,  340. ,  340. ,  340. ,  346. ,  347. ,\n",
       "        347. ,  350. ,  353. ,  344. ,  347. ,  357. ,  353. ,  345. ,\n",
       "        333. ,  317. ,  314. ,  311. ,  289. ,  286. ,  287. ,  287. ,\n",
       "        284. ,  285. ,  285. ,  292. ,  293. ,  297. ,  295. ,  294. ,\n",
       "        298. ,  290. ,  282. ,  277. ,  275. ,  276. ,  274. ,  276. ,\n",
       "        273. ,  280. ,  276. ,  276. ,  276. ,  278. ,  281. ,  283. ,\n",
       "        283. ,  287. ,  288. ,  286. ,  286. ,  283. ,  289. ,  292. ,\n",
       "        289. ,  288. ,  290. ,  293. ,  293. ,  296. ,  293. ,  291. ,\n",
       "        294. ,  295. ,  300. ,  302. ,  306. ,  297. ,  299. ,  325. ,\n",
       "        314. ,  313. ,  315. ,  320. ,  317. ,  308. ,  302. ,  303. ,\n",
       "        307. ,  306. ,  313. ,  315. ,  313. ,  316. ,  322. ,  326. ,\n",
       "        323. ,  322. ,  324. ,  327. ,  327. ,  329. ,  325. ,  327. ,\n",
       "        338. ,  341. ,  334. ,  338. ,  346. ,  349. ,  343. ,  340. ,\n",
       "        337. ,  335. ,  330. ,  324. ,  337. ,  340. ,  345. ,  344. ,\n",
       "        330. ,  329. ,  330. ,  333. ,  334. ,  331. ,  328. ,  321. ,\n",
       "        319. ,  314. ,  308. ,  306. ,  307. ,  311. ,  310. ,  312. ,\n",
       "        313. ,  316. ,  322. ,  317. ,  307. ,  305. ,  301. ,  295. ,\n",
       "        296. ,  298. ,  300. ,  300. ,  300. ,  300. ,  294. ,  300. ,\n",
       "        300. ,  300. ,  300. ,  296. ,  298. ,  300. ,  300. ,  300. ,\n",
       "        296. ,  298. ,  304. ,  309. ,  303. ,  304. ,  307. ,  312. ,\n",
       "        310. ,  315. ,  312. ,  312. ,  313. ,  314. ,  329. ,  331. ,\n",
       "        330. ,  329. ,  320. ,  326. ,  328. ,  331. ,  333. ,  335. ,\n",
       "        335. ,  335. ,  334. ,  335. ,  340. ,  346. ,  356. ,  353. ,\n",
       "        356. ,  356. ,  365. ,  340. ,  328. ,  317. ,  308. ,  306. ,\n",
       "        305. ,  307. ,  306. ,  305. ,  297. ,  294. ,  281. ,  290. ,\n",
       "        292. ,  297. ,  300. ,  300. ,  300. ,  300. ,  306. ,  297. ,\n",
       "        301. ,  352. ,  356. ,  354. ,  359. ,  364. ,  358. ,  356. ,\n",
       "        365. ,  364. ,  349. ,  346. ,  343. ,  378. ,  379. ,  378. ,\n",
       "        372. ,  370. ,  360. ,  366. ,  366. ,  370. ,  370. ,  375. ,\n",
       "        378. ,  355. ,  358. ,  363. ,  370. ,  370. ,  373. ,  380. ,\n",
       "        380. ,  380. ,  384. ,  384. ,  386. ,  387. ,  392. ,  397. ,\n",
       "        395. ,  394. ,  391. ,  389. ,  385. ,  377. ,  377. ,  380. ,\n",
       "        383. ,  390. ,  390. ,  391. ,  390. ,  409. ,  412. ,  414. ,\n",
       "        417. ,  423. ,  418. ,  417. ,  416. ,  402. ,  400. ,  405. ,\n",
       "        406. ,  428. ,  427. ,  423. ,  429. ,  425. ,  425. ,  419. ,\n",
       "        413. ,  410. ,  420. ,  418. ,  426. ,  427. ,  431. ,  435. ,\n",
       "        441. ,  444. ,  444. ,  439. ,  448. ,  447. ,  450. ,  446. ,\n",
       "        448. ,  456. ,  470. ,  465. ,  466. ,  475. ,  476. ,  478. ,\n",
       "        485. ,  488. ,  486. ,  495. ,  489. ,  488. ,  485. ,  485. ,\n",
       "        490. ,  486. ,  475. ,  482. ,  485. ,  485. ,  491. ,  485. ,\n",
       "        494. ,  500. ,  505. ,  510. ,  505. ,  506. ,  509. ,  516. ,\n",
       "        516. ,  670. ,  686. ,  689. ,  673. ,  668. ,  674. ,  680. ,\n",
       "        675. ,  678. ,  685. ,  701. ,  715. ,  722. ,  729. ,  740. ,\n",
       "        750. ,  750. ,  734. ,  748. ,  775. ,  760. ,  775. ,  740. ,\n",
       "        680. ,  685. ,  700. ,  644. ,  629. ,  626. ,  615. ,  592. ,\n",
       "        575. ,  570. ,  569. ,  570. ,  540. ,  557. ,  570. ,  570. ,\n",
       "        588. ,  590. ,  582. ,  580. ,  570. ,  568. ,  566. ,  900. ,\n",
       "        896. ,  950. ,  960. ,  981. ,  981. ,  985. ,  986. ,  991. ,\n",
       "        994. , 1002. , 1003. ,  996. ,  981. ,  990. ,  955. ,  940. ,\n",
       "        928. ,  960. ,  990. ,  988. , 1000. , 1013. , 1010. , 1015. ,\n",
       "       1000. ,  997. , 1020. , 1020. ,  988. ,  955. ,  903. ,  970. ,\n",
       "        975. , 1011. , 1029. , 1020. , 1061. , 1065. , 1066. , 1075. ,\n",
       "       1037. , 1028. , 1047. , 1035. , 1041. , 1049. , 1065. , 1080. ,\n",
       "       1080. , 1080. , 1082. , 1100. , 1297. , 1290. , 1293. , 1294. ,\n",
       "       1272. , 1320. , 1330. , 1331. , 1361. , 1379. , 1370. , 1378. ,\n",
       "       1348. , 1335. , 1331. , 1277. , 1250. , 1234. , 1249. , 1270. ,\n",
       "       1268. , 1264. , 1246. , 1275. , 1290. , 1295. , 1368. , 1380. ,\n",
       "       1384. , 1415. , 1330. , 1230. , 1215. , 1155. , 1050. ,  955. ,\n",
       "        869. ,  790. ,  719. ,  654. ])"
      ]
     },
     "execution_count": 146,
     "metadata": {},
     "output_type": "execute_result"
    }
   ],
   "source": [
    "y"
   ]
  },
  {
   "cell_type": "code",
   "execution_count": 147,
   "metadata": {},
   "outputs": [
    {
     "name": "stdout",
     "output_type": "stream",
     "text": [
      "Fold:1, Train set: 853, Test set:95\n",
      "Fold:2, Train set: 853, Test set:95\n",
      "Fold:3, Train set: 853, Test set:95\n",
      "Fold:4, Train set: 853, Test set:95\n",
      "Fold:5, Train set: 853, Test set:95\n",
      "Fold:6, Train set: 853, Test set:95\n",
      "Fold:7, Train set: 853, Test set:95\n",
      "Fold:8, Train set: 853, Test set:95\n",
      "Fold:9, Train set: 854, Test set:94\n",
      "Fold:10, Train set: 854, Test set:94\n"
     ]
    }
   ],
   "source": [
    "#split the data into 10 folds.  \n",
    "kf10 =KFold(n_splits=10, shuffle=True, random_state=42)\n",
    "\n",
    "\n",
    "count = 1\n",
    "for train_index10, test_index10 in kf10.split(X, y):\n",
    "    print(f'Fold:{count}, Train set: {len(train_index10)}, Test set:{len(test_index10)}')\n",
    "    count += 1"
   ]
  },
  {
   "cell_type": "code",
   "execution_count": 55,
   "metadata": {},
   "outputs": [],
   "source": [
    "X_train, X_test, y_train, y_test = train_test_split(X, y, test_size=0.1,  random_state=0)"
   ]
  },
  {
   "cell_type": "code",
   "execution_count": 56,
   "metadata": {},
   "outputs": [
    {
     "data": {
      "text/plain": [
       "((853, 9), (95, 9), (853,), (95,))"
      ]
     },
     "execution_count": 56,
     "metadata": {},
     "output_type": "execute_result"
    }
   ],
   "source": [
    "X_train.shape, X_test.shape, y_train.shape, y_test.shape"
   ]
  },
  {
   "cell_type": "code",
   "execution_count": 57,
   "metadata": {},
   "outputs": [],
   "source": [
    "scale = StandardScaler()\n",
    "X_train = scale.fit_transform(X_train)\n",
    "X_test = scale.transform(X_test)"
   ]
  },
  {
   "cell_type": "markdown",
   "metadata": {},
   "source": [
    "# Modeling"
   ]
  },
  {
   "cell_type": "code",
   "execution_count": 87,
   "metadata": {},
   "outputs": [],
   "source": [
    "models = {\"LinearRegression\":LinearRegression(),\n",
    "          \"MLPRegressor\": MLPRegressor(),\n",
    "          \"SVM\":SVR(),\n",
    "          'Ridge': Ridge(),\n",
    "          \"KNN\":KNeighborsRegressor(),\n",
    "          \"RandomForestRegressor\":RandomForestRegressor(),\n",
    "        }\n",
    "\n",
    "# Create a function to fit and score models\n",
    "def fit_and_score(models, X_train, X_test, y_train, y_test): \n",
    "    \"\"\"\n",
    "    Fits and evaluates given machine learning models.\n",
    "    models: a dict of different Scikit-Learn machine learning models\n",
    "    X_train: training data(with no labels)\n",
    "    X_test: testing data(with no labels)\n",
    "    y_train: training labels\n",
    "    y_test: testing labels\n",
    "    \"\"\"\n",
    "    \n",
    "    #set random seed\n",
    "    np.random.seed(42)\n",
    "\n",
    "    # Making a dictionary to keep model scoresS\n",
    "    model_scores = {}\n",
    "\n",
    "    # Loop through models\n",
    "    for name, model in models.items():\n",
    "        # Fit the model to the data\n",
    "        model.fit(X_train, y_train)\n",
    "\n",
    "        #Evaluate the model and  append  it's score to model_scores\n",
    "        model_scores[name] = model.score(X_test, y_test)\n",
    "    return model_scores"
   ]
  },
  {
   "cell_type": "code",
   "execution_count": 88,
   "metadata": {},
   "outputs": [],
   "source": [
    "model_scores = fit_and_score(models=models,\n",
    "                             X_train=X_train,\n",
    "                             X_test=X_test,\n",
    "                             y_train=y_train,\n",
    "                             y_test=y_test)"
   ]
  },
  {
   "cell_type": "code",
   "execution_count": 89,
   "metadata": {},
   "outputs": [
    {
     "data": {
      "text/plain": [
       "{'LinearRegression': 0.9997725365098407,\n",
       " 'MLPRegressor': 0.4718559727984556,\n",
       " 'SVM': 0.1302051469356421,\n",
       " 'Ridge': 0.999429140813715,\n",
       " 'KNN': 0.9870351389950535,\n",
       " 'RandomForestRegressor': 0.9984759002111709}"
      ]
     },
     "execution_count": 89,
     "metadata": {},
     "output_type": "execute_result"
    }
   ],
   "source": [
    "model_scores"
   ]
  },
  {
   "cell_type": "markdown",
   "metadata": {},
   "source": [
    "# Model Comparison"
   ]
  },
  {
   "cell_type": "code",
   "execution_count": 90,
   "metadata": {},
   "outputs": [
    {
     "data": {
      "image/png": "[encoded data removed]",
      "text/plain": [
       "<Figure size 432x288 with 1 Axes>"
      ]
     },
     "metadata": {
      "needs_background": "light"
     },
     "output_type": "display_data"
    }
   ],
   "source": [
    "model_compare = pd.DataFrame(model_scores, index=[\"accuracy\"])\n",
    "model_compare.T.plot.bar()\n",
    "\n",
    "plt.xticks(rotation=30, horizontalalignment='center');"
   ]
  },
  {
   "cell_type": "markdown",
   "metadata": {},
   "source": [
    "# Hyperparameter Tuning"
   ]
  },
  {
   "cell_type": "code",
   "execution_count": 96,
   "metadata": {},
   "outputs": [],
   "source": [
    "param_regr = {\n",
    "    'fit_intercept': ['True','False'],\n",
    "    'positive': ['True','False'],\n",
    "}\n",
    "\n",
    "param_mlp = {\n",
    "    'hidden_layer_sizes': (150,100,50),\n",
    "     'max_iter' : [100,200,300,500,1000],\n",
    "     'activation' : ['relu','identity', 'logistic', 'tanh'],\n",
    "     'solver' : ['adam','lbfgs','sgd'],\n",
    "     'validation_fraction': np.arange(0.0,1.0)\n",
    "}\n",
    "\n",
    "param_svm = {\n",
    "    'C': [0.1, 1, 10, 100, 1000], \n",
    "    'gamma': [1, 0.1, 0.01, 0.001, 0.0001],\n",
    "    'kernel': ['rbf','linear', 'poly', 'sigmoid']\n",
    "    }\n",
    "\n",
    "param_ridge = {\n",
    "    'alpha':[200, 230, 250,265, 270, 275, 290, 300, 500]\n",
    "}\n",
    "\n",
    "param_knn ={\n",
    "    'leaf_size':np.arange(1,50),\n",
    "    'n_neighbors':np.arange(1,30),\n",
    "    'p':[1,2]\n",
    "}\n",
    "\n",
    "param_rf = {\n",
    "    'n_estimators': [20, 50, 100, 500, 1000],  \n",
    "    'max_depth': np.arange(1, 15, 1),  \n",
    "    'min_samples_split': [2, 10, 9], \n",
    "    'min_samples_leaf': np.arange(1, 15, 2, dtype=int),  \n",
    "    'bootstrap': [True, False], \n",
    "    'random_state': [1, 2, 30, 42]\n",
    "}"
   ]
  },
  {
   "cell_type": "markdown",
   "metadata": {},
   "source": [
    "# Tune Linear Regression"
   ]
  },
  {
   "cell_type": "code",
   "execution_count": 101,
   "metadata": {},
   "outputs": [
    {
     "name": "stdout",
     "output_type": "stream",
     "text": [
      "Fitting 10 folds for each of 4 candidates, totalling 40 fits\n"
     ]
    },
    {
     "data": {
      "text/html": [
       "<style>#sk-container-id-4 {color: black;background-color: white;}#sk-container-id-4 pre{padding: 0;}#sk-container-id-4 div.sk-toggleable {background-color: white;}#sk-container-id-4 label.sk-toggleable__label {cursor: pointer;display: block;width: 100%;margin-bottom: 0;padding: 0.3em;box-sizing: border-box;text-align: center;}#sk-container-id-4 label.sk-toggleable__label-arrow:before {content: \"▸\";float: left;margin-right: 0.25em;color: #696969;}#sk-container-id-4 label.sk-toggleable__label-arrow:hover:before {color: black;}#sk-container-id-4 div.sk-estimator:hover label.sk-toggleable__label-arrow:before {color: black;}#sk-container-id-4 div.sk-toggleable__content {max-height: 0;max-width: 0;overflow: hidden;text-align: left;background-color: #f0f8ff;}#sk-container-id-4 div.sk-toggleable__content pre {margin: 0.2em;color: black;border-radius: 0.25em;background-color: #f0f8ff;}#sk-container-id-4 input.sk-toggleable__control:checked~div.sk-toggleable__content {max-height: 200px;max-width: 100%;overflow: auto;}#sk-container-id-4 input.sk-toggleable__control:checked~label.sk-toggleable__label-arrow:before {content: \"▾\";}#sk-container-id-4 div.sk-estimator input.sk-toggleable__control:checked~label.sk-toggleable__label {background-color: #d4ebff;}#sk-container-id-4 div.sk-label input.sk-toggleable__control:checked~label.sk-toggleable__label {background-color: #d4ebff;}#sk-container-id-4 input.sk-hidden--visually {border: 0;clip: rect(1px 1px 1px 1px);clip: rect(1px, 1px, 1px, 1px);height: 1px;margin: -1px;overflow: hidden;padding: 0;position: absolute;width: 1px;}#sk-container-id-4 div.sk-estimator {font-family: monospace;background-color: #f0f8ff;border: 1px dotted black;border-radius: 0.25em;box-sizing: border-box;margin-bottom: 0.5em;}#sk-container-id-4 div.sk-estimator:hover {background-color: #d4ebff;}#sk-container-id-4 div.sk-parallel-item::after {content: \"\";width: 100%;border-bottom: 1px solid gray;flex-grow: 1;}#sk-container-id-4 div.sk-label:hover label.sk-toggleable__label {background-color: #d4ebff;}#sk-container-id-4 div.sk-serial::before {content: \"\";position: absolute;border-left: 1px solid gray;box-sizing: border-box;top: 0;bottom: 0;left: 50%;z-index: 0;}#sk-container-id-4 div.sk-serial {display: flex;flex-direction: column;align-items: center;background-color: white;padding-right: 0.2em;padding-left: 0.2em;position: relative;}#sk-container-id-4 div.sk-item {position: relative;z-index: 1;}#sk-container-id-4 div.sk-parallel {display: flex;align-items: stretch;justify-content: center;background-color: white;position: relative;}#sk-container-id-4 div.sk-item::before, #sk-container-id-4 div.sk-parallel-item::before {content: \"\";position: absolute;border-left: 1px solid gray;box-sizing: border-box;top: 0;bottom: 0;left: 50%;z-index: -1;}#sk-container-id-4 div.sk-parallel-item {display: flex;flex-direction: column;z-index: 1;position: relative;background-color: white;}#sk-container-id-4 div.sk-parallel-item:first-child::after {align-self: flex-end;width: 50%;}#sk-container-id-4 div.sk-parallel-item:last-child::after {align-self: flex-start;width: 50%;}#sk-container-id-4 div.sk-parallel-item:only-child::after {width: 0;}#sk-container-id-4 div.sk-dashed-wrapped {border: 1px dashed gray;margin: 0 0.4em 0.5em 0.4em;box-sizing: border-box;padding-bottom: 0.4em;background-color: white;}#sk-container-id-4 div.sk-label label {font-family: monospace;font-weight: bold;display: inline-block;line-height: 1.2em;}#sk-container-id-4 div.sk-label-container {text-align: center;}#sk-container-id-4 div.sk-container {/* jupyter's `normalize.less` sets `[hidden] { display: none; }` but bootstrap.min.css set `[hidden] { display: none !important; }` so we also need the `!important` here to be able to override the default hidden behavior on the sphinx rendered scikit-learn.org. See: https://github.com/scikit-learn/scikit-learn/issues/21755 */display: inline-block !important;position: relative;}#sk-container-id-4 div.sk-text-repr-fallback {display: none;}</style><div id=\"sk-container-id-4\" class=\"sk-top-container\"><div class=\"sk-text-repr-fallback\"><pre>RandomizedSearchCV(cv=10, estimator=LinearRegression(), n_jobs=-1,\n",
       "                   param_distributions={&#x27;fit_intercept&#x27;: [&#x27;True&#x27;, &#x27;False&#x27;],\n",
       "                                        &#x27;positive&#x27;: [&#x27;True&#x27;, &#x27;False&#x27;]},\n",
       "                   verbose=True)</pre><b>In a Jupyter environment, please rerun this cell to show the HTML representation or trust the notebook. <br />On GitHub, the HTML representation is unable to render, please try loading this page with nbviewer.org.</b></div><div class=\"sk-container\" hidden><div class=\"sk-item sk-dashed-wrapped\"><div class=\"sk-label-container\"><div class=\"sk-label sk-toggleable\"><input class=\"sk-toggleable__control sk-hidden--visually\" id=\"sk-estimator-id-10\" type=\"checkbox\" ><label for=\"sk-estimator-id-10\" class=\"sk-toggleable__label sk-toggleable__label-arrow\">RandomizedSearchCV</label><div class=\"sk-toggleable__content\"><pre>RandomizedSearchCV(cv=10, estimator=LinearRegression(), n_jobs=-1,\n",
       "                   param_distributions={&#x27;fit_intercept&#x27;: [&#x27;True&#x27;, &#x27;False&#x27;],\n",
       "                                        &#x27;positive&#x27;: [&#x27;True&#x27;, &#x27;False&#x27;]},\n",
       "                   verbose=True)</pre></div></div></div><div class=\"sk-parallel\"><div class=\"sk-parallel-item\"><div class=\"sk-item\"><div class=\"sk-label-container\"><div class=\"sk-label sk-toggleable\"><input class=\"sk-toggleable__control sk-hidden--visually\" id=\"sk-estimator-id-11\" type=\"checkbox\" ><label for=\"sk-estimator-id-11\" class=\"sk-toggleable__label sk-toggleable__label-arrow\">estimator: LinearRegression</label><div class=\"sk-toggleable__content\"><pre>LinearRegression()</pre></div></div></div><div class=\"sk-serial\"><div class=\"sk-item\"><div class=\"sk-estimator sk-toggleable\"><input class=\"sk-toggleable__control sk-hidden--visually\" id=\"sk-estimator-id-12\" type=\"checkbox\" ><label for=\"sk-estimator-id-12\" class=\"sk-toggleable__label sk-toggleable__label-arrow\">LinearRegression</label><div class=\"sk-toggleable__content\"><pre>LinearRegression()</pre></div></div></div></div></div></div></div></div></div></div>"
      ],
      "text/plain": [
       "RandomizedSearchCV(cv=10, estimator=LinearRegression(), n_jobs=-1,\n",
       "                   param_distributions={'fit_intercept': ['True', 'False'],\n",
       "                                        'positive': ['True', 'False']},\n",
       "                   verbose=True)"
      ]
     },
     "execution_count": 101,
     "metadata": {},
     "output_type": "execute_result"
    }
   ],
   "source": [
    "np.random.seed(42)\n",
    "\n",
    "# Setup random hyperparameter search for LinearRegression\n",
    "regr = RandomizedSearchCV(LinearRegression(),\n",
    "                                param_distributions=param_regr,\n",
    "                                cv=10,\n",
    "                                n_iter=10,\n",
    "                                verbose=True,\n",
    "                                n_jobs=-1)\n",
    "\n",
    "#Fit random hyperparameter search model for LinearRegression \n",
    "regr.fit(X_train,y_train)"
   ]
  },
  {
   "cell_type": "code",
   "execution_count": 102,
   "metadata": {},
   "outputs": [
    {
     "data": {
      "text/plain": [
       "{'positive': 'True', 'fit_intercept': 'True'}"
      ]
     },
     "execution_count": 102,
     "metadata": {},
     "output_type": "execute_result"
    }
   ],
   "source": [
    "# Find the best parameters\n",
    "regr.best_params_\n"
   ]
  },
  {
   "cell_type": "code",
   "execution_count": 103,
   "metadata": {},
   "outputs": [
    {
     "data": {
      "text/plain": [
       "0.9995277693197183"
      ]
     },
     "execution_count": 103,
     "metadata": {},
     "output_type": "execute_result"
    }
   ],
   "source": [
    "# Evaluate the randomized search LinearRegression Model\n",
    "regr.score(X_test, y_test)"
   ]
  },
  {
   "cell_type": "code",
   "execution_count": 123,
   "metadata": {},
   "outputs": [
    {
     "data": {
      "text/plain": [
       "{'LinearRegression': 0.9997725365098407,\n",
       " 'MLPRegressor': 0.4718559727984556,\n",
       " 'SVM': 0.1302051469356421,\n",
       " 'Ridge': 0.999429140813715,\n",
       " 'KNN': 0.9870351389950535,\n",
       " 'RandomForestRegressor': 0.9984759002111709}"
      ]
     },
     "execution_count": 123,
     "metadata": {},
     "output_type": "execute_result"
    }
   ],
   "source": [
    "model_scores"
   ]
  },
  {
   "cell_type": "markdown",
   "metadata": {},
   "source": [
    "# Tune Multi Layer Perceptron Regressor"
   ]
  },
  {
   "cell_type": "code",
   "execution_count": 108,
   "metadata": {},
   "outputs": [
    {
     "name": "stdout",
     "output_type": "stream",
     "text": [
      "Fitting 10 folds for each of 10 candidates, totalling 100 fits\n"
     ]
    },
    {
     "data": {
      "text/html": [
       "<style>#sk-container-id-6 {color: black;background-color: white;}#sk-container-id-6 pre{padding: 0;}#sk-container-id-6 div.sk-toggleable {background-color: white;}#sk-container-id-6 label.sk-toggleable__label {cursor: pointer;display: block;width: 100%;margin-bottom: 0;padding: 0.3em;box-sizing: border-box;text-align: center;}#sk-container-id-6 label.sk-toggleable__label-arrow:before {content: \"▸\";float: left;margin-right: 0.25em;color: #696969;}#sk-container-id-6 label.sk-toggleable__label-arrow:hover:before {color: black;}#sk-container-id-6 div.sk-estimator:hover label.sk-toggleable__label-arrow:before {color: black;}#sk-container-id-6 div.sk-toggleable__content {max-height: 0;max-width: 0;overflow: hidden;text-align: left;background-color: #f0f8ff;}#sk-container-id-6 div.sk-toggleable__content pre {margin: 0.2em;color: black;border-radius: 0.25em;background-color: #f0f8ff;}#sk-container-id-6 input.sk-toggleable__control:checked~div.sk-toggleable__content {max-height: 200px;max-width: 100%;overflow: auto;}#sk-container-id-6 input.sk-toggleable__control:checked~label.sk-toggleable__label-arrow:before {content: \"▾\";}#sk-container-id-6 div.sk-estimator input.sk-toggleable__control:checked~label.sk-toggleable__label {background-color: #d4ebff;}#sk-container-id-6 div.sk-label input.sk-toggleable__control:checked~label.sk-toggleable__label {background-color: #d4ebff;}#sk-container-id-6 input.sk-hidden--visually {border: 0;clip: rect(1px 1px 1px 1px);clip: rect(1px, 1px, 1px, 1px);height: 1px;margin: -1px;overflow: hidden;padding: 0;position: absolute;width: 1px;}#sk-container-id-6 div.sk-estimator {font-family: monospace;background-color: #f0f8ff;border: 1px dotted black;border-radius: 0.25em;box-sizing: border-box;margin-bottom: 0.5em;}#sk-container-id-6 div.sk-estimator:hover {background-color: #d4ebff;}#sk-container-id-6 div.sk-parallel-item::after {content: \"\";width: 100%;border-bottom: 1px solid gray;flex-grow: 1;}#sk-container-id-6 div.sk-label:hover label.sk-toggleable__label {background-color: #d4ebff;}#sk-container-id-6 div.sk-serial::before {content: \"\";position: absolute;border-left: 1px solid gray;box-sizing: border-box;top: 0;bottom: 0;left: 50%;z-index: 0;}#sk-container-id-6 div.sk-serial {display: flex;flex-direction: column;align-items: center;background-color: white;padding-right: 0.2em;padding-left: 0.2em;position: relative;}#sk-container-id-6 div.sk-item {position: relative;z-index: 1;}#sk-container-id-6 div.sk-parallel {display: flex;align-items: stretch;justify-content: center;background-color: white;position: relative;}#sk-container-id-6 div.sk-item::before, #sk-container-id-6 div.sk-parallel-item::before {content: \"\";position: absolute;border-left: 1px solid gray;box-sizing: border-box;top: 0;bottom: 0;left: 50%;z-index: -1;}#sk-container-id-6 div.sk-parallel-item {display: flex;flex-direction: column;z-index: 1;position: relative;background-color: white;}#sk-container-id-6 div.sk-parallel-item:first-child::after {align-self: flex-end;width: 50%;}#sk-container-id-6 div.sk-parallel-item:last-child::after {align-self: flex-start;width: 50%;}#sk-container-id-6 div.sk-parallel-item:only-child::after {width: 0;}#sk-container-id-6 div.sk-dashed-wrapped {border: 1px dashed gray;margin: 0 0.4em 0.5em 0.4em;box-sizing: border-box;padding-bottom: 0.4em;background-color: white;}#sk-container-id-6 div.sk-label label {font-family: monospace;font-weight: bold;display: inline-block;line-height: 1.2em;}#sk-container-id-6 div.sk-label-container {text-align: center;}#sk-container-id-6 div.sk-container {/* jupyter's `normalize.less` sets `[hidden] { display: none; }` but bootstrap.min.css set `[hidden] { display: none !important; }` so we also need the `!important` here to be able to override the default hidden behavior on the sphinx rendered scikit-learn.org. See: https://github.com/scikit-learn/scikit-learn/issues/21755 */display: inline-block !important;position: relative;}#sk-container-id-6 div.sk-text-repr-fallback {display: none;}</style><div id=\"sk-container-id-6\" class=\"sk-top-container\"><div class=\"sk-text-repr-fallback\"><pre>RandomizedSearchCV(cv=10, estimator=MLPRegressor(), n_jobs=-1,\n",
       "                   param_distributions={&#x27;activation&#x27;: [&#x27;relu&#x27;, &#x27;identity&#x27;,\n",
       "                                                       &#x27;logistic&#x27;, &#x27;tanh&#x27;],\n",
       "                                        &#x27;hidden_layer_sizes&#x27;: (150, 100, 50),\n",
       "                                        &#x27;max_iter&#x27;: [100, 200, 300, 500, 1000],\n",
       "                                        &#x27;solver&#x27;: [&#x27;adam&#x27;, &#x27;lbfgs&#x27;, &#x27;sgd&#x27;],\n",
       "                                        &#x27;validation_fraction&#x27;: array([0.])},\n",
       "                   verbose=True)</pre><b>In a Jupyter environment, please rerun this cell to show the HTML representation or trust the notebook. <br />On GitHub, the HTML representation is unable to render, please try loading this page with nbviewer.org.</b></div><div class=\"sk-container\" hidden><div class=\"sk-item sk-dashed-wrapped\"><div class=\"sk-label-container\"><div class=\"sk-label sk-toggleable\"><input class=\"sk-toggleable__control sk-hidden--visually\" id=\"sk-estimator-id-16\" type=\"checkbox\" ><label for=\"sk-estimator-id-16\" class=\"sk-toggleable__label sk-toggleable__label-arrow\">RandomizedSearchCV</label><div class=\"sk-toggleable__content\"><pre>RandomizedSearchCV(cv=10, estimator=MLPRegressor(), n_jobs=-1,\n",
       "                   param_distributions={&#x27;activation&#x27;: [&#x27;relu&#x27;, &#x27;identity&#x27;,\n",
       "                                                       &#x27;logistic&#x27;, &#x27;tanh&#x27;],\n",
       "                                        &#x27;hidden_layer_sizes&#x27;: (150, 100, 50),\n",
       "                                        &#x27;max_iter&#x27;: [100, 200, 300, 500, 1000],\n",
       "                                        &#x27;solver&#x27;: [&#x27;adam&#x27;, &#x27;lbfgs&#x27;, &#x27;sgd&#x27;],\n",
       "                                        &#x27;validation_fraction&#x27;: array([0.])},\n",
       "                   verbose=True)</pre></div></div></div><div class=\"sk-parallel\"><div class=\"sk-parallel-item\"><div class=\"sk-item\"><div class=\"sk-label-container\"><div class=\"sk-label sk-toggleable\"><input class=\"sk-toggleable__control sk-hidden--visually\" id=\"sk-estimator-id-17\" type=\"checkbox\" ><label for=\"sk-estimator-id-17\" class=\"sk-toggleable__label sk-toggleable__label-arrow\">estimator: MLPRegressor</label><div class=\"sk-toggleable__content\"><pre>MLPRegressor()</pre></div></div></div><div class=\"sk-serial\"><div class=\"sk-item\"><div class=\"sk-estimator sk-toggleable\"><input class=\"sk-toggleable__control sk-hidden--visually\" id=\"sk-estimator-id-18\" type=\"checkbox\" ><label for=\"sk-estimator-id-18\" class=\"sk-toggleable__label sk-toggleable__label-arrow\">MLPRegressor</label><div class=\"sk-toggleable__content\"><pre>MLPRegressor()</pre></div></div></div></div></div></div></div></div></div></div>"
      ],
      "text/plain": [
       "RandomizedSearchCV(cv=10, estimator=MLPRegressor(), n_jobs=-1,\n",
       "                   param_distributions={'activation': ['relu', 'identity',\n",
       "                                                       'logistic', 'tanh'],\n",
       "                                        'hidden_layer_sizes': (150, 100, 50),\n",
       "                                        'max_iter': [100, 200, 300, 500, 1000],\n",
       "                                        'solver': ['adam', 'lbfgs', 'sgd'],\n",
       "                                        'validation_fraction': array([0.])},\n",
       "                   verbose=True)"
      ]
     },
     "execution_count": 108,
     "metadata": {},
     "output_type": "execute_result"
    }
   ],
   "source": [
    "np.random.seed(42)\n",
    "\n",
    "# Setup random hyperparameter search for MLPRegressor\n",
    "mlp = RandomizedSearchCV(MLPRegressor(),\n",
    "                         param_distributions=param_mlp,\n",
    "                         cv=10,\n",
    "                         n_iter=10,\n",
    "                         verbose=True,\n",
    "                         n_jobs=-1)\n",
    "\n",
    "#Fit random hyperparameter search model for MLPRegressor \n",
    "mlp.fit(X_train,y_train)"
   ]
  },
  {
   "cell_type": "code",
   "execution_count": 109,
   "metadata": {},
   "outputs": [
    {
     "data": {
      "text/plain": [
       "{'validation_fraction': 0.0,\n",
       " 'solver': 'lbfgs',\n",
       " 'max_iter': 200,\n",
       " 'hidden_layer_sizes': 100,\n",
       " 'activation': 'relu'}"
      ]
     },
     "execution_count": 109,
     "metadata": {},
     "output_type": "execute_result"
    }
   ],
   "source": [
    "# Find the best parameters\n",
    "mlp.best_params_"
   ]
  },
  {
   "cell_type": "code",
   "execution_count": 110,
   "metadata": {},
   "outputs": [
    {
     "data": {
      "text/plain": [
       "0.9997198317611198"
      ]
     },
     "execution_count": 110,
     "metadata": {},
     "output_type": "execute_result"
    }
   ],
   "source": [
    "# Evaluate the randomized search MLPRegressor Model\n",
    "mlp.score(X_test, y_test)"
   ]
  },
  {
   "cell_type": "code",
   "execution_count": 124,
   "metadata": {},
   "outputs": [
    {
     "data": {
      "text/plain": [
       "{'LinearRegression': 0.9997725365098407,\n",
       " 'MLPRegressor': 0.4718559727984556,\n",
       " 'SVM': 0.1302051469356421,\n",
       " 'Ridge': 0.999429140813715,\n",
       " 'KNN': 0.9870351389950535,\n",
       " 'RandomForestRegressor': 0.9984759002111709}"
      ]
     },
     "execution_count": 124,
     "metadata": {},
     "output_type": "execute_result"
    }
   ],
   "source": [
    "model_scores"
   ]
  },
  {
   "cell_type": "markdown",
   "metadata": {},
   "source": [
    "# Tune Support Vector Machine Regressor"
   ]
  },
  {
   "cell_type": "code",
   "execution_count": 111,
   "metadata": {},
   "outputs": [
    {
     "name": "stdout",
     "output_type": "stream",
     "text": [
      "Fitting 10 folds for each of 10 candidates, totalling 100 fits\n"
     ]
    },
    {
     "data": {
      "text/html": [
       "<style>#sk-container-id-7 {color: black;background-color: white;}#sk-container-id-7 pre{padding: 0;}#sk-container-id-7 div.sk-toggleable {background-color: white;}#sk-container-id-7 label.sk-toggleable__label {cursor: pointer;display: block;width: 100%;margin-bottom: 0;padding: 0.3em;box-sizing: border-box;text-align: center;}#sk-container-id-7 label.sk-toggleable__label-arrow:before {content: \"▸\";float: left;margin-right: 0.25em;color: #696969;}#sk-container-id-7 label.sk-toggleable__label-arrow:hover:before {color: black;}#sk-container-id-7 div.sk-estimator:hover label.sk-toggleable__label-arrow:before {color: black;}#sk-container-id-7 div.sk-toggleable__content {max-height: 0;max-width: 0;overflow: hidden;text-align: left;background-color: #f0f8ff;}#sk-container-id-7 div.sk-toggleable__content pre {margin: 0.2em;color: black;border-radius: 0.25em;background-color: #f0f8ff;}#sk-container-id-7 input.sk-toggleable__control:checked~div.sk-toggleable__content {max-height: 200px;max-width: 100%;overflow: auto;}#sk-container-id-7 input.sk-toggleable__control:checked~label.sk-toggleable__label-arrow:before {content: \"▾\";}#sk-container-id-7 div.sk-estimator input.sk-toggleable__control:checked~label.sk-toggleable__label {background-color: #d4ebff;}#sk-container-id-7 div.sk-label input.sk-toggleable__control:checked~label.sk-toggleable__label {background-color: #d4ebff;}#sk-container-id-7 input.sk-hidden--visually {border: 0;clip: rect(1px 1px 1px 1px);clip: rect(1px, 1px, 1px, 1px);height: 1px;margin: -1px;overflow: hidden;padding: 0;position: absolute;width: 1px;}#sk-container-id-7 div.sk-estimator {font-family: monospace;background-color: #f0f8ff;border: 1px dotted black;border-radius: 0.25em;box-sizing: border-box;margin-bottom: 0.5em;}#sk-container-id-7 div.sk-estimator:hover {background-color: #d4ebff;}#sk-container-id-7 div.sk-parallel-item::after {content: \"\";width: 100%;border-bottom: 1px solid gray;flex-grow: 1;}#sk-container-id-7 div.sk-label:hover label.sk-toggleable__label {background-color: #d4ebff;}#sk-container-id-7 div.sk-serial::before {content: \"\";position: absolute;border-left: 1px solid gray;box-sizing: border-box;top: 0;bottom: 0;left: 50%;z-index: 0;}#sk-container-id-7 div.sk-serial {display: flex;flex-direction: column;align-items: center;background-color: white;padding-right: 0.2em;padding-left: 0.2em;position: relative;}#sk-container-id-7 div.sk-item {position: relative;z-index: 1;}#sk-container-id-7 div.sk-parallel {display: flex;align-items: stretch;justify-content: center;background-color: white;position: relative;}#sk-container-id-7 div.sk-item::before, #sk-container-id-7 div.sk-parallel-item::before {content: \"\";position: absolute;border-left: 1px solid gray;box-sizing: border-box;top: 0;bottom: 0;left: 50%;z-index: -1;}#sk-container-id-7 div.sk-parallel-item {display: flex;flex-direction: column;z-index: 1;position: relative;background-color: white;}#sk-container-id-7 div.sk-parallel-item:first-child::after {align-self: flex-end;width: 50%;}#sk-container-id-7 div.sk-parallel-item:last-child::after {align-self: flex-start;width: 50%;}#sk-container-id-7 div.sk-parallel-item:only-child::after {width: 0;}#sk-container-id-7 div.sk-dashed-wrapped {border: 1px dashed gray;margin: 0 0.4em 0.5em 0.4em;box-sizing: border-box;padding-bottom: 0.4em;background-color: white;}#sk-container-id-7 div.sk-label label {font-family: monospace;font-weight: bold;display: inline-block;line-height: 1.2em;}#sk-container-id-7 div.sk-label-container {text-align: center;}#sk-container-id-7 div.sk-container {/* jupyter's `normalize.less` sets `[hidden] { display: none; }` but bootstrap.min.css set `[hidden] { display: none !important; }` so we also need the `!important` here to be able to override the default hidden behavior on the sphinx rendered scikit-learn.org. See: https://github.com/scikit-learn/scikit-learn/issues/21755 */display: inline-block !important;position: relative;}#sk-container-id-7 div.sk-text-repr-fallback {display: none;}</style><div id=\"sk-container-id-7\" class=\"sk-top-container\"><div class=\"sk-text-repr-fallback\"><pre>RandomizedSearchCV(cv=10, estimator=SVR(), n_jobs=-1,\n",
       "                   param_distributions={&#x27;C&#x27;: [0.1, 1, 10, 100, 1000],\n",
       "                                        &#x27;gamma&#x27;: [1, 0.1, 0.01, 0.001, 0.0001],\n",
       "                                        &#x27;kernel&#x27;: [&#x27;rbf&#x27;, &#x27;linear&#x27;, &#x27;poly&#x27;,\n",
       "                                                   &#x27;sigmoid&#x27;]},\n",
       "                   verbose=True)</pre><b>In a Jupyter environment, please rerun this cell to show the HTML representation or trust the notebook. <br />On GitHub, the HTML representation is unable to render, please try loading this page with nbviewer.org.</b></div><div class=\"sk-container\" hidden><div class=\"sk-item sk-dashed-wrapped\"><div class=\"sk-label-container\"><div class=\"sk-label sk-toggleable\"><input class=\"sk-toggleable__control sk-hidden--visually\" id=\"sk-estimator-id-19\" type=\"checkbox\" ><label for=\"sk-estimator-id-19\" class=\"sk-toggleable__label sk-toggleable__label-arrow\">RandomizedSearchCV</label><div class=\"sk-toggleable__content\"><pre>RandomizedSearchCV(cv=10, estimator=SVR(), n_jobs=-1,\n",
       "                   param_distributions={&#x27;C&#x27;: [0.1, 1, 10, 100, 1000],\n",
       "                                        &#x27;gamma&#x27;: [1, 0.1, 0.01, 0.001, 0.0001],\n",
       "                                        &#x27;kernel&#x27;: [&#x27;rbf&#x27;, &#x27;linear&#x27;, &#x27;poly&#x27;,\n",
       "                                                   &#x27;sigmoid&#x27;]},\n",
       "                   verbose=True)</pre></div></div></div><div class=\"sk-parallel\"><div class=\"sk-parallel-item\"><div class=\"sk-item\"><div class=\"sk-label-container\"><div class=\"sk-label sk-toggleable\"><input class=\"sk-toggleable__control sk-hidden--visually\" id=\"sk-estimator-id-20\" type=\"checkbox\" ><label for=\"sk-estimator-id-20\" class=\"sk-toggleable__label sk-toggleable__label-arrow\">estimator: SVR</label><div class=\"sk-toggleable__content\"><pre>SVR()</pre></div></div></div><div class=\"sk-serial\"><div class=\"sk-item\"><div class=\"sk-estimator sk-toggleable\"><input class=\"sk-toggleable__control sk-hidden--visually\" id=\"sk-estimator-id-21\" type=\"checkbox\" ><label for=\"sk-estimator-id-21\" class=\"sk-toggleable__label sk-toggleable__label-arrow\">SVR</label><div class=\"sk-toggleable__content\"><pre>SVR()</pre></div></div></div></div></div></div></div></div></div></div>"
      ],
      "text/plain": [
       "RandomizedSearchCV(cv=10, estimator=SVR(), n_jobs=-1,\n",
       "                   param_distributions={'C': [0.1, 1, 10, 100, 1000],\n",
       "                                        'gamma': [1, 0.1, 0.01, 0.001, 0.0001],\n",
       "                                        'kernel': ['rbf', 'linear', 'poly',\n",
       "                                                   'sigmoid']},\n",
       "                   verbose=True)"
      ]
     },
     "execution_count": 111,
     "metadata": {},
     "output_type": "execute_result"
    }
   ],
   "source": [
    "np.random.seed(42)\n",
    "\n",
    "# Setup random hyperparameter search for SVM\n",
    "svm = RandomizedSearchCV(SVR(),\n",
    "                         param_distributions=param_svm,\n",
    "                         cv=10,\n",
    "                         n_iter=10,\n",
    "                         verbose=True,\n",
    "                         n_jobs=-1)\n",
    "\n",
    "#Fit random hyperparameter search model for SVM \n",
    "svm.fit(X_train,y_train)"
   ]
  },
  {
   "cell_type": "code",
   "execution_count": 112,
   "metadata": {},
   "outputs": [
    {
     "data": {
      "text/plain": [
       "{'kernel': 'linear', 'gamma': 0.001, 'C': 10}"
      ]
     },
     "execution_count": 112,
     "metadata": {},
     "output_type": "execute_result"
    }
   ],
   "source": [
    "# Find the best parameters\n",
    "svm.best_params_"
   ]
  },
  {
   "cell_type": "code",
   "execution_count": 113,
   "metadata": {},
   "outputs": [
    {
     "data": {
      "text/plain": [
       "0.9992021265020243"
      ]
     },
     "execution_count": 113,
     "metadata": {},
     "output_type": "execute_result"
    }
   ],
   "source": [
    "# Evaluate the randomized search SVM Model\n",
    "svm.score(X_test, y_test)"
   ]
  },
  {
   "cell_type": "code",
   "execution_count": 125,
   "metadata": {},
   "outputs": [
    {
     "data": {
      "text/plain": [
       "{'LinearRegression': 0.9997725365098407,\n",
       " 'MLPRegressor': 0.4718559727984556,\n",
       " 'SVM': 0.1302051469356421,\n",
       " 'Ridge': 0.999429140813715,\n",
       " 'KNN': 0.9870351389950535,\n",
       " 'RandomForestRegressor': 0.9984759002111709}"
      ]
     },
     "execution_count": 125,
     "metadata": {},
     "output_type": "execute_result"
    }
   ],
   "source": [
    "model_scores"
   ]
  },
  {
   "cell_type": "markdown",
   "metadata": {},
   "source": [
    "# Tune Ridge"
   ]
  },
  {
   "cell_type": "code",
   "execution_count": 115,
   "metadata": {},
   "outputs": [
    {
     "name": "stdout",
     "output_type": "stream",
     "text": [
      "Fitting 10 folds for each of 9 candidates, totalling 90 fits\n"
     ]
    },
    {
     "data": {
      "text/html": [
       "<style>#sk-container-id-9 {color: black;background-color: white;}#sk-container-id-9 pre{padding: 0;}#sk-container-id-9 div.sk-toggleable {background-color: white;}#sk-container-id-9 label.sk-toggleable__label {cursor: pointer;display: block;width: 100%;margin-bottom: 0;padding: 0.3em;box-sizing: border-box;text-align: center;}#sk-container-id-9 label.sk-toggleable__label-arrow:before {content: \"▸\";float: left;margin-right: 0.25em;color: #696969;}#sk-container-id-9 label.sk-toggleable__label-arrow:hover:before {color: black;}#sk-container-id-9 div.sk-estimator:hover label.sk-toggleable__label-arrow:before {color: black;}#sk-container-id-9 div.sk-toggleable__content {max-height: 0;max-width: 0;overflow: hidden;text-align: left;background-color: #f0f8ff;}#sk-container-id-9 div.sk-toggleable__content pre {margin: 0.2em;color: black;border-radius: 0.25em;background-color: #f0f8ff;}#sk-container-id-9 input.sk-toggleable__control:checked~div.sk-toggleable__content {max-height: 200px;max-width: 100%;overflow: auto;}#sk-container-id-9 input.sk-toggleable__control:checked~label.sk-toggleable__label-arrow:before {content: \"▾\";}#sk-container-id-9 div.sk-estimator input.sk-toggleable__control:checked~label.sk-toggleable__label {background-color: #d4ebff;}#sk-container-id-9 div.sk-label input.sk-toggleable__control:checked~label.sk-toggleable__label {background-color: #d4ebff;}#sk-container-id-9 input.sk-hidden--visually {border: 0;clip: rect(1px 1px 1px 1px);clip: rect(1px, 1px, 1px, 1px);height: 1px;margin: -1px;overflow: hidden;padding: 0;position: absolute;width: 1px;}#sk-container-id-9 div.sk-estimator {font-family: monospace;background-color: #f0f8ff;border: 1px dotted black;border-radius: 0.25em;box-sizing: border-box;margin-bottom: 0.5em;}#sk-container-id-9 div.sk-estimator:hover {background-color: #d4ebff;}#sk-container-id-9 div.sk-parallel-item::after {content: \"\";width: 100%;border-bottom: 1px solid gray;flex-grow: 1;}#sk-container-id-9 div.sk-label:hover label.sk-toggleable__label {background-color: #d4ebff;}#sk-container-id-9 div.sk-serial::before {content: \"\";position: absolute;border-left: 1px solid gray;box-sizing: border-box;top: 0;bottom: 0;left: 50%;z-index: 0;}#sk-container-id-9 div.sk-serial {display: flex;flex-direction: column;align-items: center;background-color: white;padding-right: 0.2em;padding-left: 0.2em;position: relative;}#sk-container-id-9 div.sk-item {position: relative;z-index: 1;}#sk-container-id-9 div.sk-parallel {display: flex;align-items: stretch;justify-content: center;background-color: white;position: relative;}#sk-container-id-9 div.sk-item::before, #sk-container-id-9 div.sk-parallel-item::before {content: \"\";position: absolute;border-left: 1px solid gray;box-sizing: border-box;top: 0;bottom: 0;left: 50%;z-index: -1;}#sk-container-id-9 div.sk-parallel-item {display: flex;flex-direction: column;z-index: 1;position: relative;background-color: white;}#sk-container-id-9 div.sk-parallel-item:first-child::after {align-self: flex-end;width: 50%;}#sk-container-id-9 div.sk-parallel-item:last-child::after {align-self: flex-start;width: 50%;}#sk-container-id-9 div.sk-parallel-item:only-child::after {width: 0;}#sk-container-id-9 div.sk-dashed-wrapped {border: 1px dashed gray;margin: 0 0.4em 0.5em 0.4em;box-sizing: border-box;padding-bottom: 0.4em;background-color: white;}#sk-container-id-9 div.sk-label label {font-family: monospace;font-weight: bold;display: inline-block;line-height: 1.2em;}#sk-container-id-9 div.sk-label-container {text-align: center;}#sk-container-id-9 div.sk-container {/* jupyter's `normalize.less` sets `[hidden] { display: none; }` but bootstrap.min.css set `[hidden] { display: none !important; }` so we also need the `!important` here to be able to override the default hidden behavior on the sphinx rendered scikit-learn.org. See: https://github.com/scikit-learn/scikit-learn/issues/21755 */display: inline-block !important;position: relative;}#sk-container-id-9 div.sk-text-repr-fallback {display: none;}</style><div id=\"sk-container-id-9\" class=\"sk-top-container\"><div class=\"sk-text-repr-fallback\"><pre>RandomizedSearchCV(cv=10, estimator=Ridge(), n_jobs=-1,\n",
       "                   param_distributions={&#x27;alpha&#x27;: [200, 230, 250, 265, 270, 275,\n",
       "                                                  290, 300, 500]},\n",
       "                   verbose=True)</pre><b>In a Jupyter environment, please rerun this cell to show the HTML representation or trust the notebook. <br />On GitHub, the HTML representation is unable to render, please try loading this page with nbviewer.org.</b></div><div class=\"sk-container\" hidden><div class=\"sk-item sk-dashed-wrapped\"><div class=\"sk-label-container\"><div class=\"sk-label sk-toggleable\"><input class=\"sk-toggleable__control sk-hidden--visually\" id=\"sk-estimator-id-25\" type=\"checkbox\" ><label for=\"sk-estimator-id-25\" class=\"sk-toggleable__label sk-toggleable__label-arrow\">RandomizedSearchCV</label><div class=\"sk-toggleable__content\"><pre>RandomizedSearchCV(cv=10, estimator=Ridge(), n_jobs=-1,\n",
       "                   param_distributions={&#x27;alpha&#x27;: [200, 230, 250, 265, 270, 275,\n",
       "                                                  290, 300, 500]},\n",
       "                   verbose=True)</pre></div></div></div><div class=\"sk-parallel\"><div class=\"sk-parallel-item\"><div class=\"sk-item\"><div class=\"sk-label-container\"><div class=\"sk-label sk-toggleable\"><input class=\"sk-toggleable__control sk-hidden--visually\" id=\"sk-estimator-id-26\" type=\"checkbox\" ><label for=\"sk-estimator-id-26\" class=\"sk-toggleable__label sk-toggleable__label-arrow\">estimator: Ridge</label><div class=\"sk-toggleable__content\"><pre>Ridge()</pre></div></div></div><div class=\"sk-serial\"><div class=\"sk-item\"><div class=\"sk-estimator sk-toggleable\"><input class=\"sk-toggleable__control sk-hidden--visually\" id=\"sk-estimator-id-27\" type=\"checkbox\" ><label for=\"sk-estimator-id-27\" class=\"sk-toggleable__label sk-toggleable__label-arrow\">Ridge</label><div class=\"sk-toggleable__content\"><pre>Ridge()</pre></div></div></div></div></div></div></div></div></div></div>"
      ],
      "text/plain": [
       "RandomizedSearchCV(cv=10, estimator=Ridge(), n_jobs=-1,\n",
       "                   param_distributions={'alpha': [200, 230, 250, 265, 270, 275,\n",
       "                                                  290, 300, 500]},\n",
       "                   verbose=True)"
      ]
     },
     "execution_count": 115,
     "metadata": {},
     "output_type": "execute_result"
    }
   ],
   "source": [
    "np.random.seed(42)\n",
    "\n",
    "# Setup random hyperparameter search for Ridge Rigressor\n",
    "ridge = RandomizedSearchCV(Ridge(),\n",
    "                         param_distributions=param_ridge,\n",
    "                         cv=10,\n",
    "                         n_iter=10,\n",
    "                         verbose=True,\n",
    "                         n_jobs=-1)\n",
    "\n",
    "#Fit random hyperparameter search model for Ridge Rigressor \n",
    "ridge.fit(X_train,y_train)"
   ]
  },
  {
   "cell_type": "code",
   "execution_count": 116,
   "metadata": {},
   "outputs": [
    {
     "data": {
      "text/plain": [
       "{'alpha': 200}"
      ]
     },
     "execution_count": 116,
     "metadata": {},
     "output_type": "execute_result"
    }
   ],
   "source": [
    "# Find the best parameters\n",
    "ridge.best_params_"
   ]
  },
  {
   "cell_type": "code",
   "execution_count": 117,
   "metadata": {},
   "outputs": [
    {
     "data": {
      "text/plain": [
       "0.9949215559562942"
      ]
     },
     "execution_count": 117,
     "metadata": {},
     "output_type": "execute_result"
    }
   ],
   "source": [
    "# Evaluate the randomized search SVM Model\n",
    "ridge.score(X_test, y_test)"
   ]
  },
  {
   "cell_type": "code",
   "execution_count": 126,
   "metadata": {},
   "outputs": [
    {
     "data": {
      "text/plain": [
       "{'LinearRegression': 0.9997725365098407,\n",
       " 'MLPRegressor': 0.4718559727984556,\n",
       " 'SVM': 0.1302051469356421,\n",
       " 'Ridge': 0.999429140813715,\n",
       " 'KNN': 0.9870351389950535,\n",
       " 'RandomForestRegressor': 0.9984759002111709}"
      ]
     },
     "execution_count": 126,
     "metadata": {},
     "output_type": "execute_result"
    }
   ],
   "source": [
    "model_scores"
   ]
  },
  {
   "cell_type": "markdown",
   "metadata": {},
   "source": [
    "# Tune KNeighborsRegressor"
   ]
  },
  {
   "cell_type": "code",
   "execution_count": 133,
   "metadata": {},
   "outputs": [
    {
     "name": "stdout",
     "output_type": "stream",
     "text": [
      "Fitting 10 folds for each of 10 candidates, totalling 100 fits\n"
     ]
    },
    {
     "data": {
      "text/html": [
       "<style>#sk-container-id-12 {color: black;background-color: white;}#sk-container-id-12 pre{padding: 0;}#sk-container-id-12 div.sk-toggleable {background-color: white;}#sk-container-id-12 label.sk-toggleable__label {cursor: pointer;display: block;width: 100%;margin-bottom: 0;padding: 0.3em;box-sizing: border-box;text-align: center;}#sk-container-id-12 label.sk-toggleable__label-arrow:before {content: \"▸\";float: left;margin-right: 0.25em;color: #696969;}#sk-container-id-12 label.sk-toggleable__label-arrow:hover:before {color: black;}#sk-container-id-12 div.sk-estimator:hover label.sk-toggleable__label-arrow:before {color: black;}#sk-container-id-12 div.sk-toggleable__content {max-height: 0;max-width: 0;overflow: hidden;text-align: left;background-color: #f0f8ff;}#sk-container-id-12 div.sk-toggleable__content pre {margin: 0.2em;color: black;border-radius: 0.25em;background-color: #f0f8ff;}#sk-container-id-12 input.sk-toggleable__control:checked~div.sk-toggleable__content {max-height: 200px;max-width: 100%;overflow: auto;}#sk-container-id-12 input.sk-toggleable__control:checked~label.sk-toggleable__label-arrow:before {content: \"▾\";}#sk-container-id-12 div.sk-estimator input.sk-toggleable__control:checked~label.sk-toggleable__label {background-color: #d4ebff;}#sk-container-id-12 div.sk-label input.sk-toggleable__control:checked~label.sk-toggleable__label {background-color: #d4ebff;}#sk-container-id-12 input.sk-hidden--visually {border: 0;clip: rect(1px 1px 1px 1px);clip: rect(1px, 1px, 1px, 1px);height: 1px;margin: -1px;overflow: hidden;padding: 0;position: absolute;width: 1px;}#sk-container-id-12 div.sk-estimator {font-family: monospace;background-color: #f0f8ff;border: 1px dotted black;border-radius: 0.25em;box-sizing: border-box;margin-bottom: 0.5em;}#sk-container-id-12 div.sk-estimator:hover {background-color: #d4ebff;}#sk-container-id-12 div.sk-parallel-item::after {content: \"\";width: 100%;border-bottom: 1px solid gray;flex-grow: 1;}#sk-container-id-12 div.sk-label:hover label.sk-toggleable__label {background-color: #d4ebff;}#sk-container-id-12 div.sk-serial::before {content: \"\";position: absolute;border-left: 1px solid gray;box-sizing: border-box;top: 0;bottom: 0;left: 50%;z-index: 0;}#sk-container-id-12 div.sk-serial {display: flex;flex-direction: column;align-items: center;background-color: white;padding-right: 0.2em;padding-left: 0.2em;position: relative;}#sk-container-id-12 div.sk-item {position: relative;z-index: 1;}#sk-container-id-12 div.sk-parallel {display: flex;align-items: stretch;justify-content: center;background-color: white;position: relative;}#sk-container-id-12 div.sk-item::before, #sk-container-id-12 div.sk-parallel-item::before {content: \"\";position: absolute;border-left: 1px solid gray;box-sizing: border-box;top: 0;bottom: 0;left: 50%;z-index: -1;}#sk-container-id-12 div.sk-parallel-item {display: flex;flex-direction: column;z-index: 1;position: relative;background-color: white;}#sk-container-id-12 div.sk-parallel-item:first-child::after {align-self: flex-end;width: 50%;}#sk-container-id-12 div.sk-parallel-item:last-child::after {align-self: flex-start;width: 50%;}#sk-container-id-12 div.sk-parallel-item:only-child::after {width: 0;}#sk-container-id-12 div.sk-dashed-wrapped {border: 1px dashed gray;margin: 0 0.4em 0.5em 0.4em;box-sizing: border-box;padding-bottom: 0.4em;background-color: white;}#sk-container-id-12 div.sk-label label {font-family: monospace;font-weight: bold;display: inline-block;line-height: 1.2em;}#sk-container-id-12 div.sk-label-container {text-align: center;}#sk-container-id-12 div.sk-container {/* jupyter's `normalize.less` sets `[hidden] { display: none; }` but bootstrap.min.css set `[hidden] { display: none !important; }` so we also need the `!important` here to be able to override the default hidden behavior on the sphinx rendered scikit-learn.org. See: https://github.com/scikit-learn/scikit-learn/issues/21755 */display: inline-block !important;position: relative;}#sk-container-id-12 div.sk-text-repr-fallback {display: none;}</style><div id=\"sk-container-id-12\" class=\"sk-top-container\"><div class=\"sk-text-repr-fallback\"><pre>RandomizedSearchCV(cv=10, estimator=KNeighborsRegressor(), n_jobs=-1,\n",
       "                   param_distributions={&#x27;leaf_size&#x27;: array([ 1,  2,  3,  4,  5,  6,  7,  8,  9, 10, 11, 12, 13, 14, 15, 16, 17,\n",
       "       18, 19, 20, 21, 22, 23, 24, 25, 26, 27, 28, 29, 30, 31, 32, 33, 34,\n",
       "       35, 36, 37, 38, 39, 40, 41, 42, 43, 44, 45, 46, 47, 48, 49]),\n",
       "                                        &#x27;n_neighbors&#x27;: array([ 1,  2,  3,  4,  5,  6,  7,  8,  9, 10, 11, 12, 13, 14, 15, 16, 17,\n",
       "       18, 19, 20, 21, 22, 23, 24, 25, 26, 27, 28, 29]),\n",
       "                                        &#x27;p&#x27;: [1, 2]},\n",
       "                   verbose=True)</pre><b>In a Jupyter environment, please rerun this cell to show the HTML representation or trust the notebook. <br />On GitHub, the HTML representation is unable to render, please try loading this page with nbviewer.org.</b></div><div class=\"sk-container\" hidden><div class=\"sk-item sk-dashed-wrapped\"><div class=\"sk-label-container\"><div class=\"sk-label sk-toggleable\"><input class=\"sk-toggleable__control sk-hidden--visually\" id=\"sk-estimator-id-34\" type=\"checkbox\" ><label for=\"sk-estimator-id-34\" class=\"sk-toggleable__label sk-toggleable__label-arrow\">RandomizedSearchCV</label><div class=\"sk-toggleable__content\"><pre>RandomizedSearchCV(cv=10, estimator=KNeighborsRegressor(), n_jobs=-1,\n",
       "                   param_distributions={&#x27;leaf_size&#x27;: array([ 1,  2,  3,  4,  5,  6,  7,  8,  9, 10, 11, 12, 13, 14, 15, 16, 17,\n",
       "       18, 19, 20, 21, 22, 23, 24, 25, 26, 27, 28, 29, 30, 31, 32, 33, 34,\n",
       "       35, 36, 37, 38, 39, 40, 41, 42, 43, 44, 45, 46, 47, 48, 49]),\n",
       "                                        &#x27;n_neighbors&#x27;: array([ 1,  2,  3,  4,  5,  6,  7,  8,  9, 10, 11, 12, 13, 14, 15, 16, 17,\n",
       "       18, 19, 20, 21, 22, 23, 24, 25, 26, 27, 28, 29]),\n",
       "                                        &#x27;p&#x27;: [1, 2]},\n",
       "                   verbose=True)</pre></div></div></div><div class=\"sk-parallel\"><div class=\"sk-parallel-item\"><div class=\"sk-item\"><div class=\"sk-label-container\"><div class=\"sk-label sk-toggleable\"><input class=\"sk-toggleable__control sk-hidden--visually\" id=\"sk-estimator-id-35\" type=\"checkbox\" ><label for=\"sk-estimator-id-35\" class=\"sk-toggleable__label sk-toggleable__label-arrow\">estimator: KNeighborsRegressor</label><div class=\"sk-toggleable__content\"><pre>KNeighborsRegressor()</pre></div></div></div><div class=\"sk-serial\"><div class=\"sk-item\"><div class=\"sk-estimator sk-toggleable\"><input class=\"sk-toggleable__control sk-hidden--visually\" id=\"sk-estimator-id-36\" type=\"checkbox\" ><label for=\"sk-estimator-id-36\" class=\"sk-toggleable__label sk-toggleable__label-arrow\">KNeighborsRegressor</label><div class=\"sk-toggleable__content\"><pre>KNeighborsRegressor()</pre></div></div></div></div></div></div></div></div></div></div>"
      ],
      "text/plain": [
       "RandomizedSearchCV(cv=10, estimator=KNeighborsRegressor(), n_jobs=-1,\n",
       "                   param_distributions={'leaf_size': array([ 1,  2,  3,  4,  5,  6,  7,  8,  9, 10, 11, 12, 13, 14, 15, 16, 17,\n",
       "       18, 19, 20, 21, 22, 23, 24, 25, 26, 27, 28, 29, 30, 31, 32, 33, 34,\n",
       "       35, 36, 37, 38, 39, 40, 41, 42, 43, 44, 45, 46, 47, 48, 49]),\n",
       "                                        'n_neighbors': array([ 1,  2,  3,  4,  5,  6,  7,  8,  9, 10, 11, 12, 13, 14, 15, 16, 17,\n",
       "       18, 19, 20, 21, 22, 23, 24, 25, 26, 27, 28, 29]),\n",
       "                                        'p': [1, 2]},\n",
       "                   verbose=True)"
      ]
     },
     "execution_count": 133,
     "metadata": {},
     "output_type": "execute_result"
    }
   ],
   "source": [
    "np.random.seed(42)\n",
    "\n",
    "# Setup random hyperparameter search for Ridge Rigressor\n",
    "knn = RandomizedSearchCV(KNeighborsRegressor(),\n",
    "                         param_distributions=param_knn,\n",
    "                         cv=10,\n",
    "                         n_iter=10,\n",
    "                         verbose=True,\n",
    "                         n_jobs=-1)\n",
    "\n",
    "#Fit random hyperparameter search model for Ridge Rigressor \n",
    "knn.fit(X_train,y_train)"
   ]
  },
  {
   "cell_type": "code",
   "execution_count": 134,
   "metadata": {},
   "outputs": [
    {
     "data": {
      "text/plain": [
       "{'p': 1, 'n_neighbors': 8, 'leaf_size': 29}"
      ]
     },
     "execution_count": 134,
     "metadata": {},
     "output_type": "execute_result"
    }
   ],
   "source": [
    "# Find the best parameters\n",
    "knn.best_params_"
   ]
  },
  {
   "cell_type": "code",
   "execution_count": 135,
   "metadata": {},
   "outputs": [
    {
     "data": {
      "text/plain": [
       "0.9952103114281033"
      ]
     },
     "execution_count": 135,
     "metadata": {},
     "output_type": "execute_result"
    }
   ],
   "source": [
    "# Evaluate the randomized search SVM Model\n",
    "knn.score(X_test, y_test)"
   ]
  },
  {
   "cell_type": "code",
   "execution_count": 136,
   "metadata": {},
   "outputs": [
    {
     "data": {
      "text/plain": [
       "{'LinearRegression': 0.9997725365098407,\n",
       " 'MLPRegressor': 0.4718559727984556,\n",
       " 'SVM': 0.1302051469356421,\n",
       " 'Ridge': 0.999429140813715,\n",
       " 'KNN': 0.9870351389950535,\n",
       " 'RandomForestRegressor': 0.9984759002111709}"
      ]
     },
     "execution_count": 136,
     "metadata": {},
     "output_type": "execute_result"
    }
   ],
   "source": [
    "model_scores"
   ]
  },
  {
   "cell_type": "markdown",
   "metadata": {},
   "source": [
    "# Tune random Forest Regressor"
   ]
  },
  {
   "cell_type": "code",
   "execution_count": 137,
   "metadata": {},
   "outputs": [
    {
     "name": "stdout",
     "output_type": "stream",
     "text": [
      "Fitting 10 folds for each of 10 candidates, totalling 100 fits\n"
     ]
    },
    {
     "data": {
      "text/html": [
       "<style>#sk-container-id-13 {color: black;background-color: white;}#sk-container-id-13 pre{padding: 0;}#sk-container-id-13 div.sk-toggleable {background-color: white;}#sk-container-id-13 label.sk-toggleable__label {cursor: pointer;display: block;width: 100%;margin-bottom: 0;padding: 0.3em;box-sizing: border-box;text-align: center;}#sk-container-id-13 label.sk-toggleable__label-arrow:before {content: \"▸\";float: left;margin-right: 0.25em;color: #696969;}#sk-container-id-13 label.sk-toggleable__label-arrow:hover:before {color: black;}#sk-container-id-13 div.sk-estimator:hover label.sk-toggleable__label-arrow:before {color: black;}#sk-container-id-13 div.sk-toggleable__content {max-height: 0;max-width: 0;overflow: hidden;text-align: left;background-color: #f0f8ff;}#sk-container-id-13 div.sk-toggleable__content pre {margin: 0.2em;color: black;border-radius: 0.25em;background-color: #f0f8ff;}#sk-container-id-13 input.sk-toggleable__control:checked~div.sk-toggleable__content {max-height: 200px;max-width: 100%;overflow: auto;}#sk-container-id-13 input.sk-toggleable__control:checked~label.sk-toggleable__label-arrow:before {content: \"▾\";}#sk-container-id-13 div.sk-estimator input.sk-toggleable__control:checked~label.sk-toggleable__label {background-color: #d4ebff;}#sk-container-id-13 div.sk-label input.sk-toggleable__control:checked~label.sk-toggleable__label {background-color: #d4ebff;}#sk-container-id-13 input.sk-hidden--visually {border: 0;clip: rect(1px 1px 1px 1px);clip: rect(1px, 1px, 1px, 1px);height: 1px;margin: -1px;overflow: hidden;padding: 0;position: absolute;width: 1px;}#sk-container-id-13 div.sk-estimator {font-family: monospace;background-color: #f0f8ff;border: 1px dotted black;border-radius: 0.25em;box-sizing: border-box;margin-bottom: 0.5em;}#sk-container-id-13 div.sk-estimator:hover {background-color: #d4ebff;}#sk-container-id-13 div.sk-parallel-item::after {content: \"\";width: 100%;border-bottom: 1px solid gray;flex-grow: 1;}#sk-container-id-13 div.sk-label:hover label.sk-toggleable__label {background-color: #d4ebff;}#sk-container-id-13 div.sk-serial::before {content: \"\";position: absolute;border-left: 1px solid gray;box-sizing: border-box;top: 0;bottom: 0;left: 50%;z-index: 0;}#sk-container-id-13 div.sk-serial {display: flex;flex-direction: column;align-items: center;background-color: white;padding-right: 0.2em;padding-left: 0.2em;position: relative;}#sk-container-id-13 div.sk-item {position: relative;z-index: 1;}#sk-container-id-13 div.sk-parallel {display: flex;align-items: stretch;justify-content: center;background-color: white;position: relative;}#sk-container-id-13 div.sk-item::before, #sk-container-id-13 div.sk-parallel-item::before {content: \"\";position: absolute;border-left: 1px solid gray;box-sizing: border-box;top: 0;bottom: 0;left: 50%;z-index: -1;}#sk-container-id-13 div.sk-parallel-item {display: flex;flex-direction: column;z-index: 1;position: relative;background-color: white;}#sk-container-id-13 div.sk-parallel-item:first-child::after {align-self: flex-end;width: 50%;}#sk-container-id-13 div.sk-parallel-item:last-child::after {align-self: flex-start;width: 50%;}#sk-container-id-13 div.sk-parallel-item:only-child::after {width: 0;}#sk-container-id-13 div.sk-dashed-wrapped {border: 1px dashed gray;margin: 0 0.4em 0.5em 0.4em;box-sizing: border-box;padding-bottom: 0.4em;background-color: white;}#sk-container-id-13 div.sk-label label {font-family: monospace;font-weight: bold;display: inline-block;line-height: 1.2em;}#sk-container-id-13 div.sk-label-container {text-align: center;}#sk-container-id-13 div.sk-container {/* jupyter's `normalize.less` sets `[hidden] { display: none; }` but bootstrap.min.css set `[hidden] { display: none !important; }` so we also need the `!important` here to be able to override the default hidden behavior on the sphinx rendered scikit-learn.org. See: https://github.com/scikit-learn/scikit-learn/issues/21755 */display: inline-block !important;position: relative;}#sk-container-id-13 div.sk-text-repr-fallback {display: none;}</style><div id=\"sk-container-id-13\" class=\"sk-top-container\"><div class=\"sk-text-repr-fallback\"><pre>RandomizedSearchCV(cv=10, estimator=RandomForestRegressor(), n_jobs=-1,\n",
       "                   param_distributions={&#x27;bootstrap&#x27;: [True, False],\n",
       "                                        &#x27;max_depth&#x27;: array([ 1,  2,  3,  4,  5,  6,  7,  8,  9, 10, 11, 12, 13, 14]),\n",
       "                                        &#x27;min_samples_leaf&#x27;: array([ 1,  3,  5,  7,  9, 11, 13]),\n",
       "                                        &#x27;min_samples_split&#x27;: [2, 10, 9],\n",
       "                                        &#x27;n_estimators&#x27;: [20, 50, 100, 500,\n",
       "                                                         1000],\n",
       "                                        &#x27;random_state&#x27;: [1, 2, 30, 42]},\n",
       "                   verbose=True)</pre><b>In a Jupyter environment, please rerun this cell to show the HTML representation or trust the notebook. <br />On GitHub, the HTML representation is unable to render, please try loading this page with nbviewer.org.</b></div><div class=\"sk-container\" hidden><div class=\"sk-item sk-dashed-wrapped\"><div class=\"sk-label-container\"><div class=\"sk-label sk-toggleable\"><input class=\"sk-toggleable__control sk-hidden--visually\" id=\"sk-estimator-id-37\" type=\"checkbox\" ><label for=\"sk-estimator-id-37\" class=\"sk-toggleable__label sk-toggleable__label-arrow\">RandomizedSearchCV</label><div class=\"sk-toggleable__content\"><pre>RandomizedSearchCV(cv=10, estimator=RandomForestRegressor(), n_jobs=-1,\n",
       "                   param_distributions={&#x27;bootstrap&#x27;: [True, False],\n",
       "                                        &#x27;max_depth&#x27;: array([ 1,  2,  3,  4,  5,  6,  7,  8,  9, 10, 11, 12, 13, 14]),\n",
       "                                        &#x27;min_samples_leaf&#x27;: array([ 1,  3,  5,  7,  9, 11, 13]),\n",
       "                                        &#x27;min_samples_split&#x27;: [2, 10, 9],\n",
       "                                        &#x27;n_estimators&#x27;: [20, 50, 100, 500,\n",
       "                                                         1000],\n",
       "                                        &#x27;random_state&#x27;: [1, 2, 30, 42]},\n",
       "                   verbose=True)</pre></div></div></div><div class=\"sk-parallel\"><div class=\"sk-parallel-item\"><div class=\"sk-item\"><div class=\"sk-label-container\"><div class=\"sk-label sk-toggleable\"><input class=\"sk-toggleable__control sk-hidden--visually\" id=\"sk-estimator-id-38\" type=\"checkbox\" ><label for=\"sk-estimator-id-38\" class=\"sk-toggleable__label sk-toggleable__label-arrow\">estimator: RandomForestRegressor</label><div class=\"sk-toggleable__content\"><pre>RandomForestRegressor()</pre></div></div></div><div class=\"sk-serial\"><div class=\"sk-item\"><div class=\"sk-estimator sk-toggleable\"><input class=\"sk-toggleable__control sk-hidden--visually\" id=\"sk-estimator-id-39\" type=\"checkbox\" ><label for=\"sk-estimator-id-39\" class=\"sk-toggleable__label sk-toggleable__label-arrow\">RandomForestRegressor</label><div class=\"sk-toggleable__content\"><pre>RandomForestRegressor()</pre></div></div></div></div></div></div></div></div></div></div>"
      ],
      "text/plain": [
       "RandomizedSearchCV(cv=10, estimator=RandomForestRegressor(), n_jobs=-1,\n",
       "                   param_distributions={'bootstrap': [True, False],\n",
       "                                        'max_depth': array([ 1,  2,  3,  4,  5,  6,  7,  8,  9, 10, 11, 12, 13, 14]),\n",
       "                                        'min_samples_leaf': array([ 1,  3,  5,  7,  9, 11, 13]),\n",
       "                                        'min_samples_split': [2, 10, 9],\n",
       "                                        'n_estimators': [20, 50, 100, 500,\n",
       "                                                         1000],\n",
       "                                        'random_state': [1, 2, 30, 42]},\n",
       "                   verbose=True)"
      ]
     },
     "execution_count": 137,
     "metadata": {},
     "output_type": "execute_result"
    }
   ],
   "source": [
    "np.random.seed(42)\n",
    "\n",
    "# Setup random hyperparameter search for RandomForestRegressor\n",
    "rf = RandomizedSearchCV(RandomForestRegressor(),\n",
    "                         param_distributions=param_rf,\n",
    "                         cv=10,\n",
    "                         n_iter=10,\n",
    "                         verbose=True,\n",
    "                         n_jobs=-1)\n",
    "\n",
    "#Fit random hyperparameter search model for RandomForestRegressor \n",
    "rf.fit(X_train,y_train)"
   ]
  },
  {
   "cell_type": "code",
   "execution_count": 138,
   "metadata": {},
   "outputs": [
    {
     "data": {
      "text/plain": [
       "{'random_state': 30,\n",
       " 'n_estimators': 1000,\n",
       " 'min_samples_split': 9,\n",
       " 'min_samples_leaf': 3,\n",
       " 'max_depth': 14,\n",
       " 'bootstrap': True}"
      ]
     },
     "execution_count": 138,
     "metadata": {},
     "output_type": "execute_result"
    }
   ],
   "source": [
    "# Find the best parameters\n",
    "rf.best_params_"
   ]
  },
  {
   "cell_type": "code",
   "execution_count": 139,
   "metadata": {},
   "outputs": [
    {
     "data": {
      "text/plain": [
       "0.9983388314552286"
      ]
     },
     "execution_count": 139,
     "metadata": {},
     "output_type": "execute_result"
    }
   ],
   "source": [
    "# Evaluate the randomized search RandomForestRegressor Model\n",
    "rf.score(X_test, y_test)"
   ]
  },
  {
   "cell_type": "code",
   "execution_count": 140,
   "metadata": {},
   "outputs": [
    {
     "data": {
      "text/plain": [
       "{'LinearRegression': 0.9997725365098407,\n",
       " 'MLPRegressor': 0.4718559727984556,\n",
       " 'SVM': 0.1302051469356421,\n",
       " 'Ridge': 0.999429140813715,\n",
       " 'KNN': 0.9870351389950535,\n",
       " 'RandomForestRegressor': 0.9984759002111709}"
      ]
     },
     "execution_count": 140,
     "metadata": {},
     "output_type": "execute_result"
    }
   ],
   "source": [
    "model_scores"
   ]
  },
  {
   "cell_type": "code",
   "execution_count": 142,
   "metadata": {},
   "outputs": [
    {
     "name": "stdout",
     "output_type": "stream",
     "text": [
      "\n",
      "-------------- LinearRegression ---------------\n",
      "\n",
      "Mean Absolute Error: 3.8249\n",
      "Mean Squared Error: 32.8464\n",
      "Root Mean Squared Error: 5.7312\n",
      "(R^2) Score: 0.9995\n",
      "Train Score : 99.93% and Test Score : 99.95% using LinearRegression.\n",
      "Accuracy: 99.2 %.\n",
      "\n",
      "-------------- MLPRegressor ---------------\n",
      "\n",
      "Mean Absolute Error: 2.8725\n",
      "Mean Squared Error: 15.6547\n",
      "Root Mean Squared Error: 3.9566\n",
      "(R^2) Score: 0.9998\n",
      "Train Score : 99.96% and Test Score : 99.98% using MLPRegressor.\n",
      "Accuracy: 99.38 %.\n",
      "\n",
      "-------------- SVM ---------------\n",
      "\n",
      "Mean Absolute Error: 4.1362\n",
      "Mean Squared Error: 55.4967\n",
      "Root Mean Squared Error: 7.4496\n",
      "(R^2) Score: 0.9992\n",
      "Train Score : 99.91% and Test Score : 99.92% using SVM.\n",
      "Accuracy: 99.22 %.\n",
      "\n",
      "-------------- Ridge ---------------\n",
      "\n",
      "Mean Absolute Error: 11.7169\n",
      "Mean Squared Error: 353.2351\n",
      "Root Mean Squared Error: 18.7945\n",
      "(R^2) Score: 0.9949\n",
      "Train Score : 99.57% and Test Score : 99.49% using Ridge.\n",
      "Accuracy: 97.8 %.\n",
      "\n",
      "-------------- KNN ---------------\n",
      "\n",
      "Mean Absolute Error: 12.5849\n",
      "Mean Squared Error: 333.1505\n",
      "Root Mean Squared Error: 18.2524\n",
      "(R^2) Score: 0.9952\n",
      "Train Score : 99.46% and Test Score : 99.52% using KNN.\n",
      "Accuracy: 97.31 %.\n",
      "\n",
      "-------------- RandomForestRegressor ---------------\n",
      "\n",
      "Mean Absolute Error: 5.2944\n",
      "Mean Squared Error: 115.5439\n",
      "Root Mean Squared Error: 10.7491\n",
      "(R^2) Score: 0.9983\n",
      "Train Score : 99.96% and Test Score : 99.83% using RandomForestRegressor.\n",
      "Accuracy: 99.06 %.\n"
     ]
    }
   ],
   "source": [
    "# test models\n",
    "models = {  'LinearRegression':LinearRegression(positive= 'True', fit_intercept= 'True'),\n",
    "            'MLPRegressor': MLPRegressor(validation_fraction= 0.0,solver= 'lbfgs',max_iter= 200,\n",
    "                                         hidden_layer_sizes= 100, activation='relu'),\n",
    "            'SVM': SVR(kernel= 'linear', gamma= 0.001, C=10),\n",
    "            'Ridge':Ridge(alpha= 200),\n",
    "            'KNN': KNeighborsRegressor(p= 1, n_neighbors= 8, leaf_size= 29),\n",
    "            'RandomForestRegressor': RandomForestRegressor(random_state= 30, n_estimators=1000, min_samples_split= 9,\n",
    "                                                           min_samples_leaf= 3, max_depth= 14, bootstrap=True)\n",
    "            }\n",
    "\n",
    "for model_name in models.keys():\n",
    "\n",
    "    model = models[model_name]\n",
    "    print('\\n'+'--------------',model_name,'---------------'+'\\n')\n",
    "    model.fit(X_train,y_train)\n",
    "    predict = model.predict(X_test)\n",
    "    print(\"Mean Absolute Error:\", round(metrics.mean_absolute_error(y_test, predict), 4))\n",
    "    print(\"Mean Squared Error:\", round(metrics.mean_squared_error(y_test, predict), 4))\n",
    "    print(\"Root Mean Squared Error:\", round(np.sqrt(metrics.mean_squared_error(y_test, predict)), 4))\n",
    "    print(\"(R^2) Score:\", round(metrics.r2_score(y_test, predict), 4))\n",
    "    print(f'Train Score : {model.score(X_train, y_train) * 100:.2f}% and Test Score : {model.score(X_test, y_test) * 100:.2f}% using {model_name}.')\n",
    "    errors = abs(predict - y_test)\n",
    "    mape = 100 * (errors / y_test)\n",
    "    accuracy = 100 - np.mean(mape)\n",
    "    print('Accuracy:', round(accuracy, 2), '%.')"
   ]
  },
  {
   "cell_type": "markdown",
   "metadata": {},
   "source": [
    "# Finding features Importances"
   ]
  },
  {
   "cell_type": "code",
   "execution_count": 183,
   "metadata": {},
   "outputs": [],
   "source": [
    "# # Find the feature importance of our best model\n",
    "# model.feature_importances_"
   ]
  },
  {
   "cell_type": "code",
   "execution_count": 184,
   "metadata": {},
   "outputs": [],
   "source": [
    "# ## functions to plot the features importances\n",
    "# def plot_features(columns, importances, n=10):\n",
    "#     df = (pd.DataFrame({\"features\": columns,\n",
    "#                         \"features_importance\": importances})\n",
    "#          .sort_values(\"features_importance\", ascending=False)\n",
    "#          .reset_index(drop=True))\n",
    "    \n",
    "#     # Plot the dataframe\n",
    "#     fig, ax = plt.subplots()\n",
    "#     ax.barh(df[\"features\"][:n], df[\"features_importance\"][:10])\n",
    "#     ax.set_ylabel(\"features\")\n",
    "#     ax.set_xlabel(\"feautures_importance\")\n",
    "#     ax.invert_yaxis()"
   ]
  },
  {
   "cell_type": "code",
   "execution_count": 185,
   "metadata": {
    "scrolled": true
   },
   "outputs": [],
   "source": [
    "# plot_features(s.columns, ideal_model.feature_importances_)"
   ]
  },
  {
   "cell_type": "code",
   "execution_count": 197,
   "metadata": {},
   "outputs": [
    {
     "data": {
      "text/plain": [
       "array([ 943.84536338,  321.73283176,  418.18029791,  292.43797601,\n",
       "        348.70493261,  355.33668302,  716.74768928,  353.73667176,\n",
       "        336.94347622,  397.06973788, 1000.1963596 ,  674.03231945,\n",
       "        970.44586994,  312.14183186,  427.62066169,  402.07772044,\n",
       "        313.69275321,  424.26001879,  485.30034114,  307.24206551,\n",
       "        939.57869686,  345.28346581,  505.13766792,  288.89034232,\n",
       "        475.21112969,  321.27059311,  320.62430435,  311.7066033 ,\n",
       "        279.79415105,  321.21249668,  294.35849277, 1357.71793208,\n",
       "        275.93378185, 1039.60809768,  469.15986039,  287.6733287 ,\n",
       "        294.37178925,  407.21170038,  320.95841096,  303.96083528,\n",
       "        290.24792172,  388.08030353,  336.60423464,  317.37511535,\n",
       "        318.11241538,  428.96712993,  313.03477994,  321.35462804,\n",
       "        418.34986148,  376.29004024,  993.84632043,  409.12269387,\n",
       "        329.35048629,  291.60400493,  296.36904244,  805.84976463,\n",
       "       1258.82028379,  314.33045146,  333.76148371,  426.93409807,\n",
       "        305.01828591, 1237.54914896,  409.88013112,  417.48312911,\n",
       "        321.0711633 ,  407.31171092,  290.47714036,  570.07786184,\n",
       "        412.86678295, 1341.84124047,  428.92318631, 1000.2620849 ,\n",
       "        385.58752784,  298.3873238 ,  512.914253  ,  295.30050089,\n",
       "        380.77349586,  746.70082552,  285.3760559 ,  340.82176256,\n",
       "        313.94524446,  383.31182365,  418.14017086,  518.57719097,\n",
       "        552.46139553,  569.16391024,  990.53482085,  394.5638987 ,\n",
       "        314.18261461,  303.90119871,  311.092056  ,  293.76108601,\n",
       "        471.30153009,  391.47186125,  404.36031566])"
      ]
     },
     "execution_count": 197,
     "metadata": {},
     "output_type": "execute_result"
    }
   ],
   "source": [
    "predict"
   ]
  },
  {
   "cell_type": "code",
   "execution_count": 189,
   "metadata": {},
   "outputs": [
    {
     "data": {
      "text/html": [
       "<div>\n",
       "<style scoped>\n",
       "    .dataframe tbody tr th:only-of-type {\n",
       "        vertical-align: middle;\n",
       "    }\n",
       "\n",
       "    .dataframe tbody tr th {\n",
       "        vertical-align: top;\n",
       "    }\n",
       "\n",
       "    .dataframe thead th {\n",
       "        text-align: right;\n",
       "    }\n",
       "</style>\n",
       "<table border=\"1\" class=\"dataframe\">\n",
       "  <thead>\n",
       "    <tr style=\"text-align: right;\">\n",
       "      <th></th>\n",
       "      <th>Open</th>\n",
       "      <th>High</th>\n",
       "      <th>Low</th>\n",
       "      <th>Qty</th>\n",
       "      <th>Turnover</th>\n",
       "      <th>economic-subjectivity</th>\n",
       "      <th>economic-polarity</th>\n",
       "      <th>political-subjectivity</th>\n",
       "      <th>political-polarity</th>\n",
       "      <th>Ltp</th>\n",
       "    </tr>\n",
       "    <tr>\n",
       "      <th>Date</th>\n",
       "      <th></th>\n",
       "      <th></th>\n",
       "      <th></th>\n",
       "      <th></th>\n",
       "      <th></th>\n",
       "      <th></th>\n",
       "      <th></th>\n",
       "      <th></th>\n",
       "      <th></th>\n",
       "      <th></th>\n",
       "    </tr>\n",
       "  </thead>\n",
       "  <tbody>\n",
       "    <tr>\n",
       "      <th>2022-06-29</th>\n",
       "      <td>318.9</td>\n",
       "      <td>318.9</td>\n",
       "      <td>310.0</td>\n",
       "      <td>310.0</td>\n",
       "      <td>6127716.2</td>\n",
       "      <td>0.457500</td>\n",
       "      <td>0.017500</td>\n",
       "      <td>0.460909</td>\n",
       "      <td>-0.122727</td>\n",
       "      <td>315.0</td>\n",
       "    </tr>\n",
       "    <tr>\n",
       "      <th>2022-06-28</th>\n",
       "      <td>312.0</td>\n",
       "      <td>316.5</td>\n",
       "      <td>306.0</td>\n",
       "      <td>306.0</td>\n",
       "      <td>5707986.7</td>\n",
       "      <td>0.195556</td>\n",
       "      <td>0.017778</td>\n",
       "      <td>0.425000</td>\n",
       "      <td>0.350000</td>\n",
       "      <td>313.0</td>\n",
       "    </tr>\n",
       "    <tr>\n",
       "      <th>2022-06-27</th>\n",
       "      <td>322.0</td>\n",
       "      <td>325.0</td>\n",
       "      <td>310.0</td>\n",
       "      <td>310.0</td>\n",
       "      <td>11125995.5</td>\n",
       "      <td>0.225000</td>\n",
       "      <td>-0.012500</td>\n",
       "      <td>0.457792</td>\n",
       "      <td>0.169481</td>\n",
       "      <td>312.0</td>\n",
       "    </tr>\n",
       "    <tr>\n",
       "      <th>2022-06-26</th>\n",
       "      <td>312.9</td>\n",
       "      <td>320.0</td>\n",
       "      <td>308.0</td>\n",
       "      <td>308.0</td>\n",
       "      <td>28577745.1</td>\n",
       "      <td>0.253704</td>\n",
       "      <td>0.038889</td>\n",
       "      <td>0.570909</td>\n",
       "      <td>0.241818</td>\n",
       "      <td>320.0</td>\n",
       "    </tr>\n",
       "    <tr>\n",
       "      <th>2022-06-24</th>\n",
       "      <td>305.0</td>\n",
       "      <td>310.0</td>\n",
       "      <td>298.2</td>\n",
       "      <td>298.2</td>\n",
       "      <td>25399389.8</td>\n",
       "      <td>0.280303</td>\n",
       "      <td>0.042424</td>\n",
       "      <td>0.300000</td>\n",
       "      <td>0.128788</td>\n",
       "      <td>307.0</td>\n",
       "    </tr>\n",
       "    <tr>\n",
       "      <th>...</th>\n",
       "      <td>...</td>\n",
       "      <td>...</td>\n",
       "      <td>...</td>\n",
       "      <td>...</td>\n",
       "      <td>...</td>\n",
       "      <td>...</td>\n",
       "      <td>...</td>\n",
       "      <td>...</td>\n",
       "      <td>...</td>\n",
       "      <td>...</td>\n",
       "    </tr>\n",
       "    <tr>\n",
       "      <th>2016-07-17</th>\n",
       "      <td>869.0</td>\n",
       "      <td>955.0</td>\n",
       "      <td>886.0</td>\n",
       "      <td>886.0</td>\n",
       "      <td>2538590.0</td>\n",
       "      <td>0.277273</td>\n",
       "      <td>0.218182</td>\n",
       "      <td>0.461818</td>\n",
       "      <td>0.004545</td>\n",
       "      <td>955.0</td>\n",
       "    </tr>\n",
       "    <tr>\n",
       "      <th>2016-07-14</th>\n",
       "      <td>790.0</td>\n",
       "      <td>869.0</td>\n",
       "      <td>805.0</td>\n",
       "      <td>805.0</td>\n",
       "      <td>151344.0</td>\n",
       "      <td>0.303030</td>\n",
       "      <td>0.090909</td>\n",
       "      <td>0.326515</td>\n",
       "      <td>-0.087879</td>\n",
       "      <td>869.0</td>\n",
       "    </tr>\n",
       "    <tr>\n",
       "      <th>2016-07-13</th>\n",
       "      <td>719.0</td>\n",
       "      <td>790.0</td>\n",
       "      <td>733.0</td>\n",
       "      <td>733.0</td>\n",
       "      <td>4231540.0</td>\n",
       "      <td>0.293182</td>\n",
       "      <td>0.337121</td>\n",
       "      <td>0.444805</td>\n",
       "      <td>-0.012987</td>\n",
       "      <td>790.0</td>\n",
       "    </tr>\n",
       "    <tr>\n",
       "      <th>2016-07-12</th>\n",
       "      <td>654.0</td>\n",
       "      <td>719.0</td>\n",
       "      <td>667.0</td>\n",
       "      <td>667.0</td>\n",
       "      <td>89570.0</td>\n",
       "      <td>0.315774</td>\n",
       "      <td>0.166369</td>\n",
       "      <td>0.343232</td>\n",
       "      <td>-0.007475</td>\n",
       "      <td>719.0</td>\n",
       "    </tr>\n",
       "    <tr>\n",
       "      <th>2016-07-11</th>\n",
       "      <td>595.0</td>\n",
       "      <td>654.0</td>\n",
       "      <td>606.0</td>\n",
       "      <td>606.0</td>\n",
       "      <td>685500.0</td>\n",
       "      <td>0.563333</td>\n",
       "      <td>0.000000</td>\n",
       "      <td>0.277381</td>\n",
       "      <td>-0.035714</td>\n",
       "      <td>654.0</td>\n",
       "    </tr>\n",
       "  </tbody>\n",
       "</table>\n",
       "<p>948 rows × 10 columns</p>\n",
       "</div>"
      ],
      "text/plain": [
       "             Open   High    Low    Qty    Turnover  economic-subjectivity  \\\n",
       "Date                                                                        \n",
       "2022-06-29  318.9  318.9  310.0  310.0   6127716.2               0.457500   \n",
       "2022-06-28  312.0  316.5  306.0  306.0   5707986.7               0.195556   \n",
       "2022-06-27  322.0  325.0  310.0  310.0  11125995.5               0.225000   \n",
       "2022-06-26  312.9  320.0  308.0  308.0  28577745.1               0.253704   \n",
       "2022-06-24  305.0  310.0  298.2  298.2  25399389.8               0.280303   \n",
       "...           ...    ...    ...    ...         ...                    ...   \n",
       "2016-07-17  869.0  955.0  886.0  886.0   2538590.0               0.277273   \n",
       "2016-07-14  790.0  869.0  805.0  805.0    151344.0               0.303030   \n",
       "2016-07-13  719.0  790.0  733.0  733.0   4231540.0               0.293182   \n",
       "2016-07-12  654.0  719.0  667.0  667.0     89570.0               0.315774   \n",
       "2016-07-11  595.0  654.0  606.0  606.0    685500.0               0.563333   \n",
       "\n",
       "            economic-polarity  political-subjectivity  political-polarity  \\\n",
       "Date                                                                        \n",
       "2022-06-29           0.017500                0.460909           -0.122727   \n",
       "2022-06-28           0.017778                0.425000            0.350000   \n",
       "2022-06-27          -0.012500                0.457792            0.169481   \n",
       "2022-06-26           0.038889                0.570909            0.241818   \n",
       "2022-06-24           0.042424                0.300000            0.128788   \n",
       "...                       ...                     ...                 ...   \n",
       "2016-07-17           0.218182                0.461818            0.004545   \n",
       "2016-07-14           0.090909                0.326515           -0.087879   \n",
       "2016-07-13           0.337121                0.444805           -0.012987   \n",
       "2016-07-12           0.166369                0.343232           -0.007475   \n",
       "2016-07-11           0.000000                0.277381           -0.035714   \n",
       "\n",
       "              Ltp  \n",
       "Date               \n",
       "2022-06-29  315.0  \n",
       "2022-06-28  313.0  \n",
       "2022-06-27  312.0  \n",
       "2022-06-26  320.0  \n",
       "2022-06-24  307.0  \n",
       "...           ...  \n",
       "2016-07-17  955.0  \n",
       "2016-07-14  869.0  \n",
       "2016-07-13  790.0  \n",
       "2016-07-12  719.0  \n",
       "2016-07-11  654.0  \n",
       "\n",
       "[948 rows x 10 columns]"
      ]
     },
     "execution_count": 189,
     "metadata": {},
     "output_type": "execute_result"
    }
   ],
   "source": [
    "df"
   ]
  },
  {
   "cell_type": "code",
   "execution_count": 200,
   "metadata": {},
   "outputs": [],
   "source": [
    "predictions = pd.DataFrame({\"Predictions\": predict}, index=pd.date_range(start=df.index[0], periods=len(predict), freq=\"D\"))"
   ]
  },
  {
   "cell_type": "code",
   "execution_count": 196,
   "metadata": {},
   "outputs": [
    {
     "data": {
      "text/html": [
       "<div>\n",
       "<style scoped>\n",
       "    .dataframe tbody tr th:only-of-type {\n",
       "        vertical-align: middle;\n",
       "    }\n",
       "\n",
       "    .dataframe tbody tr th {\n",
       "        vertical-align: top;\n",
       "    }\n",
       "\n",
       "    .dataframe thead th {\n",
       "        text-align: right;\n",
       "    }\n",
       "</style>\n",
       "<table border=\"1\" class=\"dataframe\">\n",
       "  <thead>\n",
       "    <tr style=\"text-align: right;\">\n",
       "      <th></th>\n",
       "      <th>Predictions</th>\n",
       "    </tr>\n",
       "  </thead>\n",
       "  <tbody>\n",
       "    <tr>\n",
       "      <th>2022-06-29</th>\n",
       "      <td>943.845363</td>\n",
       "    </tr>\n",
       "    <tr>\n",
       "      <th>2022-06-30</th>\n",
       "      <td>321.732832</td>\n",
       "    </tr>\n",
       "    <tr>\n",
       "      <th>2022-07-01</th>\n",
       "      <td>418.180298</td>\n",
       "    </tr>\n",
       "    <tr>\n",
       "      <th>2022-07-02</th>\n",
       "      <td>292.437976</td>\n",
       "    </tr>\n",
       "    <tr>\n",
       "      <th>2022-07-03</th>\n",
       "      <td>348.704933</td>\n",
       "    </tr>\n",
       "    <tr>\n",
       "      <th>...</th>\n",
       "      <td>...</td>\n",
       "    </tr>\n",
       "    <tr>\n",
       "      <th>2022-09-27</th>\n",
       "      <td>311.092056</td>\n",
       "    </tr>\n",
       "    <tr>\n",
       "      <th>2022-09-28</th>\n",
       "      <td>293.761086</td>\n",
       "    </tr>\n",
       "    <tr>\n",
       "      <th>2022-09-29</th>\n",
       "      <td>471.301530</td>\n",
       "    </tr>\n",
       "    <tr>\n",
       "      <th>2022-09-30</th>\n",
       "      <td>391.471861</td>\n",
       "    </tr>\n",
       "    <tr>\n",
       "      <th>2022-10-01</th>\n",
       "      <td>404.360316</td>\n",
       "    </tr>\n",
       "  </tbody>\n",
       "</table>\n",
       "<p>95 rows × 1 columns</p>\n",
       "</div>"
      ],
      "text/plain": [
       "            Predictions\n",
       "2022-06-29   943.845363\n",
       "2022-06-30   321.732832\n",
       "2022-07-01   418.180298\n",
       "2022-07-02   292.437976\n",
       "2022-07-03   348.704933\n",
       "...                 ...\n",
       "2022-09-27   311.092056\n",
       "2022-09-28   293.761086\n",
       "2022-09-29   471.301530\n",
       "2022-09-30   391.471861\n",
       "2022-10-01   404.360316\n",
       "\n",
       "[95 rows x 1 columns]"
      ]
     },
     "execution_count": 196,
     "metadata": {},
     "output_type": "execute_result"
    }
   ],
   "source": [
    "predictions"
   ]
  },
  {
   "cell_type": "code",
   "execution_count": 188,
   "metadata": {},
   "outputs": [],
   "source": [
    "fivedays_df = pd.DataFrame(predictions[:5])"
   ]
  },
  {
   "cell_type": "code",
   "execution_count": 190,
   "metadata": {},
   "outputs": [
    {
     "data": {
      "text/html": [
       "<div>\n",
       "<style scoped>\n",
       "    .dataframe tbody tr th:only-of-type {\n",
       "        vertical-align: middle;\n",
       "    }\n",
       "\n",
       "    .dataframe tbody tr th {\n",
       "        vertical-align: top;\n",
       "    }\n",
       "\n",
       "    .dataframe thead th {\n",
       "        text-align: right;\n",
       "    }\n",
       "</style>\n",
       "<table border=\"1\" class=\"dataframe\">\n",
       "  <thead>\n",
       "    <tr style=\"text-align: right;\">\n",
       "      <th></th>\n",
       "      <th>Predictions</th>\n",
       "    </tr>\n",
       "  </thead>\n",
       "  <tbody>\n",
       "    <tr>\n",
       "      <th>2022-06-29</th>\n",
       "      <td>943.845363</td>\n",
       "    </tr>\n",
       "    <tr>\n",
       "      <th>2022-06-30</th>\n",
       "      <td>321.732832</td>\n",
       "    </tr>\n",
       "    <tr>\n",
       "      <th>2022-07-01</th>\n",
       "      <td>418.180298</td>\n",
       "    </tr>\n",
       "    <tr>\n",
       "      <th>2022-07-02</th>\n",
       "      <td>292.437976</td>\n",
       "    </tr>\n",
       "    <tr>\n",
       "      <th>2022-07-03</th>\n",
       "      <td>348.704933</td>\n",
       "    </tr>\n",
       "  </tbody>\n",
       "</table>\n",
       "</div>"
      ],
      "text/plain": [
       "            Predictions\n",
       "2022-06-29   943.845363\n",
       "2022-06-30   321.732832\n",
       "2022-07-01   418.180298\n",
       "2022-07-02   292.437976\n",
       "2022-07-03   348.704933"
      ]
     },
     "execution_count": 190,
     "metadata": {},
     "output_type": "execute_result"
    }
   ],
   "source": [
    "fivedays_df"
   ]
  },
  {
   "cell_type": "code",
   "execution_count": 208,
   "metadata": {},
   "outputs": [],
   "source": [
    "buy_price = min(fivedays_df[\"Predictions\"])\n",
    "sell_price = max(fivedays_df[\"Predictions\"])"
   ]
  },
  {
   "cell_type": "code",
   "execution_count": 209,
   "metadata": {},
   "outputs": [],
   "source": [
    "fivedays_buy = fivedays_df.loc[fivedays_df[\"Predictions\"] == buy_price]\n",
    "fivedays_sell = fivedays_df.loc[fivedays_df[\"Predictions\"] == sell_price]"
   ]
  },
  {
   "cell_type": "code",
   "execution_count": 210,
   "metadata": {},
   "outputs": [
    {
     "name": "stdout",
     "output_type": "stream",
     "text": [
      "Buy price and date\n",
      "            Predictions\n",
      "2022-07-02   292.437976\n",
      "Sell price and date\n",
      "            Predictions\n",
      "2022-06-29   943.845363\n"
     ]
    },
    {
     "data": {
      "image/png": "[encoded data removed]",
      "text/plain": [
       "<Figure size 720x360 with 1 Axes>"
      ]
     },
     "metadata": {
      "needs_background": "light"
     },
     "output_type": "display_data"
    }
   ],
   "source": [
    "print(\"Buy price and date\")\n",
    "print(fivedays_buy)\n",
    "print(\"Sell price and date\")\n",
    "print(fivedays_sell)\n",
    "fivedays_df[\"Predictions\"].plot(figsize=(10, 5), title=\"Forecast for the next 5 days\", color=\"blue\")\n",
    "plt.xlabel(\"Date\")\n",
    "plt.ylabel(\"Price\")\n",
    "plt.legend()\n",
    "plt.show()"
   ]
  },
  {
   "cell_type": "code",
   "execution_count": null,
   "metadata": {},
   "outputs": [],
   "source": []
  }
 ],
 "metadata": {
  "kernelspec": {
   "display_name": "Python 3",
   "language": "python",
   "name": "python3"
  },
  "language_info": {
   "codemirror_mode": {
    "name": "ipython",
    "version": 3
   },
   "file_extension": ".py",
   "mimetype": "text/x-python",
   "name": "python",
   "nbconvert_exporter": "python",
   "pygments_lexer": "ipython3",
   "version": "3.9.1"
  }
 },
 "nbformat": 4,
 "nbformat_minor": 4
}
