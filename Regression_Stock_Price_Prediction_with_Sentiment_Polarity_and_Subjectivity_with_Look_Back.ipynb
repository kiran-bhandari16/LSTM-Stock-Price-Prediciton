{
  "nbformat": 4,
  "nbformat_minor": 0,
  "metadata": {
    "colab": {
      "provenance": [],
      "collapsed_sections": [],
      "authorship_tag": "ABX9TyPSu2twEPFyW1WHXogPfT6y",
      "include_colab_link": true
    },
    "kernelspec": {
      "name": "python3",
      "display_name": "Python 3"
    },
    "language_info": {
      "name": "python"
    }
  },
  "cells": [
    {
      "cell_type": "markdown",
      "metadata": {
        "id": "view-in-github",
        "colab_type": "text"
      },
      "source": [
        "<a href=\"https://colab.research.google.com/github/kiran-bhandari16/LSTM-Stock-Price-Prediciton/blob/main/Regression_Stock_Price_Prediction_with_Sentiment_Polarity_and_Subjectivity_with_Look_Back.ipynb\" target=\"_parent\"><img src=\"https://colab.research.google.com/assets/colab-badge.svg\" alt=\"Open In Colab\"/></a>"
      ]
    },
    {
      "cell_type": "code",
      "execution_count": 157,
      "metadata": {
        "id": "2etcWxlDpgyB"
      },
      "outputs": [],
      "source": [
        "# Import libraries\n",
        "import pandas as pd\n",
        "import numpy as np\n",
        "from numpy import arange\n",
        "import matplotlib.pyplot as plt\n",
        "import seaborn as sns\n",
        "\n",
        "import nltk\n",
        "from textblob import TextBlob\n",
        "\n",
        "import warnings\n",
        "warnings.filterwarnings('ignore')\n",
        "\n",
        "from pandas import read_csv\n",
        "from sklearn import metrics\n",
        "from sklearn.model_selection import train_test_split\n",
        "from sklearn.model_selection import KFold, StratifiedKFold, cross_val_score\n",
        "from sklearn import linear_model\n",
        "from sklearn import ensemble\n",
        "\n",
        "from sklearn.linear_model import LinearRegression\n",
        "from sklearn.linear_model import Ridge\n",
        "from sklearn.neighbors import KNeighborsRegressor\n",
        "from sklearn.neural_network import MLPRegressor\n",
        "from sklearn.svm import SVR\n",
        "from sklearn.ensemble import RandomForestRegressor\n",
        "\n",
        "from sklearn.preprocessing import StandardScaler\n",
        "from sklearn.model_selection import RandomizedSearchCV, GridSearchCV\n"
      ]
    },
    {
      "cell_type": "code",
      "source": [
        "from google.colab import files\n",
        "uploaded = files.upload()"
      ],
      "metadata": {
        "colab": {
          "base_uri": "https://localhost:8080/",
          "height": 39
        },
        "id": "knY_-OZKphox",
        "outputId": "dec99595-faef-4301-edf4-d9e5d0080060"
      },
      "execution_count": 31,
      "outputs": [
        {
          "output_type": "display_data",
          "data": {
            "text/plain": [
              "<IPython.core.display.HTML object>"
            ],
            "text/html": [
              "\n",
              "     <input type=\"file\" id=\"files-2e992d94-259e-4a8c-ac41-ca1a7c71d054\" name=\"files[]\" multiple disabled\n",
              "        style=\"border:none\" />\n",
              "     <output id=\"result-2e992d94-259e-4a8c-ac41-ca1a7c71d054\">\n",
              "      Upload widget is only available when the cell has been executed in the\n",
              "      current browser session. Please rerun this cell to enable.\n",
              "      </output>\n",
              "      <script>// Copyright 2017 Google LLC\n",
              "//\n",
              "// Licensed under the Apache License, Version 2.0 (the \"License\");\n",
              "// you may not use this file except in compliance with the License.\n",
              "// You may obtain a copy of the License at\n",
              "//\n",
              "//      http://www.apache.org/licenses/LICENSE-2.0\n",
              "//\n",
              "// Unless required by applicable law or agreed to in writing, software\n",
              "// distributed under the License is distributed on an \"AS IS\" BASIS,\n",
              "// WITHOUT WARRANTIES OR CONDITIONS OF ANY KIND, either express or implied.\n",
              "// See the License for the specific language governing permissions and\n",
              "// limitations under the License.\n",
              "\n",
              "/**\n",
              " * @fileoverview Helpers for google.colab Python module.\n",
              " */\n",
              "(function(scope) {\n",
              "function span(text, styleAttributes = {}) {\n",
              "  const element = document.createElement('span');\n",
              "  element.textContent = text;\n",
              "  for (const key of Object.keys(styleAttributes)) {\n",
              "    element.style[key] = styleAttributes[key];\n",
              "  }\n",
              "  return element;\n",
              "}\n",
              "\n",
              "// Max number of bytes which will be uploaded at a time.\n",
              "const MAX_PAYLOAD_SIZE = 100 * 1024;\n",
              "\n",
              "function _uploadFiles(inputId, outputId) {\n",
              "  const steps = uploadFilesStep(inputId, outputId);\n",
              "  const outputElement = document.getElementById(outputId);\n",
              "  // Cache steps on the outputElement to make it available for the next call\n",
              "  // to uploadFilesContinue from Python.\n",
              "  outputElement.steps = steps;\n",
              "\n",
              "  return _uploadFilesContinue(outputId);\n",
              "}\n",
              "\n",
              "// This is roughly an async generator (not supported in the browser yet),\n",
              "// where there are multiple asynchronous steps and the Python side is going\n",
              "// to poll for completion of each step.\n",
              "// This uses a Promise to block the python side on completion of each step,\n",
              "// then passes the result of the previous step as the input to the next step.\n",
              "function _uploadFilesContinue(outputId) {\n",
              "  const outputElement = document.getElementById(outputId);\n",
              "  const steps = outputElement.steps;\n",
              "\n",
              "  const next = steps.next(outputElement.lastPromiseValue);\n",
              "  return Promise.resolve(next.value.promise).then((value) => {\n",
              "    // Cache the last promise value to make it available to the next\n",
              "    // step of the generator.\n",
              "    outputElement.lastPromiseValue = value;\n",
              "    return next.value.response;\n",
              "  });\n",
              "}\n",
              "\n",
              "/**\n",
              " * Generator function which is called between each async step of the upload\n",
              " * process.\n",
              " * @param {string} inputId Element ID of the input file picker element.\n",
              " * @param {string} outputId Element ID of the output display.\n",
              " * @return {!Iterable<!Object>} Iterable of next steps.\n",
              " */\n",
              "function* uploadFilesStep(inputId, outputId) {\n",
              "  const inputElement = document.getElementById(inputId);\n",
              "  inputElement.disabled = false;\n",
              "\n",
              "  const outputElement = document.getElementById(outputId);\n",
              "  outputElement.innerHTML = '';\n",
              "\n",
              "  const pickedPromise = new Promise((resolve) => {\n",
              "    inputElement.addEventListener('change', (e) => {\n",
              "      resolve(e.target.files);\n",
              "    });\n",
              "  });\n",
              "\n",
              "  const cancel = document.createElement('button');\n",
              "  inputElement.parentElement.appendChild(cancel);\n",
              "  cancel.textContent = 'Cancel upload';\n",
              "  const cancelPromise = new Promise((resolve) => {\n",
              "    cancel.onclick = () => {\n",
              "      resolve(null);\n",
              "    };\n",
              "  });\n",
              "\n",
              "  // Wait for the user to pick the files.\n",
              "  const files = yield {\n",
              "    promise: Promise.race([pickedPromise, cancelPromise]),\n",
              "    response: {\n",
              "      action: 'starting',\n",
              "    }\n",
              "  };\n",
              "\n",
              "  cancel.remove();\n",
              "\n",
              "  // Disable the input element since further picks are not allowed.\n",
              "  inputElement.disabled = true;\n",
              "\n",
              "  if (!files) {\n",
              "    return {\n",
              "      response: {\n",
              "        action: 'complete',\n",
              "      }\n",
              "    };\n",
              "  }\n",
              "\n",
              "  for (const file of files) {\n",
              "    const li = document.createElement('li');\n",
              "    li.append(span(file.name, {fontWeight: 'bold'}));\n",
              "    li.append(span(\n",
              "        `(${file.type || 'n/a'}) - ${file.size} bytes, ` +\n",
              "        `last modified: ${\n",
              "            file.lastModifiedDate ? file.lastModifiedDate.toLocaleDateString() :\n",
              "                                    'n/a'} - `));\n",
              "    const percent = span('0% done');\n",
              "    li.appendChild(percent);\n",
              "\n",
              "    outputElement.appendChild(li);\n",
              "\n",
              "    const fileDataPromise = new Promise((resolve) => {\n",
              "      const reader = new FileReader();\n",
              "      reader.onload = (e) => {\n",
              "        resolve(e.target.result);\n",
              "      };\n",
              "      reader.readAsArrayBuffer(file);\n",
              "    });\n",
              "    // Wait for the data to be ready.\n",
              "    let fileData = yield {\n",
              "      promise: fileDataPromise,\n",
              "      response: {\n",
              "        action: 'continue',\n",
              "      }\n",
              "    };\n",
              "\n",
              "    // Use a chunked sending to avoid message size limits. See b/62115660.\n",
              "    let position = 0;\n",
              "    do {\n",
              "      const length = Math.min(fileData.byteLength - position, MAX_PAYLOAD_SIZE);\n",
              "      const chunk = new Uint8Array(fileData, position, length);\n",
              "      position += length;\n",
              "\n",
              "      const base64 = btoa(String.fromCharCode.apply(null, chunk));\n",
              "      yield {\n",
              "        response: {\n",
              "          action: 'append',\n",
              "          file: file.name,\n",
              "          data: base64,\n",
              "        },\n",
              "      };\n",
              "\n",
              "      let percentDone = fileData.byteLength === 0 ?\n",
              "          100 :\n",
              "          Math.round((position / fileData.byteLength) * 100);\n",
              "      percent.textContent = `${percentDone}% done`;\n",
              "\n",
              "    } while (position < fileData.byteLength);\n",
              "  }\n",
              "\n",
              "  // All done.\n",
              "  yield {\n",
              "    response: {\n",
              "      action: 'complete',\n",
              "    }\n",
              "  };\n",
              "}\n",
              "\n",
              "scope.google = scope.google || {};\n",
              "scope.google.colab = scope.google.colab || {};\n",
              "scope.google.colab._files = {\n",
              "  _uploadFiles,\n",
              "  _uploadFilesContinue,\n",
              "};\n",
              "})(self);\n",
              "</script> "
            ]
          },
          "metadata": {}
        }
      ]
    },
    {
      "cell_type": "code",
      "source": [
        "df=pd.read_csv(\"Final-Dataset-for-Stock-Price-Prediction.csv\",index_col=0)\n",
        "df.head()"
      ],
      "metadata": {
        "colab": {
          "base_uri": "https://localhost:8080/",
          "height": 386
        },
        "id": "wp3I5mfIrtcU",
        "outputId": "5b6771f6-2c9b-4008-c122-d90930eb5378"
      },
      "execution_count": 65,
      "outputs": [
        {
          "output_type": "execute_result",
          "data": {
            "text/plain": [
              "             Open   High    Low    Qty    Turnover  economic-subjectivity  \\\n",
              "Date                                                                        \n",
              "2022-06-29  318.9  318.9  310.0  310.0   6127716.2               0.457500   \n",
              "2022-06-28  312.0  316.5  306.0  306.0   5707986.7               0.195556   \n",
              "2022-06-27  322.0  325.0  310.0  310.0  11125995.5               0.225000   \n",
              "2022-06-26  312.9  320.0  308.0  308.0  28577745.1               0.253704   \n",
              "2022-06-24  305.0  310.0  298.2  298.2  25399389.8               0.280303   \n",
              "\n",
              "            economic-polarity  political-subjectivity  political-polarity  \\\n",
              "Date                                                                        \n",
              "2022-06-29           0.017500                0.460909           -0.122727   \n",
              "2022-06-28           0.017778                0.425000            0.350000   \n",
              "2022-06-27          -0.012500                0.457792            0.169481   \n",
              "2022-06-26           0.038889                0.570909            0.241818   \n",
              "2022-06-24           0.042424                0.300000            0.128788   \n",
              "\n",
              "              Ltp  % Change  \n",
              "Date                         \n",
              "2022-06-29  315.0      0.64  \n",
              "2022-06-28  313.0      0.32  \n",
              "2022-06-27  312.0     -2.50  \n",
              "2022-06-26  320.0      4.23  \n",
              "2022-06-24  307.0     -0.97  "
            ],
            "text/html": [
              "\n",
              "  <div id=\"df-74f734b9-d901-49d6-aadf-fc2219d27fd4\">\n",
              "    <div class=\"colab-df-container\">\n",
              "      <div>\n",
              "<style scoped>\n",
              "    .dataframe tbody tr th:only-of-type {\n",
              "        vertical-align: middle;\n",
              "    }\n",
              "\n",
              "    .dataframe tbody tr th {\n",
              "        vertical-align: top;\n",
              "    }\n",
              "\n",
              "    .dataframe thead th {\n",
              "        text-align: right;\n",
              "    }\n",
              "</style>\n",
              "<table border=\"1\" class=\"dataframe\">\n",
              "  <thead>\n",
              "    <tr style=\"text-align: right;\">\n",
              "      <th></th>\n",
              "      <th>Open</th>\n",
              "      <th>High</th>\n",
              "      <th>Low</th>\n",
              "      <th>Qty</th>\n",
              "      <th>Turnover</th>\n",
              "      <th>economic-subjectivity</th>\n",
              "      <th>economic-polarity</th>\n",
              "      <th>political-subjectivity</th>\n",
              "      <th>political-polarity</th>\n",
              "      <th>Ltp</th>\n",
              "      <th>% Change</th>\n",
              "    </tr>\n",
              "    <tr>\n",
              "      <th>Date</th>\n",
              "      <th></th>\n",
              "      <th></th>\n",
              "      <th></th>\n",
              "      <th></th>\n",
              "      <th></th>\n",
              "      <th></th>\n",
              "      <th></th>\n",
              "      <th></th>\n",
              "      <th></th>\n",
              "      <th></th>\n",
              "      <th></th>\n",
              "    </tr>\n",
              "  </thead>\n",
              "  <tbody>\n",
              "    <tr>\n",
              "      <th>2022-06-29</th>\n",
              "      <td>318.9</td>\n",
              "      <td>318.9</td>\n",
              "      <td>310.0</td>\n",
              "      <td>310.0</td>\n",
              "      <td>6127716.2</td>\n",
              "      <td>0.457500</td>\n",
              "      <td>0.017500</td>\n",
              "      <td>0.460909</td>\n",
              "      <td>-0.122727</td>\n",
              "      <td>315.0</td>\n",
              "      <td>0.64</td>\n",
              "    </tr>\n",
              "    <tr>\n",
              "      <th>2022-06-28</th>\n",
              "      <td>312.0</td>\n",
              "      <td>316.5</td>\n",
              "      <td>306.0</td>\n",
              "      <td>306.0</td>\n",
              "      <td>5707986.7</td>\n",
              "      <td>0.195556</td>\n",
              "      <td>0.017778</td>\n",
              "      <td>0.425000</td>\n",
              "      <td>0.350000</td>\n",
              "      <td>313.0</td>\n",
              "      <td>0.32</td>\n",
              "    </tr>\n",
              "    <tr>\n",
              "      <th>2022-06-27</th>\n",
              "      <td>322.0</td>\n",
              "      <td>325.0</td>\n",
              "      <td>310.0</td>\n",
              "      <td>310.0</td>\n",
              "      <td>11125995.5</td>\n",
              "      <td>0.225000</td>\n",
              "      <td>-0.012500</td>\n",
              "      <td>0.457792</td>\n",
              "      <td>0.169481</td>\n",
              "      <td>312.0</td>\n",
              "      <td>-2.50</td>\n",
              "    </tr>\n",
              "    <tr>\n",
              "      <th>2022-06-26</th>\n",
              "      <td>312.9</td>\n",
              "      <td>320.0</td>\n",
              "      <td>308.0</td>\n",
              "      <td>308.0</td>\n",
              "      <td>28577745.1</td>\n",
              "      <td>0.253704</td>\n",
              "      <td>0.038889</td>\n",
              "      <td>0.570909</td>\n",
              "      <td>0.241818</td>\n",
              "      <td>320.0</td>\n",
              "      <td>4.23</td>\n",
              "    </tr>\n",
              "    <tr>\n",
              "      <th>2022-06-24</th>\n",
              "      <td>305.0</td>\n",
              "      <td>310.0</td>\n",
              "      <td>298.2</td>\n",
              "      <td>298.2</td>\n",
              "      <td>25399389.8</td>\n",
              "      <td>0.280303</td>\n",
              "      <td>0.042424</td>\n",
              "      <td>0.300000</td>\n",
              "      <td>0.128788</td>\n",
              "      <td>307.0</td>\n",
              "      <td>-0.97</td>\n",
              "    </tr>\n",
              "  </tbody>\n",
              "</table>\n",
              "</div>\n",
              "      <button class=\"colab-df-convert\" onclick=\"convertToInteractive('df-74f734b9-d901-49d6-aadf-fc2219d27fd4')\"\n",
              "              title=\"Convert this dataframe to an interactive table.\"\n",
              "              style=\"display:none;\">\n",
              "        \n",
              "  <svg xmlns=\"http://www.w3.org/2000/svg\" height=\"24px\"viewBox=\"0 0 24 24\"\n",
              "       width=\"24px\">\n",
              "    <path d=\"M0 0h24v24H0V0z\" fill=\"none\"/>\n",
              "    <path d=\"M18.56 5.44l.94 2.06.94-2.06 2.06-.94-2.06-.94-.94-2.06-.94 2.06-2.06.94zm-11 1L8.5 8.5l.94-2.06 2.06-.94-2.06-.94L8.5 2.5l-.94 2.06-2.06.94zm10 10l.94 2.06.94-2.06 2.06-.94-2.06-.94-.94-2.06-.94 2.06-2.06.94z\"/><path d=\"M17.41 7.96l-1.37-1.37c-.4-.4-.92-.59-1.43-.59-.52 0-1.04.2-1.43.59L10.3 9.45l-7.72 7.72c-.78.78-.78 2.05 0 2.83L4 21.41c.39.39.9.59 1.41.59.51 0 1.02-.2 1.41-.59l7.78-7.78 2.81-2.81c.8-.78.8-2.07 0-2.86zM5.41 20L4 18.59l7.72-7.72 1.47 1.35L5.41 20z\"/>\n",
              "  </svg>\n",
              "      </button>\n",
              "      \n",
              "  <style>\n",
              "    .colab-df-container {\n",
              "      display:flex;\n",
              "      flex-wrap:wrap;\n",
              "      gap: 12px;\n",
              "    }\n",
              "\n",
              "    .colab-df-convert {\n",
              "      background-color: #E8F0FE;\n",
              "      border: none;\n",
              "      border-radius: 50%;\n",
              "      cursor: pointer;\n",
              "      display: none;\n",
              "      fill: #1967D2;\n",
              "      height: 32px;\n",
              "      padding: 0 0 0 0;\n",
              "      width: 32px;\n",
              "    }\n",
              "\n",
              "    .colab-df-convert:hover {\n",
              "      background-color: #E2EBFA;\n",
              "      box-shadow: 0px 1px 2px rgba(60, 64, 67, 0.3), 0px 1px 3px 1px rgba(60, 64, 67, 0.15);\n",
              "      fill: #174EA6;\n",
              "    }\n",
              "\n",
              "    [theme=dark] .colab-df-convert {\n",
              "      background-color: #3B4455;\n",
              "      fill: #D2E3FC;\n",
              "    }\n",
              "\n",
              "    [theme=dark] .colab-df-convert:hover {\n",
              "      background-color: #434B5C;\n",
              "      box-shadow: 0px 1px 3px 1px rgba(0, 0, 0, 0.15);\n",
              "      filter: drop-shadow(0px 1px 2px rgba(0, 0, 0, 0.3));\n",
              "      fill: #FFFFFF;\n",
              "    }\n",
              "  </style>\n",
              "\n",
              "      <script>\n",
              "        const buttonEl =\n",
              "          document.querySelector('#df-74f734b9-d901-49d6-aadf-fc2219d27fd4 button.colab-df-convert');\n",
              "        buttonEl.style.display =\n",
              "          google.colab.kernel.accessAllowed ? 'block' : 'none';\n",
              "\n",
              "        async function convertToInteractive(key) {\n",
              "          const element = document.querySelector('#df-74f734b9-d901-49d6-aadf-fc2219d27fd4');\n",
              "          const dataTable =\n",
              "            await google.colab.kernel.invokeFunction('convertToInteractive',\n",
              "                                                     [key], {});\n",
              "          if (!dataTable) return;\n",
              "\n",
              "          const docLinkHtml = 'Like what you see? Visit the ' +\n",
              "            '<a target=\"_blank\" href=https://colab.research.google.com/notebooks/data_table.ipynb>data table notebook</a>'\n",
              "            + ' to learn more about interactive tables.';\n",
              "          element.innerHTML = '';\n",
              "          dataTable['output_type'] = 'display_data';\n",
              "          await google.colab.output.renderOutput(dataTable, element);\n",
              "          const docLink = document.createElement('div');\n",
              "          docLink.innerHTML = docLinkHtml;\n",
              "          element.appendChild(docLink);\n",
              "        }\n",
              "      </script>\n",
              "    </div>\n",
              "  </div>\n",
              "  "
            ]
          },
          "metadata": {},
          "execution_count": 65
        }
      ]
    },
    {
      "cell_type": "code",
      "source": [
        "df"
      ],
      "metadata": {
        "colab": {
          "base_uri": "https://localhost:8080/",
          "height": 690
        },
        "id": "8bt6qKTktovm",
        "outputId": "4b1974af-85d2-41a0-e234-3a9513570e2f"
      },
      "execution_count": 66,
      "outputs": [
        {
          "output_type": "execute_result",
          "data": {
            "text/plain": [
              "             Open   High    Low    Qty    Turnover  economic-subjectivity  \\\n",
              "Date                                                                        \n",
              "2022-06-29  318.9  318.9  310.0  310.0   6127716.2               0.457500   \n",
              "2022-06-28  312.0  316.5  306.0  306.0   5707986.7               0.195556   \n",
              "2022-06-27  322.0  325.0  310.0  310.0  11125995.5               0.225000   \n",
              "2022-06-26  312.9  320.0  308.0  308.0  28577745.1               0.253704   \n",
              "2022-06-24  305.0  310.0  298.2  298.2  25399389.8               0.280303   \n",
              "...           ...    ...    ...    ...         ...                    ...   \n",
              "2016-07-17  869.0  955.0  886.0  886.0   2538590.0               0.277273   \n",
              "2016-07-14  790.0  869.0  805.0  805.0    151344.0               0.303030   \n",
              "2016-07-13  719.0  790.0  733.0  733.0   4231540.0               0.293182   \n",
              "2016-07-12  654.0  719.0  667.0  667.0     89570.0               0.315774   \n",
              "2016-07-11  595.0  654.0  606.0  606.0    685500.0               0.563333   \n",
              "\n",
              "            economic-polarity  political-subjectivity  political-polarity  \\\n",
              "Date                                                                        \n",
              "2022-06-29           0.017500                0.460909           -0.122727   \n",
              "2022-06-28           0.017778                0.425000            0.350000   \n",
              "2022-06-27          -0.012500                0.457792            0.169481   \n",
              "2022-06-26           0.038889                0.570909            0.241818   \n",
              "2022-06-24           0.042424                0.300000            0.128788   \n",
              "...                       ...                     ...                 ...   \n",
              "2016-07-17           0.218182                0.461818            0.004545   \n",
              "2016-07-14           0.090909                0.326515           -0.087879   \n",
              "2016-07-13           0.337121                0.444805           -0.012987   \n",
              "2016-07-12           0.166369                0.343232           -0.007475   \n",
              "2016-07-11           0.000000                0.277381           -0.035714   \n",
              "\n",
              "              Ltp  % Change  \n",
              "Date                         \n",
              "2022-06-29  315.0      0.64  \n",
              "2022-06-28  313.0      0.32  \n",
              "2022-06-27  312.0     -2.50  \n",
              "2022-06-26  320.0      4.23  \n",
              "2022-06-24  307.0     -0.97  \n",
              "...           ...       ...  \n",
              "2016-07-17  955.0      0.00  \n",
              "2016-07-14  869.0      0.00  \n",
              "2016-07-13  790.0      0.00  \n",
              "2016-07-12  719.0      0.00  \n",
              "2016-07-11  654.0      0.00  \n",
              "\n",
              "[948 rows x 11 columns]"
            ],
            "text/html": [
              "\n",
              "  <div id=\"df-10c2d0cf-b764-4559-8aa6-07c23b9e975a\">\n",
              "    <div class=\"colab-df-container\">\n",
              "      <div>\n",
              "<style scoped>\n",
              "    .dataframe tbody tr th:only-of-type {\n",
              "        vertical-align: middle;\n",
              "    }\n",
              "\n",
              "    .dataframe tbody tr th {\n",
              "        vertical-align: top;\n",
              "    }\n",
              "\n",
              "    .dataframe thead th {\n",
              "        text-align: right;\n",
              "    }\n",
              "</style>\n",
              "<table border=\"1\" class=\"dataframe\">\n",
              "  <thead>\n",
              "    <tr style=\"text-align: right;\">\n",
              "      <th></th>\n",
              "      <th>Open</th>\n",
              "      <th>High</th>\n",
              "      <th>Low</th>\n",
              "      <th>Qty</th>\n",
              "      <th>Turnover</th>\n",
              "      <th>economic-subjectivity</th>\n",
              "      <th>economic-polarity</th>\n",
              "      <th>political-subjectivity</th>\n",
              "      <th>political-polarity</th>\n",
              "      <th>Ltp</th>\n",
              "      <th>% Change</th>\n",
              "    </tr>\n",
              "    <tr>\n",
              "      <th>Date</th>\n",
              "      <th></th>\n",
              "      <th></th>\n",
              "      <th></th>\n",
              "      <th></th>\n",
              "      <th></th>\n",
              "      <th></th>\n",
              "      <th></th>\n",
              "      <th></th>\n",
              "      <th></th>\n",
              "      <th></th>\n",
              "      <th></th>\n",
              "    </tr>\n",
              "  </thead>\n",
              "  <tbody>\n",
              "    <tr>\n",
              "      <th>2022-06-29</th>\n",
              "      <td>318.9</td>\n",
              "      <td>318.9</td>\n",
              "      <td>310.0</td>\n",
              "      <td>310.0</td>\n",
              "      <td>6127716.2</td>\n",
              "      <td>0.457500</td>\n",
              "      <td>0.017500</td>\n",
              "      <td>0.460909</td>\n",
              "      <td>-0.122727</td>\n",
              "      <td>315.0</td>\n",
              "      <td>0.64</td>\n",
              "    </tr>\n",
              "    <tr>\n",
              "      <th>2022-06-28</th>\n",
              "      <td>312.0</td>\n",
              "      <td>316.5</td>\n",
              "      <td>306.0</td>\n",
              "      <td>306.0</td>\n",
              "      <td>5707986.7</td>\n",
              "      <td>0.195556</td>\n",
              "      <td>0.017778</td>\n",
              "      <td>0.425000</td>\n",
              "      <td>0.350000</td>\n",
              "      <td>313.0</td>\n",
              "      <td>0.32</td>\n",
              "    </tr>\n",
              "    <tr>\n",
              "      <th>2022-06-27</th>\n",
              "      <td>322.0</td>\n",
              "      <td>325.0</td>\n",
              "      <td>310.0</td>\n",
              "      <td>310.0</td>\n",
              "      <td>11125995.5</td>\n",
              "      <td>0.225000</td>\n",
              "      <td>-0.012500</td>\n",
              "      <td>0.457792</td>\n",
              "      <td>0.169481</td>\n",
              "      <td>312.0</td>\n",
              "      <td>-2.50</td>\n",
              "    </tr>\n",
              "    <tr>\n",
              "      <th>2022-06-26</th>\n",
              "      <td>312.9</td>\n",
              "      <td>320.0</td>\n",
              "      <td>308.0</td>\n",
              "      <td>308.0</td>\n",
              "      <td>28577745.1</td>\n",
              "      <td>0.253704</td>\n",
              "      <td>0.038889</td>\n",
              "      <td>0.570909</td>\n",
              "      <td>0.241818</td>\n",
              "      <td>320.0</td>\n",
              "      <td>4.23</td>\n",
              "    </tr>\n",
              "    <tr>\n",
              "      <th>2022-06-24</th>\n",
              "      <td>305.0</td>\n",
              "      <td>310.0</td>\n",
              "      <td>298.2</td>\n",
              "      <td>298.2</td>\n",
              "      <td>25399389.8</td>\n",
              "      <td>0.280303</td>\n",
              "      <td>0.042424</td>\n",
              "      <td>0.300000</td>\n",
              "      <td>0.128788</td>\n",
              "      <td>307.0</td>\n",
              "      <td>-0.97</td>\n",
              "    </tr>\n",
              "    <tr>\n",
              "      <th>...</th>\n",
              "      <td>...</td>\n",
              "      <td>...</td>\n",
              "      <td>...</td>\n",
              "      <td>...</td>\n",
              "      <td>...</td>\n",
              "      <td>...</td>\n",
              "      <td>...</td>\n",
              "      <td>...</td>\n",
              "      <td>...</td>\n",
              "      <td>...</td>\n",
              "      <td>...</td>\n",
              "    </tr>\n",
              "    <tr>\n",
              "      <th>2016-07-17</th>\n",
              "      <td>869.0</td>\n",
              "      <td>955.0</td>\n",
              "      <td>886.0</td>\n",
              "      <td>886.0</td>\n",
              "      <td>2538590.0</td>\n",
              "      <td>0.277273</td>\n",
              "      <td>0.218182</td>\n",
              "      <td>0.461818</td>\n",
              "      <td>0.004545</td>\n",
              "      <td>955.0</td>\n",
              "      <td>0.00</td>\n",
              "    </tr>\n",
              "    <tr>\n",
              "      <th>2016-07-14</th>\n",
              "      <td>790.0</td>\n",
              "      <td>869.0</td>\n",
              "      <td>805.0</td>\n",
              "      <td>805.0</td>\n",
              "      <td>151344.0</td>\n",
              "      <td>0.303030</td>\n",
              "      <td>0.090909</td>\n",
              "      <td>0.326515</td>\n",
              "      <td>-0.087879</td>\n",
              "      <td>869.0</td>\n",
              "      <td>0.00</td>\n",
              "    </tr>\n",
              "    <tr>\n",
              "      <th>2016-07-13</th>\n",
              "      <td>719.0</td>\n",
              "      <td>790.0</td>\n",
              "      <td>733.0</td>\n",
              "      <td>733.0</td>\n",
              "      <td>4231540.0</td>\n",
              "      <td>0.293182</td>\n",
              "      <td>0.337121</td>\n",
              "      <td>0.444805</td>\n",
              "      <td>-0.012987</td>\n",
              "      <td>790.0</td>\n",
              "      <td>0.00</td>\n",
              "    </tr>\n",
              "    <tr>\n",
              "      <th>2016-07-12</th>\n",
              "      <td>654.0</td>\n",
              "      <td>719.0</td>\n",
              "      <td>667.0</td>\n",
              "      <td>667.0</td>\n",
              "      <td>89570.0</td>\n",
              "      <td>0.315774</td>\n",
              "      <td>0.166369</td>\n",
              "      <td>0.343232</td>\n",
              "      <td>-0.007475</td>\n",
              "      <td>719.0</td>\n",
              "      <td>0.00</td>\n",
              "    </tr>\n",
              "    <tr>\n",
              "      <th>2016-07-11</th>\n",
              "      <td>595.0</td>\n",
              "      <td>654.0</td>\n",
              "      <td>606.0</td>\n",
              "      <td>606.0</td>\n",
              "      <td>685500.0</td>\n",
              "      <td>0.563333</td>\n",
              "      <td>0.000000</td>\n",
              "      <td>0.277381</td>\n",
              "      <td>-0.035714</td>\n",
              "      <td>654.0</td>\n",
              "      <td>0.00</td>\n",
              "    </tr>\n",
              "  </tbody>\n",
              "</table>\n",
              "<p>948 rows × 11 columns</p>\n",
              "</div>\n",
              "      <button class=\"colab-df-convert\" onclick=\"convertToInteractive('df-10c2d0cf-b764-4559-8aa6-07c23b9e975a')\"\n",
              "              title=\"Convert this dataframe to an interactive table.\"\n",
              "              style=\"display:none;\">\n",
              "        \n",
              "  <svg xmlns=\"http://www.w3.org/2000/svg\" height=\"24px\"viewBox=\"0 0 24 24\"\n",
              "       width=\"24px\">\n",
              "    <path d=\"M0 0h24v24H0V0z\" fill=\"none\"/>\n",
              "    <path d=\"M18.56 5.44l.94 2.06.94-2.06 2.06-.94-2.06-.94-.94-2.06-.94 2.06-2.06.94zm-11 1L8.5 8.5l.94-2.06 2.06-.94-2.06-.94L8.5 2.5l-.94 2.06-2.06.94zm10 10l.94 2.06.94-2.06 2.06-.94-2.06-.94-.94-2.06-.94 2.06-2.06.94z\"/><path d=\"M17.41 7.96l-1.37-1.37c-.4-.4-.92-.59-1.43-.59-.52 0-1.04.2-1.43.59L10.3 9.45l-7.72 7.72c-.78.78-.78 2.05 0 2.83L4 21.41c.39.39.9.59 1.41.59.51 0 1.02-.2 1.41-.59l7.78-7.78 2.81-2.81c.8-.78.8-2.07 0-2.86zM5.41 20L4 18.59l7.72-7.72 1.47 1.35L5.41 20z\"/>\n",
              "  </svg>\n",
              "      </button>\n",
              "      \n",
              "  <style>\n",
              "    .colab-df-container {\n",
              "      display:flex;\n",
              "      flex-wrap:wrap;\n",
              "      gap: 12px;\n",
              "    }\n",
              "\n",
              "    .colab-df-convert {\n",
              "      background-color: #E8F0FE;\n",
              "      border: none;\n",
              "      border-radius: 50%;\n",
              "      cursor: pointer;\n",
              "      display: none;\n",
              "      fill: #1967D2;\n",
              "      height: 32px;\n",
              "      padding: 0 0 0 0;\n",
              "      width: 32px;\n",
              "    }\n",
              "\n",
              "    .colab-df-convert:hover {\n",
              "      background-color: #E2EBFA;\n",
              "      box-shadow: 0px 1px 2px rgba(60, 64, 67, 0.3), 0px 1px 3px 1px rgba(60, 64, 67, 0.15);\n",
              "      fill: #174EA6;\n",
              "    }\n",
              "\n",
              "    [theme=dark] .colab-df-convert {\n",
              "      background-color: #3B4455;\n",
              "      fill: #D2E3FC;\n",
              "    }\n",
              "\n",
              "    [theme=dark] .colab-df-convert:hover {\n",
              "      background-color: #434B5C;\n",
              "      box-shadow: 0px 1px 3px 1px rgba(0, 0, 0, 0.15);\n",
              "      filter: drop-shadow(0px 1px 2px rgba(0, 0, 0, 0.3));\n",
              "      fill: #FFFFFF;\n",
              "    }\n",
              "  </style>\n",
              "\n",
              "      <script>\n",
              "        const buttonEl =\n",
              "          document.querySelector('#df-10c2d0cf-b764-4559-8aa6-07c23b9e975a button.colab-df-convert');\n",
              "        buttonEl.style.display =\n",
              "          google.colab.kernel.accessAllowed ? 'block' : 'none';\n",
              "\n",
              "        async function convertToInteractive(key) {\n",
              "          const element = document.querySelector('#df-10c2d0cf-b764-4559-8aa6-07c23b9e975a');\n",
              "          const dataTable =\n",
              "            await google.colab.kernel.invokeFunction('convertToInteractive',\n",
              "                                                     [key], {});\n",
              "          if (!dataTable) return;\n",
              "\n",
              "          const docLinkHtml = 'Like what you see? Visit the ' +\n",
              "            '<a target=\"_blank\" href=https://colab.research.google.com/notebooks/data_table.ipynb>data table notebook</a>'\n",
              "            + ' to learn more about interactive tables.';\n",
              "          element.innerHTML = '';\n",
              "          dataTable['output_type'] = 'display_data';\n",
              "          await google.colab.output.renderOutput(dataTable, element);\n",
              "          const docLink = document.createElement('div');\n",
              "          docLink.innerHTML = docLinkHtml;\n",
              "          element.appendChild(docLink);\n",
              "        }\n",
              "      </script>\n",
              "    </div>\n",
              "  </div>\n",
              "  "
            ]
          },
          "metadata": {},
          "execution_count": 66
        }
      ]
    },
    {
      "cell_type": "code",
      "source": [
        "#null value check\n",
        "df.isna().sum()"
      ],
      "metadata": {
        "colab": {
          "base_uri": "https://localhost:8080/"
        },
        "id": "dOK3GYGpuBPU",
        "outputId": "40889aac-c7f4-4955-8fb5-dfcd2a2562c6"
      },
      "execution_count": 67,
      "outputs": [
        {
          "output_type": "execute_result",
          "data": {
            "text/plain": [
              "Open                      0\n",
              "High                      0\n",
              "Low                       0\n",
              "Qty                       0\n",
              "Turnover                  0\n",
              "economic-subjectivity     0\n",
              "economic-polarity         0\n",
              "political-subjectivity    0\n",
              "political-polarity        0\n",
              "Ltp                       0\n",
              "% Change                  0\n",
              "dtype: int64"
            ]
          },
          "metadata": {},
          "execution_count": 67
        }
      ]
    },
    {
      "cell_type": "code",
      "source": [
        "df['Ltp'].plot(figsize=(14,8))\n",
        "plt.ylabel(\"Last Trading Price\")\n",
        "plt.title(\"Last Trading Price Movement\")\n",
        "plt.show()"
      ],
      "metadata": {
        "colab": {
          "base_uri": "https://localhost:8080/",
          "height": 513
        },
        "id": "rqoA9FwYuN2k",
        "outputId": "1035053f-757a-4983-9c46-b2d9edd939ac"
      },
      "execution_count": 68,
      "outputs": [
        {
          "output_type": "display_data",
          "data": {
            "text/plain": [
              "<Figure size 1008x576 with 1 Axes>"
            ],
            "image/png": "[encoded data removed]"
          },
          "metadata": {
            "needs_background": "light"
          }
        }
      ]
    },
    {
      "cell_type": "code",
      "source": [
        "df['Turnover'].plot(figsize=(14,8))\n",
        "plt.ylabel(\"Turnover\")\n",
        "plt.title(\"Turnover Movement\")\n",
        "plt.show()"
      ],
      "metadata": {
        "colab": {
          "base_uri": "https://localhost:8080/",
          "height": 513
        },
        "id": "mg_ox33AuQ5F",
        "outputId": "fc583aea-a646-485d-adab-80c7adb0acc4"
      },
      "execution_count": 69,
      "outputs": [
        {
          "output_type": "display_data",
          "data": {
            "text/plain": [
              "<Figure size 1008x576 with 1 Axes>"
            ],
            "image/png": "[encoded data removed]"
          },
          "metadata": {
            "needs_background": "light"
          }
        }
      ]
    },
    {
      "cell_type": "code",
      "source": [
        "df['Qty'].plot(figsize=(14,8))\n",
        "plt.ylabel(\"Qty\")\n",
        "plt.title(\"Quantity Movement\")\n",
        "plt.show()"
      ],
      "metadata": {
        "colab": {
          "base_uri": "https://localhost:8080/",
          "height": 513
        },
        "id": "f5arTJKruUNy",
        "outputId": "0d49e852-ba99-41ed-d33e-12ee34963eff"
      },
      "execution_count": 70,
      "outputs": [
        {
          "output_type": "display_data",
          "data": {
            "text/plain": [
              "<Figure size 1008x576 with 1 Axes>"
            ],
            "image/png": "[encoded data removed]"
          },
          "metadata": {
            "needs_background": "light"
          }
        }
      ]
    },
    {
      "cell_type": "code",
      "source": [
        "df['% Change'].value_counts()"
      ],
      "metadata": {
        "colab": {
          "base_uri": "https://localhost:8080/"
        },
        "id": "R1qHxsY2uYHg",
        "outputId": "751d460b-8895-4ad6-9c53-52dd83f6b1ff"
      },
      "execution_count": 71,
      "outputs": [
        {
          "output_type": "execute_result",
          "data": {
            "text/plain": [
              " 0.00    322\n",
              " 0.32     11\n",
              "-0.32     10\n",
              "-0.63     10\n",
              " 0.31      9\n",
              "        ... \n",
              "-1.63      1\n",
              "-3.37      1\n",
              "-1.77      1\n",
              " 2.46      1\n",
              " 0.27      1\n",
              "Name: % Change, Length: 345, dtype: int64"
            ]
          },
          "metadata": {},
          "execution_count": 71
        }
      ]
    },
    {
      "cell_type": "code",
      "source": [
        "## Make correlation matrix \n",
        "\n",
        "df.corr()"
      ],
      "metadata": {
        "colab": {
          "base_uri": "https://localhost:8080/",
          "height": 525
        },
        "id": "q5BVG_YpuduX",
        "outputId": "6631edd1-3f7a-4773-a863-c925ce1a6105"
      },
      "execution_count": 72,
      "outputs": [
        {
          "output_type": "execute_result",
          "data": {
            "text/plain": [
              "                            Open      High       Low       Qty  Turnover  \\\n",
              "Open                    1.000000  0.999023  0.999335  0.999335  0.249468   \n",
              "High                    0.999023  1.000000  0.999134  0.999134  0.259375   \n",
              "Low                     0.999335  0.999134  1.000000  1.000000  0.246582   \n",
              "Qty                     0.999335  0.999134  1.000000  1.000000  0.246582   \n",
              "Turnover                0.249468  0.259375  0.246582  0.246582  1.000000   \n",
              "economic-subjectivity   0.007509  0.006479  0.004674  0.004674  0.002024   \n",
              "economic-polarity       0.148061  0.150168  0.147470  0.147470  0.010022   \n",
              "political-subjectivity  0.001911  0.002528  0.002132  0.002132 -0.006702   \n",
              "political-polarity      0.008607  0.009023  0.008001  0.008001  0.039462   \n",
              "Ltp                     0.998562  0.999587  0.999251  0.999251  0.253623   \n",
              "% Change               -0.021452 -0.008835 -0.013428 -0.013428  0.163820   \n",
              "\n",
              "                        economic-subjectivity  economic-polarity  \\\n",
              "Open                                 0.007509           0.148061   \n",
              "High                                 0.006479           0.150168   \n",
              "Low                                  0.004674           0.147470   \n",
              "Qty                                  0.004674           0.147470   \n",
              "Turnover                             0.002024           0.010022   \n",
              "economic-subjectivity                1.000000           0.234261   \n",
              "economic-polarity                    0.234261           1.000000   \n",
              "political-subjectivity               0.029147           0.025870   \n",
              "political-polarity                   0.012509          -0.029237   \n",
              "Ltp                                  0.006837           0.150450   \n",
              "% Change                            -0.014195           0.025782   \n",
              "\n",
              "                        political-subjectivity  political-polarity       Ltp  \\\n",
              "Open                                  0.001911            0.008607  0.998562   \n",
              "High                                  0.002528            0.009023  0.999587   \n",
              "Low                                   0.002132            0.008001  0.999251   \n",
              "Qty                                   0.002132            0.008001  0.999251   \n",
              "Turnover                             -0.006702            0.039462  0.253623   \n",
              "economic-subjectivity                 0.029147            0.012509  0.006837   \n",
              "economic-polarity                     0.025870           -0.029237  0.150450   \n",
              "political-subjectivity                1.000000            0.231214  0.003092   \n",
              "political-polarity                    0.231214            1.000000  0.009975   \n",
              "Ltp                                   0.003092            0.009975  1.000000   \n",
              "% Change                             -0.021782           -0.025224 -0.001303   \n",
              "\n",
              "                        % Change  \n",
              "Open                   -0.021452  \n",
              "High                   -0.008835  \n",
              "Low                    -0.013428  \n",
              "Qty                    -0.013428  \n",
              "Turnover                0.163820  \n",
              "economic-subjectivity  -0.014195  \n",
              "economic-polarity       0.025782  \n",
              "political-subjectivity -0.021782  \n",
              "political-polarity     -0.025224  \n",
              "Ltp                    -0.001303  \n",
              "% Change                1.000000  "
            ],
            "text/html": [
              "\n",
              "  <div id=\"df-4eff465a-7179-4f0b-a078-8d01fb97f569\">\n",
              "    <div class=\"colab-df-container\">\n",
              "      <div>\n",
              "<style scoped>\n",
              "    .dataframe tbody tr th:only-of-type {\n",
              "        vertical-align: middle;\n",
              "    }\n",
              "\n",
              "    .dataframe tbody tr th {\n",
              "        vertical-align: top;\n",
              "    }\n",
              "\n",
              "    .dataframe thead th {\n",
              "        text-align: right;\n",
              "    }\n",
              "</style>\n",
              "<table border=\"1\" class=\"dataframe\">\n",
              "  <thead>\n",
              "    <tr style=\"text-align: right;\">\n",
              "      <th></th>\n",
              "      <th>Open</th>\n",
              "      <th>High</th>\n",
              "      <th>Low</th>\n",
              "      <th>Qty</th>\n",
              "      <th>Turnover</th>\n",
              "      <th>economic-subjectivity</th>\n",
              "      <th>economic-polarity</th>\n",
              "      <th>political-subjectivity</th>\n",
              "      <th>political-polarity</th>\n",
              "      <th>Ltp</th>\n",
              "      <th>% Change</th>\n",
              "    </tr>\n",
              "  </thead>\n",
              "  <tbody>\n",
              "    <tr>\n",
              "      <th>Open</th>\n",
              "      <td>1.000000</td>\n",
              "      <td>0.999023</td>\n",
              "      <td>0.999335</td>\n",
              "      <td>0.999335</td>\n",
              "      <td>0.249468</td>\n",
              "      <td>0.007509</td>\n",
              "      <td>0.148061</td>\n",
              "      <td>0.001911</td>\n",
              "      <td>0.008607</td>\n",
              "      <td>0.998562</td>\n",
              "      <td>-0.021452</td>\n",
              "    </tr>\n",
              "    <tr>\n",
              "      <th>High</th>\n",
              "      <td>0.999023</td>\n",
              "      <td>1.000000</td>\n",
              "      <td>0.999134</td>\n",
              "      <td>0.999134</td>\n",
              "      <td>0.259375</td>\n",
              "      <td>0.006479</td>\n",
              "      <td>0.150168</td>\n",
              "      <td>0.002528</td>\n",
              "      <td>0.009023</td>\n",
              "      <td>0.999587</td>\n",
              "      <td>-0.008835</td>\n",
              "    </tr>\n",
              "    <tr>\n",
              "      <th>Low</th>\n",
              "      <td>0.999335</td>\n",
              "      <td>0.999134</td>\n",
              "      <td>1.000000</td>\n",
              "      <td>1.000000</td>\n",
              "      <td>0.246582</td>\n",
              "      <td>0.004674</td>\n",
              "      <td>0.147470</td>\n",
              "      <td>0.002132</td>\n",
              "      <td>0.008001</td>\n",
              "      <td>0.999251</td>\n",
              "      <td>-0.013428</td>\n",
              "    </tr>\n",
              "    <tr>\n",
              "      <th>Qty</th>\n",
              "      <td>0.999335</td>\n",
              "      <td>0.999134</td>\n",
              "      <td>1.000000</td>\n",
              "      <td>1.000000</td>\n",
              "      <td>0.246582</td>\n",
              "      <td>0.004674</td>\n",
              "      <td>0.147470</td>\n",
              "      <td>0.002132</td>\n",
              "      <td>0.008001</td>\n",
              "      <td>0.999251</td>\n",
              "      <td>-0.013428</td>\n",
              "    </tr>\n",
              "    <tr>\n",
              "      <th>Turnover</th>\n",
              "      <td>0.249468</td>\n",
              "      <td>0.259375</td>\n",
              "      <td>0.246582</td>\n",
              "      <td>0.246582</td>\n",
              "      <td>1.000000</td>\n",
              "      <td>0.002024</td>\n",
              "      <td>0.010022</td>\n",
              "      <td>-0.006702</td>\n",
              "      <td>0.039462</td>\n",
              "      <td>0.253623</td>\n",
              "      <td>0.163820</td>\n",
              "    </tr>\n",
              "    <tr>\n",
              "      <th>economic-subjectivity</th>\n",
              "      <td>0.007509</td>\n",
              "      <td>0.006479</td>\n",
              "      <td>0.004674</td>\n",
              "      <td>0.004674</td>\n",
              "      <td>0.002024</td>\n",
              "      <td>1.000000</td>\n",
              "      <td>0.234261</td>\n",
              "      <td>0.029147</td>\n",
              "      <td>0.012509</td>\n",
              "      <td>0.006837</td>\n",
              "      <td>-0.014195</td>\n",
              "    </tr>\n",
              "    <tr>\n",
              "      <th>economic-polarity</th>\n",
              "      <td>0.148061</td>\n",
              "      <td>0.150168</td>\n",
              "      <td>0.147470</td>\n",
              "      <td>0.147470</td>\n",
              "      <td>0.010022</td>\n",
              "      <td>0.234261</td>\n",
              "      <td>1.000000</td>\n",
              "      <td>0.025870</td>\n",
              "      <td>-0.029237</td>\n",
              "      <td>0.150450</td>\n",
              "      <td>0.025782</td>\n",
              "    </tr>\n",
              "    <tr>\n",
              "      <th>political-subjectivity</th>\n",
              "      <td>0.001911</td>\n",
              "      <td>0.002528</td>\n",
              "      <td>0.002132</td>\n",
              "      <td>0.002132</td>\n",
              "      <td>-0.006702</td>\n",
              "      <td>0.029147</td>\n",
              "      <td>0.025870</td>\n",
              "      <td>1.000000</td>\n",
              "      <td>0.231214</td>\n",
              "      <td>0.003092</td>\n",
              "      <td>-0.021782</td>\n",
              "    </tr>\n",
              "    <tr>\n",
              "      <th>political-polarity</th>\n",
              "      <td>0.008607</td>\n",
              "      <td>0.009023</td>\n",
              "      <td>0.008001</td>\n",
              "      <td>0.008001</td>\n",
              "      <td>0.039462</td>\n",
              "      <td>0.012509</td>\n",
              "      <td>-0.029237</td>\n",
              "      <td>0.231214</td>\n",
              "      <td>1.000000</td>\n",
              "      <td>0.009975</td>\n",
              "      <td>-0.025224</td>\n",
              "    </tr>\n",
              "    <tr>\n",
              "      <th>Ltp</th>\n",
              "      <td>0.998562</td>\n",
              "      <td>0.999587</td>\n",
              "      <td>0.999251</td>\n",
              "      <td>0.999251</td>\n",
              "      <td>0.253623</td>\n",
              "      <td>0.006837</td>\n",
              "      <td>0.150450</td>\n",
              "      <td>0.003092</td>\n",
              "      <td>0.009975</td>\n",
              "      <td>1.000000</td>\n",
              "      <td>-0.001303</td>\n",
              "    </tr>\n",
              "    <tr>\n",
              "      <th>% Change</th>\n",
              "      <td>-0.021452</td>\n",
              "      <td>-0.008835</td>\n",
              "      <td>-0.013428</td>\n",
              "      <td>-0.013428</td>\n",
              "      <td>0.163820</td>\n",
              "      <td>-0.014195</td>\n",
              "      <td>0.025782</td>\n",
              "      <td>-0.021782</td>\n",
              "      <td>-0.025224</td>\n",
              "      <td>-0.001303</td>\n",
              "      <td>1.000000</td>\n",
              "    </tr>\n",
              "  </tbody>\n",
              "</table>\n",
              "</div>\n",
              "      <button class=\"colab-df-convert\" onclick=\"convertToInteractive('df-4eff465a-7179-4f0b-a078-8d01fb97f569')\"\n",
              "              title=\"Convert this dataframe to an interactive table.\"\n",
              "              style=\"display:none;\">\n",
              "        \n",
              "  <svg xmlns=\"http://www.w3.org/2000/svg\" height=\"24px\"viewBox=\"0 0 24 24\"\n",
              "       width=\"24px\">\n",
              "    <path d=\"M0 0h24v24H0V0z\" fill=\"none\"/>\n",
              "    <path d=\"M18.56 5.44l.94 2.06.94-2.06 2.06-.94-2.06-.94-.94-2.06-.94 2.06-2.06.94zm-11 1L8.5 8.5l.94-2.06 2.06-.94-2.06-.94L8.5 2.5l-.94 2.06-2.06.94zm10 10l.94 2.06.94-2.06 2.06-.94-2.06-.94-.94-2.06-.94 2.06-2.06.94z\"/><path d=\"M17.41 7.96l-1.37-1.37c-.4-.4-.92-.59-1.43-.59-.52 0-1.04.2-1.43.59L10.3 9.45l-7.72 7.72c-.78.78-.78 2.05 0 2.83L4 21.41c.39.39.9.59 1.41.59.51 0 1.02-.2 1.41-.59l7.78-7.78 2.81-2.81c.8-.78.8-2.07 0-2.86zM5.41 20L4 18.59l7.72-7.72 1.47 1.35L5.41 20z\"/>\n",
              "  </svg>\n",
              "      </button>\n",
              "      \n",
              "  <style>\n",
              "    .colab-df-container {\n",
              "      display:flex;\n",
              "      flex-wrap:wrap;\n",
              "      gap: 12px;\n",
              "    }\n",
              "\n",
              "    .colab-df-convert {\n",
              "      background-color: #E8F0FE;\n",
              "      border: none;\n",
              "      border-radius: 50%;\n",
              "      cursor: pointer;\n",
              "      display: none;\n",
              "      fill: #1967D2;\n",
              "      height: 32px;\n",
              "      padding: 0 0 0 0;\n",
              "      width: 32px;\n",
              "    }\n",
              "\n",
              "    .colab-df-convert:hover {\n",
              "      background-color: #E2EBFA;\n",
              "      box-shadow: 0px 1px 2px rgba(60, 64, 67, 0.3), 0px 1px 3px 1px rgba(60, 64, 67, 0.15);\n",
              "      fill: #174EA6;\n",
              "    }\n",
              "\n",
              "    [theme=dark] .colab-df-convert {\n",
              "      background-color: #3B4455;\n",
              "      fill: #D2E3FC;\n",
              "    }\n",
              "\n",
              "    [theme=dark] .colab-df-convert:hover {\n",
              "      background-color: #434B5C;\n",
              "      box-shadow: 0px 1px 3px 1px rgba(0, 0, 0, 0.15);\n",
              "      filter: drop-shadow(0px 1px 2px rgba(0, 0, 0, 0.3));\n",
              "      fill: #FFFFFF;\n",
              "    }\n",
              "  </style>\n",
              "\n",
              "      <script>\n",
              "        const buttonEl =\n",
              "          document.querySelector('#df-4eff465a-7179-4f0b-a078-8d01fb97f569 button.colab-df-convert');\n",
              "        buttonEl.style.display =\n",
              "          google.colab.kernel.accessAllowed ? 'block' : 'none';\n",
              "\n",
              "        async function convertToInteractive(key) {\n",
              "          const element = document.querySelector('#df-4eff465a-7179-4f0b-a078-8d01fb97f569');\n",
              "          const dataTable =\n",
              "            await google.colab.kernel.invokeFunction('convertToInteractive',\n",
              "                                                     [key], {});\n",
              "          if (!dataTable) return;\n",
              "\n",
              "          const docLinkHtml = 'Like what you see? Visit the ' +\n",
              "            '<a target=\"_blank\" href=https://colab.research.google.com/notebooks/data_table.ipynb>data table notebook</a>'\n",
              "            + ' to learn more about interactive tables.';\n",
              "          element.innerHTML = '';\n",
              "          dataTable['output_type'] = 'display_data';\n",
              "          await google.colab.output.renderOutput(dataTable, element);\n",
              "          const docLink = document.createElement('div');\n",
              "          docLink.innerHTML = docLinkHtml;\n",
              "          element.appendChild(docLink);\n",
              "        }\n",
              "      </script>\n",
              "    </div>\n",
              "  </div>\n",
              "  "
            ]
          },
          "metadata": {},
          "execution_count": 72
        }
      ]
    },
    {
      "cell_type": "code",
      "source": [
        "## making correlation matrix more understable \n",
        "\n",
        "corr_matrix = df.corr()\n",
        "fig, ax = plt.subplots(figsize=(15,10))\n",
        "ax =  sns.heatmap(corr_matrix,\n",
        "                  annot=True,\n",
        "                  linewidth=0.5,\n",
        "                  fmt=\".2f\",\n",
        "                  cmap=\"YlGnBu\",);"
      ],
      "metadata": {
        "colab": {
          "base_uri": "https://localhost:8080/",
          "height": 695
        },
        "id": "0-WSxbe-uiKj",
        "outputId": "cecd203f-bb3a-4eae-81c8-ed17f305be06"
      },
      "execution_count": 73,
      "outputs": [
        {
          "output_type": "display_data",
          "data": {
            "text/plain": [
              "<Figure size 1080x720 with 2 Axes>"
            ],
            "image/png": "[encoded data removed]"
          },
          "metadata": {
            "needs_background": "light"
          }
        }
      ]
    },
    {
      "cell_type": "code",
      "source": [
        "df.dtypes"
      ],
      "metadata": {
        "colab": {
          "base_uri": "https://localhost:8080/"
        },
        "id": "4tVvCuzuyR-4",
        "outputId": "507310cb-b279-4cad-ffe5-b420623fc225"
      },
      "execution_count": 79,
      "outputs": [
        {
          "output_type": "execute_result",
          "data": {
            "text/plain": [
              "Open                      float64\n",
              "High                      float64\n",
              "Low                       float64\n",
              "Qty                       float64\n",
              "Turnover                  float64\n",
              "economic-subjectivity     float64\n",
              "economic-polarity         float64\n",
              "political-subjectivity    float64\n",
              "political-polarity        float64\n",
              "Ltp                       float64\n",
              "% Change                  float64\n",
              "dtype: object"
            ]
          },
          "metadata": {},
          "execution_count": 79
        }
      ]
    },
    {
      "cell_type": "code",
      "source": [
        "# Create feature data set\n",
        "X = df\n",
        "X = np.array(X.drop(['Ltp'], 1))\n",
        "\n",
        "# Create target data set\n",
        "y = np.array(df['Ltp'])"
      ],
      "metadata": {
        "id": "GclAei1vuldL"
      },
      "execution_count": 80,
      "outputs": []
    },
    {
      "cell_type": "code",
      "source": [
        "X.shape, y.shape"
      ],
      "metadata": {
        "colab": {
          "base_uri": "https://localhost:8080/"
        },
        "id": "stzvWcGLuwWv",
        "outputId": "e52000c1-be8d-416b-ac3f-7fb6bfd46f1c"
      },
      "execution_count": 81,
      "outputs": [
        {
          "output_type": "execute_result",
          "data": {
            "text/plain": [
              "((948, 10), (948,))"
            ]
          },
          "metadata": {},
          "execution_count": 81
        }
      ]
    },
    {
      "cell_type": "code",
      "source": [
        "len(df)"
      ],
      "metadata": {
        "colab": {
          "base_uri": "https://localhost:8080/"
        },
        "id": "S1GxBBA20RlF",
        "outputId": "541c09cd-00ee-4960-90fc-2199a8b4f3bf"
      },
      "execution_count": 94,
      "outputs": [
        {
          "output_type": "execute_result",
          "data": {
            "text/plain": [
              "948"
            ]
          },
          "metadata": {},
          "execution_count": 94
        }
      ]
    },
    {
      "cell_type": "code",
      "source": [
        "split = int(0.9*len(df))"
      ],
      "metadata": {
        "id": "T2UbJWkdzttV"
      },
      "execution_count": 97,
      "outputs": []
    },
    {
      "cell_type": "code",
      "source": [
        "split"
      ],
      "metadata": {
        "colab": {
          "base_uri": "https://localhost:8080/"
        },
        "id": "v8cnEJSZ1KvV",
        "outputId": "19c682cb-89f4-46fe-f03e-cd62ca3cdbd7"
      },
      "execution_count": 99,
      "outputs": [
        {
          "output_type": "execute_result",
          "data": {
            "text/plain": [
              "853"
            ]
          },
          "metadata": {},
          "execution_count": 99
        }
      ]
    },
    {
      "cell_type": "code",
      "source": [
        "y = np.reshape(y, (y.shape[0], 1))"
      ],
      "metadata": {
        "id": "Q39P9dD915q4"
      },
      "execution_count": 108,
      "outputs": []
    },
    {
      "cell_type": "code",
      "source": [
        "y.shape"
      ],
      "metadata": {
        "colab": {
          "base_uri": "https://localhost:8080/"
        },
        "id": "H1TIogfT1kGr",
        "outputId": "5847b64d-c9d6-4494-8b92-420f2c3d8c46"
      },
      "execution_count": 109,
      "outputs": [
        {
          "output_type": "execute_result",
          "data": {
            "text/plain": [
              "(948, 1)"
            ]
          },
          "metadata": {},
          "execution_count": 109
        }
      ]
    },
    {
      "cell_type": "code",
      "source": [
        "X[0:853,:].shape"
      ],
      "metadata": {
        "colab": {
          "base_uri": "https://localhost:8080/"
        },
        "id": "tGrMXVD01OR-",
        "outputId": "1e6125e6-9f09-474e-954a-afecf2cf0b2e"
      },
      "execution_count": 110,
      "outputs": [
        {
          "output_type": "execute_result",
          "data": {
            "text/plain": [
              "(853, 10)"
            ]
          },
          "metadata": {},
          "execution_count": 110
        }
      ]
    },
    {
      "cell_type": "code",
      "source": [
        "y[853:948,:].shape"
      ],
      "metadata": {
        "colab": {
          "base_uri": "https://localhost:8080/"
        },
        "id": "K6zPnJkx1syG",
        "outputId": "ae6d5283-63fb-444a-fbd1-f331ef5318b6"
      },
      "execution_count": 112,
      "outputs": [
        {
          "output_type": "execute_result",
          "data": {
            "text/plain": [
              "(95, 1)"
            ]
          },
          "metadata": {},
          "execution_count": 112
        }
      ]
    },
    {
      "cell_type": "code",
      "source": [
        "X = X[0:split,:] \n",
        "y = y[split:len(y),:]"
      ],
      "metadata": {
        "id": "J6Smu3bV0bLc"
      },
      "execution_count": 115,
      "outputs": []
    },
    {
      "cell_type": "code",
      "source": [
        "X.shape, y.shape"
      ],
      "metadata": {
        "colab": {
          "base_uri": "https://localhost:8080/"
        },
        "id": "AlKkokwA2Biu",
        "outputId": "53d1ef0c-cbcb-49a9-e3a0-f40ddc8d0912"
      },
      "execution_count": 116,
      "outputs": [
        {
          "output_type": "execute_result",
          "data": {
            "text/plain": [
              "((853, 10), (95, 1))"
            ]
          },
          "metadata": {},
          "execution_count": 116
        }
      ]
    },
    {
      "cell_type": "markdown",
      "source": [
        "**Lets split the data into 5 folds.**"
      ],
      "metadata": {
        "id": "HmFuuY1Du58E"
      }
    },
    {
      "cell_type": "code",
      "source": [
        "# # Check split the data into 5 folds.  \n",
        "# kf5 =KFold(n_splits=5, shuffle=True, random_state=42)\n",
        "\n",
        "\n",
        "# count = 1\n",
        "# for train_index5, test_index5 in kf5.split(X, y):\n",
        "#     print(f'Fold:{count}, Train set: {len(train_index5)}, Test set:{len(test_index5)}')\n",
        "#     count += 1"
      ],
      "metadata": {
        "id": "a-9w07bguyEi"
      },
      "execution_count": 118,
      "outputs": []
    },
    {
      "cell_type": "code",
      "source": [
        "def create_dataset(dataset, look_back=1):\n",
        "    dataX, dataY = [], []\n",
        "    for i in range(len(dataset)-look_back-1):\n",
        "        a = dataset[i:(i+look_back), 0]\n",
        "        dataX.append(a)\n",
        "        dataY.append(dataset[i + look_back, 0])\n",
        "    return np.array(dataX), np.array(dataY)"
      ],
      "metadata": {
        "id": "tmh3wvADu9fP"
      },
      "execution_count": 119,
      "outputs": []
    },
    {
      "cell_type": "code",
      "source": [
        "look_back = 5\n",
        "X_train, y_train = create_dataset(X, look_back)\n",
        "X_test, y_test = create_dataset(y, look_back)"
      ],
      "metadata": {
        "id": "Vlf7hUcgvJ_y"
      },
      "execution_count": 120,
      "outputs": []
    },
    {
      "cell_type": "code",
      "source": [
        "X_train.shape, y_train.shape,X_test.shape,y_test.shape"
      ],
      "metadata": {
        "colab": {
          "base_uri": "https://localhost:8080/"
        },
        "id": "ZZqQyiDMv9ez",
        "outputId": "82a4a7f1-892c-4855-e8f8-ade4db4cabfc"
      },
      "execution_count": 122,
      "outputs": [
        {
          "output_type": "execute_result",
          "data": {
            "text/plain": [
              "((847, 5), (847,), (89, 5), (89,))"
            ]
          },
          "metadata": {},
          "execution_count": 122
        }
      ]
    },
    {
      "cell_type": "code",
      "source": [
        "scale = StandardScaler()\n",
        "X_train = scale.fit_transform(X_train)\n",
        "X_test = scale.transform(X_test)"
      ],
      "metadata": {
        "id": "8BE2q2UlxLDe"
      },
      "execution_count": 123,
      "outputs": []
    },
    {
      "cell_type": "markdown",
      "source": [
        "**Modeling**"
      ],
      "metadata": {
        "id": "iyCAoEsg2x_v"
      }
    },
    {
      "cell_type": "code",
      "source": [
        "models = {\"LinearRegression\":LinearRegression(),\n",
        "          \"MLPRegressor\": MLPRegressor(),\n",
        "          \"SVM\":SVR(),\n",
        "          'Ridge': Ridge(),\n",
        "          \"KNN\":KNeighborsRegressor(),\n",
        "          \"RandomForestRegressor\":RandomForestRegressor(),\n",
        "        }\n",
        "\n",
        "# Create a function to fit and score models\n",
        "def fit_and_score(models, X_train, X_test, y_train, y_test): \n",
        "    \"\"\"\n",
        "    Fits and evaluates given machine learning models.\n",
        "    models: a dict of different Scikit-Learn machine learning models\n",
        "    X_train: training data(with no labels)\n",
        "    X_test: testing data(with no labels)\n",
        "    y_train: training labels\n",
        "    y_test: testing labels\n",
        "    \"\"\"\n",
        "    \n",
        "    #set random seed\n",
        "    np.random.seed(42)\n",
        "\n",
        "    # Making a dictionary to keep model scoresS\n",
        "    model_scores = {}\n",
        "\n",
        "    # Loop through models\n",
        "    for name, model in models.items():\n",
        "        # Fit the model to the data\n",
        "        model.fit(X_train, y_train)\n",
        "\n",
        "        #Evaluate the model and  append  it's score to model_scores\n",
        "        model_scores[name] = model.score(X_test, y_test)\n",
        "    return model_scores"
      ],
      "metadata": {
        "id": "Wu_2KvwR2upA"
      },
      "execution_count": 124,
      "outputs": []
    },
    {
      "cell_type": "code",
      "source": [
        "model_scores = fit_and_score(models=models,\n",
        "                             X_train=X_train,\n",
        "                             X_test=X_test,\n",
        "                             y_train=y_train,\n",
        "                             y_test=y_test)"
      ],
      "metadata": {
        "id": "vdWQ0L0r23JK"
      },
      "execution_count": 125,
      "outputs": []
    },
    {
      "cell_type": "code",
      "source": [
        "model_scores"
      ],
      "metadata": {
        "colab": {
          "base_uri": "https://localhost:8080/"
        },
        "id": "Z_E0c0hZ26il",
        "outputId": "b1013cfd-cdc2-434e-e59f-d6d940a3adcf"
      },
      "execution_count": 126,
      "outputs": [
        {
          "output_type": "execute_result",
          "data": {
            "text/plain": [
              "{'LinearRegression': 0.9411546035473812,\n",
              " 'MLPRegressor': -27.143802724598643,\n",
              " 'SVM': -18.768818188905794,\n",
              " 'Ridge': 0.9374639218449975,\n",
              " 'KNN': -5.500606899772547,\n",
              " 'RandomForestRegressor': -5.112146062251897}"
            ]
          },
          "metadata": {},
          "execution_count": 126
        }
      ]
    },
    {
      "cell_type": "markdown",
      "source": [
        "**Hyperparameter Tuning**"
      ],
      "metadata": {
        "id": "CkLH6kxy3T-R"
      }
    },
    {
      "cell_type": "code",
      "source": [
        "grid_regr = {\n",
        "    'fit_intercept': ['True','False'],\n",
        "    'positive': ['True','False'],\n",
        "}\n",
        "\n",
        "grid_mlp = {\n",
        "    'hidden_layer_sizes': (150,100,50),\n",
        "     'max_iter' : [100,200,300,500,1000],\n",
        "     'activation' : ['relu','identity', 'logistic', 'tanh'],\n",
        "     'solver' : ['adam','lbfgs','sgd'],\n",
        "     'validation_fraction': np.arange(0.0,1.0)\n",
        "}\n",
        "\n",
        "grid_svm = {\n",
        "    'C': [0.1, 1, 10, 100, 1000], \n",
        "    'gamma': [1, 0.1, 0.01, 0.001, 0.0001],\n",
        "    'kernel': ['rbf','linear', 'poly', 'sigmoid']\n",
        "    }\n",
        "\n",
        "grid_ridge = {\n",
        "    'alpha':[200, 230, 250,265, 270, 275, 290, 300, 500]\n",
        "}\n",
        "\n",
        "grid_knn ={\n",
        "    'leaf_size':np.arange(1,50),\n",
        "    'n_neighbors':np.arange(1,30),\n",
        "    'p':[1,2]\n",
        "}\n",
        "\n",
        "grid_rf = {\n",
        "    'n_estimators': [20, 50, 100, 500, 1000],  \n",
        "    'max_depth': np.arange(1, 15, 1),  \n",
        "    'min_samples_split': [2, 10, 9], \n",
        "    'min_samples_leaf': np.arange(1, 15, 2, dtype=int),  \n",
        "    'bootstrap': [True, False], \n",
        "    'random_state': [1, 2, 30, 42]\n",
        "}"
      ],
      "metadata": {
        "id": "egLOVo-F3ViI"
      },
      "execution_count": 128,
      "outputs": []
    },
    {
      "cell_type": "markdown",
      "source": [
        "**Tune Linear Regression**"
      ],
      "metadata": {
        "id": "38ONBgsh31FP"
      }
    },
    {
      "cell_type": "code",
      "source": [
        "np.random.seed(42)\n",
        "\n",
        "# Setup random hyperparameter search for LinearRegression\n",
        "regr = RandomizedSearchCV(LinearRegression(),\n",
        "                                param_distributions=grid_regr,\n",
        "                                cv=10,\n",
        "                                n_iter=10,\n",
        "                                verbose=True,\n",
        "                                n_jobs=-1)\n",
        "\n",
        "#Fit random hyperparameter search model for LinearRegression \n",
        "regr.fit(X_train,y_train)"
      ],
      "metadata": {
        "colab": {
          "base_uri": "https://localhost:8080/"
        },
        "id": "hQ_p03za3xjA",
        "outputId": "0db705b8-43e6-4480-efd1-45d73aff8fe9"
      },
      "execution_count": 129,
      "outputs": [
        {
          "output_type": "stream",
          "name": "stdout",
          "text": [
            "Fitting 10 folds for each of 4 candidates, totalling 40 fits\n"
          ]
        },
        {
          "output_type": "execute_result",
          "data": {
            "text/plain": [
              "RandomizedSearchCV(cv=10, estimator=LinearRegression(), n_jobs=-1,\n",
              "                   param_distributions={'fit_intercept': ['True', 'False'],\n",
              "                                        'positive': ['True', 'False']},\n",
              "                   verbose=True)"
            ]
          },
          "metadata": {},
          "execution_count": 129
        }
      ]
    },
    {
      "cell_type": "code",
      "source": [
        "# Find the best parameters\n",
        "regr.best_params_"
      ],
      "metadata": {
        "colab": {
          "base_uri": "https://localhost:8080/"
        },
        "id": "vIBohhrk38qL",
        "outputId": "70060100-812e-4b6e-9f21-f14eebfc1883"
      },
      "execution_count": 130,
      "outputs": [
        {
          "output_type": "execute_result",
          "data": {
            "text/plain": [
              "{'positive': 'True', 'fit_intercept': 'True'}"
            ]
          },
          "metadata": {},
          "execution_count": 130
        }
      ]
    },
    {
      "cell_type": "code",
      "source": [
        "# Evaluate the randomized search LinearRegression Model\n",
        "regr.score(X_test, y_test)"
      ],
      "metadata": {
        "colab": {
          "base_uri": "https://localhost:8080/"
        },
        "id": "ECF9D4s73_6v",
        "outputId": "cf678b44-d4da-4733-fbf8-9736e7f3eedb"
      },
      "execution_count": 131,
      "outputs": [
        {
          "output_type": "execute_result",
          "data": {
            "text/plain": [
              "0.9395019034249609"
            ]
          },
          "metadata": {},
          "execution_count": 131
        }
      ]
    },
    {
      "cell_type": "code",
      "source": [
        "model_scores"
      ],
      "metadata": {
        "colab": {
          "base_uri": "https://localhost:8080/"
        },
        "id": "oRyYyibC4FUR",
        "outputId": "cbf1d77e-40ef-42c6-e47d-421a6f92ebda"
      },
      "execution_count": 132,
      "outputs": [
        {
          "output_type": "execute_result",
          "data": {
            "text/plain": [
              "{'LinearRegression': 0.9411546035473812,\n",
              " 'MLPRegressor': -27.143802724598643,\n",
              " 'SVM': -18.768818188905794,\n",
              " 'Ridge': 0.9374639218449975,\n",
              " 'KNN': -5.500606899772547,\n",
              " 'RandomForestRegressor': -5.112146062251897}"
            ]
          },
          "metadata": {},
          "execution_count": 132
        }
      ]
    },
    {
      "cell_type": "markdown",
      "source": [
        "**Tune Multi Layer Perceptron Regressor**"
      ],
      "metadata": {
        "id": "iovl_CKP4a8-"
      }
    },
    {
      "cell_type": "code",
      "source": [
        "np.random.seed(42)\n",
        "\n",
        "# Setup random hyperparameter search for MLPRegressor\n",
        "mlp = RandomizedSearchCV(MLPRegressor(),\n",
        "                         param_distributions=grid_mlp,\n",
        "                         cv=10,\n",
        "                         n_iter=10,\n",
        "                         verbose=True,\n",
        "                         n_jobs=-1)\n",
        "\n",
        "#Fit random hyperparameter search model for MLPRegressor \n",
        "mlp.fit(X_train,y_train)"
      ],
      "metadata": {
        "colab": {
          "base_uri": "https://localhost:8080/"
        },
        "id": "VwVUxQJD4Hv1",
        "outputId": "51c0a197-8182-42ce-8a15-f1360f094d36"
      },
      "execution_count": 133,
      "outputs": [
        {
          "output_type": "stream",
          "name": "stdout",
          "text": [
            "Fitting 10 folds for each of 10 candidates, totalling 100 fits\n"
          ]
        },
        {
          "output_type": "execute_result",
          "data": {
            "text/plain": [
              "RandomizedSearchCV(cv=10, estimator=MLPRegressor(), n_jobs=-1,\n",
              "                   param_distributions={'activation': ['relu', 'identity',\n",
              "                                                       'logistic', 'tanh'],\n",
              "                                        'hidden_layer_sizes': (150, 100, 50),\n",
              "                                        'max_iter': [100, 200, 300, 500, 1000],\n",
              "                                        'solver': ['adam', 'lbfgs', 'sgd'],\n",
              "                                        'validation_fraction': array([0.])},\n",
              "                   verbose=True)"
            ]
          },
          "metadata": {},
          "execution_count": 133
        }
      ]
    },
    {
      "cell_type": "code",
      "source": [
        "# Find the best parameters\n",
        "mlp.best_params_"
      ],
      "metadata": {
        "colab": {
          "base_uri": "https://localhost:8080/"
        },
        "id": "_4mawZgY4dcc",
        "outputId": "dd8362cc-150d-4511-a0fe-39fe31550334"
      },
      "execution_count": 134,
      "outputs": [
        {
          "output_type": "execute_result",
          "data": {
            "text/plain": [
              "{'validation_fraction': 0.0,\n",
              " 'solver': 'lbfgs',\n",
              " 'max_iter': 200,\n",
              " 'hidden_layer_sizes': 100,\n",
              " 'activation': 'relu'}"
            ]
          },
          "metadata": {},
          "execution_count": 134
        }
      ]
    },
    {
      "cell_type": "code",
      "source": [
        "# Evaluate the randomized search MLPRegressor Model\n",
        "mlp.score(X_test, y_test)"
      ],
      "metadata": {
        "colab": {
          "base_uri": "https://localhost:8080/"
        },
        "id": "3-w4b34X4d5X",
        "outputId": "08c63c00-1762-4700-92c8-6bb3bc68ec28"
      },
      "execution_count": 135,
      "outputs": [
        {
          "output_type": "execute_result",
          "data": {
            "text/plain": [
              "0.9488335795413604"
            ]
          },
          "metadata": {},
          "execution_count": 135
        }
      ]
    },
    {
      "cell_type": "code",
      "source": [
        "model_scores"
      ],
      "metadata": {
        "colab": {
          "base_uri": "https://localhost:8080/"
        },
        "id": "FoIFU-dD4eJ6",
        "outputId": "dccc7775-25cb-4c16-d84e-6d0173716fe6"
      },
      "execution_count": 136,
      "outputs": [
        {
          "output_type": "execute_result",
          "data": {
            "text/plain": [
              "{'LinearRegression': 0.9411546035473812,\n",
              " 'MLPRegressor': -27.143802724598643,\n",
              " 'SVM': -18.768818188905794,\n",
              " 'Ridge': 0.9374639218449975,\n",
              " 'KNN': -5.500606899772547,\n",
              " 'RandomForestRegressor': -5.112146062251897}"
            ]
          },
          "metadata": {},
          "execution_count": 136
        }
      ]
    },
    {
      "cell_type": "markdown",
      "source": [
        "**Tune Support Vector Machine Regressor**"
      ],
      "metadata": {
        "id": "0e5P3PUc4uTM"
      }
    },
    {
      "cell_type": "code",
      "source": [
        "np.random.seed(42)\n",
        "\n",
        "# Setup random hyperparameter search for SVM\n",
        "svm = RandomizedSearchCV(SVR(),\n",
        "                         param_distributions=grid_svm,\n",
        "                         cv=10,\n",
        "                         n_iter=10,\n",
        "                         verbose=True,\n",
        "                         n_jobs=-1)\n",
        "\n",
        "#Fit random hyperparameter search model for SVM \n",
        "svm.fit(X_train,y_train)"
      ],
      "metadata": {
        "colab": {
          "base_uri": "https://localhost:8080/"
        },
        "id": "mnQtDwAU4eZ8",
        "outputId": "e18f1940-f411-473f-a6b0-55be36d4ee29"
      },
      "execution_count": 137,
      "outputs": [
        {
          "output_type": "stream",
          "name": "stdout",
          "text": [
            "Fitting 10 folds for each of 10 candidates, totalling 100 fits\n"
          ]
        },
        {
          "output_type": "execute_result",
          "data": {
            "text/plain": [
              "RandomizedSearchCV(cv=10, estimator=SVR(), n_jobs=-1,\n",
              "                   param_distributions={'C': [0.1, 1, 10, 100, 1000],\n",
              "                                        'gamma': [1, 0.1, 0.01, 0.001, 0.0001],\n",
              "                                        'kernel': ['rbf', 'linear', 'poly',\n",
              "                                                   'sigmoid']},\n",
              "                   verbose=True)"
            ]
          },
          "metadata": {},
          "execution_count": 137
        }
      ]
    },
    {
      "cell_type": "code",
      "source": [
        "# Find the best parameters\n",
        "svm.best_params_"
      ],
      "metadata": {
        "colab": {
          "base_uri": "https://localhost:8080/"
        },
        "id": "HBjyth3Z4enb",
        "outputId": "f9862f98-7153-476d-df7e-66a8ec0628ed"
      },
      "execution_count": 138,
      "outputs": [
        {
          "output_type": "execute_result",
          "data": {
            "text/plain": [
              "{'kernel': 'linear', 'gamma': 0.001, 'C': 10}"
            ]
          },
          "metadata": {},
          "execution_count": 138
        }
      ]
    },
    {
      "cell_type": "code",
      "source": [
        "# Evaluate the randomized search SVM Model\n",
        "svm.score(X_test, y_test)"
      ],
      "metadata": {
        "colab": {
          "base_uri": "https://localhost:8080/"
        },
        "id": "XGUkcn304HzX",
        "outputId": "8db8f72c-5ae5-42a2-de5f-c87330439793"
      },
      "execution_count": 139,
      "outputs": [
        {
          "output_type": "execute_result",
          "data": {
            "text/plain": [
              "0.9322796521376517"
            ]
          },
          "metadata": {},
          "execution_count": 139
        }
      ]
    },
    {
      "cell_type": "code",
      "source": [
        "model_scores"
      ],
      "metadata": {
        "colab": {
          "base_uri": "https://localhost:8080/"
        },
        "id": "rod9maUO4H7v",
        "outputId": "1c8c4d55-2171-470a-ef63-b19e785a5405"
      },
      "execution_count": 140,
      "outputs": [
        {
          "output_type": "execute_result",
          "data": {
            "text/plain": [
              "{'LinearRegression': 0.9411546035473812,\n",
              " 'MLPRegressor': -27.143802724598643,\n",
              " 'SVM': -18.768818188905794,\n",
              " 'Ridge': 0.9374639218449975,\n",
              " 'KNN': -5.500606899772547,\n",
              " 'RandomForestRegressor': -5.112146062251897}"
            ]
          },
          "metadata": {},
          "execution_count": 140
        }
      ]
    },
    {
      "cell_type": "markdown",
      "source": [
        "**Tune Ridge**"
      ],
      "metadata": {
        "id": "RRODFXZy58y0"
      }
    },
    {
      "cell_type": "code",
      "source": [
        "np.random.seed(42)\n",
        "\n",
        "# Setup random hyperparameter search for Ridge Rigressor\n",
        "ridge = RandomizedSearchCV(Ridge(),\n",
        "                         param_distributions=grid_ridge,\n",
        "                         cv=10,\n",
        "                         n_iter=10,\n",
        "                         verbose=True,\n",
        "                         n_jobs=-1)\n",
        "\n",
        "#Fit random hyperparameter search model for Ridge Rigressor \n",
        "ridge.fit(X_train,y_train)"
      ],
      "metadata": {
        "colab": {
          "base_uri": "https://localhost:8080/"
        },
        "id": "rcQHveUp49Y7",
        "outputId": "97c5aeaa-5837-4d56-e352-fed0d1f10399"
      },
      "execution_count": 141,
      "outputs": [
        {
          "output_type": "stream",
          "name": "stdout",
          "text": [
            "Fitting 10 folds for each of 9 candidates, totalling 90 fits\n"
          ]
        },
        {
          "output_type": "execute_result",
          "data": {
            "text/plain": [
              "RandomizedSearchCV(cv=10, estimator=Ridge(), n_jobs=-1,\n",
              "                   param_distributions={'alpha': [200, 230, 250, 265, 270, 275,\n",
              "                                                  290, 300, 500]},\n",
              "                   verbose=True)"
            ]
          },
          "metadata": {},
          "execution_count": 141
        }
      ]
    },
    {
      "cell_type": "code",
      "source": [
        "# Find the best parameters\n",
        "ridge.best_params_"
      ],
      "metadata": {
        "colab": {
          "base_uri": "https://localhost:8080/"
        },
        "id": "_bEk8wBF49jo",
        "outputId": "76958bb6-4ab9-4661-8edf-fe45b24305aa"
      },
      "execution_count": 142,
      "outputs": [
        {
          "output_type": "execute_result",
          "data": {
            "text/plain": [
              "{'alpha': 200}"
            ]
          },
          "metadata": {},
          "execution_count": 142
        }
      ]
    },
    {
      "cell_type": "code",
      "source": [
        "# Evaluate the randomized search Ridge Model\n",
        "ridge.score(X_test, y_test)"
      ],
      "metadata": {
        "colab": {
          "base_uri": "https://localhost:8080/"
        },
        "id": "uPq-82Xw49rV",
        "outputId": "8e43c8a3-e3af-4378-a3a4-6a0b5f796421"
      },
      "execution_count": 143,
      "outputs": [
        {
          "output_type": "execute_result",
          "data": {
            "text/plain": [
              "0.7353462896157594"
            ]
          },
          "metadata": {},
          "execution_count": 143
        }
      ]
    },
    {
      "cell_type": "code",
      "source": [
        "model_scores"
      ],
      "metadata": {
        "colab": {
          "base_uri": "https://localhost:8080/"
        },
        "id": "wi_auMHH49yJ",
        "outputId": "41b902ca-a7f0-461f-f66f-fc35c1e961fa"
      },
      "execution_count": 144,
      "outputs": [
        {
          "output_type": "execute_result",
          "data": {
            "text/plain": [
              "{'LinearRegression': 0.9411546035473812,\n",
              " 'MLPRegressor': -27.143802724598643,\n",
              " 'SVM': -18.768818188905794,\n",
              " 'Ridge': 0.9374639218449975,\n",
              " 'KNN': -5.500606899772547,\n",
              " 'RandomForestRegressor': -5.112146062251897}"
            ]
          },
          "metadata": {},
          "execution_count": 144
        }
      ]
    },
    {
      "cell_type": "markdown",
      "source": [
        "**Tune KNeighborsRegressor**"
      ],
      "metadata": {
        "id": "J0hIgNh46WI4"
      }
    },
    {
      "cell_type": "code",
      "source": [
        "np.random.seed(42)\n",
        "\n",
        "# Setup random hyperparameter search for Ridge Rigressor\n",
        "knn = RandomizedSearchCV(KNeighborsRegressor(),\n",
        "                         param_distributions=grid_knn,\n",
        "                         cv=10,\n",
        "                         n_iter=10,\n",
        "                         verbose=True,\n",
        "                         n_jobs=-1)\n",
        "\n",
        "#Fit random hyperparameter search model for Ridge Rigressor \n",
        "knn.fit(X_train,y_train)\n"
      ],
      "metadata": {
        "colab": {
          "base_uri": "https://localhost:8080/"
        },
        "id": "shaK__uA495P",
        "outputId": "3a34800e-18c9-4bfe-eddf-6e90b7aeac20"
      },
      "execution_count": 145,
      "outputs": [
        {
          "output_type": "stream",
          "name": "stdout",
          "text": [
            "Fitting 10 folds for each of 10 candidates, totalling 100 fits\n"
          ]
        },
        {
          "output_type": "execute_result",
          "data": {
            "text/plain": [
              "RandomizedSearchCV(cv=10, estimator=KNeighborsRegressor(), n_jobs=-1,\n",
              "                   param_distributions={'leaf_size': array([ 1,  2,  3,  4,  5,  6,  7,  8,  9, 10, 11, 12, 13, 14, 15, 16, 17,\n",
              "       18, 19, 20, 21, 22, 23, 24, 25, 26, 27, 28, 29, 30, 31, 32, 33, 34,\n",
              "       35, 36, 37, 38, 39, 40, 41, 42, 43, 44, 45, 46, 47, 48, 49]),\n",
              "                                        'n_neighbors': array([ 1,  2,  3,  4,  5,  6,  7,  8,  9, 10, 11, 12, 13, 14, 15, 16, 17,\n",
              "       18, 19, 20, 21, 22, 23, 24, 25, 26, 27, 28, 29]),\n",
              "                                        'p': [1, 2]},\n",
              "                   verbose=True)"
            ]
          },
          "metadata": {},
          "execution_count": 145
        }
      ]
    },
    {
      "cell_type": "code",
      "source": [
        "# Find the best parameters\n",
        "knn.best_params_"
      ],
      "metadata": {
        "colab": {
          "base_uri": "https://localhost:8080/"
        },
        "id": "a_lpmqkd4-Ah",
        "outputId": "5813519d-db51-456b-c8de-d95bae827a48"
      },
      "execution_count": 146,
      "outputs": [
        {
          "output_type": "execute_result",
          "data": {
            "text/plain": [
              "{'p': 2, 'n_neighbors': 12, 'leaf_size': 38}"
            ]
          },
          "metadata": {},
          "execution_count": 146
        }
      ]
    },
    {
      "cell_type": "code",
      "source": [
        "# Evaluate the randomized search SVM Model\n",
        "knn.score(X_test, y_test)"
      ],
      "metadata": {
        "colab": {
          "base_uri": "https://localhost:8080/"
        },
        "id": "Ia5n1G5n4-HS",
        "outputId": "ed2f6a8f-e8a0-48d0-f472-e5720b9a97d2"
      },
      "execution_count": 147,
      "outputs": [
        {
          "output_type": "execute_result",
          "data": {
            "text/plain": [
              "-5.640035532718713"
            ]
          },
          "metadata": {},
          "execution_count": 147
        }
      ]
    },
    {
      "cell_type": "code",
      "source": [
        "model_scores"
      ],
      "metadata": {
        "colab": {
          "base_uri": "https://localhost:8080/"
        },
        "id": "n25Tpd7W4-Vx",
        "outputId": "0f90093a-59fa-42eb-ef21-05f59b5ff312"
      },
      "execution_count": 148,
      "outputs": [
        {
          "output_type": "execute_result",
          "data": {
            "text/plain": [
              "{'LinearRegression': 0.9411546035473812,\n",
              " 'MLPRegressor': -27.143802724598643,\n",
              " 'SVM': -18.768818188905794,\n",
              " 'Ridge': 0.9374639218449975,\n",
              " 'KNN': -5.500606899772547,\n",
              " 'RandomForestRegressor': -5.112146062251897}"
            ]
          },
          "metadata": {},
          "execution_count": 148
        }
      ]
    },
    {
      "cell_type": "markdown",
      "source": [
        "**Tune random Forest Regressor**"
      ],
      "metadata": {
        "id": "Qr9JBESc6zbo"
      }
    },
    {
      "cell_type": "code",
      "source": [
        "np.random.seed(42)\n",
        "\n",
        "# Setup random hyperparameter search for RandomForestRegressor\n",
        "rf = RandomizedSearchCV(RandomForestRegressor(),\n",
        "                         param_distributions=grid_rf,\n",
        "                         cv=10,\n",
        "                         n_iter=10,\n",
        "                         verbose=True,\n",
        "                         n_jobs=-1)\n",
        "\n",
        "#Fit random hyperparameter search model for RandomForestRegressor \n",
        "rf.fit(X_train,y_train)"
      ],
      "metadata": {
        "colab": {
          "base_uri": "https://localhost:8080/"
        },
        "id": "evTEKQ8V6u2r",
        "outputId": "7314b65c-1676-453d-d378-5445de3b90ef"
      },
      "execution_count": 149,
      "outputs": [
        {
          "output_type": "stream",
          "name": "stdout",
          "text": [
            "Fitting 10 folds for each of 10 candidates, totalling 100 fits\n"
          ]
        },
        {
          "output_type": "execute_result",
          "data": {
            "text/plain": [
              "RandomizedSearchCV(cv=10, estimator=RandomForestRegressor(), n_jobs=-1,\n",
              "                   param_distributions={'bootstrap': [True, False],\n",
              "                                        'max_depth': array([ 1,  2,  3,  4,  5,  6,  7,  8,  9, 10, 11, 12, 13, 14]),\n",
              "                                        'min_samples_leaf': array([ 1,  3,  5,  7,  9, 11, 13]),\n",
              "                                        'min_samples_split': [2, 10, 9],\n",
              "                                        'n_estimators': [20, 50, 100, 500,\n",
              "                                                         1000],\n",
              "                                        'random_state': [1, 2, 30, 42]},\n",
              "                   verbose=True)"
            ]
          },
          "metadata": {},
          "execution_count": 149
        }
      ]
    },
    {
      "cell_type": "code",
      "source": [
        "# Find the best parameters\n",
        "rf.best_params_"
      ],
      "metadata": {
        "colab": {
          "base_uri": "https://localhost:8080/"
        },
        "id": "k0UynwmY6vRk",
        "outputId": "ace73568-4468-49ec-a3ee-c469a8b252ec"
      },
      "execution_count": 150,
      "outputs": [
        {
          "output_type": "execute_result",
          "data": {
            "text/plain": [
              "{'random_state': 30,\n",
              " 'n_estimators': 50,\n",
              " 'min_samples_split': 9,\n",
              " 'min_samples_leaf': 7,\n",
              " 'max_depth': 11,\n",
              " 'bootstrap': True}"
            ]
          },
          "metadata": {},
          "execution_count": 150
        }
      ]
    },
    {
      "cell_type": "code",
      "source": [
        "# Evaluate the randomized search RandomForestRegressor Model\n",
        "rf.score(X_test, y_test)"
      ],
      "metadata": {
        "colab": {
          "base_uri": "https://localhost:8080/"
        },
        "id": "VabcTDau6vdb",
        "outputId": "c399d952-e61b-4cd8-e692-d09cd27ec8aa"
      },
      "execution_count": 151,
      "outputs": [
        {
          "output_type": "execute_result",
          "data": {
            "text/plain": [
              "-5.438426097329437"
            ]
          },
          "metadata": {},
          "execution_count": 151
        }
      ]
    },
    {
      "cell_type": "code",
      "source": [
        "model_scores"
      ],
      "metadata": {
        "colab": {
          "base_uri": "https://localhost:8080/"
        },
        "id": "w9o1back6vn9",
        "outputId": "aca98816-e4f6-4c82-e061-50d73d10ef22"
      },
      "execution_count": 152,
      "outputs": [
        {
          "output_type": "execute_result",
          "data": {
            "text/plain": [
              "{'LinearRegression': 0.9411546035473812,\n",
              " 'MLPRegressor': -27.143802724598643,\n",
              " 'SVM': -18.768818188905794,\n",
              " 'Ridge': 0.9374639218449975,\n",
              " 'KNN': -5.500606899772547,\n",
              " 'RandomForestRegressor': -5.112146062251897}"
            ]
          },
          "metadata": {},
          "execution_count": 152
        }
      ]
    },
    {
      "cell_type": "code",
      "source": [
        "# test models\n",
        "models = {  'LinearRegression':LinearRegression(positive= 'True', fit_intercept= 'True'),\n",
        "            'MLPRegressor': MLPRegressor(validation_fraction= 0.0, solver='lbfgs', \n",
        "                                         max_iter=200, hidden_layer_sizes=100, activation='relu'),\n",
        "            'SVM': SVR(kernel= 'linear', gamma= 0.001, C=10),\n",
        "            'Ridge':Ridge(alpha= 200),\n",
        "            'KNN': KNeighborsRegressor(p= 2, n_neighbors= 12, leaf_size= 38),\n",
        "            'RandomForestRegressor': RandomForestRegressor(random_state= 30, n_estimators= 50, min_samples_split= 9, \n",
        "                                                            min_samples_leaf= 7, max_depth= 11, bootstrap= True)\n",
        "            }\n",
        "\n",
        "for model_name in models.keys():\n",
        "\n",
        "    model = models[model_name]\n",
        "    print('\\n'+'--------------',model_name,'---------------'+'\\n')\n",
        "    model.fit(X_train,y_train)\n",
        "    predict = model.predict(X_test)\n",
        "    print(\"Mean Absolute Error:\", round(metrics.mean_absolute_error(y_test, predict), 4))\n",
        "    print(\"Mean Squared Error:\", round(metrics.mean_squared_error(y_test, predict), 4))\n",
        "    print(\"Root Mean Squared Error:\", round(np.sqrt(metrics.mean_squared_error(y_test, predict)), 4))\n",
        "    print(\"(R^2) Score:\", round(metrics.r2_score(y_test, predict), 4))\n",
        "    print(f'Train Score : {model.score(X_train, y_train) * 100:.2f}% and Test Score : {model.score(X_test, y_test) * 100:.2f}% using {model_name}.')\n",
        "    errors = abs(predict - y_test)\n",
        "    mape = 100 * (errors / y_test)\n",
        "    accuracy = 100 - np.mean(mape)\n",
        "    print('Accuracy:', round(accuracy, 2), '%.')"
      ],
      "metadata": {
        "colab": {
          "base_uri": "https://localhost:8080/"
        },
        "id": "NE5R_v7w4Fzr",
        "outputId": "b4dd4007-5792-43fb-ef95-89a2b1f112a8"
      },
      "execution_count": 155,
      "outputs": [
        {
          "output_type": "stream",
          "name": "stdout",
          "text": [
            "\n",
            "-------------- LinearRegression ---------------\n",
            "\n",
            "Mean Absolute Error: 25.2292\n",
            "Mean Squared Error: 1571.9581\n",
            "Root Mean Squared Error: 39.6479\n",
            "(R^2) Score: 0.9395\n",
            "Train Score : 98.55% and Test Score : 93.95% using LinearRegression.\n",
            "Accuracy: 97.67 %.\n",
            "\n",
            "-------------- MLPRegressor ---------------\n",
            "\n",
            "Mean Absolute Error: 24.2931\n",
            "Mean Squared Error: 1477.9509\n",
            "Root Mean Squared Error: 38.4441\n",
            "(R^2) Score: 0.9431\n",
            "Train Score : 98.62% and Test Score : 94.31% using MLPRegressor.\n",
            "Accuracy: 97.82 %.\n",
            "\n",
            "-------------- SVM ---------------\n",
            "\n",
            "Mean Absolute Error: 25.9454\n",
            "Mean Squared Error: 1759.6181\n",
            "Root Mean Squared Error: 41.9478\n",
            "(R^2) Score: 0.9323\n",
            "Train Score : 98.52% and Test Score : 93.23% using SVM.\n",
            "Accuracy: 97.58 %.\n",
            "\n",
            "-------------- Ridge ---------------\n",
            "\n",
            "Mean Absolute Error: 65.6613\n",
            "Mean Squared Error: 6876.655\n",
            "Root Mean Squared Error: 82.9256\n",
            "(R^2) Score: 0.7353\n",
            "Train Score : 97.02% and Test Score : 73.53% using Ridge.\n",
            "Accuracy: 93.96 %.\n",
            "\n",
            "-------------- KNN ---------------\n",
            "\n",
            "Mean Absolute Error: 383.0197\n",
            "Mean Squared Error: 172531.9974\n",
            "Root Mean Squared Error: 415.3697\n",
            "(R^2) Score: -5.64\n",
            "Train Score : 98.04% and Test Score : -564.00% using KNN.\n",
            "Accuracy: 67.03 %.\n",
            "\n",
            "-------------- RandomForestRegressor ---------------\n",
            "\n",
            "Mean Absolute Error: 376.3615\n",
            "Mean Squared Error: 167293.4594\n",
            "Root Mean Squared Error: 409.0152\n",
            "(R^2) Score: -5.4384\n",
            "Train Score : 98.96% and Test Score : -543.84% using RandomForestRegressor.\n",
            "Accuracy: 67.62 %.\n"
          ]
        }
      ]
    },
    {
      "cell_type": "markdown",
      "source": [
        "**Hyperparameter Tuning with GridSearchCV**"
      ],
      "metadata": {
        "id": "zxxkzSA6884J"
      }
    },
    {
      "cell_type": "code",
      "source": [
        "np.random.seed(42)\n",
        "\n",
        "gs_rf = GridSearchCV(MLPRegressor(),\n",
        "                           param_grid=grid_mlp,\n",
        "                           cv=10,\n",
        "                           verbose=True,\n",
        "                           n_jobs=4)\n",
        "#Fit grid hyperparameter search model for RandomForestClassifer\n",
        "gs_rf.fit(X_train, y_train)\n"
      ],
      "metadata": {
        "colab": {
          "base_uri": "https://localhost:8080/"
        },
        "id": "rMjPjTGf9BSh",
        "outputId": "662267fd-0dbf-4d7e-9c47-c6902e85cb66"
      },
      "execution_count": 161,
      "outputs": [
        {
          "output_type": "stream",
          "name": "stdout",
          "text": [
            "Fitting 10 folds for each of 180 candidates, totalling 1800 fits\n"
          ]
        },
        {
          "output_type": "execute_result",
          "data": {
            "text/plain": [
              "GridSearchCV(cv=10, estimator=MLPRegressor(), n_jobs=4,\n",
              "             param_grid={'activation': ['relu', 'identity', 'logistic', 'tanh'],\n",
              "                         'hidden_layer_sizes': (150, 100, 50),\n",
              "                         'max_iter': [100, 200, 300, 500, 1000],\n",
              "                         'solver': ['adam', 'lbfgs', 'sgd'],\n",
              "                         'validation_fraction': array([0.])},\n",
              "             verbose=True)"
            ]
          },
          "metadata": {},
          "execution_count": 161
        }
      ]
    },
    {
      "cell_type": "code",
      "source": [
        "#Find the best hyperparameter for RandomForestClassifier\n",
        "gs_rf.best_params_"
      ],
      "metadata": {
        "colab": {
          "base_uri": "https://localhost:8080/"
        },
        "id": "wDxxylwMD3tI",
        "outputId": "9b50f11f-50ab-4303-e0d0-92875b491946"
      },
      "execution_count": 163,
      "outputs": [
        {
          "output_type": "execute_result",
          "data": {
            "text/plain": [
              "{'activation': 'identity',\n",
              " 'hidden_layer_sizes': 100,\n",
              " 'max_iter': 1000,\n",
              " 'solver': 'lbfgs',\n",
              " 'validation_fraction': 0.0}"
            ]
          },
          "metadata": {},
          "execution_count": 163
        }
      ]
    },
    {
      "cell_type": "code",
      "source": [
        "#Evaluate the Grid Search RandomForestClassifier\n",
        "gs_rf.score(X_test,y_test)"
      ],
      "metadata": {
        "colab": {
          "base_uri": "https://localhost:8080/"
        },
        "id": "f1yafg-BEQIi",
        "outputId": "adb869bf-dad8-44e4-c72e-4d6ae9d0eb96"
      },
      "execution_count": 164,
      "outputs": [
        {
          "output_type": "execute_result",
          "data": {
            "text/plain": [
              "0.9411541390532673"
            ]
          },
          "metadata": {},
          "execution_count": 164
        }
      ]
    },
    {
      "cell_type": "code",
      "source": [
        "## ideal hyperparameter\n",
        "ideal_model = MLPRegressor(activation= 'identity', hidden_layer_sizes= 100, max_iter= 1000, \n",
        "                           solver= 'lbfgs', validation_fraction= 0.0)"
      ],
      "metadata": {
        "id": "669K6cT_8wMf"
      },
      "execution_count": 165,
      "outputs": []
    },
    {
      "cell_type": "code",
      "source": [
        "# MLPRegressor().get_params().keys()"
      ],
      "metadata": {
        "id": "dDQMqDbw8wvw"
      },
      "execution_count": 162,
      "outputs": []
    },
    {
      "cell_type": "code",
      "source": [
        "## Fit the model\n",
        "ideal_model.fit(X_train, y_train)\n"
      ],
      "metadata": {
        "colab": {
          "base_uri": "https://localhost:8080/"
        },
        "id": "48imEHwe8w-s",
        "outputId": "20f552da-f272-4026-b3ff-68af4f1587b6"
      },
      "execution_count": 166,
      "outputs": [
        {
          "output_type": "execute_result",
          "data": {
            "text/plain": [
              "MLPRegressor(activation='identity', hidden_layer_sizes=100, max_iter=1000,\n",
              "             solver='lbfgs', validation_fraction=0.0)"
            ]
          },
          "metadata": {},
          "execution_count": 166
        }
      ]
    },
    {
      "cell_type": "code",
      "source": [
        "ideal_model.score(X_test, y_test)"
      ],
      "metadata": {
        "colab": {
          "base_uri": "https://localhost:8080/"
        },
        "id": "x0aTqRN98xKG",
        "outputId": "66de59c4-26fb-443d-aadb-750205fa5860"
      },
      "execution_count": 167,
      "outputs": [
        {
          "output_type": "execute_result",
          "data": {
            "text/plain": [
              "0.9411543863842473"
            ]
          },
          "metadata": {},
          "execution_count": 167
        }
      ]
    },
    {
      "cell_type": "code",
      "source": [
        "X_test.shape"
      ],
      "metadata": {
        "colab": {
          "base_uri": "https://localhost:8080/"
        },
        "id": "dclt2CbjFNzt",
        "outputId": "8bdc8d83-319b-4464-9a38-bc5e09c61dba"
      },
      "execution_count": 179,
      "outputs": [
        {
          "output_type": "execute_result",
          "data": {
            "text/plain": [
              "(89, 5)"
            ]
          },
          "metadata": {},
          "execution_count": 179
        }
      ]
    },
    {
      "cell_type": "code",
      "source": [
        "predict = ideal_model.predict(X_test)\n"
      ],
      "metadata": {
        "id": "Oo1w47J48xUR"
      },
      "execution_count": 168,
      "outputs": []
    },
    {
      "cell_type": "code",
      "source": [
        "df"
      ],
      "metadata": {
        "colab": {
          "base_uri": "https://localhost:8080/",
          "height": 690
        },
        "id": "t1oPZ4rZ8xdM",
        "outputId": "c76304af-f58b-424f-9187-23a04277a0ad"
      },
      "execution_count": 169,
      "outputs": [
        {
          "output_type": "execute_result",
          "data": {
            "text/plain": [
              "             Open   High    Low    Qty    Turnover  economic-subjectivity  \\\n",
              "Date                                                                        \n",
              "2022-06-29  318.9  318.9  310.0  310.0   6127716.2               0.457500   \n",
              "2022-06-28  312.0  316.5  306.0  306.0   5707986.7               0.195556   \n",
              "2022-06-27  322.0  325.0  310.0  310.0  11125995.5               0.225000   \n",
              "2022-06-26  312.9  320.0  308.0  308.0  28577745.1               0.253704   \n",
              "2022-06-24  305.0  310.0  298.2  298.2  25399389.8               0.280303   \n",
              "...           ...    ...    ...    ...         ...                    ...   \n",
              "2016-07-17  869.0  955.0  886.0  886.0   2538590.0               0.277273   \n",
              "2016-07-14  790.0  869.0  805.0  805.0    151344.0               0.303030   \n",
              "2016-07-13  719.0  790.0  733.0  733.0   4231540.0               0.293182   \n",
              "2016-07-12  654.0  719.0  667.0  667.0     89570.0               0.315774   \n",
              "2016-07-11  595.0  654.0  606.0  606.0    685500.0               0.563333   \n",
              "\n",
              "            economic-polarity  political-subjectivity  political-polarity  \\\n",
              "Date                                                                        \n",
              "2022-06-29           0.017500                0.460909           -0.122727   \n",
              "2022-06-28           0.017778                0.425000            0.350000   \n",
              "2022-06-27          -0.012500                0.457792            0.169481   \n",
              "2022-06-26           0.038889                0.570909            0.241818   \n",
              "2022-06-24           0.042424                0.300000            0.128788   \n",
              "...                       ...                     ...                 ...   \n",
              "2016-07-17           0.218182                0.461818            0.004545   \n",
              "2016-07-14           0.090909                0.326515           -0.087879   \n",
              "2016-07-13           0.337121                0.444805           -0.012987   \n",
              "2016-07-12           0.166369                0.343232           -0.007475   \n",
              "2016-07-11           0.000000                0.277381           -0.035714   \n",
              "\n",
              "              Ltp  % Change  \n",
              "Date                         \n",
              "2022-06-29  315.0      0.64  \n",
              "2022-06-28  313.0      0.32  \n",
              "2022-06-27  312.0     -2.50  \n",
              "2022-06-26  320.0      4.23  \n",
              "2022-06-24  307.0     -0.97  \n",
              "...           ...       ...  \n",
              "2016-07-17  955.0      0.00  \n",
              "2016-07-14  869.0      0.00  \n",
              "2016-07-13  790.0      0.00  \n",
              "2016-07-12  719.0      0.00  \n",
              "2016-07-11  654.0      0.00  \n",
              "\n",
              "[948 rows x 11 columns]"
            ],
            "text/html": [
              "\n",
              "  <div id=\"df-d1ba80c9-6f47-4f2c-8c51-7e32ce23dec1\">\n",
              "    <div class=\"colab-df-container\">\n",
              "      <div>\n",
              "<style scoped>\n",
              "    .dataframe tbody tr th:only-of-type {\n",
              "        vertical-align: middle;\n",
              "    }\n",
              "\n",
              "    .dataframe tbody tr th {\n",
              "        vertical-align: top;\n",
              "    }\n",
              "\n",
              "    .dataframe thead th {\n",
              "        text-align: right;\n",
              "    }\n",
              "</style>\n",
              "<table border=\"1\" class=\"dataframe\">\n",
              "  <thead>\n",
              "    <tr style=\"text-align: right;\">\n",
              "      <th></th>\n",
              "      <th>Open</th>\n",
              "      <th>High</th>\n",
              "      <th>Low</th>\n",
              "      <th>Qty</th>\n",
              "      <th>Turnover</th>\n",
              "      <th>economic-subjectivity</th>\n",
              "      <th>economic-polarity</th>\n",
              "      <th>political-subjectivity</th>\n",
              "      <th>political-polarity</th>\n",
              "      <th>Ltp</th>\n",
              "      <th>% Change</th>\n",
              "    </tr>\n",
              "    <tr>\n",
              "      <th>Date</th>\n",
              "      <th></th>\n",
              "      <th></th>\n",
              "      <th></th>\n",
              "      <th></th>\n",
              "      <th></th>\n",
              "      <th></th>\n",
              "      <th></th>\n",
              "      <th></th>\n",
              "      <th></th>\n",
              "      <th></th>\n",
              "      <th></th>\n",
              "    </tr>\n",
              "  </thead>\n",
              "  <tbody>\n",
              "    <tr>\n",
              "      <th>2022-06-29</th>\n",
              "      <td>318.9</td>\n",
              "      <td>318.9</td>\n",
              "      <td>310.0</td>\n",
              "      <td>310.0</td>\n",
              "      <td>6127716.2</td>\n",
              "      <td>0.457500</td>\n",
              "      <td>0.017500</td>\n",
              "      <td>0.460909</td>\n",
              "      <td>-0.122727</td>\n",
              "      <td>315.0</td>\n",
              "      <td>0.64</td>\n",
              "    </tr>\n",
              "    <tr>\n",
              "      <th>2022-06-28</th>\n",
              "      <td>312.0</td>\n",
              "      <td>316.5</td>\n",
              "      <td>306.0</td>\n",
              "      <td>306.0</td>\n",
              "      <td>5707986.7</td>\n",
              "      <td>0.195556</td>\n",
              "      <td>0.017778</td>\n",
              "      <td>0.425000</td>\n",
              "      <td>0.350000</td>\n",
              "      <td>313.0</td>\n",
              "      <td>0.32</td>\n",
              "    </tr>\n",
              "    <tr>\n",
              "      <th>2022-06-27</th>\n",
              "      <td>322.0</td>\n",
              "      <td>325.0</td>\n",
              "      <td>310.0</td>\n",
              "      <td>310.0</td>\n",
              "      <td>11125995.5</td>\n",
              "      <td>0.225000</td>\n",
              "      <td>-0.012500</td>\n",
              "      <td>0.457792</td>\n",
              "      <td>0.169481</td>\n",
              "      <td>312.0</td>\n",
              "      <td>-2.50</td>\n",
              "    </tr>\n",
              "    <tr>\n",
              "      <th>2022-06-26</th>\n",
              "      <td>312.9</td>\n",
              "      <td>320.0</td>\n",
              "      <td>308.0</td>\n",
              "      <td>308.0</td>\n",
              "      <td>28577745.1</td>\n",
              "      <td>0.253704</td>\n",
              "      <td>0.038889</td>\n",
              "      <td>0.570909</td>\n",
              "      <td>0.241818</td>\n",
              "      <td>320.0</td>\n",
              "      <td>4.23</td>\n",
              "    </tr>\n",
              "    <tr>\n",
              "      <th>2022-06-24</th>\n",
              "      <td>305.0</td>\n",
              "      <td>310.0</td>\n",
              "      <td>298.2</td>\n",
              "      <td>298.2</td>\n",
              "      <td>25399389.8</td>\n",
              "      <td>0.280303</td>\n",
              "      <td>0.042424</td>\n",
              "      <td>0.300000</td>\n",
              "      <td>0.128788</td>\n",
              "      <td>307.0</td>\n",
              "      <td>-0.97</td>\n",
              "    </tr>\n",
              "    <tr>\n",
              "      <th>...</th>\n",
              "      <td>...</td>\n",
              "      <td>...</td>\n",
              "      <td>...</td>\n",
              "      <td>...</td>\n",
              "      <td>...</td>\n",
              "      <td>...</td>\n",
              "      <td>...</td>\n",
              "      <td>...</td>\n",
              "      <td>...</td>\n",
              "      <td>...</td>\n",
              "      <td>...</td>\n",
              "    </tr>\n",
              "    <tr>\n",
              "      <th>2016-07-17</th>\n",
              "      <td>869.0</td>\n",
              "      <td>955.0</td>\n",
              "      <td>886.0</td>\n",
              "      <td>886.0</td>\n",
              "      <td>2538590.0</td>\n",
              "      <td>0.277273</td>\n",
              "      <td>0.218182</td>\n",
              "      <td>0.461818</td>\n",
              "      <td>0.004545</td>\n",
              "      <td>955.0</td>\n",
              "      <td>0.00</td>\n",
              "    </tr>\n",
              "    <tr>\n",
              "      <th>2016-07-14</th>\n",
              "      <td>790.0</td>\n",
              "      <td>869.0</td>\n",
              "      <td>805.0</td>\n",
              "      <td>805.0</td>\n",
              "      <td>151344.0</td>\n",
              "      <td>0.303030</td>\n",
              "      <td>0.090909</td>\n",
              "      <td>0.326515</td>\n",
              "      <td>-0.087879</td>\n",
              "      <td>869.0</td>\n",
              "      <td>0.00</td>\n",
              "    </tr>\n",
              "    <tr>\n",
              "      <th>2016-07-13</th>\n",
              "      <td>719.0</td>\n",
              "      <td>790.0</td>\n",
              "      <td>733.0</td>\n",
              "      <td>733.0</td>\n",
              "      <td>4231540.0</td>\n",
              "      <td>0.293182</td>\n",
              "      <td>0.337121</td>\n",
              "      <td>0.444805</td>\n",
              "      <td>-0.012987</td>\n",
              "      <td>790.0</td>\n",
              "      <td>0.00</td>\n",
              "    </tr>\n",
              "    <tr>\n",
              "      <th>2016-07-12</th>\n",
              "      <td>654.0</td>\n",
              "      <td>719.0</td>\n",
              "      <td>667.0</td>\n",
              "      <td>667.0</td>\n",
              "      <td>89570.0</td>\n",
              "      <td>0.315774</td>\n",
              "      <td>0.166369</td>\n",
              "      <td>0.343232</td>\n",
              "      <td>-0.007475</td>\n",
              "      <td>719.0</td>\n",
              "      <td>0.00</td>\n",
              "    </tr>\n",
              "    <tr>\n",
              "      <th>2016-07-11</th>\n",
              "      <td>595.0</td>\n",
              "      <td>654.0</td>\n",
              "      <td>606.0</td>\n",
              "      <td>606.0</td>\n",
              "      <td>685500.0</td>\n",
              "      <td>0.563333</td>\n",
              "      <td>0.000000</td>\n",
              "      <td>0.277381</td>\n",
              "      <td>-0.035714</td>\n",
              "      <td>654.0</td>\n",
              "      <td>0.00</td>\n",
              "    </tr>\n",
              "  </tbody>\n",
              "</table>\n",
              "<p>948 rows × 11 columns</p>\n",
              "</div>\n",
              "      <button class=\"colab-df-convert\" onclick=\"convertToInteractive('df-d1ba80c9-6f47-4f2c-8c51-7e32ce23dec1')\"\n",
              "              title=\"Convert this dataframe to an interactive table.\"\n",
              "              style=\"display:none;\">\n",
              "        \n",
              "  <svg xmlns=\"http://www.w3.org/2000/svg\" height=\"24px\"viewBox=\"0 0 24 24\"\n",
              "       width=\"24px\">\n",
              "    <path d=\"M0 0h24v24H0V0z\" fill=\"none\"/>\n",
              "    <path d=\"M18.56 5.44l.94 2.06.94-2.06 2.06-.94-2.06-.94-.94-2.06-.94 2.06-2.06.94zm-11 1L8.5 8.5l.94-2.06 2.06-.94-2.06-.94L8.5 2.5l-.94 2.06-2.06.94zm10 10l.94 2.06.94-2.06 2.06-.94-2.06-.94-.94-2.06-.94 2.06-2.06.94z\"/><path d=\"M17.41 7.96l-1.37-1.37c-.4-.4-.92-.59-1.43-.59-.52 0-1.04.2-1.43.59L10.3 9.45l-7.72 7.72c-.78.78-.78 2.05 0 2.83L4 21.41c.39.39.9.59 1.41.59.51 0 1.02-.2 1.41-.59l7.78-7.78 2.81-2.81c.8-.78.8-2.07 0-2.86zM5.41 20L4 18.59l7.72-7.72 1.47 1.35L5.41 20z\"/>\n",
              "  </svg>\n",
              "      </button>\n",
              "      \n",
              "  <style>\n",
              "    .colab-df-container {\n",
              "      display:flex;\n",
              "      flex-wrap:wrap;\n",
              "      gap: 12px;\n",
              "    }\n",
              "\n",
              "    .colab-df-convert {\n",
              "      background-color: #E8F0FE;\n",
              "      border: none;\n",
              "      border-radius: 50%;\n",
              "      cursor: pointer;\n",
              "      display: none;\n",
              "      fill: #1967D2;\n",
              "      height: 32px;\n",
              "      padding: 0 0 0 0;\n",
              "      width: 32px;\n",
              "    }\n",
              "\n",
              "    .colab-df-convert:hover {\n",
              "      background-color: #E2EBFA;\n",
              "      box-shadow: 0px 1px 2px rgba(60, 64, 67, 0.3), 0px 1px 3px 1px rgba(60, 64, 67, 0.15);\n",
              "      fill: #174EA6;\n",
              "    }\n",
              "\n",
              "    [theme=dark] .colab-df-convert {\n",
              "      background-color: #3B4455;\n",
              "      fill: #D2E3FC;\n",
              "    }\n",
              "\n",
              "    [theme=dark] .colab-df-convert:hover {\n",
              "      background-color: #434B5C;\n",
              "      box-shadow: 0px 1px 3px 1px rgba(0, 0, 0, 0.15);\n",
              "      filter: drop-shadow(0px 1px 2px rgba(0, 0, 0, 0.3));\n",
              "      fill: #FFFFFF;\n",
              "    }\n",
              "  </style>\n",
              "\n",
              "      <script>\n",
              "        const buttonEl =\n",
              "          document.querySelector('#df-d1ba80c9-6f47-4f2c-8c51-7e32ce23dec1 button.colab-df-convert');\n",
              "        buttonEl.style.display =\n",
              "          google.colab.kernel.accessAllowed ? 'block' : 'none';\n",
              "\n",
              "        async function convertToInteractive(key) {\n",
              "          const element = document.querySelector('#df-d1ba80c9-6f47-4f2c-8c51-7e32ce23dec1');\n",
              "          const dataTable =\n",
              "            await google.colab.kernel.invokeFunction('convertToInteractive',\n",
              "                                                     [key], {});\n",
              "          if (!dataTable) return;\n",
              "\n",
              "          const docLinkHtml = 'Like what you see? Visit the ' +\n",
              "            '<a target=\"_blank\" href=https://colab.research.google.com/notebooks/data_table.ipynb>data table notebook</a>'\n",
              "            + ' to learn more about interactive tables.';\n",
              "          element.innerHTML = '';\n",
              "          dataTable['output_type'] = 'display_data';\n",
              "          await google.colab.output.renderOutput(dataTable, element);\n",
              "          const docLink = document.createElement('div');\n",
              "          docLink.innerHTML = docLinkHtml;\n",
              "          element.appendChild(docLink);\n",
              "        }\n",
              "      </script>\n",
              "    </div>\n",
              "  </div>\n",
              "  "
            ]
          },
          "metadata": {},
          "execution_count": 169
        }
      ]
    },
    {
      "cell_type": "code",
      "source": [
        "predictions = pd.DataFrame({\"Predictions\": predict}, index=pd.date_range(start=df.index[0], periods=len(predict), freq=\"D\"))"
      ],
      "metadata": {
        "id": "-PFMq4tl8TNT"
      },
      "execution_count": 170,
      "outputs": []
    },
    {
      "cell_type": "code",
      "source": [
        "predictions"
      ],
      "metadata": {
        "colab": {
          "base_uri": "https://localhost:8080/",
          "height": 424
        },
        "id": "97V6K6QAEtW1",
        "outputId": "5c8390c0-2f2f-4775-e6e3-36d7725847c1"
      },
      "execution_count": 171,
      "outputs": [
        {
          "output_type": "execute_result",
          "data": {
            "text/plain": [
              "            Predictions\n",
              "2022-06-29   958.526293\n",
              "2022-06-30   960.900499\n",
              "2022-07-01   979.359577\n",
              "2022-07-02   978.600143\n",
              "2022-07-03   982.683065\n",
              "...                 ...\n",
              "2022-09-21  1146.566128\n",
              "2022-09-22  1046.059970\n",
              "2022-09-23   952.240843\n",
              "2022-09-24   864.210699\n",
              "2022-09-25   785.099571\n",
              "\n",
              "[89 rows x 1 columns]"
            ],
            "text/html": [
              "\n",
              "  <div id=\"df-f83c2e30-4ad6-4ceb-be3f-b06a53d88dc3\">\n",
              "    <div class=\"colab-df-container\">\n",
              "      <div>\n",
              "<style scoped>\n",
              "    .dataframe tbody tr th:only-of-type {\n",
              "        vertical-align: middle;\n",
              "    }\n",
              "\n",
              "    .dataframe tbody tr th {\n",
              "        vertical-align: top;\n",
              "    }\n",
              "\n",
              "    .dataframe thead th {\n",
              "        text-align: right;\n",
              "    }\n",
              "</style>\n",
              "<table border=\"1\" class=\"dataframe\">\n",
              "  <thead>\n",
              "    <tr style=\"text-align: right;\">\n",
              "      <th></th>\n",
              "      <th>Predictions</th>\n",
              "    </tr>\n",
              "  </thead>\n",
              "  <tbody>\n",
              "    <tr>\n",
              "      <th>2022-06-29</th>\n",
              "      <td>958.526293</td>\n",
              "    </tr>\n",
              "    <tr>\n",
              "      <th>2022-06-30</th>\n",
              "      <td>960.900499</td>\n",
              "    </tr>\n",
              "    <tr>\n",
              "      <th>2022-07-01</th>\n",
              "      <td>979.359577</td>\n",
              "    </tr>\n",
              "    <tr>\n",
              "      <th>2022-07-02</th>\n",
              "      <td>978.600143</td>\n",
              "    </tr>\n",
              "    <tr>\n",
              "      <th>2022-07-03</th>\n",
              "      <td>982.683065</td>\n",
              "    </tr>\n",
              "    <tr>\n",
              "      <th>...</th>\n",
              "      <td>...</td>\n",
              "    </tr>\n",
              "    <tr>\n",
              "      <th>2022-09-21</th>\n",
              "      <td>1146.566128</td>\n",
              "    </tr>\n",
              "    <tr>\n",
              "      <th>2022-09-22</th>\n",
              "      <td>1046.059970</td>\n",
              "    </tr>\n",
              "    <tr>\n",
              "      <th>2022-09-23</th>\n",
              "      <td>952.240843</td>\n",
              "    </tr>\n",
              "    <tr>\n",
              "      <th>2022-09-24</th>\n",
              "      <td>864.210699</td>\n",
              "    </tr>\n",
              "    <tr>\n",
              "      <th>2022-09-25</th>\n",
              "      <td>785.099571</td>\n",
              "    </tr>\n",
              "  </tbody>\n",
              "</table>\n",
              "<p>89 rows × 1 columns</p>\n",
              "</div>\n",
              "      <button class=\"colab-df-convert\" onclick=\"convertToInteractive('df-f83c2e30-4ad6-4ceb-be3f-b06a53d88dc3')\"\n",
              "              title=\"Convert this dataframe to an interactive table.\"\n",
              "              style=\"display:none;\">\n",
              "        \n",
              "  <svg xmlns=\"http://www.w3.org/2000/svg\" height=\"24px\"viewBox=\"0 0 24 24\"\n",
              "       width=\"24px\">\n",
              "    <path d=\"M0 0h24v24H0V0z\" fill=\"none\"/>\n",
              "    <path d=\"M18.56 5.44l.94 2.06.94-2.06 2.06-.94-2.06-.94-.94-2.06-.94 2.06-2.06.94zm-11 1L8.5 8.5l.94-2.06 2.06-.94-2.06-.94L8.5 2.5l-.94 2.06-2.06.94zm10 10l.94 2.06.94-2.06 2.06-.94-2.06-.94-.94-2.06-.94 2.06-2.06.94z\"/><path d=\"M17.41 7.96l-1.37-1.37c-.4-.4-.92-.59-1.43-.59-.52 0-1.04.2-1.43.59L10.3 9.45l-7.72 7.72c-.78.78-.78 2.05 0 2.83L4 21.41c.39.39.9.59 1.41.59.51 0 1.02-.2 1.41-.59l7.78-7.78 2.81-2.81c.8-.78.8-2.07 0-2.86zM5.41 20L4 18.59l7.72-7.72 1.47 1.35L5.41 20z\"/>\n",
              "  </svg>\n",
              "      </button>\n",
              "      \n",
              "  <style>\n",
              "    .colab-df-container {\n",
              "      display:flex;\n",
              "      flex-wrap:wrap;\n",
              "      gap: 12px;\n",
              "    }\n",
              "\n",
              "    .colab-df-convert {\n",
              "      background-color: #E8F0FE;\n",
              "      border: none;\n",
              "      border-radius: 50%;\n",
              "      cursor: pointer;\n",
              "      display: none;\n",
              "      fill: #1967D2;\n",
              "      height: 32px;\n",
              "      padding: 0 0 0 0;\n",
              "      width: 32px;\n",
              "    }\n",
              "\n",
              "    .colab-df-convert:hover {\n",
              "      background-color: #E2EBFA;\n",
              "      box-shadow: 0px 1px 2px rgba(60, 64, 67, 0.3), 0px 1px 3px 1px rgba(60, 64, 67, 0.15);\n",
              "      fill: #174EA6;\n",
              "    }\n",
              "\n",
              "    [theme=dark] .colab-df-convert {\n",
              "      background-color: #3B4455;\n",
              "      fill: #D2E3FC;\n",
              "    }\n",
              "\n",
              "    [theme=dark] .colab-df-convert:hover {\n",
              "      background-color: #434B5C;\n",
              "      box-shadow: 0px 1px 3px 1px rgba(0, 0, 0, 0.15);\n",
              "      filter: drop-shadow(0px 1px 2px rgba(0, 0, 0, 0.3));\n",
              "      fill: #FFFFFF;\n",
              "    }\n",
              "  </style>\n",
              "\n",
              "      <script>\n",
              "        const buttonEl =\n",
              "          document.querySelector('#df-f83c2e30-4ad6-4ceb-be3f-b06a53d88dc3 button.colab-df-convert');\n",
              "        buttonEl.style.display =\n",
              "          google.colab.kernel.accessAllowed ? 'block' : 'none';\n",
              "\n",
              "        async function convertToInteractive(key) {\n",
              "          const element = document.querySelector('#df-f83c2e30-4ad6-4ceb-be3f-b06a53d88dc3');\n",
              "          const dataTable =\n",
              "            await google.colab.kernel.invokeFunction('convertToInteractive',\n",
              "                                                     [key], {});\n",
              "          if (!dataTable) return;\n",
              "\n",
              "          const docLinkHtml = 'Like what you see? Visit the ' +\n",
              "            '<a target=\"_blank\" href=https://colab.research.google.com/notebooks/data_table.ipynb>data table notebook</a>'\n",
              "            + ' to learn more about interactive tables.';\n",
              "          element.innerHTML = '';\n",
              "          dataTable['output_type'] = 'display_data';\n",
              "          await google.colab.output.renderOutput(dataTable, element);\n",
              "          const docLink = document.createElement('div');\n",
              "          docLink.innerHTML = docLinkHtml;\n",
              "          element.appendChild(docLink);\n",
              "        }\n",
              "      </script>\n",
              "    </div>\n",
              "  </div>\n",
              "  "
            ]
          },
          "metadata": {},
          "execution_count": 171
        }
      ]
    },
    {
      "cell_type": "code",
      "source": [
        "fivedays_df = pd.DataFrame(predictions[:5])"
      ],
      "metadata": {
        "id": "vZgOK490Evkc"
      },
      "execution_count": 172,
      "outputs": []
    },
    {
      "cell_type": "code",
      "source": [
        "fivedays_df"
      ],
      "metadata": {
        "colab": {
          "base_uri": "https://localhost:8080/",
          "height": 206
        },
        "id": "10E6m0p4EziR",
        "outputId": "5f0d70f5-b3c9-4b58-e3d2-c3553bbd9d1c"
      },
      "execution_count": 173,
      "outputs": [
        {
          "output_type": "execute_result",
          "data": {
            "text/plain": [
              "            Predictions\n",
              "2022-06-29   958.526293\n",
              "2022-06-30   960.900499\n",
              "2022-07-01   979.359577\n",
              "2022-07-02   978.600143\n",
              "2022-07-03   982.683065"
            ],
            "text/html": [
              "\n",
              "  <div id=\"df-598cd4f7-656e-4ddc-9a1e-81b70f20a2b3\">\n",
              "    <div class=\"colab-df-container\">\n",
              "      <div>\n",
              "<style scoped>\n",
              "    .dataframe tbody tr th:only-of-type {\n",
              "        vertical-align: middle;\n",
              "    }\n",
              "\n",
              "    .dataframe tbody tr th {\n",
              "        vertical-align: top;\n",
              "    }\n",
              "\n",
              "    .dataframe thead th {\n",
              "        text-align: right;\n",
              "    }\n",
              "</style>\n",
              "<table border=\"1\" class=\"dataframe\">\n",
              "  <thead>\n",
              "    <tr style=\"text-align: right;\">\n",
              "      <th></th>\n",
              "      <th>Predictions</th>\n",
              "    </tr>\n",
              "  </thead>\n",
              "  <tbody>\n",
              "    <tr>\n",
              "      <th>2022-06-29</th>\n",
              "      <td>958.526293</td>\n",
              "    </tr>\n",
              "    <tr>\n",
              "      <th>2022-06-30</th>\n",
              "      <td>960.900499</td>\n",
              "    </tr>\n",
              "    <tr>\n",
              "      <th>2022-07-01</th>\n",
              "      <td>979.359577</td>\n",
              "    </tr>\n",
              "    <tr>\n",
              "      <th>2022-07-02</th>\n",
              "      <td>978.600143</td>\n",
              "    </tr>\n",
              "    <tr>\n",
              "      <th>2022-07-03</th>\n",
              "      <td>982.683065</td>\n",
              "    </tr>\n",
              "  </tbody>\n",
              "</table>\n",
              "</div>\n",
              "      <button class=\"colab-df-convert\" onclick=\"convertToInteractive('df-598cd4f7-656e-4ddc-9a1e-81b70f20a2b3')\"\n",
              "              title=\"Convert this dataframe to an interactive table.\"\n",
              "              style=\"display:none;\">\n",
              "        \n",
              "  <svg xmlns=\"http://www.w3.org/2000/svg\" height=\"24px\"viewBox=\"0 0 24 24\"\n",
              "       width=\"24px\">\n",
              "    <path d=\"M0 0h24v24H0V0z\" fill=\"none\"/>\n",
              "    <path d=\"M18.56 5.44l.94 2.06.94-2.06 2.06-.94-2.06-.94-.94-2.06-.94 2.06-2.06.94zm-11 1L8.5 8.5l.94-2.06 2.06-.94-2.06-.94L8.5 2.5l-.94 2.06-2.06.94zm10 10l.94 2.06.94-2.06 2.06-.94-2.06-.94-.94-2.06-.94 2.06-2.06.94z\"/><path d=\"M17.41 7.96l-1.37-1.37c-.4-.4-.92-.59-1.43-.59-.52 0-1.04.2-1.43.59L10.3 9.45l-7.72 7.72c-.78.78-.78 2.05 0 2.83L4 21.41c.39.39.9.59 1.41.59.51 0 1.02-.2 1.41-.59l7.78-7.78 2.81-2.81c.8-.78.8-2.07 0-2.86zM5.41 20L4 18.59l7.72-7.72 1.47 1.35L5.41 20z\"/>\n",
              "  </svg>\n",
              "      </button>\n",
              "      \n",
              "  <style>\n",
              "    .colab-df-container {\n",
              "      display:flex;\n",
              "      flex-wrap:wrap;\n",
              "      gap: 12px;\n",
              "    }\n",
              "\n",
              "    .colab-df-convert {\n",
              "      background-color: #E8F0FE;\n",
              "      border: none;\n",
              "      border-radius: 50%;\n",
              "      cursor: pointer;\n",
              "      display: none;\n",
              "      fill: #1967D2;\n",
              "      height: 32px;\n",
              "      padding: 0 0 0 0;\n",
              "      width: 32px;\n",
              "    }\n",
              "\n",
              "    .colab-df-convert:hover {\n",
              "      background-color: #E2EBFA;\n",
              "      box-shadow: 0px 1px 2px rgba(60, 64, 67, 0.3), 0px 1px 3px 1px rgba(60, 64, 67, 0.15);\n",
              "      fill: #174EA6;\n",
              "    }\n",
              "\n",
              "    [theme=dark] .colab-df-convert {\n",
              "      background-color: #3B4455;\n",
              "      fill: #D2E3FC;\n",
              "    }\n",
              "\n",
              "    [theme=dark] .colab-df-convert:hover {\n",
              "      background-color: #434B5C;\n",
              "      box-shadow: 0px 1px 3px 1px rgba(0, 0, 0, 0.15);\n",
              "      filter: drop-shadow(0px 1px 2px rgba(0, 0, 0, 0.3));\n",
              "      fill: #FFFFFF;\n",
              "    }\n",
              "  </style>\n",
              "\n",
              "      <script>\n",
              "        const buttonEl =\n",
              "          document.querySelector('#df-598cd4f7-656e-4ddc-9a1e-81b70f20a2b3 button.colab-df-convert');\n",
              "        buttonEl.style.display =\n",
              "          google.colab.kernel.accessAllowed ? 'block' : 'none';\n",
              "\n",
              "        async function convertToInteractive(key) {\n",
              "          const element = document.querySelector('#df-598cd4f7-656e-4ddc-9a1e-81b70f20a2b3');\n",
              "          const dataTable =\n",
              "            await google.colab.kernel.invokeFunction('convertToInteractive',\n",
              "                                                     [key], {});\n",
              "          if (!dataTable) return;\n",
              "\n",
              "          const docLinkHtml = 'Like what you see? Visit the ' +\n",
              "            '<a target=\"_blank\" href=https://colab.research.google.com/notebooks/data_table.ipynb>data table notebook</a>'\n",
              "            + ' to learn more about interactive tables.';\n",
              "          element.innerHTML = '';\n",
              "          dataTable['output_type'] = 'display_data';\n",
              "          await google.colab.output.renderOutput(dataTable, element);\n",
              "          const docLink = document.createElement('div');\n",
              "          docLink.innerHTML = docLinkHtml;\n",
              "          element.appendChild(docLink);\n",
              "        }\n",
              "      </script>\n",
              "    </div>\n",
              "  </div>\n",
              "  "
            ]
          },
          "metadata": {},
          "execution_count": 173
        }
      ]
    },
    {
      "cell_type": "code",
      "source": [
        "buy_price = min(fivedays_df[\"Predictions\"])\n",
        "sell_price = max(fivedays_df[\"Predictions\"])"
      ],
      "metadata": {
        "id": "MvdvecWME1rp"
      },
      "execution_count": 174,
      "outputs": []
    },
    {
      "cell_type": "code",
      "source": [
        "fivedays_buy = fivedays_df.loc[fivedays_df[\"Predictions\"] == buy_price]\n",
        "fivedays_sell = fivedays_df.loc[fivedays_df[\"Predictions\"] == sell_price]\n"
      ],
      "metadata": {
        "id": "4wKg8bZ6E4mk"
      },
      "execution_count": 175,
      "outputs": []
    },
    {
      "cell_type": "code",
      "source": [
        "print(\"Buy price and date\")\n",
        "print(fivedays_buy)\n",
        "print(\"Sell price and date\")\n",
        "print(fivedays_sell)\n",
        "fivedays_df[\"Predictions\"].plot(figsize=(10, 5), title=\"Forecast for the next 5 days\", color=\"blue\")\n",
        "plt.xlabel(\"Date\")\n",
        "plt.ylabel(\"Price\")\n",
        "plt.legend()\n",
        "plt.show()"
      ],
      "metadata": {
        "colab": {
          "base_uri": "https://localhost:8080/",
          "height": 477
        },
        "id": "7dnwEifhE7YI",
        "outputId": "8be99eec-17f5-420b-c920-bc1940236963"
      },
      "execution_count": 176,
      "outputs": [
        {
          "output_type": "stream",
          "name": "stdout",
          "text": [
            "Buy price and date\n",
            "            Predictions\n",
            "2022-06-29   958.526293\n",
            "Sell price and date\n",
            "            Predictions\n",
            "2022-07-03   982.683065\n"
          ]
        },
        {
          "output_type": "display_data",
          "data": {
            "text/plain": [
              "<Figure size 720x360 with 1 Axes>"
            ],
            "image/png": "[encoded data removed]"
          },
          "metadata": {
            "needs_background": "light"
          }
        }
      ]
    },
    {
      "cell_type": "code",
      "source": [],
      "metadata": {
        "id": "eqf3glE2E984"
      },
      "execution_count": null,
      "outputs": []
    }
  ]
}