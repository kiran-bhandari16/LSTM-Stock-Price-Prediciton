{
  "nbformat": 4,
  "nbformat_minor": 0,
  "metadata": {
    "colab": {
      "provenance": [],
      "collapsed_sections": [],
      "authorship_tag": "ABX9TyNLsW5eJge34lq1c1gtAqVN",
      "include_colab_link": true
    },
    "kernelspec": {
      "name": "python3",
      "display_name": "Python 3"
    },
    "language_info": {
      "name": "python"
    }
  },
  "cells": [
    {
      "cell_type": "markdown",
      "metadata": {
        "id": "view-in-github",
        "colab_type": "text"
      },
      "source": [
        "<a href=\"https://colab.research.google.com/github/kiran-bhandari16/LSTM-Stock-Price-Prediciton/blob/main/Regression_Stock_Price_Prediction_with_Sentiment_Polarity_and_Subjectivity_with_Look_Back.ipynb\" target=\"_parent\"><img src=\"https://colab.research.google.com/assets/colab-badge.svg\" alt=\"Open In Colab\"/></a>"
      ]
    },
    {
      "cell_type": "code",
      "execution_count": 36,
      "metadata": {
        "id": "2etcWxlDpgyB"
      },
      "outputs": [],
      "source": [
        "# Import libraries\n",
        "import pandas as pd\n",
        "import numpy as np\n",
        "from numpy import arange\n",
        "import matplotlib.pyplot as plt\n",
        "import seaborn as sns\n",
        "\n",
        "import nltk\n",
        "from textblob import TextBlob\n",
        "\n",
        "import warnings\n",
        "warnings.filterwarnings('ignore')\n",
        "\n",
        "from pandas import read_csv\n",
        "from sklearn import metrics\n",
        "from sklearn.model_selection import train_test_split\n",
        "from sklearn.model_selection import KFold, StratifiedKFold, cross_val_score\n",
        "from sklearn import linear_model\n",
        "from sklearn import ensemble\n",
        "\n",
        "from sklearn.linear_model import LinearRegression\n",
        "from sklearn.linear_model import Ridge\n",
        "from sklearn.neighbors import KNeighborsRegressor\n",
        "from sklearn.neural_network import MLPRegressor\n",
        "from sklearn.svm import SVR\n",
        "from sklearn.ensemble import RandomForestRegressor\n",
        "\n",
        "from sklearn.preprocessing import StandardScaler\n",
        "from sklearn.model_selection import RandomizedSearchCV, GridSearchCV\n"
      ]
    },
    {
      "cell_type": "code",
      "source": [
        "from google.colab import files\n",
        "uploaded = files.upload()"
      ],
      "metadata": {
        "colab": {
          "base_uri": "https://localhost:8080/",
          "height": 74
        },
        "id": "knY_-OZKphox",
        "outputId": "7d7c2b30-f437-404e-e773-eb35eaf84551"
      },
      "execution_count": 66,
      "outputs": [
        {
          "output_type": "display_data",
          "data": {
            "text/plain": [
              "<IPython.core.display.HTML object>"
            ],
            "text/html": [
              "\n",
              "     <input type=\"file\" id=\"files-8040c388-6a9a-439e-ae76-94e73a0b3684\" name=\"files[]\" multiple disabled\n",
              "        style=\"border:none\" />\n",
              "     <output id=\"result-8040c388-6a9a-439e-ae76-94e73a0b3684\">\n",
              "      Upload widget is only available when the cell has been executed in the\n",
              "      current browser session. Please rerun this cell to enable.\n",
              "      </output>\n",
              "      <script>// Copyright 2017 Google LLC\n",
              "//\n",
              "// Licensed under the Apache License, Version 2.0 (the \"License\");\n",
              "// you may not use this file except in compliance with the License.\n",
              "// You may obtain a copy of the License at\n",
              "//\n",
              "//      http://www.apache.org/licenses/LICENSE-2.0\n",
              "//\n",
              "// Unless required by applicable law or agreed to in writing, software\n",
              "// distributed under the License is distributed on an \"AS IS\" BASIS,\n",
              "// WITHOUT WARRANTIES OR CONDITIONS OF ANY KIND, either express or implied.\n",
              "// See the License for the specific language governing permissions and\n",
              "// limitations under the License.\n",
              "\n",
              "/**\n",
              " * @fileoverview Helpers for google.colab Python module.\n",
              " */\n",
              "(function(scope) {\n",
              "function span(text, styleAttributes = {}) {\n",
              "  const element = document.createElement('span');\n",
              "  element.textContent = text;\n",
              "  for (const key of Object.keys(styleAttributes)) {\n",
              "    element.style[key] = styleAttributes[key];\n",
              "  }\n",
              "  return element;\n",
              "}\n",
              "\n",
              "// Max number of bytes which will be uploaded at a time.\n",
              "const MAX_PAYLOAD_SIZE = 100 * 1024;\n",
              "\n",
              "function _uploadFiles(inputId, outputId) {\n",
              "  const steps = uploadFilesStep(inputId, outputId);\n",
              "  const outputElement = document.getElementById(outputId);\n",
              "  // Cache steps on the outputElement to make it available for the next call\n",
              "  // to uploadFilesContinue from Python.\n",
              "  outputElement.steps = steps;\n",
              "\n",
              "  return _uploadFilesContinue(outputId);\n",
              "}\n",
              "\n",
              "// This is roughly an async generator (not supported in the browser yet),\n",
              "// where there are multiple asynchronous steps and the Python side is going\n",
              "// to poll for completion of each step.\n",
              "// This uses a Promise to block the python side on completion of each step,\n",
              "// then passes the result of the previous step as the input to the next step.\n",
              "function _uploadFilesContinue(outputId) {\n",
              "  const outputElement = document.getElementById(outputId);\n",
              "  const steps = outputElement.steps;\n",
              "\n",
              "  const next = steps.next(outputElement.lastPromiseValue);\n",
              "  return Promise.resolve(next.value.promise).then((value) => {\n",
              "    // Cache the last promise value to make it available to the next\n",
              "    // step of the generator.\n",
              "    outputElement.lastPromiseValue = value;\n",
              "    return next.value.response;\n",
              "  });\n",
              "}\n",
              "\n",
              "/**\n",
              " * Generator function which is called between each async step of the upload\n",
              " * process.\n",
              " * @param {string} inputId Element ID of the input file picker element.\n",
              " * @param {string} outputId Element ID of the output display.\n",
              " * @return {!Iterable<!Object>} Iterable of next steps.\n",
              " */\n",
              "function* uploadFilesStep(inputId, outputId) {\n",
              "  const inputElement = document.getElementById(inputId);\n",
              "  inputElement.disabled = false;\n",
              "\n",
              "  const outputElement = document.getElementById(outputId);\n",
              "  outputElement.innerHTML = '';\n",
              "\n",
              "  const pickedPromise = new Promise((resolve) => {\n",
              "    inputElement.addEventListener('change', (e) => {\n",
              "      resolve(e.target.files);\n",
              "    });\n",
              "  });\n",
              "\n",
              "  const cancel = document.createElement('button');\n",
              "  inputElement.parentElement.appendChild(cancel);\n",
              "  cancel.textContent = 'Cancel upload';\n",
              "  const cancelPromise = new Promise((resolve) => {\n",
              "    cancel.onclick = () => {\n",
              "      resolve(null);\n",
              "    };\n",
              "  });\n",
              "\n",
              "  // Wait for the user to pick the files.\n",
              "  const files = yield {\n",
              "    promise: Promise.race([pickedPromise, cancelPromise]),\n",
              "    response: {\n",
              "      action: 'starting',\n",
              "    }\n",
              "  };\n",
              "\n",
              "  cancel.remove();\n",
              "\n",
              "  // Disable the input element since further picks are not allowed.\n",
              "  inputElement.disabled = true;\n",
              "\n",
              "  if (!files) {\n",
              "    return {\n",
              "      response: {\n",
              "        action: 'complete',\n",
              "      }\n",
              "    };\n",
              "  }\n",
              "\n",
              "  for (const file of files) {\n",
              "    const li = document.createElement('li');\n",
              "    li.append(span(file.name, {fontWeight: 'bold'}));\n",
              "    li.append(span(\n",
              "        `(${file.type || 'n/a'}) - ${file.size} bytes, ` +\n",
              "        `last modified: ${\n",
              "            file.lastModifiedDate ? file.lastModifiedDate.toLocaleDateString() :\n",
              "                                    'n/a'} - `));\n",
              "    const percent = span('0% done');\n",
              "    li.appendChild(percent);\n",
              "\n",
              "    outputElement.appendChild(li);\n",
              "\n",
              "    const fileDataPromise = new Promise((resolve) => {\n",
              "      const reader = new FileReader();\n",
              "      reader.onload = (e) => {\n",
              "        resolve(e.target.result);\n",
              "      };\n",
              "      reader.readAsArrayBuffer(file);\n",
              "    });\n",
              "    // Wait for the data to be ready.\n",
              "    let fileData = yield {\n",
              "      promise: fileDataPromise,\n",
              "      response: {\n",
              "        action: 'continue',\n",
              "      }\n",
              "    };\n",
              "\n",
              "    // Use a chunked sending to avoid message size limits. See b/62115660.\n",
              "    let position = 0;\n",
              "    do {\n",
              "      const length = Math.min(fileData.byteLength - position, MAX_PAYLOAD_SIZE);\n",
              "      const chunk = new Uint8Array(fileData, position, length);\n",
              "      position += length;\n",
              "\n",
              "      const base64 = btoa(String.fromCharCode.apply(null, chunk));\n",
              "      yield {\n",
              "        response: {\n",
              "          action: 'append',\n",
              "          file: file.name,\n",
              "          data: base64,\n",
              "        },\n",
              "      };\n",
              "\n",
              "      let percentDone = fileData.byteLength === 0 ?\n",
              "          100 :\n",
              "          Math.round((position / fileData.byteLength) * 100);\n",
              "      percent.textContent = `${percentDone}% done`;\n",
              "\n",
              "    } while (position < fileData.byteLength);\n",
              "  }\n",
              "\n",
              "  // All done.\n",
              "  yield {\n",
              "    response: {\n",
              "      action: 'complete',\n",
              "    }\n",
              "  };\n",
              "}\n",
              "\n",
              "scope.google = scope.google || {};\n",
              "scope.google.colab = scope.google.colab || {};\n",
              "scope.google.colab._files = {\n",
              "  _uploadFiles,\n",
              "  _uploadFilesContinue,\n",
              "};\n",
              "})(self);\n",
              "</script> "
            ]
          },
          "metadata": {}
        },
        {
          "output_type": "stream",
          "name": "stdout",
          "text": [
            "Saving final-stock-price-prediciton-dataset.csv to final-stock-price-prediciton-dataset (1).csv\n"
          ]
        }
      ]
    },
    {
      "cell_type": "code",
      "source": [
        "df=pd.read_csv(\"final-stock-price-prediciton-dataset.csv\",index_col=0)\n",
        "df.head()"
      ],
      "metadata": {
        "colab": {
          "base_uri": "https://localhost:8080/",
          "height": 281
        },
        "id": "wp3I5mfIrtcU",
        "outputId": "a56b0782-aeb6-4b46-f099-c7c37140cfff"
      },
      "execution_count": 68,
      "outputs": [
        {
          "output_type": "execute_result",
          "data": {
            "text/plain": [
              "             Open   High    Low    Ltp      Qty    Turnover  \\\n",
              "Date                                                          \n",
              "2022-06-29  318.9  318.9  310.0  315.0  19455.0   6127716.2   \n",
              "2022-06-28  312.0  316.5  306.0  313.0  18396.0   5707986.7   \n",
              "2022-06-27  322.0  325.0  310.0  312.0  35290.0  11125995.5   \n",
              "2022-06-26  312.9  320.0  308.0  320.0  90805.0  28577745.1   \n",
              "2022-06-24  305.0  310.0  298.2  307.0  83733.0  25399389.8   \n",
              "\n",
              "            economic-subjectivity  economic-polarity  political-subjectivity  \\\n",
              "Date                                                                           \n",
              "2022-06-29               0.457500           0.017500                0.460909   \n",
              "2022-06-28               0.195556           0.017778                0.425000   \n",
              "2022-06-27               0.225000          -0.012500                0.457792   \n",
              "2022-06-26               0.253704           0.038889                0.570909   \n",
              "2022-06-24               0.280303           0.042424                0.300000   \n",
              "\n",
              "            political-polarity  \n",
              "Date                            \n",
              "2022-06-29           -0.122727  \n",
              "2022-06-28            0.350000  \n",
              "2022-06-27            0.169481  \n",
              "2022-06-26            0.241818  \n",
              "2022-06-24            0.128788  "
            ],
            "text/html": [
              "\n",
              "  <div id=\"df-c0006a45-813e-47c0-9680-bcee5a00b844\">\n",
              "    <div class=\"colab-df-container\">\n",
              "      <div>\n",
              "<style scoped>\n",
              "    .dataframe tbody tr th:only-of-type {\n",
              "        vertical-align: middle;\n",
              "    }\n",
              "\n",
              "    .dataframe tbody tr th {\n",
              "        vertical-align: top;\n",
              "    }\n",
              "\n",
              "    .dataframe thead th {\n",
              "        text-align: right;\n",
              "    }\n",
              "</style>\n",
              "<table border=\"1\" class=\"dataframe\">\n",
              "  <thead>\n",
              "    <tr style=\"text-align: right;\">\n",
              "      <th></th>\n",
              "      <th>Open</th>\n",
              "      <th>High</th>\n",
              "      <th>Low</th>\n",
              "      <th>Ltp</th>\n",
              "      <th>Qty</th>\n",
              "      <th>Turnover</th>\n",
              "      <th>economic-subjectivity</th>\n",
              "      <th>economic-polarity</th>\n",
              "      <th>political-subjectivity</th>\n",
              "      <th>political-polarity</th>\n",
              "    </tr>\n",
              "    <tr>\n",
              "      <th>Date</th>\n",
              "      <th></th>\n",
              "      <th></th>\n",
              "      <th></th>\n",
              "      <th></th>\n",
              "      <th></th>\n",
              "      <th></th>\n",
              "      <th></th>\n",
              "      <th></th>\n",
              "      <th></th>\n",
              "      <th></th>\n",
              "    </tr>\n",
              "  </thead>\n",
              "  <tbody>\n",
              "    <tr>\n",
              "      <th>2022-06-29</th>\n",
              "      <td>318.9</td>\n",
              "      <td>318.9</td>\n",
              "      <td>310.0</td>\n",
              "      <td>315.0</td>\n",
              "      <td>19455.0</td>\n",
              "      <td>6127716.2</td>\n",
              "      <td>0.457500</td>\n",
              "      <td>0.017500</td>\n",
              "      <td>0.460909</td>\n",
              "      <td>-0.122727</td>\n",
              "    </tr>\n",
              "    <tr>\n",
              "      <th>2022-06-28</th>\n",
              "      <td>312.0</td>\n",
              "      <td>316.5</td>\n",
              "      <td>306.0</td>\n",
              "      <td>313.0</td>\n",
              "      <td>18396.0</td>\n",
              "      <td>5707986.7</td>\n",
              "      <td>0.195556</td>\n",
              "      <td>0.017778</td>\n",
              "      <td>0.425000</td>\n",
              "      <td>0.350000</td>\n",
              "    </tr>\n",
              "    <tr>\n",
              "      <th>2022-06-27</th>\n",
              "      <td>322.0</td>\n",
              "      <td>325.0</td>\n",
              "      <td>310.0</td>\n",
              "      <td>312.0</td>\n",
              "      <td>35290.0</td>\n",
              "      <td>11125995.5</td>\n",
              "      <td>0.225000</td>\n",
              "      <td>-0.012500</td>\n",
              "      <td>0.457792</td>\n",
              "      <td>0.169481</td>\n",
              "    </tr>\n",
              "    <tr>\n",
              "      <th>2022-06-26</th>\n",
              "      <td>312.9</td>\n",
              "      <td>320.0</td>\n",
              "      <td>308.0</td>\n",
              "      <td>320.0</td>\n",
              "      <td>90805.0</td>\n",
              "      <td>28577745.1</td>\n",
              "      <td>0.253704</td>\n",
              "      <td>0.038889</td>\n",
              "      <td>0.570909</td>\n",
              "      <td>0.241818</td>\n",
              "    </tr>\n",
              "    <tr>\n",
              "      <th>2022-06-24</th>\n",
              "      <td>305.0</td>\n",
              "      <td>310.0</td>\n",
              "      <td>298.2</td>\n",
              "      <td>307.0</td>\n",
              "      <td>83733.0</td>\n",
              "      <td>25399389.8</td>\n",
              "      <td>0.280303</td>\n",
              "      <td>0.042424</td>\n",
              "      <td>0.300000</td>\n",
              "      <td>0.128788</td>\n",
              "    </tr>\n",
              "  </tbody>\n",
              "</table>\n",
              "</div>\n",
              "      <button class=\"colab-df-convert\" onclick=\"convertToInteractive('df-c0006a45-813e-47c0-9680-bcee5a00b844')\"\n",
              "              title=\"Convert this dataframe to an interactive table.\"\n",
              "              style=\"display:none;\">\n",
              "        \n",
              "  <svg xmlns=\"http://www.w3.org/2000/svg\" height=\"24px\"viewBox=\"0 0 24 24\"\n",
              "       width=\"24px\">\n",
              "    <path d=\"M0 0h24v24H0V0z\" fill=\"none\"/>\n",
              "    <path d=\"M18.56 5.44l.94 2.06.94-2.06 2.06-.94-2.06-.94-.94-2.06-.94 2.06-2.06.94zm-11 1L8.5 8.5l.94-2.06 2.06-.94-2.06-.94L8.5 2.5l-.94 2.06-2.06.94zm10 10l.94 2.06.94-2.06 2.06-.94-2.06-.94-.94-2.06-.94 2.06-2.06.94z\"/><path d=\"M17.41 7.96l-1.37-1.37c-.4-.4-.92-.59-1.43-.59-.52 0-1.04.2-1.43.59L10.3 9.45l-7.72 7.72c-.78.78-.78 2.05 0 2.83L4 21.41c.39.39.9.59 1.41.59.51 0 1.02-.2 1.41-.59l7.78-7.78 2.81-2.81c.8-.78.8-2.07 0-2.86zM5.41 20L4 18.59l7.72-7.72 1.47 1.35L5.41 20z\"/>\n",
              "  </svg>\n",
              "      </button>\n",
              "      \n",
              "  <style>\n",
              "    .colab-df-container {\n",
              "      display:flex;\n",
              "      flex-wrap:wrap;\n",
              "      gap: 12px;\n",
              "    }\n",
              "\n",
              "    .colab-df-convert {\n",
              "      background-color: #E8F0FE;\n",
              "      border: none;\n",
              "      border-radius: 50%;\n",
              "      cursor: pointer;\n",
              "      display: none;\n",
              "      fill: #1967D2;\n",
              "      height: 32px;\n",
              "      padding: 0 0 0 0;\n",
              "      width: 32px;\n",
              "    }\n",
              "\n",
              "    .colab-df-convert:hover {\n",
              "      background-color: #E2EBFA;\n",
              "      box-shadow: 0px 1px 2px rgba(60, 64, 67, 0.3), 0px 1px 3px 1px rgba(60, 64, 67, 0.15);\n",
              "      fill: #174EA6;\n",
              "    }\n",
              "\n",
              "    [theme=dark] .colab-df-convert {\n",
              "      background-color: #3B4455;\n",
              "      fill: #D2E3FC;\n",
              "    }\n",
              "\n",
              "    [theme=dark] .colab-df-convert:hover {\n",
              "      background-color: #434B5C;\n",
              "      box-shadow: 0px 1px 3px 1px rgba(0, 0, 0, 0.15);\n",
              "      filter: drop-shadow(0px 1px 2px rgba(0, 0, 0, 0.3));\n",
              "      fill: #FFFFFF;\n",
              "    }\n",
              "  </style>\n",
              "\n",
              "      <script>\n",
              "        const buttonEl =\n",
              "          document.querySelector('#df-c0006a45-813e-47c0-9680-bcee5a00b844 button.colab-df-convert');\n",
              "        buttonEl.style.display =\n",
              "          google.colab.kernel.accessAllowed ? 'block' : 'none';\n",
              "\n",
              "        async function convertToInteractive(key) {\n",
              "          const element = document.querySelector('#df-c0006a45-813e-47c0-9680-bcee5a00b844');\n",
              "          const dataTable =\n",
              "            await google.colab.kernel.invokeFunction('convertToInteractive',\n",
              "                                                     [key], {});\n",
              "          if (!dataTable) return;\n",
              "\n",
              "          const docLinkHtml = 'Like what you see? Visit the ' +\n",
              "            '<a target=\"_blank\" href=https://colab.research.google.com/notebooks/data_table.ipynb>data table notebook</a>'\n",
              "            + ' to learn more about interactive tables.';\n",
              "          element.innerHTML = '';\n",
              "          dataTable['output_type'] = 'display_data';\n",
              "          await google.colab.output.renderOutput(dataTable, element);\n",
              "          const docLink = document.createElement('div');\n",
              "          docLink.innerHTML = docLinkHtml;\n",
              "          element.appendChild(docLink);\n",
              "        }\n",
              "      </script>\n",
              "    </div>\n",
              "  </div>\n",
              "  "
            ]
          },
          "metadata": {},
          "execution_count": 68
        }
      ]
    },
    {
      "cell_type": "code",
      "source": [
        "#null value check\n",
        "df.isna().sum()"
      ],
      "metadata": {
        "colab": {
          "base_uri": "https://localhost:8080/"
        },
        "id": "dOK3GYGpuBPU",
        "outputId": "47c9f121-5505-4048-be08-ebda0c858182"
      },
      "execution_count": 69,
      "outputs": [
        {
          "output_type": "execute_result",
          "data": {
            "text/plain": [
              "Open                      0\n",
              "High                      0\n",
              "Low                       0\n",
              "Ltp                       0\n",
              "Qty                       0\n",
              "Turnover                  0\n",
              "economic-subjectivity     0\n",
              "economic-polarity         0\n",
              "political-subjectivity    0\n",
              "political-polarity        0\n",
              "dtype: int64"
            ]
          },
          "metadata": {},
          "execution_count": 69
        }
      ]
    },
    {
      "cell_type": "code",
      "source": [
        "df.dtypes"
      ],
      "metadata": {
        "id": "x7fFYTNgUf3x",
        "outputId": "3a1881ad-a5b2-4091-bae5-ec8edc342495",
        "colab": {
          "base_uri": "https://localhost:8080/"
        }
      },
      "execution_count": 70,
      "outputs": [
        {
          "output_type": "execute_result",
          "data": {
            "text/plain": [
              "Open                      float64\n",
              "High                      float64\n",
              "Low                       float64\n",
              "Ltp                       float64\n",
              "Qty                       float64\n",
              "Turnover                  float64\n",
              "economic-subjectivity     float64\n",
              "economic-polarity         float64\n",
              "political-subjectivity    float64\n",
              "political-polarity        float64\n",
              "dtype: object"
            ]
          },
          "metadata": {},
          "execution_count": 70
        }
      ]
    },
    {
      "cell_type": "code",
      "source": [
        "# df[\"Ltp\"] = df[\"Ltp\"].str.replace(\",\",\"\")\n",
        "# ltp = df[\"Ltp\"].apply(lambda x: float(x))\n",
        "# df[\"Ltp\"]=df[\"Ltp\"].apply(pd.to_numeric)\n",
        "\n",
        "\n",
        "# df[\"Open\"] = df[\"Open\"].str.replace(\",\",\"\")\n",
        "# open = df[\"Open\"].apply(lambda x: float(x))\n",
        "# df[\"Open\"]=df[\"Open\"].apply(pd.to_numeric)\n",
        "\n",
        "# df[\"High\"] = df[\"High\"].str.replace(\",\",\"\")\n",
        "# high = df[\"High\"].apply(lambda x: float(x))\n",
        "# df[\"High\"]=df[\"High\"].apply(pd.to_numeric)\n",
        "\n",
        "# df[\"Low\"] = df[\"Low\"].str.replace(\",\",\"\")\n",
        "# low = df[\"Low\"].apply(lambda x: float(x))\n",
        "# df[\"Low\"]=df[\"Low\"].apply(pd.to_numeric)\n",
        "\n",
        "# df[\"Qty\"] = df[\"Qty\"].str.replace(\",\",\"\")\n",
        "# qty = df[\"Qty\"].apply(lambda x: float(x))\n",
        "# df[\"Qty\"]=df[\"Qty\"].apply(pd.to_numeric)\n",
        "\n",
        "# df[\"Turnover\"] = df[\"Turnover\"].str.replace(\",\",\"\")\n",
        "# turnover = df[\"Low\"].apply(lambda x: float(x))\n",
        "# df[\"Turnover\"]=df[\"Turnover\"].apply(pd.to_numeric)\n",
        "\n",
        "# # df[\"% Change\"] = df[\"% Change\"].str.replace(\",\",\"\")\n",
        "# # perChange = df[\"Low\"].apply(lambda x: float(x))"
      ],
      "metadata": {
        "id": "gaUCZ4o2VfJ1"
      },
      "execution_count": 71,
      "outputs": []
    },
    {
      "cell_type": "code",
      "source": [
        "df.describe()"
      ],
      "metadata": {
        "id": "fscWHYTFGuXV",
        "outputId": "68a22b18-4625-412d-8f1f-96c738d54250",
        "colab": {
          "base_uri": "https://localhost:8080/",
          "height": 362
        }
      },
      "execution_count": 72,
      "outputs": [
        {
          "output_type": "execute_result",
          "data": {
            "text/plain": [
              "              Open         High          Low          Ltp            Qty  \\\n",
              "count   948.000000   948.000000   948.000000   948.000000     948.000000   \n",
              "mean    456.225738   462.615612   449.262447   455.795148   56055.394515   \n",
              "std     237.720307   242.555673   233.969176   238.860560   86945.754589   \n",
              "min     264.000000   274.000000   252.000000   264.000000      45.000000   \n",
              "25%     315.000000   318.000000   312.000000   315.000000   11114.750000   \n",
              "50%     378.000000   381.500000   372.000000   377.000000   23550.500000   \n",
              "75%     478.500000   485.125000   470.000000   475.000000   62391.500000   \n",
              "max    1415.000000  1435.000000  1376.000000  1415.000000  901446.000000   \n",
              "\n",
              "           Turnover  economic-subjectivity  economic-polarity  \\\n",
              "count  9.480000e+02             948.000000         948.000000   \n",
              "mean   2.672005e+07               0.320811           0.059365   \n",
              "std    4.521495e+07               0.176394           0.141399   \n",
              "min    1.446000e+04               0.000000          -0.600000   \n",
              "25%    3.943878e+06               0.200000          -0.006184   \n",
              "50%    1.011174e+07               0.315757           0.050000   \n",
              "75%    2.908438e+07               0.439015           0.136552   \n",
              "max    4.262128e+08               1.000000           1.000000   \n",
              "\n",
              "       political-subjectivity  political-polarity  \n",
              "count              948.000000          948.000000  \n",
              "mean                 0.307988            0.044399  \n",
              "std                  0.198543            0.137091  \n",
              "min                  0.000000           -0.650000  \n",
              "25%                  0.175000           -0.004505  \n",
              "50%                  0.300000            0.027435  \n",
              "75%                  0.428417            0.110278  \n",
              "max                  1.000000            0.600000  "
            ],
            "text/html": [
              "\n",
              "  <div id=\"df-453a65f7-27b5-47c1-8b47-2cf0be0579e5\">\n",
              "    <div class=\"colab-df-container\">\n",
              "      <div>\n",
              "<style scoped>\n",
              "    .dataframe tbody tr th:only-of-type {\n",
              "        vertical-align: middle;\n",
              "    }\n",
              "\n",
              "    .dataframe tbody tr th {\n",
              "        vertical-align: top;\n",
              "    }\n",
              "\n",
              "    .dataframe thead th {\n",
              "        text-align: right;\n",
              "    }\n",
              "</style>\n",
              "<table border=\"1\" class=\"dataframe\">\n",
              "  <thead>\n",
              "    <tr style=\"text-align: right;\">\n",
              "      <th></th>\n",
              "      <th>Open</th>\n",
              "      <th>High</th>\n",
              "      <th>Low</th>\n",
              "      <th>Ltp</th>\n",
              "      <th>Qty</th>\n",
              "      <th>Turnover</th>\n",
              "      <th>economic-subjectivity</th>\n",
              "      <th>economic-polarity</th>\n",
              "      <th>political-subjectivity</th>\n",
              "      <th>political-polarity</th>\n",
              "    </tr>\n",
              "  </thead>\n",
              "  <tbody>\n",
              "    <tr>\n",
              "      <th>count</th>\n",
              "      <td>948.000000</td>\n",
              "      <td>948.000000</td>\n",
              "      <td>948.000000</td>\n",
              "      <td>948.000000</td>\n",
              "      <td>948.000000</td>\n",
              "      <td>9.480000e+02</td>\n",
              "      <td>948.000000</td>\n",
              "      <td>948.000000</td>\n",
              "      <td>948.000000</td>\n",
              "      <td>948.000000</td>\n",
              "    </tr>\n",
              "    <tr>\n",
              "      <th>mean</th>\n",
              "      <td>456.225738</td>\n",
              "      <td>462.615612</td>\n",
              "      <td>449.262447</td>\n",
              "      <td>455.795148</td>\n",
              "      <td>56055.394515</td>\n",
              "      <td>2.672005e+07</td>\n",
              "      <td>0.320811</td>\n",
              "      <td>0.059365</td>\n",
              "      <td>0.307988</td>\n",
              "      <td>0.044399</td>\n",
              "    </tr>\n",
              "    <tr>\n",
              "      <th>std</th>\n",
              "      <td>237.720307</td>\n",
              "      <td>242.555673</td>\n",
              "      <td>233.969176</td>\n",
              "      <td>238.860560</td>\n",
              "      <td>86945.754589</td>\n",
              "      <td>4.521495e+07</td>\n",
              "      <td>0.176394</td>\n",
              "      <td>0.141399</td>\n",
              "      <td>0.198543</td>\n",
              "      <td>0.137091</td>\n",
              "    </tr>\n",
              "    <tr>\n",
              "      <th>min</th>\n",
              "      <td>264.000000</td>\n",
              "      <td>274.000000</td>\n",
              "      <td>252.000000</td>\n",
              "      <td>264.000000</td>\n",
              "      <td>45.000000</td>\n",
              "      <td>1.446000e+04</td>\n",
              "      <td>0.000000</td>\n",
              "      <td>-0.600000</td>\n",
              "      <td>0.000000</td>\n",
              "      <td>-0.650000</td>\n",
              "    </tr>\n",
              "    <tr>\n",
              "      <th>25%</th>\n",
              "      <td>315.000000</td>\n",
              "      <td>318.000000</td>\n",
              "      <td>312.000000</td>\n",
              "      <td>315.000000</td>\n",
              "      <td>11114.750000</td>\n",
              "      <td>3.943878e+06</td>\n",
              "      <td>0.200000</td>\n",
              "      <td>-0.006184</td>\n",
              "      <td>0.175000</td>\n",
              "      <td>-0.004505</td>\n",
              "    </tr>\n",
              "    <tr>\n",
              "      <th>50%</th>\n",
              "      <td>378.000000</td>\n",
              "      <td>381.500000</td>\n",
              "      <td>372.000000</td>\n",
              "      <td>377.000000</td>\n",
              "      <td>23550.500000</td>\n",
              "      <td>1.011174e+07</td>\n",
              "      <td>0.315757</td>\n",
              "      <td>0.050000</td>\n",
              "      <td>0.300000</td>\n",
              "      <td>0.027435</td>\n",
              "    </tr>\n",
              "    <tr>\n",
              "      <th>75%</th>\n",
              "      <td>478.500000</td>\n",
              "      <td>485.125000</td>\n",
              "      <td>470.000000</td>\n",
              "      <td>475.000000</td>\n",
              "      <td>62391.500000</td>\n",
              "      <td>2.908438e+07</td>\n",
              "      <td>0.439015</td>\n",
              "      <td>0.136552</td>\n",
              "      <td>0.428417</td>\n",
              "      <td>0.110278</td>\n",
              "    </tr>\n",
              "    <tr>\n",
              "      <th>max</th>\n",
              "      <td>1415.000000</td>\n",
              "      <td>1435.000000</td>\n",
              "      <td>1376.000000</td>\n",
              "      <td>1415.000000</td>\n",
              "      <td>901446.000000</td>\n",
              "      <td>4.262128e+08</td>\n",
              "      <td>1.000000</td>\n",
              "      <td>1.000000</td>\n",
              "      <td>1.000000</td>\n",
              "      <td>0.600000</td>\n",
              "    </tr>\n",
              "  </tbody>\n",
              "</table>\n",
              "</div>\n",
              "      <button class=\"colab-df-convert\" onclick=\"convertToInteractive('df-453a65f7-27b5-47c1-8b47-2cf0be0579e5')\"\n",
              "              title=\"Convert this dataframe to an interactive table.\"\n",
              "              style=\"display:none;\">\n",
              "        \n",
              "  <svg xmlns=\"http://www.w3.org/2000/svg\" height=\"24px\"viewBox=\"0 0 24 24\"\n",
              "       width=\"24px\">\n",
              "    <path d=\"M0 0h24v24H0V0z\" fill=\"none\"/>\n",
              "    <path d=\"M18.56 5.44l.94 2.06.94-2.06 2.06-.94-2.06-.94-.94-2.06-.94 2.06-2.06.94zm-11 1L8.5 8.5l.94-2.06 2.06-.94-2.06-.94L8.5 2.5l-.94 2.06-2.06.94zm10 10l.94 2.06.94-2.06 2.06-.94-2.06-.94-.94-2.06-.94 2.06-2.06.94z\"/><path d=\"M17.41 7.96l-1.37-1.37c-.4-.4-.92-.59-1.43-.59-.52 0-1.04.2-1.43.59L10.3 9.45l-7.72 7.72c-.78.78-.78 2.05 0 2.83L4 21.41c.39.39.9.59 1.41.59.51 0 1.02-.2 1.41-.59l7.78-7.78 2.81-2.81c.8-.78.8-2.07 0-2.86zM5.41 20L4 18.59l7.72-7.72 1.47 1.35L5.41 20z\"/>\n",
              "  </svg>\n",
              "      </button>\n",
              "      \n",
              "  <style>\n",
              "    .colab-df-container {\n",
              "      display:flex;\n",
              "      flex-wrap:wrap;\n",
              "      gap: 12px;\n",
              "    }\n",
              "\n",
              "    .colab-df-convert {\n",
              "      background-color: #E8F0FE;\n",
              "      border: none;\n",
              "      border-radius: 50%;\n",
              "      cursor: pointer;\n",
              "      display: none;\n",
              "      fill: #1967D2;\n",
              "      height: 32px;\n",
              "      padding: 0 0 0 0;\n",
              "      width: 32px;\n",
              "    }\n",
              "\n",
              "    .colab-df-convert:hover {\n",
              "      background-color: #E2EBFA;\n",
              "      box-shadow: 0px 1px 2px rgba(60, 64, 67, 0.3), 0px 1px 3px 1px rgba(60, 64, 67, 0.15);\n",
              "      fill: #174EA6;\n",
              "    }\n",
              "\n",
              "    [theme=dark] .colab-df-convert {\n",
              "      background-color: #3B4455;\n",
              "      fill: #D2E3FC;\n",
              "    }\n",
              "\n",
              "    [theme=dark] .colab-df-convert:hover {\n",
              "      background-color: #434B5C;\n",
              "      box-shadow: 0px 1px 3px 1px rgba(0, 0, 0, 0.15);\n",
              "      filter: drop-shadow(0px 1px 2px rgba(0, 0, 0, 0.3));\n",
              "      fill: #FFFFFF;\n",
              "    }\n",
              "  </style>\n",
              "\n",
              "      <script>\n",
              "        const buttonEl =\n",
              "          document.querySelector('#df-453a65f7-27b5-47c1-8b47-2cf0be0579e5 button.colab-df-convert');\n",
              "        buttonEl.style.display =\n",
              "          google.colab.kernel.accessAllowed ? 'block' : 'none';\n",
              "\n",
              "        async function convertToInteractive(key) {\n",
              "          const element = document.querySelector('#df-453a65f7-27b5-47c1-8b47-2cf0be0579e5');\n",
              "          const dataTable =\n",
              "            await google.colab.kernel.invokeFunction('convertToInteractive',\n",
              "                                                     [key], {});\n",
              "          if (!dataTable) return;\n",
              "\n",
              "          const docLinkHtml = 'Like what you see? Visit the ' +\n",
              "            '<a target=\"_blank\" href=https://colab.research.google.com/notebooks/data_table.ipynb>data table notebook</a>'\n",
              "            + ' to learn more about interactive tables.';\n",
              "          element.innerHTML = '';\n",
              "          dataTable['output_type'] = 'display_data';\n",
              "          await google.colab.output.renderOutput(dataTable, element);\n",
              "          const docLink = document.createElement('div');\n",
              "          docLink.innerHTML = docLinkHtml;\n",
              "          element.appendChild(docLink);\n",
              "        }\n",
              "      </script>\n",
              "    </div>\n",
              "  </div>\n",
              "  "
            ]
          },
          "metadata": {},
          "execution_count": 72
        }
      ]
    },
    {
      "cell_type": "code",
      "source": [
        "df.shape"
      ],
      "metadata": {
        "id": "qsaMnmKGGuqp",
        "outputId": "c117bfeb-b95d-4a95-ac4e-fda752400dbe",
        "colab": {
          "base_uri": "https://localhost:8080/"
        }
      },
      "execution_count": 73,
      "outputs": [
        {
          "output_type": "execute_result",
          "data": {
            "text/plain": [
              "(948, 10)"
            ]
          },
          "metadata": {},
          "execution_count": 73
        }
      ]
    },
    {
      "cell_type": "code",
      "source": [
        "df.dtypes"
      ],
      "metadata": {
        "id": "L0Ds99voGu2a",
        "outputId": "c0acd030-2ca9-4f59-f924-017515817e72",
        "colab": {
          "base_uri": "https://localhost:8080/"
        }
      },
      "execution_count": 74,
      "outputs": [
        {
          "output_type": "execute_result",
          "data": {
            "text/plain": [
              "Open                      float64\n",
              "High                      float64\n",
              "Low                       float64\n",
              "Ltp                       float64\n",
              "Qty                       float64\n",
              "Turnover                  float64\n",
              "economic-subjectivity     float64\n",
              "economic-polarity         float64\n",
              "political-subjectivity    float64\n",
              "political-polarity        float64\n",
              "dtype: object"
            ]
          },
          "metadata": {},
          "execution_count": 74
        }
      ]
    },
    {
      "cell_type": "code",
      "source": [
        "df.info()"
      ],
      "metadata": {
        "id": "3BFiU2vGGvBr",
        "outputId": "64094749-1946-4019-d14d-d4a0423b1107",
        "colab": {
          "base_uri": "https://localhost:8080/"
        }
      },
      "execution_count": 75,
      "outputs": [
        {
          "output_type": "stream",
          "name": "stdout",
          "text": [
            "<class 'pandas.core.frame.DataFrame'>\n",
            "Index: 948 entries, 2022-06-29 to 2016-07-11\n",
            "Data columns (total 10 columns):\n",
            " #   Column                  Non-Null Count  Dtype  \n",
            "---  ------                  --------------  -----  \n",
            " 0   Open                    948 non-null    float64\n",
            " 1   High                    948 non-null    float64\n",
            " 2   Low                     948 non-null    float64\n",
            " 3   Ltp                     948 non-null    float64\n",
            " 4   Qty                     948 non-null    float64\n",
            " 5   Turnover                948 non-null    float64\n",
            " 6   economic-subjectivity   948 non-null    float64\n",
            " 7   economic-polarity       948 non-null    float64\n",
            " 8   political-subjectivity  948 non-null    float64\n",
            " 9   political-polarity      948 non-null    float64\n",
            "dtypes: float64(10)\n",
            "memory usage: 81.5+ KB\n"
          ]
        }
      ]
    },
    {
      "cell_type": "code",
      "source": [
        "df['Ltp'].plot(figsize=(14,8))\n",
        "plt.ylabel(\"Last Trading Price\")\n",
        "plt.title(\"Last Trading Price Movement\")\n",
        "plt.show()"
      ],
      "metadata": {
        "colab": {
          "base_uri": "https://localhost:8080/",
          "height": 513
        },
        "id": "rqoA9FwYuN2k",
        "outputId": "de090c73-effb-4048-c3e5-071c12225a17"
      },
      "execution_count": 76,
      "outputs": [
        {
          "output_type": "display_data",
          "data": {
            "text/plain": [
              "<Figure size 1008x576 with 1 Axes>"
            ],
            "image/png": "[encoded data removed]"
          },
          "metadata": {
            "needs_background": "light"
          }
        }
      ]
    },
    {
      "cell_type": "code",
      "source": [
        "df['Turnover'].plot(figsize=(14,8))\n",
        "plt.ylabel(\"Turnover\")\n",
        "plt.title(\"Turnover Movement\")\n",
        "plt.show()"
      ],
      "metadata": {
        "colab": {
          "base_uri": "https://localhost:8080/",
          "height": 513
        },
        "id": "mg_ox33AuQ5F",
        "outputId": "74bcd0e2-441b-498c-c9f9-9add693fbb9a"
      },
      "execution_count": 77,
      "outputs": [
        {
          "output_type": "display_data",
          "data": {
            "text/plain": [
              "<Figure size 1008x576 with 1 Axes>"
            ],
            "image/png": "[encoded data removed]"
          },
          "metadata": {
            "needs_background": "light"
          }
        }
      ]
    },
    {
      "cell_type": "code",
      "source": [
        "df['Qty'].plot(figsize=(14,8))\n",
        "plt.ylabel(\"Qty\")\n",
        "plt.title(\"Quantity Movement\")\n",
        "plt.show()"
      ],
      "metadata": {
        "colab": {
          "base_uri": "https://localhost:8080/",
          "height": 513
        },
        "id": "f5arTJKruUNy",
        "outputId": "49e6ead2-e0d9-47d6-896b-bd53a6976721"
      },
      "execution_count": 78,
      "outputs": [
        {
          "output_type": "display_data",
          "data": {
            "text/plain": [
              "<Figure size 1008x576 with 1 Axes>"
            ],
            "image/png": "[encoded data removed]"
          },
          "metadata": {
            "needs_background": "light"
          }
        }
      ]
    },
    {
      "cell_type": "code",
      "source": [
        "## Make correlation matrix \n",
        "\n",
        "df.corr()"
      ],
      "metadata": {
        "colab": {
          "base_uri": "https://localhost:8080/",
          "height": 476
        },
        "id": "q5BVG_YpuduX",
        "outputId": "ec23705b-271e-409e-fccf-078326bb35bf"
      },
      "execution_count": 79,
      "outputs": [
        {
          "output_type": "execute_result",
          "data": {
            "text/plain": [
              "                            Open      High       Low       Ltp       Qty  \\\n",
              "Open                    1.000000  0.999023  0.999335  0.998562  0.056995   \n",
              "High                    0.999023  1.000000  0.999134  0.999587  0.063887   \n",
              "Low                     0.999335  0.999134  1.000000  0.999251  0.052446   \n",
              "Ltp                     0.998562  0.999587  0.999251  1.000000  0.058307   \n",
              "Qty                     0.056995  0.063887  0.052446  0.058307  1.000000   \n",
              "Turnover                0.249468  0.259375  0.246582  0.253623  0.945288   \n",
              "economic-subjectivity   0.007509  0.006479  0.004674  0.006837  0.001013   \n",
              "economic-polarity       0.148061  0.150168  0.147470  0.150450 -0.027447   \n",
              "political-subjectivity  0.001911  0.002528  0.002132  0.003092 -0.024051   \n",
              "political-polarity      0.008607  0.009023  0.008001  0.009975  0.029815   \n",
              "\n",
              "                        Turnover  economic-subjectivity  economic-polarity  \\\n",
              "Open                    0.249468               0.007509           0.148061   \n",
              "High                    0.259375               0.006479           0.150168   \n",
              "Low                     0.246582               0.004674           0.147470   \n",
              "Ltp                     0.253623               0.006837           0.150450   \n",
              "Qty                     0.945288               0.001013          -0.027447   \n",
              "Turnover                1.000000               0.002024           0.010022   \n",
              "economic-subjectivity   0.002024               1.000000           0.234261   \n",
              "economic-polarity       0.010022               0.234261           1.000000   \n",
              "political-subjectivity -0.006702               0.029147           0.025870   \n",
              "political-polarity      0.039462               0.012509          -0.029237   \n",
              "\n",
              "                        political-subjectivity  political-polarity  \n",
              "Open                                  0.001911            0.008607  \n",
              "High                                  0.002528            0.009023  \n",
              "Low                                   0.002132            0.008001  \n",
              "Ltp                                   0.003092            0.009975  \n",
              "Qty                                  -0.024051            0.029815  \n",
              "Turnover                             -0.006702            0.039462  \n",
              "economic-subjectivity                 0.029147            0.012509  \n",
              "economic-polarity                     0.025870           -0.029237  \n",
              "political-subjectivity                1.000000            0.231214  \n",
              "political-polarity                    0.231214            1.000000  "
            ],
            "text/html": [
              "\n",
              "  <div id=\"df-85b1abff-ecef-465c-92bc-e6389a810ab2\">\n",
              "    <div class=\"colab-df-container\">\n",
              "      <div>\n",
              "<style scoped>\n",
              "    .dataframe tbody tr th:only-of-type {\n",
              "        vertical-align: middle;\n",
              "    }\n",
              "\n",
              "    .dataframe tbody tr th {\n",
              "        vertical-align: top;\n",
              "    }\n",
              "\n",
              "    .dataframe thead th {\n",
              "        text-align: right;\n",
              "    }\n",
              "</style>\n",
              "<table border=\"1\" class=\"dataframe\">\n",
              "  <thead>\n",
              "    <tr style=\"text-align: right;\">\n",
              "      <th></th>\n",
              "      <th>Open</th>\n",
              "      <th>High</th>\n",
              "      <th>Low</th>\n",
              "      <th>Ltp</th>\n",
              "      <th>Qty</th>\n",
              "      <th>Turnover</th>\n",
              "      <th>economic-subjectivity</th>\n",
              "      <th>economic-polarity</th>\n",
              "      <th>political-subjectivity</th>\n",
              "      <th>political-polarity</th>\n",
              "    </tr>\n",
              "  </thead>\n",
              "  <tbody>\n",
              "    <tr>\n",
              "      <th>Open</th>\n",
              "      <td>1.000000</td>\n",
              "      <td>0.999023</td>\n",
              "      <td>0.999335</td>\n",
              "      <td>0.998562</td>\n",
              "      <td>0.056995</td>\n",
              "      <td>0.249468</td>\n",
              "      <td>0.007509</td>\n",
              "      <td>0.148061</td>\n",
              "      <td>0.001911</td>\n",
              "      <td>0.008607</td>\n",
              "    </tr>\n",
              "    <tr>\n",
              "      <th>High</th>\n",
              "      <td>0.999023</td>\n",
              "      <td>1.000000</td>\n",
              "      <td>0.999134</td>\n",
              "      <td>0.999587</td>\n",
              "      <td>0.063887</td>\n",
              "      <td>0.259375</td>\n",
              "      <td>0.006479</td>\n",
              "      <td>0.150168</td>\n",
              "      <td>0.002528</td>\n",
              "      <td>0.009023</td>\n",
              "    </tr>\n",
              "    <tr>\n",
              "      <th>Low</th>\n",
              "      <td>0.999335</td>\n",
              "      <td>0.999134</td>\n",
              "      <td>1.000000</td>\n",
              "      <td>0.999251</td>\n",
              "      <td>0.052446</td>\n",
              "      <td>0.246582</td>\n",
              "      <td>0.004674</td>\n",
              "      <td>0.147470</td>\n",
              "      <td>0.002132</td>\n",
              "      <td>0.008001</td>\n",
              "    </tr>\n",
              "    <tr>\n",
              "      <th>Ltp</th>\n",
              "      <td>0.998562</td>\n",
              "      <td>0.999587</td>\n",
              "      <td>0.999251</td>\n",
              "      <td>1.000000</td>\n",
              "      <td>0.058307</td>\n",
              "      <td>0.253623</td>\n",
              "      <td>0.006837</td>\n",
              "      <td>0.150450</td>\n",
              "      <td>0.003092</td>\n",
              "      <td>0.009975</td>\n",
              "    </tr>\n",
              "    <tr>\n",
              "      <th>Qty</th>\n",
              "      <td>0.056995</td>\n",
              "      <td>0.063887</td>\n",
              "      <td>0.052446</td>\n",
              "      <td>0.058307</td>\n",
              "      <td>1.000000</td>\n",
              "      <td>0.945288</td>\n",
              "      <td>0.001013</td>\n",
              "      <td>-0.027447</td>\n",
              "      <td>-0.024051</td>\n",
              "      <td>0.029815</td>\n",
              "    </tr>\n",
              "    <tr>\n",
              "      <th>Turnover</th>\n",
              "      <td>0.249468</td>\n",
              "      <td>0.259375</td>\n",
              "      <td>0.246582</td>\n",
              "      <td>0.253623</td>\n",
              "      <td>0.945288</td>\n",
              "      <td>1.000000</td>\n",
              "      <td>0.002024</td>\n",
              "      <td>0.010022</td>\n",
              "      <td>-0.006702</td>\n",
              "      <td>0.039462</td>\n",
              "    </tr>\n",
              "    <tr>\n",
              "      <th>economic-subjectivity</th>\n",
              "      <td>0.007509</td>\n",
              "      <td>0.006479</td>\n",
              "      <td>0.004674</td>\n",
              "      <td>0.006837</td>\n",
              "      <td>0.001013</td>\n",
              "      <td>0.002024</td>\n",
              "      <td>1.000000</td>\n",
              "      <td>0.234261</td>\n",
              "      <td>0.029147</td>\n",
              "      <td>0.012509</td>\n",
              "    </tr>\n",
              "    <tr>\n",
              "      <th>economic-polarity</th>\n",
              "      <td>0.148061</td>\n",
              "      <td>0.150168</td>\n",
              "      <td>0.147470</td>\n",
              "      <td>0.150450</td>\n",
              "      <td>-0.027447</td>\n",
              "      <td>0.010022</td>\n",
              "      <td>0.234261</td>\n",
              "      <td>1.000000</td>\n",
              "      <td>0.025870</td>\n",
              "      <td>-0.029237</td>\n",
              "    </tr>\n",
              "    <tr>\n",
              "      <th>political-subjectivity</th>\n",
              "      <td>0.001911</td>\n",
              "      <td>0.002528</td>\n",
              "      <td>0.002132</td>\n",
              "      <td>0.003092</td>\n",
              "      <td>-0.024051</td>\n",
              "      <td>-0.006702</td>\n",
              "      <td>0.029147</td>\n",
              "      <td>0.025870</td>\n",
              "      <td>1.000000</td>\n",
              "      <td>0.231214</td>\n",
              "    </tr>\n",
              "    <tr>\n",
              "      <th>political-polarity</th>\n",
              "      <td>0.008607</td>\n",
              "      <td>0.009023</td>\n",
              "      <td>0.008001</td>\n",
              "      <td>0.009975</td>\n",
              "      <td>0.029815</td>\n",
              "      <td>0.039462</td>\n",
              "      <td>0.012509</td>\n",
              "      <td>-0.029237</td>\n",
              "      <td>0.231214</td>\n",
              "      <td>1.000000</td>\n",
              "    </tr>\n",
              "  </tbody>\n",
              "</table>\n",
              "</div>\n",
              "      <button class=\"colab-df-convert\" onclick=\"convertToInteractive('df-85b1abff-ecef-465c-92bc-e6389a810ab2')\"\n",
              "              title=\"Convert this dataframe to an interactive table.\"\n",
              "              style=\"display:none;\">\n",
              "        \n",
              "  <svg xmlns=\"http://www.w3.org/2000/svg\" height=\"24px\"viewBox=\"0 0 24 24\"\n",
              "       width=\"24px\">\n",
              "    <path d=\"M0 0h24v24H0V0z\" fill=\"none\"/>\n",
              "    <path d=\"M18.56 5.44l.94 2.06.94-2.06 2.06-.94-2.06-.94-.94-2.06-.94 2.06-2.06.94zm-11 1L8.5 8.5l.94-2.06 2.06-.94-2.06-.94L8.5 2.5l-.94 2.06-2.06.94zm10 10l.94 2.06.94-2.06 2.06-.94-2.06-.94-.94-2.06-.94 2.06-2.06.94z\"/><path d=\"M17.41 7.96l-1.37-1.37c-.4-.4-.92-.59-1.43-.59-.52 0-1.04.2-1.43.59L10.3 9.45l-7.72 7.72c-.78.78-.78 2.05 0 2.83L4 21.41c.39.39.9.59 1.41.59.51 0 1.02-.2 1.41-.59l7.78-7.78 2.81-2.81c.8-.78.8-2.07 0-2.86zM5.41 20L4 18.59l7.72-7.72 1.47 1.35L5.41 20z\"/>\n",
              "  </svg>\n",
              "      </button>\n",
              "      \n",
              "  <style>\n",
              "    .colab-df-container {\n",
              "      display:flex;\n",
              "      flex-wrap:wrap;\n",
              "      gap: 12px;\n",
              "    }\n",
              "\n",
              "    .colab-df-convert {\n",
              "      background-color: #E8F0FE;\n",
              "      border: none;\n",
              "      border-radius: 50%;\n",
              "      cursor: pointer;\n",
              "      display: none;\n",
              "      fill: #1967D2;\n",
              "      height: 32px;\n",
              "      padding: 0 0 0 0;\n",
              "      width: 32px;\n",
              "    }\n",
              "\n",
              "    .colab-df-convert:hover {\n",
              "      background-color: #E2EBFA;\n",
              "      box-shadow: 0px 1px 2px rgba(60, 64, 67, 0.3), 0px 1px 3px 1px rgba(60, 64, 67, 0.15);\n",
              "      fill: #174EA6;\n",
              "    }\n",
              "\n",
              "    [theme=dark] .colab-df-convert {\n",
              "      background-color: #3B4455;\n",
              "      fill: #D2E3FC;\n",
              "    }\n",
              "\n",
              "    [theme=dark] .colab-df-convert:hover {\n",
              "      background-color: #434B5C;\n",
              "      box-shadow: 0px 1px 3px 1px rgba(0, 0, 0, 0.15);\n",
              "      filter: drop-shadow(0px 1px 2px rgba(0, 0, 0, 0.3));\n",
              "      fill: #FFFFFF;\n",
              "    }\n",
              "  </style>\n",
              "\n",
              "      <script>\n",
              "        const buttonEl =\n",
              "          document.querySelector('#df-85b1abff-ecef-465c-92bc-e6389a810ab2 button.colab-df-convert');\n",
              "        buttonEl.style.display =\n",
              "          google.colab.kernel.accessAllowed ? 'block' : 'none';\n",
              "\n",
              "        async function convertToInteractive(key) {\n",
              "          const element = document.querySelector('#df-85b1abff-ecef-465c-92bc-e6389a810ab2');\n",
              "          const dataTable =\n",
              "            await google.colab.kernel.invokeFunction('convertToInteractive',\n",
              "                                                     [key], {});\n",
              "          if (!dataTable) return;\n",
              "\n",
              "          const docLinkHtml = 'Like what you see? Visit the ' +\n",
              "            '<a target=\"_blank\" href=https://colab.research.google.com/notebooks/data_table.ipynb>data table notebook</a>'\n",
              "            + ' to learn more about interactive tables.';\n",
              "          element.innerHTML = '';\n",
              "          dataTable['output_type'] = 'display_data';\n",
              "          await google.colab.output.renderOutput(dataTable, element);\n",
              "          const docLink = document.createElement('div');\n",
              "          docLink.innerHTML = docLinkHtml;\n",
              "          element.appendChild(docLink);\n",
              "        }\n",
              "      </script>\n",
              "    </div>\n",
              "  </div>\n",
              "  "
            ]
          },
          "metadata": {},
          "execution_count": 79
        }
      ]
    },
    {
      "cell_type": "code",
      "source": [
        "## making correlation matrix more understable \n",
        "\n",
        "corr_matrix = df.corr()\n",
        "fig, ax = plt.subplots(figsize=(15,10))\n",
        "ax =  sns.heatmap(corr_matrix,\n",
        "                  annot=True,\n",
        "                  linewidth=0.5,\n",
        "                  fmt=\".2f\",\n",
        "                  cmap=\"YlGnBu\",);"
      ],
      "metadata": {
        "colab": {
          "base_uri": "https://localhost:8080/",
          "height": 695
        },
        "id": "0-WSxbe-uiKj",
        "outputId": "7dd042c7-a919-4dd0-aa3b-ef6b30176844"
      },
      "execution_count": 80,
      "outputs": [
        {
          "output_type": "display_data",
          "data": {
            "text/plain": [
              "<Figure size 1080x720 with 2 Axes>"
            ],
            "image/png": "[encoded data removed]"
          },
          "metadata": {
            "needs_background": "light"
          }
        }
      ]
    },
    {
      "cell_type": "code",
      "source": [
        "df.dtypes"
      ],
      "metadata": {
        "colab": {
          "base_uri": "https://localhost:8080/"
        },
        "id": "4tVvCuzuyR-4",
        "outputId": "edc7945e-785c-4945-f6f5-959e8a6604e9"
      },
      "execution_count": 81,
      "outputs": [
        {
          "output_type": "execute_result",
          "data": {
            "text/plain": [
              "Open                      float64\n",
              "High                      float64\n",
              "Low                       float64\n",
              "Ltp                       float64\n",
              "Qty                       float64\n",
              "Turnover                  float64\n",
              "economic-subjectivity     float64\n",
              "economic-polarity         float64\n",
              "political-subjectivity    float64\n",
              "political-polarity        float64\n",
              "dtype: object"
            ]
          },
          "metadata": {},
          "execution_count": 81
        }
      ]
    },
    {
      "cell_type": "code",
      "source": [
        "# Create feature data set\n",
        "X = df\n",
        "X = np.array(X.drop(['Ltp'], 1))\n",
        "\n",
        "# Create target data set\n",
        "y = np.array(df['Ltp'])"
      ],
      "metadata": {
        "id": "GclAei1vuldL"
      },
      "execution_count": 82,
      "outputs": []
    },
    {
      "cell_type": "code",
      "source": [
        "X.shape, y.shape"
      ],
      "metadata": {
        "colab": {
          "base_uri": "https://localhost:8080/"
        },
        "id": "stzvWcGLuwWv",
        "outputId": "6ec66b51-a925-43d7-ee07-81a8892c5493"
      },
      "execution_count": 83,
      "outputs": [
        {
          "output_type": "execute_result",
          "data": {
            "text/plain": [
              "((948, 9), (948,))"
            ]
          },
          "metadata": {},
          "execution_count": 83
        }
      ]
    },
    {
      "cell_type": "code",
      "source": [
        "len(df)"
      ],
      "metadata": {
        "colab": {
          "base_uri": "https://localhost:8080/"
        },
        "id": "S1GxBBA20RlF",
        "outputId": "6812ca61-5a95-4bf4-86d0-7890cbeaf31d"
      },
      "execution_count": 84,
      "outputs": [
        {
          "output_type": "execute_result",
          "data": {
            "text/plain": [
              "948"
            ]
          },
          "metadata": {},
          "execution_count": 84
        }
      ]
    },
    {
      "cell_type": "code",
      "source": [
        "split = int(0.9*len(df))"
      ],
      "metadata": {
        "id": "T2UbJWkdzttV"
      },
      "execution_count": 85,
      "outputs": []
    },
    {
      "cell_type": "code",
      "source": [
        "split"
      ],
      "metadata": {
        "colab": {
          "base_uri": "https://localhost:8080/"
        },
        "id": "v8cnEJSZ1KvV",
        "outputId": "a6afc69b-af09-41b7-e70f-5aec88afb9dc"
      },
      "execution_count": 86,
      "outputs": [
        {
          "output_type": "execute_result",
          "data": {
            "text/plain": [
              "853"
            ]
          },
          "metadata": {},
          "execution_count": 86
        }
      ]
    },
    {
      "cell_type": "code",
      "source": [
        "y = np.reshape(y, (y.shape[0], 1))"
      ],
      "metadata": {
        "id": "Q39P9dD915q4"
      },
      "execution_count": 87,
      "outputs": []
    },
    {
      "cell_type": "code",
      "source": [
        "y.shape"
      ],
      "metadata": {
        "colab": {
          "base_uri": "https://localhost:8080/"
        },
        "id": "H1TIogfT1kGr",
        "outputId": "39288f74-641d-4013-80be-f2a79d16d022"
      },
      "execution_count": 88,
      "outputs": [
        {
          "output_type": "execute_result",
          "data": {
            "text/plain": [
              "(948, 1)"
            ]
          },
          "metadata": {},
          "execution_count": 88
        }
      ]
    },
    {
      "cell_type": "code",
      "source": [
        "X[0:853,:].shape"
      ],
      "metadata": {
        "colab": {
          "base_uri": "https://localhost:8080/"
        },
        "id": "tGrMXVD01OR-",
        "outputId": "1fb3416b-16a9-4262-cfa9-4737acc8ecd3"
      },
      "execution_count": 89,
      "outputs": [
        {
          "output_type": "execute_result",
          "data": {
            "text/plain": [
              "(853, 9)"
            ]
          },
          "metadata": {},
          "execution_count": 89
        }
      ]
    },
    {
      "cell_type": "code",
      "source": [
        "y[853:948,:].shape"
      ],
      "metadata": {
        "colab": {
          "base_uri": "https://localhost:8080/"
        },
        "id": "K6zPnJkx1syG",
        "outputId": "2cc77996-b57e-4607-8509-c96a8c3a5bee"
      },
      "execution_count": 90,
      "outputs": [
        {
          "output_type": "execute_result",
          "data": {
            "text/plain": [
              "(95, 1)"
            ]
          },
          "metadata": {},
          "execution_count": 90
        }
      ]
    },
    {
      "cell_type": "code",
      "source": [
        "X = X[0:split,:] \n",
        "y = y[split:len(y),:]"
      ],
      "metadata": {
        "id": "J6Smu3bV0bLc"
      },
      "execution_count": 91,
      "outputs": []
    },
    {
      "cell_type": "code",
      "source": [
        "X.shape, y.shape"
      ],
      "metadata": {
        "colab": {
          "base_uri": "https://localhost:8080/"
        },
        "id": "AlKkokwA2Biu",
        "outputId": "4a549a1d-bf41-4ab0-e8a9-e4e6b3ea4722"
      },
      "execution_count": 92,
      "outputs": [
        {
          "output_type": "execute_result",
          "data": {
            "text/plain": [
              "((853, 9), (95, 1))"
            ]
          },
          "metadata": {},
          "execution_count": 92
        }
      ]
    },
    {
      "cell_type": "markdown",
      "source": [
        "**Lets split the data into 5 folds.**"
      ],
      "metadata": {
        "id": "HmFuuY1Du58E"
      }
    },
    {
      "cell_type": "code",
      "source": [
        "# # Check split the data into 5 folds.  \n",
        "# kf5 =KFold(n_splits=5, shuffle=True, random_state=42)\n",
        "\n",
        "\n",
        "# count = 1\n",
        "# for train_index5, test_index5 in kf5.split(X, y):\n",
        "#     print(f'Fold:{count}, Train set: {len(train_index5)}, Test set:{len(test_index5)}')\n",
        "#     count += 1"
      ],
      "metadata": {
        "id": "a-9w07bguyEi"
      },
      "execution_count": 93,
      "outputs": []
    },
    {
      "cell_type": "code",
      "source": [
        "def create_dataset(dataset, look_back=1):\n",
        "    dataX, dataY = [], []\n",
        "    for i in range(len(dataset)-look_back-1):\n",
        "        a = dataset[i:(i+look_back), 0]\n",
        "        dataX.append(a)\n",
        "        dataY.append(dataset[i + look_back, 0])\n",
        "    return np.array(dataX), np.array(dataY)"
      ],
      "metadata": {
        "id": "tmh3wvADu9fP"
      },
      "execution_count": 94,
      "outputs": []
    },
    {
      "cell_type": "code",
      "source": [
        "look_back = 5\n",
        "X_train, y_train = create_dataset(X, look_back)\n",
        "X_test, y_test = create_dataset(y, look_back)"
      ],
      "metadata": {
        "id": "Vlf7hUcgvJ_y"
      },
      "execution_count": 95,
      "outputs": []
    },
    {
      "cell_type": "code",
      "source": [
        "X_train.shape, y_train.shape,X_test.shape,y_test.shape"
      ],
      "metadata": {
        "colab": {
          "base_uri": "https://localhost:8080/"
        },
        "id": "ZZqQyiDMv9ez",
        "outputId": "20ce789e-2027-42fa-fc29-79f2edf25d99"
      },
      "execution_count": 96,
      "outputs": [
        {
          "output_type": "execute_result",
          "data": {
            "text/plain": [
              "((847, 5), (847,), (89, 5), (89,))"
            ]
          },
          "metadata": {},
          "execution_count": 96
        }
      ]
    },
    {
      "cell_type": "code",
      "source": [
        "scale = StandardScaler()\n",
        "X_train = scale.fit_transform(X_train)\n",
        "X_test = scale.transform(X_test)"
      ],
      "metadata": {
        "id": "8BE2q2UlxLDe"
      },
      "execution_count": 97,
      "outputs": []
    },
    {
      "cell_type": "markdown",
      "source": [
        "**Modeling**"
      ],
      "metadata": {
        "id": "iyCAoEsg2x_v"
      }
    },
    {
      "cell_type": "code",
      "source": [
        "models = {\"LinearRegression\":LinearRegression(),\n",
        "          \"MLPRegressor\": MLPRegressor(),\n",
        "          \"SVM\":SVR(),\n",
        "          'Ridge': Ridge(),\n",
        "          \"KNN\":KNeighborsRegressor(),\n",
        "          \"RandomForestRegressor\":RandomForestRegressor(),\n",
        "        }\n",
        "\n",
        "# Create a function to fit and score models\n",
        "def fit_and_score(models, X_train, X_test, y_train, y_test): \n",
        "    \"\"\"\n",
        "    Fits and evaluates given machine learning models.\n",
        "    models: a dict of different Scikit-Learn machine learning models\n",
        "    X_train: training data(with no labels)\n",
        "    X_test: testing data(with no labels)\n",
        "    y_train: training labels\n",
        "    y_test: testing labels\n",
        "    \"\"\"\n",
        "    \n",
        "    #set random seed\n",
        "    np.random.seed(42)\n",
        "\n",
        "    # Making a dictionary to keep model scoresS\n",
        "    model_scores = {}\n",
        "\n",
        "    # Loop through models\n",
        "    for name, model in models.items():\n",
        "        # Fit the model to the data\n",
        "        model.fit(X_train, y_train)\n",
        "\n",
        "        #Evaluate the model and  append  it's score to model_scores\n",
        "        model_scores[name] = model.score(X_test, y_test)\n",
        "    return model_scores"
      ],
      "metadata": {
        "id": "Wu_2KvwR2upA"
      },
      "execution_count": 98,
      "outputs": []
    },
    {
      "cell_type": "code",
      "source": [
        "model_scores = fit_and_score(models=models,\n",
        "                             X_train=X_train,\n",
        "                             X_test=X_test,\n",
        "                             y_train=y_train,\n",
        "                             y_test=y_test)"
      ],
      "metadata": {
        "id": "vdWQ0L0r23JK"
      },
      "execution_count": 99,
      "outputs": []
    },
    {
      "cell_type": "code",
      "source": [
        "model_scores"
      ],
      "metadata": {
        "colab": {
          "base_uri": "https://localhost:8080/"
        },
        "id": "Z_E0c0hZ26il",
        "outputId": "f85c94ea-0076-4fa0-d964-5246b6bef235"
      },
      "execution_count": 100,
      "outputs": [
        {
          "output_type": "execute_result",
          "data": {
            "text/plain": [
              "{'LinearRegression': 0.9411546035473812,\n",
              " 'MLPRegressor': -27.143802724598643,\n",
              " 'SVM': -18.768818188905794,\n",
              " 'Ridge': 0.9374639218449975,\n",
              " 'KNN': -5.500606899772547,\n",
              " 'RandomForestRegressor': -5.112146062251897}"
            ]
          },
          "metadata": {},
          "execution_count": 100
        }
      ]
    },
    {
      "cell_type": "markdown",
      "source": [
        "**Hyperparameter Tuning**"
      ],
      "metadata": {
        "id": "CkLH6kxy3T-R"
      }
    },
    {
      "cell_type": "code",
      "source": [
        "grid_regr = {\n",
        "    'fit_intercept': ['True','False'],\n",
        "    'positive': ['True','False'],\n",
        "}\n",
        "\n",
        "grid_mlp = {\n",
        "    'hidden_layer_sizes': (150,100,50),\n",
        "     'max_iter' : [100,200,300,500,1000],\n",
        "     'activation' : ['relu','identity', 'logistic', 'tanh'],\n",
        "     'solver' : ['adam','lbfgs','sgd'],\n",
        "     'validation_fraction': np.arange(0.0,1.0)\n",
        "}\n",
        "\n",
        "grid_svm = {\n",
        "    'C': [0.1, 1, 10, 100, 1000], \n",
        "    'gamma': [1, 0.1, 0.01, 0.001, 0.0001],\n",
        "    'kernel': ['rbf','linear', 'poly', 'sigmoid']\n",
        "    }\n",
        "\n",
        "grid_ridge = {\n",
        "    'alpha':[200, 230, 250,265, 270, 275, 290, 300, 500]\n",
        "}\n",
        "\n",
        "grid_knn ={\n",
        "    'leaf_size':np.arange(1,50),\n",
        "    'n_neighbors':np.arange(1,30),\n",
        "    'p':[1,2]\n",
        "}\n",
        "\n",
        "grid_rf = {\n",
        "    'n_estimators': [20, 50, 100, 500, 1000],  \n",
        "    'max_depth': np.arange(1, 15, 1),  \n",
        "    'min_samples_split': [2, 10, 9], \n",
        "    'min_samples_leaf': np.arange(1, 15, 2, dtype=int),  \n",
        "    'bootstrap': [True, False], \n",
        "    'random_state': [1, 2, 30, 42]\n",
        "}"
      ],
      "metadata": {
        "id": "egLOVo-F3ViI"
      },
      "execution_count": 101,
      "outputs": []
    },
    {
      "cell_type": "markdown",
      "source": [
        "**Tune Linear Regression**"
      ],
      "metadata": {
        "id": "38ONBgsh31FP"
      }
    },
    {
      "cell_type": "code",
      "source": [
        "np.random.seed(42)\n",
        "\n",
        "# Setup random hyperparameter search for LinearRegression\n",
        "regr = RandomizedSearchCV(LinearRegression(),\n",
        "                                param_distributions=grid_regr,\n",
        "                                cv=10,\n",
        "                                n_iter=10,\n",
        "                                verbose=True,\n",
        "                                n_jobs=-1)\n",
        "\n",
        "#Fit random hyperparameter search model for LinearRegression \n",
        "regr.fit(X_train,y_train)"
      ],
      "metadata": {
        "colab": {
          "base_uri": "https://localhost:8080/"
        },
        "id": "hQ_p03za3xjA",
        "outputId": "9399ad3f-3dbb-48b5-dcf2-b3ec7a42feec"
      },
      "execution_count": 102,
      "outputs": [
        {
          "output_type": "stream",
          "name": "stdout",
          "text": [
            "Fitting 10 folds for each of 4 candidates, totalling 40 fits\n"
          ]
        },
        {
          "output_type": "execute_result",
          "data": {
            "text/plain": [
              "RandomizedSearchCV(cv=10, estimator=LinearRegression(), n_jobs=-1,\n",
              "                   param_distributions={'fit_intercept': ['True', 'False'],\n",
              "                                        'positive': ['True', 'False']},\n",
              "                   verbose=True)"
            ]
          },
          "metadata": {},
          "execution_count": 102
        }
      ]
    },
    {
      "cell_type": "code",
      "source": [
        "# Find the best parameters\n",
        "regr.best_params_"
      ],
      "metadata": {
        "colab": {
          "base_uri": "https://localhost:8080/"
        },
        "id": "vIBohhrk38qL",
        "outputId": "02b1e69f-f77e-4c46-b6cf-0cdbb59137b8"
      },
      "execution_count": 103,
      "outputs": [
        {
          "output_type": "execute_result",
          "data": {
            "text/plain": [
              "{'positive': 'True', 'fit_intercept': 'True'}"
            ]
          },
          "metadata": {},
          "execution_count": 103
        }
      ]
    },
    {
      "cell_type": "code",
      "source": [
        "# Evaluate the randomized search LinearRegression Model\n",
        "regr.score(X_test, y_test)"
      ],
      "metadata": {
        "colab": {
          "base_uri": "https://localhost:8080/"
        },
        "id": "ECF9D4s73_6v",
        "outputId": "1afd9bb9-f59c-457f-c8b2-232a08871cf7"
      },
      "execution_count": 104,
      "outputs": [
        {
          "output_type": "execute_result",
          "data": {
            "text/plain": [
              "0.9395019034249609"
            ]
          },
          "metadata": {},
          "execution_count": 104
        }
      ]
    },
    {
      "cell_type": "code",
      "source": [
        "model_scores"
      ],
      "metadata": {
        "colab": {
          "base_uri": "https://localhost:8080/"
        },
        "id": "oRyYyibC4FUR",
        "outputId": "076ed7b4-1ca1-484b-e558-ae5042888033"
      },
      "execution_count": 105,
      "outputs": [
        {
          "output_type": "execute_result",
          "data": {
            "text/plain": [
              "{'LinearRegression': 0.9411546035473812,\n",
              " 'MLPRegressor': -27.143802724598643,\n",
              " 'SVM': -18.768818188905794,\n",
              " 'Ridge': 0.9374639218449975,\n",
              " 'KNN': -5.500606899772547,\n",
              " 'RandomForestRegressor': -5.112146062251897}"
            ]
          },
          "metadata": {},
          "execution_count": 105
        }
      ]
    },
    {
      "cell_type": "markdown",
      "source": [
        "**Tune Multi Layer Perceptron Regressor**"
      ],
      "metadata": {
        "id": "iovl_CKP4a8-"
      }
    },
    {
      "cell_type": "code",
      "source": [
        "np.random.seed(42)\n",
        "\n",
        "# Setup random hyperparameter search for MLPRegressor\n",
        "mlp = RandomizedSearchCV(MLPRegressor(),\n",
        "                         param_distributions=grid_mlp,\n",
        "                         cv=10,\n",
        "                         n_iter=10,\n",
        "                         verbose=True,\n",
        "                         n_jobs=-1)\n",
        "\n",
        "#Fit random hyperparameter search model for MLPRegressor \n",
        "mlp.fit(X_train,y_train)"
      ],
      "metadata": {
        "colab": {
          "base_uri": "https://localhost:8080/"
        },
        "id": "VwVUxQJD4Hv1",
        "outputId": "808dc331-61ae-4b68-cb66-0a46ede0722b"
      },
      "execution_count": 106,
      "outputs": [
        {
          "output_type": "stream",
          "name": "stdout",
          "text": [
            "Fitting 10 folds for each of 10 candidates, totalling 100 fits\n"
          ]
        },
        {
          "output_type": "execute_result",
          "data": {
            "text/plain": [
              "RandomizedSearchCV(cv=10, estimator=MLPRegressor(), n_jobs=-1,\n",
              "                   param_distributions={'activation': ['relu', 'identity',\n",
              "                                                       'logistic', 'tanh'],\n",
              "                                        'hidden_layer_sizes': (150, 100, 50),\n",
              "                                        'max_iter': [100, 200, 300, 500, 1000],\n",
              "                                        'solver': ['adam', 'lbfgs', 'sgd'],\n",
              "                                        'validation_fraction': array([0.])},\n",
              "                   verbose=True)"
            ]
          },
          "metadata": {},
          "execution_count": 106
        }
      ]
    },
    {
      "cell_type": "code",
      "source": [
        "# Find the best parameters\n",
        "mlp.best_params_"
      ],
      "metadata": {
        "colab": {
          "base_uri": "https://localhost:8080/"
        },
        "id": "_4mawZgY4dcc",
        "outputId": "ab4a216c-5780-4807-d9c2-660d4f1a77e8"
      },
      "execution_count": 107,
      "outputs": [
        {
          "output_type": "execute_result",
          "data": {
            "text/plain": [
              "{'validation_fraction': 0.0,\n",
              " 'solver': 'lbfgs',\n",
              " 'max_iter': 200,\n",
              " 'hidden_layer_sizes': 100,\n",
              " 'activation': 'relu'}"
            ]
          },
          "metadata": {},
          "execution_count": 107
        }
      ]
    },
    {
      "cell_type": "code",
      "source": [
        "# Evaluate the randomized search MLPRegressor Model\n",
        "mlp.score(X_test, y_test)"
      ],
      "metadata": {
        "colab": {
          "base_uri": "https://localhost:8080/"
        },
        "id": "3-w4b34X4d5X",
        "outputId": "06252c5c-5b95-406e-98e0-aef0057520b5"
      },
      "execution_count": 108,
      "outputs": [
        {
          "output_type": "execute_result",
          "data": {
            "text/plain": [
              "0.9488335795413604"
            ]
          },
          "metadata": {},
          "execution_count": 108
        }
      ]
    },
    {
      "cell_type": "code",
      "source": [
        "model_scores"
      ],
      "metadata": {
        "colab": {
          "base_uri": "https://localhost:8080/"
        },
        "id": "FoIFU-dD4eJ6",
        "outputId": "5e41e07a-d389-4ee5-fd10-1ae80cf8b33d"
      },
      "execution_count": 109,
      "outputs": [
        {
          "output_type": "execute_result",
          "data": {
            "text/plain": [
              "{'LinearRegression': 0.9411546035473812,\n",
              " 'MLPRegressor': -27.143802724598643,\n",
              " 'SVM': -18.768818188905794,\n",
              " 'Ridge': 0.9374639218449975,\n",
              " 'KNN': -5.500606899772547,\n",
              " 'RandomForestRegressor': -5.112146062251897}"
            ]
          },
          "metadata": {},
          "execution_count": 109
        }
      ]
    },
    {
      "cell_type": "markdown",
      "source": [
        "**Tune Support Vector Machine Regressor**"
      ],
      "metadata": {
        "id": "0e5P3PUc4uTM"
      }
    },
    {
      "cell_type": "code",
      "source": [
        "np.random.seed(42)\n",
        "\n",
        "# Setup random hyperparameter search for SVM\n",
        "svm = RandomizedSearchCV(SVR(),\n",
        "                         param_distributions=grid_svm,\n",
        "                         cv=10,\n",
        "                         n_iter=10,\n",
        "                         verbose=True,\n",
        "                         n_jobs=-1)\n",
        "\n",
        "#Fit random hyperparameter search model for SVM \n",
        "svm.fit(X_train,y_train)"
      ],
      "metadata": {
        "colab": {
          "base_uri": "https://localhost:8080/"
        },
        "id": "mnQtDwAU4eZ8",
        "outputId": "201fd2c8-6747-4ff4-e353-aa43813b056d"
      },
      "execution_count": 110,
      "outputs": [
        {
          "output_type": "stream",
          "name": "stdout",
          "text": [
            "Fitting 10 folds for each of 10 candidates, totalling 100 fits\n"
          ]
        },
        {
          "output_type": "execute_result",
          "data": {
            "text/plain": [
              "RandomizedSearchCV(cv=10, estimator=SVR(), n_jobs=-1,\n",
              "                   param_distributions={'C': [0.1, 1, 10, 100, 1000],\n",
              "                                        'gamma': [1, 0.1, 0.01, 0.001, 0.0001],\n",
              "                                        'kernel': ['rbf', 'linear', 'poly',\n",
              "                                                   'sigmoid']},\n",
              "                   verbose=True)"
            ]
          },
          "metadata": {},
          "execution_count": 110
        }
      ]
    },
    {
      "cell_type": "code",
      "source": [
        "# Find the best parameters\n",
        "svm.best_params_"
      ],
      "metadata": {
        "colab": {
          "base_uri": "https://localhost:8080/"
        },
        "id": "HBjyth3Z4enb",
        "outputId": "90b05a2a-ce79-4bb7-9ebc-10a31462b299"
      },
      "execution_count": 111,
      "outputs": [
        {
          "output_type": "execute_result",
          "data": {
            "text/plain": [
              "{'kernel': 'linear', 'gamma': 0.001, 'C': 10}"
            ]
          },
          "metadata": {},
          "execution_count": 111
        }
      ]
    },
    {
      "cell_type": "code",
      "source": [
        "# Evaluate the randomized search SVM Model\n",
        "svm.score(X_test, y_test)"
      ],
      "metadata": {
        "colab": {
          "base_uri": "https://localhost:8080/"
        },
        "id": "XGUkcn304HzX",
        "outputId": "08aa9f81-b872-48e1-f304-b3893baeb9ae"
      },
      "execution_count": 112,
      "outputs": [
        {
          "output_type": "execute_result",
          "data": {
            "text/plain": [
              "0.9322796521376517"
            ]
          },
          "metadata": {},
          "execution_count": 112
        }
      ]
    },
    {
      "cell_type": "code",
      "source": [
        "model_scores"
      ],
      "metadata": {
        "colab": {
          "base_uri": "https://localhost:8080/"
        },
        "id": "rod9maUO4H7v",
        "outputId": "263ff6a0-e987-4a1f-c5e2-22d0813f73e7"
      },
      "execution_count": 113,
      "outputs": [
        {
          "output_type": "execute_result",
          "data": {
            "text/plain": [
              "{'LinearRegression': 0.9411546035473812,\n",
              " 'MLPRegressor': -27.143802724598643,\n",
              " 'SVM': -18.768818188905794,\n",
              " 'Ridge': 0.9374639218449975,\n",
              " 'KNN': -5.500606899772547,\n",
              " 'RandomForestRegressor': -5.112146062251897}"
            ]
          },
          "metadata": {},
          "execution_count": 113
        }
      ]
    },
    {
      "cell_type": "markdown",
      "source": [
        "**Tune Ridge**"
      ],
      "metadata": {
        "id": "RRODFXZy58y0"
      }
    },
    {
      "cell_type": "code",
      "source": [
        "np.random.seed(42)\n",
        "\n",
        "# Setup random hyperparameter search for Ridge Rigressor\n",
        "ridge = RandomizedSearchCV(Ridge(),\n",
        "                         param_distributions=grid_ridge,\n",
        "                         cv=10,\n",
        "                         n_iter=10,\n",
        "                         verbose=True,\n",
        "                         n_jobs=-1)\n",
        "\n",
        "#Fit random hyperparameter search model for Ridge Rigressor \n",
        "ridge.fit(X_train,y_train)"
      ],
      "metadata": {
        "colab": {
          "base_uri": "https://localhost:8080/"
        },
        "id": "rcQHveUp49Y7",
        "outputId": "95234494-f27b-456a-e43c-df0adc344729"
      },
      "execution_count": 114,
      "outputs": [
        {
          "output_type": "stream",
          "name": "stdout",
          "text": [
            "Fitting 10 folds for each of 9 candidates, totalling 90 fits\n"
          ]
        },
        {
          "output_type": "execute_result",
          "data": {
            "text/plain": [
              "RandomizedSearchCV(cv=10, estimator=Ridge(), n_jobs=-1,\n",
              "                   param_distributions={'alpha': [200, 230, 250, 265, 270, 275,\n",
              "                                                  290, 300, 500]},\n",
              "                   verbose=True)"
            ]
          },
          "metadata": {},
          "execution_count": 114
        }
      ]
    },
    {
      "cell_type": "code",
      "source": [
        "# Find the best parameters\n",
        "ridge.best_params_"
      ],
      "metadata": {
        "colab": {
          "base_uri": "https://localhost:8080/"
        },
        "id": "_bEk8wBF49jo",
        "outputId": "4838d9c2-05a0-43d0-d29f-756a77d965e1"
      },
      "execution_count": 115,
      "outputs": [
        {
          "output_type": "execute_result",
          "data": {
            "text/plain": [
              "{'alpha': 200}"
            ]
          },
          "metadata": {},
          "execution_count": 115
        }
      ]
    },
    {
      "cell_type": "code",
      "source": [
        "# Evaluate the randomized search Ridge Model\n",
        "ridge.score(X_test, y_test)"
      ],
      "metadata": {
        "colab": {
          "base_uri": "https://localhost:8080/"
        },
        "id": "uPq-82Xw49rV",
        "outputId": "7a5c8802-bb78-45ab-e980-de8e2c341624"
      },
      "execution_count": 116,
      "outputs": [
        {
          "output_type": "execute_result",
          "data": {
            "text/plain": [
              "0.7353462896157594"
            ]
          },
          "metadata": {},
          "execution_count": 116
        }
      ]
    },
    {
      "cell_type": "code",
      "source": [
        "model_scores"
      ],
      "metadata": {
        "colab": {
          "base_uri": "https://localhost:8080/"
        },
        "id": "wi_auMHH49yJ",
        "outputId": "5c151995-0d59-434f-e15b-3d51dc81e70e"
      },
      "execution_count": 117,
      "outputs": [
        {
          "output_type": "execute_result",
          "data": {
            "text/plain": [
              "{'LinearRegression': 0.9411546035473812,\n",
              " 'MLPRegressor': -27.143802724598643,\n",
              " 'SVM': -18.768818188905794,\n",
              " 'Ridge': 0.9374639218449975,\n",
              " 'KNN': -5.500606899772547,\n",
              " 'RandomForestRegressor': -5.112146062251897}"
            ]
          },
          "metadata": {},
          "execution_count": 117
        }
      ]
    },
    {
      "cell_type": "markdown",
      "source": [
        "**Tune KNeighborsRegressor**"
      ],
      "metadata": {
        "id": "J0hIgNh46WI4"
      }
    },
    {
      "cell_type": "code",
      "source": [
        "np.random.seed(42)\n",
        "\n",
        "# Setup random hyperparameter search for Ridge Rigressor\n",
        "knn = RandomizedSearchCV(KNeighborsRegressor(),\n",
        "                         param_distributions=grid_knn,\n",
        "                         cv=10,\n",
        "                         n_iter=10,\n",
        "                         verbose=True,\n",
        "                         n_jobs=-1)\n",
        "\n",
        "#Fit random hyperparameter search model for Ridge Rigressor \n",
        "knn.fit(X_train,y_train)\n"
      ],
      "metadata": {
        "colab": {
          "base_uri": "https://localhost:8080/"
        },
        "id": "shaK__uA495P",
        "outputId": "269190e4-6ab9-4e8f-c95c-6f1ac7e05d24"
      },
      "execution_count": 118,
      "outputs": [
        {
          "output_type": "stream",
          "name": "stdout",
          "text": [
            "Fitting 10 folds for each of 10 candidates, totalling 100 fits\n"
          ]
        },
        {
          "output_type": "execute_result",
          "data": {
            "text/plain": [
              "RandomizedSearchCV(cv=10, estimator=KNeighborsRegressor(), n_jobs=-1,\n",
              "                   param_distributions={'leaf_size': array([ 1,  2,  3,  4,  5,  6,  7,  8,  9, 10, 11, 12, 13, 14, 15, 16, 17,\n",
              "       18, 19, 20, 21, 22, 23, 24, 25, 26, 27, 28, 29, 30, 31, 32, 33, 34,\n",
              "       35, 36, 37, 38, 39, 40, 41, 42, 43, 44, 45, 46, 47, 48, 49]),\n",
              "                                        'n_neighbors': array([ 1,  2,  3,  4,  5,  6,  7,  8,  9, 10, 11, 12, 13, 14, 15, 16, 17,\n",
              "       18, 19, 20, 21, 22, 23, 24, 25, 26, 27, 28, 29]),\n",
              "                                        'p': [1, 2]},\n",
              "                   verbose=True)"
            ]
          },
          "metadata": {},
          "execution_count": 118
        }
      ]
    },
    {
      "cell_type": "code",
      "source": [
        "# Find the best parameters\n",
        "knn.best_params_"
      ],
      "metadata": {
        "colab": {
          "base_uri": "https://localhost:8080/"
        },
        "id": "a_lpmqkd4-Ah",
        "outputId": "32c9c38e-c18f-4ad2-e4aa-a74324996068"
      },
      "execution_count": 119,
      "outputs": [
        {
          "output_type": "execute_result",
          "data": {
            "text/plain": [
              "{'p': 2, 'n_neighbors': 12, 'leaf_size': 38}"
            ]
          },
          "metadata": {},
          "execution_count": 119
        }
      ]
    },
    {
      "cell_type": "code",
      "source": [
        "# Evaluate the randomized search SVM Model\n",
        "knn.score(X_test, y_test)"
      ],
      "metadata": {
        "colab": {
          "base_uri": "https://localhost:8080/"
        },
        "id": "Ia5n1G5n4-HS",
        "outputId": "dfc25232-2760-4614-f7e8-4687ebaaa10e"
      },
      "execution_count": 120,
      "outputs": [
        {
          "output_type": "execute_result",
          "data": {
            "text/plain": [
              "-5.640035532718713"
            ]
          },
          "metadata": {},
          "execution_count": 120
        }
      ]
    },
    {
      "cell_type": "code",
      "source": [
        "model_scores"
      ],
      "metadata": {
        "colab": {
          "base_uri": "https://localhost:8080/"
        },
        "id": "n25Tpd7W4-Vx",
        "outputId": "c27b8218-4940-4b5c-da95-cb9c2eab81ed"
      },
      "execution_count": 121,
      "outputs": [
        {
          "output_type": "execute_result",
          "data": {
            "text/plain": [
              "{'LinearRegression': 0.9411546035473812,\n",
              " 'MLPRegressor': -27.143802724598643,\n",
              " 'SVM': -18.768818188905794,\n",
              " 'Ridge': 0.9374639218449975,\n",
              " 'KNN': -5.500606899772547,\n",
              " 'RandomForestRegressor': -5.112146062251897}"
            ]
          },
          "metadata": {},
          "execution_count": 121
        }
      ]
    },
    {
      "cell_type": "markdown",
      "source": [
        "**Tune random Forest Regressor**"
      ],
      "metadata": {
        "id": "Qr9JBESc6zbo"
      }
    },
    {
      "cell_type": "code",
      "source": [
        "np.random.seed(42)\n",
        "\n",
        "# Setup random hyperparameter search for RandomForestRegressor\n",
        "rf = RandomizedSearchCV(RandomForestRegressor(),\n",
        "                         param_distributions=grid_rf,\n",
        "                         cv=10,\n",
        "                         n_iter=10,\n",
        "                         verbose=True,\n",
        "                         n_jobs=-1)\n",
        "\n",
        "#Fit random hyperparameter search model for RandomForestRegressor \n",
        "rf.fit(X_train,y_train)"
      ],
      "metadata": {
        "colab": {
          "base_uri": "https://localhost:8080/"
        },
        "id": "evTEKQ8V6u2r",
        "outputId": "0370c828-c649-4912-e28a-98dee0013780"
      },
      "execution_count": 122,
      "outputs": [
        {
          "output_type": "stream",
          "name": "stdout",
          "text": [
            "Fitting 10 folds for each of 10 candidates, totalling 100 fits\n"
          ]
        },
        {
          "output_type": "execute_result",
          "data": {
            "text/plain": [
              "RandomizedSearchCV(cv=10, estimator=RandomForestRegressor(), n_jobs=-1,\n",
              "                   param_distributions={'bootstrap': [True, False],\n",
              "                                        'max_depth': array([ 1,  2,  3,  4,  5,  6,  7,  8,  9, 10, 11, 12, 13, 14]),\n",
              "                                        'min_samples_leaf': array([ 1,  3,  5,  7,  9, 11, 13]),\n",
              "                                        'min_samples_split': [2, 10, 9],\n",
              "                                        'n_estimators': [20, 50, 100, 500,\n",
              "                                                         1000],\n",
              "                                        'random_state': [1, 2, 30, 42]},\n",
              "                   verbose=True)"
            ]
          },
          "metadata": {},
          "execution_count": 122
        }
      ]
    },
    {
      "cell_type": "code",
      "source": [
        "# Find the best parameters\n",
        "rf.best_params_"
      ],
      "metadata": {
        "colab": {
          "base_uri": "https://localhost:8080/"
        },
        "id": "k0UynwmY6vRk",
        "outputId": "7fdfeeaf-265d-4d6e-cb63-170dae7f8ab7"
      },
      "execution_count": 123,
      "outputs": [
        {
          "output_type": "execute_result",
          "data": {
            "text/plain": [
              "{'random_state': 30,\n",
              " 'n_estimators': 50,\n",
              " 'min_samples_split': 9,\n",
              " 'min_samples_leaf': 7,\n",
              " 'max_depth': 11,\n",
              " 'bootstrap': True}"
            ]
          },
          "metadata": {},
          "execution_count": 123
        }
      ]
    },
    {
      "cell_type": "code",
      "source": [
        "# Evaluate the randomized search RandomForestRegressor Model\n",
        "rf.score(X_test, y_test)"
      ],
      "metadata": {
        "colab": {
          "base_uri": "https://localhost:8080/"
        },
        "id": "VabcTDau6vdb",
        "outputId": "0ff242b8-a3d1-4fe3-ba40-61f45839ebdc"
      },
      "execution_count": 124,
      "outputs": [
        {
          "output_type": "execute_result",
          "data": {
            "text/plain": [
              "-5.438426097329437"
            ]
          },
          "metadata": {},
          "execution_count": 124
        }
      ]
    },
    {
      "cell_type": "code",
      "source": [
        "model_scores"
      ],
      "metadata": {
        "colab": {
          "base_uri": "https://localhost:8080/"
        },
        "id": "w9o1back6vn9",
        "outputId": "42e1e103-3782-4e17-e137-573cdafa2f12"
      },
      "execution_count": 125,
      "outputs": [
        {
          "output_type": "execute_result",
          "data": {
            "text/plain": [
              "{'LinearRegression': 0.9411546035473812,\n",
              " 'MLPRegressor': -27.143802724598643,\n",
              " 'SVM': -18.768818188905794,\n",
              " 'Ridge': 0.9374639218449975,\n",
              " 'KNN': -5.500606899772547,\n",
              " 'RandomForestRegressor': -5.112146062251897}"
            ]
          },
          "metadata": {},
          "execution_count": 125
        }
      ]
    },
    {
      "cell_type": "code",
      "source": [
        "# test models\n",
        "models = {  'LinearRegression':LinearRegression(positive= 'True', fit_intercept= 'True'),\n",
        "            'MLPRegressor': MLPRegressor(validation_fraction= 0.0, solver='lbfgs', \n",
        "                                         max_iter=200, hidden_layer_sizes=100, activation='relu'),\n",
        "            'SVM': SVR(kernel= 'linear', gamma= 0.001, C=10),\n",
        "            'Ridge':Ridge(alpha= 200),\n",
        "            'KNN': KNeighborsRegressor(p= 2, n_neighbors= 12, leaf_size= 38),\n",
        "            'RandomForestRegressor': RandomForestRegressor(random_state= 30, n_estimators= 50, min_samples_split= 9, \n",
        "                                                            min_samples_leaf= 7, max_depth= 11, bootstrap= True)\n",
        "            }\n",
        "\n",
        "for model_name in models.keys():\n",
        "\n",
        "    model = models[model_name]\n",
        "    print('\\n'+'--------------',model_name,'---------------'+'\\n')\n",
        "    model.fit(X_train,y_train)\n",
        "    predict = model.predict(X_test)\n",
        "    print(\"Mean Absolute Error:\", round(metrics.mean_absolute_error(y_test, predict), 4))\n",
        "    print(\"Mean Squared Error:\", round(metrics.mean_squared_error(y_test, predict), 4))\n",
        "    print(\"Root Mean Squared Error:\", round(np.sqrt(metrics.mean_squared_error(y_test, predict)), 4))\n",
        "    print(\"(R^2) Score:\", round(metrics.r2_score(y_test, predict), 4))\n",
        "    print(f'Train Score : {model.score(X_train, y_train) * 100:.2f}% and Test Score : {model.score(X_test, y_test) * 100:.2f}% using {model_name}.')\n",
        "    errors = abs(predict - y_test)\n",
        "    mape = 100 * (errors / y_test)\n",
        "    accuracy = 100 - np.mean(mape)\n",
        "    print('Accuracy:', round(accuracy, 2), '%.')"
      ],
      "metadata": {
        "colab": {
          "base_uri": "https://localhost:8080/"
        },
        "id": "NE5R_v7w4Fzr",
        "outputId": "0ab8cf0c-9e69-4b8e-cca0-341eaa8b0b46"
      },
      "execution_count": 126,
      "outputs": [
        {
          "output_type": "stream",
          "name": "stdout",
          "text": [
            "\n",
            "-------------- LinearRegression ---------------\n",
            "\n",
            "Mean Absolute Error: 25.2292\n",
            "Mean Squared Error: 1571.9581\n",
            "Root Mean Squared Error: 39.6479\n",
            "(R^2) Score: 0.9395\n",
            "Train Score : 98.55% and Test Score : 93.95% using LinearRegression.\n",
            "Accuracy: 97.67 %.\n",
            "\n",
            "-------------- MLPRegressor ---------------\n",
            "\n",
            "Mean Absolute Error: 24.9713\n",
            "Mean Squared Error: 1409.3693\n",
            "Root Mean Squared Error: 37.5416\n",
            "(R^2) Score: 0.9458\n",
            "Train Score : 98.63% and Test Score : 94.58% using MLPRegressor.\n",
            "Accuracy: 97.8 %.\n",
            "\n",
            "-------------- SVM ---------------\n",
            "\n",
            "Mean Absolute Error: 25.9454\n",
            "Mean Squared Error: 1759.6181\n",
            "Root Mean Squared Error: 41.9478\n",
            "(R^2) Score: 0.9323\n",
            "Train Score : 98.52% and Test Score : 93.23% using SVM.\n",
            "Accuracy: 97.58 %.\n",
            "\n",
            "-------------- Ridge ---------------\n",
            "\n",
            "Mean Absolute Error: 65.6613\n",
            "Mean Squared Error: 6876.655\n",
            "Root Mean Squared Error: 82.9256\n",
            "(R^2) Score: 0.7353\n",
            "Train Score : 97.02% and Test Score : 73.53% using Ridge.\n",
            "Accuracy: 93.96 %.\n",
            "\n",
            "-------------- KNN ---------------\n",
            "\n",
            "Mean Absolute Error: 383.0197\n",
            "Mean Squared Error: 172531.9974\n",
            "Root Mean Squared Error: 415.3697\n",
            "(R^2) Score: -5.64\n",
            "Train Score : 98.04% and Test Score : -564.00% using KNN.\n",
            "Accuracy: 67.03 %.\n",
            "\n",
            "-------------- RandomForestRegressor ---------------\n",
            "\n",
            "Mean Absolute Error: 376.3615\n",
            "Mean Squared Error: 167293.4594\n",
            "Root Mean Squared Error: 409.0152\n",
            "(R^2) Score: -5.4384\n",
            "Train Score : 98.96% and Test Score : -543.84% using RandomForestRegressor.\n",
            "Accuracy: 67.62 %.\n"
          ]
        }
      ]
    },
    {
      "cell_type": "markdown",
      "source": [
        "**Hyperparameter Tuning with GridSearchCV**"
      ],
      "metadata": {
        "id": "zxxkzSA6884J"
      }
    },
    {
      "cell_type": "code",
      "source": [
        "np.random.seed(42)\n",
        "\n",
        "gs_mlp = GridSearchCV(MLPRegressor(),\n",
        "                           param_grid=grid_mlp,\n",
        "                           cv=10,\n",
        "                           verbose=True,\n",
        "                           n_jobs=4)\n",
        "#Fit grid hyperparameter search model for RandomForestClassifer\n",
        "gs_mlp.fit(X_train, y_train)\n"
      ],
      "metadata": {
        "colab": {
          "base_uri": "https://localhost:8080/"
        },
        "id": "rMjPjTGf9BSh",
        "outputId": "3a395585-548e-49f4-b0a4-298113b998ed"
      },
      "execution_count": 127,
      "outputs": [
        {
          "output_type": "stream",
          "name": "stdout",
          "text": [
            "Fitting 10 folds for each of 180 candidates, totalling 1800 fits\n"
          ]
        },
        {
          "output_type": "execute_result",
          "data": {
            "text/plain": [
              "GridSearchCV(cv=10, estimator=MLPRegressor(), n_jobs=4,\n",
              "             param_grid={'activation': ['relu', 'identity', 'logistic', 'tanh'],\n",
              "                         'hidden_layer_sizes': (150, 100, 50),\n",
              "                         'max_iter': [100, 200, 300, 500, 1000],\n",
              "                         'solver': ['adam', 'lbfgs', 'sgd'],\n",
              "                         'validation_fraction': array([0.])},\n",
              "             verbose=True)"
            ]
          },
          "metadata": {},
          "execution_count": 127
        }
      ]
    },
    {
      "cell_type": "code",
      "source": [
        "#Find the best hyperparameter for RandomForestClassifier\n",
        "gs_mlp.best_params_"
      ],
      "metadata": {
        "colab": {
          "base_uri": "https://localhost:8080/"
        },
        "id": "wDxxylwMD3tI",
        "outputId": "043250b7-c0e1-4db5-a375-afb0d000b585"
      },
      "execution_count": 128,
      "outputs": [
        {
          "output_type": "execute_result",
          "data": {
            "text/plain": [
              "{'activation': 'identity',\n",
              " 'hidden_layer_sizes': 150,\n",
              " 'max_iter': 300,\n",
              " 'solver': 'lbfgs',\n",
              " 'validation_fraction': 0.0}"
            ]
          },
          "metadata": {},
          "execution_count": 128
        }
      ]
    },
    {
      "cell_type": "code",
      "source": [
        "#Evaluate the Grid Search RandomForestClassifier\n",
        "gs_mlp.score(X_test,y_test)"
      ],
      "metadata": {
        "colab": {
          "base_uri": "https://localhost:8080/"
        },
        "id": "f1yafg-BEQIi",
        "outputId": "5de27ae5-c915-4d9f-d0cb-eb99f8775fcc"
      },
      "execution_count": 129,
      "outputs": [
        {
          "output_type": "execute_result",
          "data": {
            "text/plain": [
              "0.9411546071645032"
            ]
          },
          "metadata": {},
          "execution_count": 129
        }
      ]
    },
    {
      "cell_type": "code",
      "source": [
        "## ideal hyperparameter\n",
        "ideal_model = MLPRegressor(activation= 'identity', hidden_layer_sizes= 100, max_iter= 1000, \n",
        "                           solver= 'lbfgs', validation_fraction= 0.0)"
      ],
      "metadata": {
        "id": "669K6cT_8wMf"
      },
      "execution_count": 130,
      "outputs": []
    },
    {
      "cell_type": "code",
      "source": [
        "# MLPRegressor().get_params().keys()"
      ],
      "metadata": {
        "id": "dDQMqDbw8wvw"
      },
      "execution_count": 131,
      "outputs": []
    },
    {
      "cell_type": "code",
      "source": [
        "## Fit the model\n",
        "ideal_model.fit(X_train, y_train)\n"
      ],
      "metadata": {
        "colab": {
          "base_uri": "https://localhost:8080/"
        },
        "id": "48imEHwe8w-s",
        "outputId": "6806fb26-f9fa-4a7a-ad26-509a697bad05"
      },
      "execution_count": 132,
      "outputs": [
        {
          "output_type": "execute_result",
          "data": {
            "text/plain": [
              "MLPRegressor(activation='identity', hidden_layer_sizes=100, max_iter=1000,\n",
              "             solver='lbfgs', validation_fraction=0.0)"
            ]
          },
          "metadata": {},
          "execution_count": 132
        }
      ]
    },
    {
      "cell_type": "code",
      "source": [
        "ideal_model.score(X_test, y_test)"
      ],
      "metadata": {
        "colab": {
          "base_uri": "https://localhost:8080/"
        },
        "id": "x0aTqRN98xKG",
        "outputId": "7feef1c5-5fdd-43e9-f6ca-2f88d586a466"
      },
      "execution_count": 133,
      "outputs": [
        {
          "output_type": "execute_result",
          "data": {
            "text/plain": [
              "0.941154009904157"
            ]
          },
          "metadata": {},
          "execution_count": 133
        }
      ]
    },
    {
      "cell_type": "code",
      "source": [
        "X_test.shape"
      ],
      "metadata": {
        "colab": {
          "base_uri": "https://localhost:8080/"
        },
        "id": "dclt2CbjFNzt",
        "outputId": "ac226ac7-41c1-4482-facf-cc5b2c29b523"
      },
      "execution_count": 134,
      "outputs": [
        {
          "output_type": "execute_result",
          "data": {
            "text/plain": [
              "(89, 5)"
            ]
          },
          "metadata": {},
          "execution_count": 134
        }
      ]
    },
    {
      "cell_type": "code",
      "source": [
        "predict = ideal_model.predict(X_test)\n"
      ],
      "metadata": {
        "id": "Oo1w47J48xUR"
      },
      "execution_count": 135,
      "outputs": []
    },
    {
      "cell_type": "code",
      "source": [
        "df"
      ],
      "metadata": {
        "colab": {
          "base_uri": "https://localhost:8080/",
          "height": 499
        },
        "id": "t1oPZ4rZ8xdM",
        "outputId": "515a1088-3733-4427-b93e-62b973d63ec2"
      },
      "execution_count": 136,
      "outputs": [
        {
          "output_type": "execute_result",
          "data": {
            "text/plain": [
              "             Open   High    Low    Ltp      Qty    Turnover  \\\n",
              "Date                                                          \n",
              "2022-06-29  318.9  318.9  310.0  315.0  19455.0   6127716.2   \n",
              "2022-06-28  312.0  316.5  306.0  313.0  18396.0   5707986.7   \n",
              "2022-06-27  322.0  325.0  310.0  312.0  35290.0  11125995.5   \n",
              "2022-06-26  312.9  320.0  308.0  320.0  90805.0  28577745.1   \n",
              "2022-06-24  305.0  310.0  298.2  307.0  83733.0  25399389.8   \n",
              "...           ...    ...    ...    ...      ...         ...   \n",
              "2016-07-17  869.0  955.0  886.0  955.0   2660.0   2538590.0   \n",
              "2016-07-14  790.0  869.0  805.0  869.0    176.0    151344.0   \n",
              "2016-07-13  719.0  790.0  733.0  790.0   5370.0   4231540.0   \n",
              "2016-07-12  654.0  719.0  667.0  719.0    130.0     89570.0   \n",
              "2016-07-11  595.0  654.0  606.0  654.0   1050.0    685500.0   \n",
              "\n",
              "            economic-subjectivity  economic-polarity  political-subjectivity  \\\n",
              "Date                                                                           \n",
              "2022-06-29               0.457500           0.017500                0.460909   \n",
              "2022-06-28               0.195556           0.017778                0.425000   \n",
              "2022-06-27               0.225000          -0.012500                0.457792   \n",
              "2022-06-26               0.253704           0.038889                0.570909   \n",
              "2022-06-24               0.280303           0.042424                0.300000   \n",
              "...                           ...                ...                     ...   \n",
              "2016-07-17               0.277273           0.218182                0.461818   \n",
              "2016-07-14               0.303030           0.090909                0.326515   \n",
              "2016-07-13               0.293182           0.337121                0.444805   \n",
              "2016-07-12               0.315774           0.166369                0.343232   \n",
              "2016-07-11               0.563333           0.000000                0.277381   \n",
              "\n",
              "            political-polarity  \n",
              "Date                            \n",
              "2022-06-29           -0.122727  \n",
              "2022-06-28            0.350000  \n",
              "2022-06-27            0.169481  \n",
              "2022-06-26            0.241818  \n",
              "2022-06-24            0.128788  \n",
              "...                        ...  \n",
              "2016-07-17            0.004545  \n",
              "2016-07-14           -0.087879  \n",
              "2016-07-13           -0.012987  \n",
              "2016-07-12           -0.007475  \n",
              "2016-07-11           -0.035714  \n",
              "\n",
              "[948 rows x 10 columns]"
            ],
            "text/html": [
              "\n",
              "  <div id=\"df-f8131354-676f-4334-9b84-9fa08972800b\">\n",
              "    <div class=\"colab-df-container\">\n",
              "      <div>\n",
              "<style scoped>\n",
              "    .dataframe tbody tr th:only-of-type {\n",
              "        vertical-align: middle;\n",
              "    }\n",
              "\n",
              "    .dataframe tbody tr th {\n",
              "        vertical-align: top;\n",
              "    }\n",
              "\n",
              "    .dataframe thead th {\n",
              "        text-align: right;\n",
              "    }\n",
              "</style>\n",
              "<table border=\"1\" class=\"dataframe\">\n",
              "  <thead>\n",
              "    <tr style=\"text-align: right;\">\n",
              "      <th></th>\n",
              "      <th>Open</th>\n",
              "      <th>High</th>\n",
              "      <th>Low</th>\n",
              "      <th>Ltp</th>\n",
              "      <th>Qty</th>\n",
              "      <th>Turnover</th>\n",
              "      <th>economic-subjectivity</th>\n",
              "      <th>economic-polarity</th>\n",
              "      <th>political-subjectivity</th>\n",
              "      <th>political-polarity</th>\n",
              "    </tr>\n",
              "    <tr>\n",
              "      <th>Date</th>\n",
              "      <th></th>\n",
              "      <th></th>\n",
              "      <th></th>\n",
              "      <th></th>\n",
              "      <th></th>\n",
              "      <th></th>\n",
              "      <th></th>\n",
              "      <th></th>\n",
              "      <th></th>\n",
              "      <th></th>\n",
              "    </tr>\n",
              "  </thead>\n",
              "  <tbody>\n",
              "    <tr>\n",
              "      <th>2022-06-29</th>\n",
              "      <td>318.9</td>\n",
              "      <td>318.9</td>\n",
              "      <td>310.0</td>\n",
              "      <td>315.0</td>\n",
              "      <td>19455.0</td>\n",
              "      <td>6127716.2</td>\n",
              "      <td>0.457500</td>\n",
              "      <td>0.017500</td>\n",
              "      <td>0.460909</td>\n",
              "      <td>-0.122727</td>\n",
              "    </tr>\n",
              "    <tr>\n",
              "      <th>2022-06-28</th>\n",
              "      <td>312.0</td>\n",
              "      <td>316.5</td>\n",
              "      <td>306.0</td>\n",
              "      <td>313.0</td>\n",
              "      <td>18396.0</td>\n",
              "      <td>5707986.7</td>\n",
              "      <td>0.195556</td>\n",
              "      <td>0.017778</td>\n",
              "      <td>0.425000</td>\n",
              "      <td>0.350000</td>\n",
              "    </tr>\n",
              "    <tr>\n",
              "      <th>2022-06-27</th>\n",
              "      <td>322.0</td>\n",
              "      <td>325.0</td>\n",
              "      <td>310.0</td>\n",
              "      <td>312.0</td>\n",
              "      <td>35290.0</td>\n",
              "      <td>11125995.5</td>\n",
              "      <td>0.225000</td>\n",
              "      <td>-0.012500</td>\n",
              "      <td>0.457792</td>\n",
              "      <td>0.169481</td>\n",
              "    </tr>\n",
              "    <tr>\n",
              "      <th>2022-06-26</th>\n",
              "      <td>312.9</td>\n",
              "      <td>320.0</td>\n",
              "      <td>308.0</td>\n",
              "      <td>320.0</td>\n",
              "      <td>90805.0</td>\n",
              "      <td>28577745.1</td>\n",
              "      <td>0.253704</td>\n",
              "      <td>0.038889</td>\n",
              "      <td>0.570909</td>\n",
              "      <td>0.241818</td>\n",
              "    </tr>\n",
              "    <tr>\n",
              "      <th>2022-06-24</th>\n",
              "      <td>305.0</td>\n",
              "      <td>310.0</td>\n",
              "      <td>298.2</td>\n",
              "      <td>307.0</td>\n",
              "      <td>83733.0</td>\n",
              "      <td>25399389.8</td>\n",
              "      <td>0.280303</td>\n",
              "      <td>0.042424</td>\n",
              "      <td>0.300000</td>\n",
              "      <td>0.128788</td>\n",
              "    </tr>\n",
              "    <tr>\n",
              "      <th>...</th>\n",
              "      <td>...</td>\n",
              "      <td>...</td>\n",
              "      <td>...</td>\n",
              "      <td>...</td>\n",
              "      <td>...</td>\n",
              "      <td>...</td>\n",
              "      <td>...</td>\n",
              "      <td>...</td>\n",
              "      <td>...</td>\n",
              "      <td>...</td>\n",
              "    </tr>\n",
              "    <tr>\n",
              "      <th>2016-07-17</th>\n",
              "      <td>869.0</td>\n",
              "      <td>955.0</td>\n",
              "      <td>886.0</td>\n",
              "      <td>955.0</td>\n",
              "      <td>2660.0</td>\n",
              "      <td>2538590.0</td>\n",
              "      <td>0.277273</td>\n",
              "      <td>0.218182</td>\n",
              "      <td>0.461818</td>\n",
              "      <td>0.004545</td>\n",
              "    </tr>\n",
              "    <tr>\n",
              "      <th>2016-07-14</th>\n",
              "      <td>790.0</td>\n",
              "      <td>869.0</td>\n",
              "      <td>805.0</td>\n",
              "      <td>869.0</td>\n",
              "      <td>176.0</td>\n",
              "      <td>151344.0</td>\n",
              "      <td>0.303030</td>\n",
              "      <td>0.090909</td>\n",
              "      <td>0.326515</td>\n",
              "      <td>-0.087879</td>\n",
              "    </tr>\n",
              "    <tr>\n",
              "      <th>2016-07-13</th>\n",
              "      <td>719.0</td>\n",
              "      <td>790.0</td>\n",
              "      <td>733.0</td>\n",
              "      <td>790.0</td>\n",
              "      <td>5370.0</td>\n",
              "      <td>4231540.0</td>\n",
              "      <td>0.293182</td>\n",
              "      <td>0.337121</td>\n",
              "      <td>0.444805</td>\n",
              "      <td>-0.012987</td>\n",
              "    </tr>\n",
              "    <tr>\n",
              "      <th>2016-07-12</th>\n",
              "      <td>654.0</td>\n",
              "      <td>719.0</td>\n",
              "      <td>667.0</td>\n",
              "      <td>719.0</td>\n",
              "      <td>130.0</td>\n",
              "      <td>89570.0</td>\n",
              "      <td>0.315774</td>\n",
              "      <td>0.166369</td>\n",
              "      <td>0.343232</td>\n",
              "      <td>-0.007475</td>\n",
              "    </tr>\n",
              "    <tr>\n",
              "      <th>2016-07-11</th>\n",
              "      <td>595.0</td>\n",
              "      <td>654.0</td>\n",
              "      <td>606.0</td>\n",
              "      <td>654.0</td>\n",
              "      <td>1050.0</td>\n",
              "      <td>685500.0</td>\n",
              "      <td>0.563333</td>\n",
              "      <td>0.000000</td>\n",
              "      <td>0.277381</td>\n",
              "      <td>-0.035714</td>\n",
              "    </tr>\n",
              "  </tbody>\n",
              "</table>\n",
              "<p>948 rows × 10 columns</p>\n",
              "</div>\n",
              "      <button class=\"colab-df-convert\" onclick=\"convertToInteractive('df-f8131354-676f-4334-9b84-9fa08972800b')\"\n",
              "              title=\"Convert this dataframe to an interactive table.\"\n",
              "              style=\"display:none;\">\n",
              "        \n",
              "  <svg xmlns=\"http://www.w3.org/2000/svg\" height=\"24px\"viewBox=\"0 0 24 24\"\n",
              "       width=\"24px\">\n",
              "    <path d=\"M0 0h24v24H0V0z\" fill=\"none\"/>\n",
              "    <path d=\"M18.56 5.44l.94 2.06.94-2.06 2.06-.94-2.06-.94-.94-2.06-.94 2.06-2.06.94zm-11 1L8.5 8.5l.94-2.06 2.06-.94-2.06-.94L8.5 2.5l-.94 2.06-2.06.94zm10 10l.94 2.06.94-2.06 2.06-.94-2.06-.94-.94-2.06-.94 2.06-2.06.94z\"/><path d=\"M17.41 7.96l-1.37-1.37c-.4-.4-.92-.59-1.43-.59-.52 0-1.04.2-1.43.59L10.3 9.45l-7.72 7.72c-.78.78-.78 2.05 0 2.83L4 21.41c.39.39.9.59 1.41.59.51 0 1.02-.2 1.41-.59l7.78-7.78 2.81-2.81c.8-.78.8-2.07 0-2.86zM5.41 20L4 18.59l7.72-7.72 1.47 1.35L5.41 20z\"/>\n",
              "  </svg>\n",
              "      </button>\n",
              "      \n",
              "  <style>\n",
              "    .colab-df-container {\n",
              "      display:flex;\n",
              "      flex-wrap:wrap;\n",
              "      gap: 12px;\n",
              "    }\n",
              "\n",
              "    .colab-df-convert {\n",
              "      background-color: #E8F0FE;\n",
              "      border: none;\n",
              "      border-radius: 50%;\n",
              "      cursor: pointer;\n",
              "      display: none;\n",
              "      fill: #1967D2;\n",
              "      height: 32px;\n",
              "      padding: 0 0 0 0;\n",
              "      width: 32px;\n",
              "    }\n",
              "\n",
              "    .colab-df-convert:hover {\n",
              "      background-color: #E2EBFA;\n",
              "      box-shadow: 0px 1px 2px rgba(60, 64, 67, 0.3), 0px 1px 3px 1px rgba(60, 64, 67, 0.15);\n",
              "      fill: #174EA6;\n",
              "    }\n",
              "\n",
              "    [theme=dark] .colab-df-convert {\n",
              "      background-color: #3B4455;\n",
              "      fill: #D2E3FC;\n",
              "    }\n",
              "\n",
              "    [theme=dark] .colab-df-convert:hover {\n",
              "      background-color: #434B5C;\n",
              "      box-shadow: 0px 1px 3px 1px rgba(0, 0, 0, 0.15);\n",
              "      filter: drop-shadow(0px 1px 2px rgba(0, 0, 0, 0.3));\n",
              "      fill: #FFFFFF;\n",
              "    }\n",
              "  </style>\n",
              "\n",
              "      <script>\n",
              "        const buttonEl =\n",
              "          document.querySelector('#df-f8131354-676f-4334-9b84-9fa08972800b button.colab-df-convert');\n",
              "        buttonEl.style.display =\n",
              "          google.colab.kernel.accessAllowed ? 'block' : 'none';\n",
              "\n",
              "        async function convertToInteractive(key) {\n",
              "          const element = document.querySelector('#df-f8131354-676f-4334-9b84-9fa08972800b');\n",
              "          const dataTable =\n",
              "            await google.colab.kernel.invokeFunction('convertToInteractive',\n",
              "                                                     [key], {});\n",
              "          if (!dataTable) return;\n",
              "\n",
              "          const docLinkHtml = 'Like what you see? Visit the ' +\n",
              "            '<a target=\"_blank\" href=https://colab.research.google.com/notebooks/data_table.ipynb>data table notebook</a>'\n",
              "            + ' to learn more about interactive tables.';\n",
              "          element.innerHTML = '';\n",
              "          dataTable['output_type'] = 'display_data';\n",
              "          await google.colab.output.renderOutput(dataTable, element);\n",
              "          const docLink = document.createElement('div');\n",
              "          docLink.innerHTML = docLinkHtml;\n",
              "          element.appendChild(docLink);\n",
              "        }\n",
              "      </script>\n",
              "    </div>\n",
              "  </div>\n",
              "  "
            ]
          },
          "metadata": {},
          "execution_count": 136
        }
      ]
    },
    {
      "cell_type": "code",
      "source": [
        "predictions = pd.DataFrame({\"Predictions\": predict}, index=pd.date_range(start=df.index[0], periods=len(predict), freq=\"D\"))"
      ],
      "metadata": {
        "id": "-PFMq4tl8TNT"
      },
      "execution_count": 137,
      "outputs": []
    },
    {
      "cell_type": "code",
      "source": [
        "predictions"
      ],
      "metadata": {
        "colab": {
          "base_uri": "https://localhost:8080/",
          "height": 424
        },
        "id": "97V6K6QAEtW1",
        "outputId": "b9eacae0-d520-43f2-fe35-6a113bf517b6"
      },
      "execution_count": 138,
      "outputs": [
        {
          "output_type": "execute_result",
          "data": {
            "text/plain": [
              "            Predictions\n",
              "2022-06-29   958.522416\n",
              "2022-06-30   960.904772\n",
              "2022-07-01   979.359469\n",
              "2022-07-02   978.601314\n",
              "2022-07-03   982.683609\n",
              "...                 ...\n",
              "2022-09-21  1146.567685\n",
              "2022-09-22  1046.060353\n",
              "2022-09-23   952.242557\n",
              "2022-09-24   864.212382\n",
              "2022-09-25   785.100531\n",
              "\n",
              "[89 rows x 1 columns]"
            ],
            "text/html": [
              "\n",
              "  <div id=\"df-df7d4a36-dedd-4592-bdba-00566e576248\">\n",
              "    <div class=\"colab-df-container\">\n",
              "      <div>\n",
              "<style scoped>\n",
              "    .dataframe tbody tr th:only-of-type {\n",
              "        vertical-align: middle;\n",
              "    }\n",
              "\n",
              "    .dataframe tbody tr th {\n",
              "        vertical-align: top;\n",
              "    }\n",
              "\n",
              "    .dataframe thead th {\n",
              "        text-align: right;\n",
              "    }\n",
              "</style>\n",
              "<table border=\"1\" class=\"dataframe\">\n",
              "  <thead>\n",
              "    <tr style=\"text-align: right;\">\n",
              "      <th></th>\n",
              "      <th>Predictions</th>\n",
              "    </tr>\n",
              "  </thead>\n",
              "  <tbody>\n",
              "    <tr>\n",
              "      <th>2022-06-29</th>\n",
              "      <td>958.522416</td>\n",
              "    </tr>\n",
              "    <tr>\n",
              "      <th>2022-06-30</th>\n",
              "      <td>960.904772</td>\n",
              "    </tr>\n",
              "    <tr>\n",
              "      <th>2022-07-01</th>\n",
              "      <td>979.359469</td>\n",
              "    </tr>\n",
              "    <tr>\n",
              "      <th>2022-07-02</th>\n",
              "      <td>978.601314</td>\n",
              "    </tr>\n",
              "    <tr>\n",
              "      <th>2022-07-03</th>\n",
              "      <td>982.683609</td>\n",
              "    </tr>\n",
              "    <tr>\n",
              "      <th>...</th>\n",
              "      <td>...</td>\n",
              "    </tr>\n",
              "    <tr>\n",
              "      <th>2022-09-21</th>\n",
              "      <td>1146.567685</td>\n",
              "    </tr>\n",
              "    <tr>\n",
              "      <th>2022-09-22</th>\n",
              "      <td>1046.060353</td>\n",
              "    </tr>\n",
              "    <tr>\n",
              "      <th>2022-09-23</th>\n",
              "      <td>952.242557</td>\n",
              "    </tr>\n",
              "    <tr>\n",
              "      <th>2022-09-24</th>\n",
              "      <td>864.212382</td>\n",
              "    </tr>\n",
              "    <tr>\n",
              "      <th>2022-09-25</th>\n",
              "      <td>785.100531</td>\n",
              "    </tr>\n",
              "  </tbody>\n",
              "</table>\n",
              "<p>89 rows × 1 columns</p>\n",
              "</div>\n",
              "      <button class=\"colab-df-convert\" onclick=\"convertToInteractive('df-df7d4a36-dedd-4592-bdba-00566e576248')\"\n",
              "              title=\"Convert this dataframe to an interactive table.\"\n",
              "              style=\"display:none;\">\n",
              "        \n",
              "  <svg xmlns=\"http://www.w3.org/2000/svg\" height=\"24px\"viewBox=\"0 0 24 24\"\n",
              "       width=\"24px\">\n",
              "    <path d=\"M0 0h24v24H0V0z\" fill=\"none\"/>\n",
              "    <path d=\"M18.56 5.44l.94 2.06.94-2.06 2.06-.94-2.06-.94-.94-2.06-.94 2.06-2.06.94zm-11 1L8.5 8.5l.94-2.06 2.06-.94-2.06-.94L8.5 2.5l-.94 2.06-2.06.94zm10 10l.94 2.06.94-2.06 2.06-.94-2.06-.94-.94-2.06-.94 2.06-2.06.94z\"/><path d=\"M17.41 7.96l-1.37-1.37c-.4-.4-.92-.59-1.43-.59-.52 0-1.04.2-1.43.59L10.3 9.45l-7.72 7.72c-.78.78-.78 2.05 0 2.83L4 21.41c.39.39.9.59 1.41.59.51 0 1.02-.2 1.41-.59l7.78-7.78 2.81-2.81c.8-.78.8-2.07 0-2.86zM5.41 20L4 18.59l7.72-7.72 1.47 1.35L5.41 20z\"/>\n",
              "  </svg>\n",
              "      </button>\n",
              "      \n",
              "  <style>\n",
              "    .colab-df-container {\n",
              "      display:flex;\n",
              "      flex-wrap:wrap;\n",
              "      gap: 12px;\n",
              "    }\n",
              "\n",
              "    .colab-df-convert {\n",
              "      background-color: #E8F0FE;\n",
              "      border: none;\n",
              "      border-radius: 50%;\n",
              "      cursor: pointer;\n",
              "      display: none;\n",
              "      fill: #1967D2;\n",
              "      height: 32px;\n",
              "      padding: 0 0 0 0;\n",
              "      width: 32px;\n",
              "    }\n",
              "\n",
              "    .colab-df-convert:hover {\n",
              "      background-color: #E2EBFA;\n",
              "      box-shadow: 0px 1px 2px rgba(60, 64, 67, 0.3), 0px 1px 3px 1px rgba(60, 64, 67, 0.15);\n",
              "      fill: #174EA6;\n",
              "    }\n",
              "\n",
              "    [theme=dark] .colab-df-convert {\n",
              "      background-color: #3B4455;\n",
              "      fill: #D2E3FC;\n",
              "    }\n",
              "\n",
              "    [theme=dark] .colab-df-convert:hover {\n",
              "      background-color: #434B5C;\n",
              "      box-shadow: 0px 1px 3px 1px rgba(0, 0, 0, 0.15);\n",
              "      filter: drop-shadow(0px 1px 2px rgba(0, 0, 0, 0.3));\n",
              "      fill: #FFFFFF;\n",
              "    }\n",
              "  </style>\n",
              "\n",
              "      <script>\n",
              "        const buttonEl =\n",
              "          document.querySelector('#df-df7d4a36-dedd-4592-bdba-00566e576248 button.colab-df-convert');\n",
              "        buttonEl.style.display =\n",
              "          google.colab.kernel.accessAllowed ? 'block' : 'none';\n",
              "\n",
              "        async function convertToInteractive(key) {\n",
              "          const element = document.querySelector('#df-df7d4a36-dedd-4592-bdba-00566e576248');\n",
              "          const dataTable =\n",
              "            await google.colab.kernel.invokeFunction('convertToInteractive',\n",
              "                                                     [key], {});\n",
              "          if (!dataTable) return;\n",
              "\n",
              "          const docLinkHtml = 'Like what you see? Visit the ' +\n",
              "            '<a target=\"_blank\" href=https://colab.research.google.com/notebooks/data_table.ipynb>data table notebook</a>'\n",
              "            + ' to learn more about interactive tables.';\n",
              "          element.innerHTML = '';\n",
              "          dataTable['output_type'] = 'display_data';\n",
              "          await google.colab.output.renderOutput(dataTable, element);\n",
              "          const docLink = document.createElement('div');\n",
              "          docLink.innerHTML = docLinkHtml;\n",
              "          element.appendChild(docLink);\n",
              "        }\n",
              "      </script>\n",
              "    </div>\n",
              "  </div>\n",
              "  "
            ]
          },
          "metadata": {},
          "execution_count": 138
        }
      ]
    },
    {
      "cell_type": "code",
      "source": [
        "fivedays_df = pd.DataFrame(predictions[:5])"
      ],
      "metadata": {
        "id": "vZgOK490Evkc"
      },
      "execution_count": 139,
      "outputs": []
    },
    {
      "cell_type": "code",
      "source": [
        "fivedays_df"
      ],
      "metadata": {
        "colab": {
          "base_uri": "https://localhost:8080/",
          "height": 206
        },
        "id": "10E6m0p4EziR",
        "outputId": "00091df3-1b88-4b5c-eda9-e613cd689051"
      },
      "execution_count": 140,
      "outputs": [
        {
          "output_type": "execute_result",
          "data": {
            "text/plain": [
              "            Predictions\n",
              "2022-06-29   958.522416\n",
              "2022-06-30   960.904772\n",
              "2022-07-01   979.359469\n",
              "2022-07-02   978.601314\n",
              "2022-07-03   982.683609"
            ],
            "text/html": [
              "\n",
              "  <div id=\"df-550d4317-c06e-41c3-8bb9-0d6d7451ff8f\">\n",
              "    <div class=\"colab-df-container\">\n",
              "      <div>\n",
              "<style scoped>\n",
              "    .dataframe tbody tr th:only-of-type {\n",
              "        vertical-align: middle;\n",
              "    }\n",
              "\n",
              "    .dataframe tbody tr th {\n",
              "        vertical-align: top;\n",
              "    }\n",
              "\n",
              "    .dataframe thead th {\n",
              "        text-align: right;\n",
              "    }\n",
              "</style>\n",
              "<table border=\"1\" class=\"dataframe\">\n",
              "  <thead>\n",
              "    <tr style=\"text-align: right;\">\n",
              "      <th></th>\n",
              "      <th>Predictions</th>\n",
              "    </tr>\n",
              "  </thead>\n",
              "  <tbody>\n",
              "    <tr>\n",
              "      <th>2022-06-29</th>\n",
              "      <td>958.522416</td>\n",
              "    </tr>\n",
              "    <tr>\n",
              "      <th>2022-06-30</th>\n",
              "      <td>960.904772</td>\n",
              "    </tr>\n",
              "    <tr>\n",
              "      <th>2022-07-01</th>\n",
              "      <td>979.359469</td>\n",
              "    </tr>\n",
              "    <tr>\n",
              "      <th>2022-07-02</th>\n",
              "      <td>978.601314</td>\n",
              "    </tr>\n",
              "    <tr>\n",
              "      <th>2022-07-03</th>\n",
              "      <td>982.683609</td>\n",
              "    </tr>\n",
              "  </tbody>\n",
              "</table>\n",
              "</div>\n",
              "      <button class=\"colab-df-convert\" onclick=\"convertToInteractive('df-550d4317-c06e-41c3-8bb9-0d6d7451ff8f')\"\n",
              "              title=\"Convert this dataframe to an interactive table.\"\n",
              "              style=\"display:none;\">\n",
              "        \n",
              "  <svg xmlns=\"http://www.w3.org/2000/svg\" height=\"24px\"viewBox=\"0 0 24 24\"\n",
              "       width=\"24px\">\n",
              "    <path d=\"M0 0h24v24H0V0z\" fill=\"none\"/>\n",
              "    <path d=\"M18.56 5.44l.94 2.06.94-2.06 2.06-.94-2.06-.94-.94-2.06-.94 2.06-2.06.94zm-11 1L8.5 8.5l.94-2.06 2.06-.94-2.06-.94L8.5 2.5l-.94 2.06-2.06.94zm10 10l.94 2.06.94-2.06 2.06-.94-2.06-.94-.94-2.06-.94 2.06-2.06.94z\"/><path d=\"M17.41 7.96l-1.37-1.37c-.4-.4-.92-.59-1.43-.59-.52 0-1.04.2-1.43.59L10.3 9.45l-7.72 7.72c-.78.78-.78 2.05 0 2.83L4 21.41c.39.39.9.59 1.41.59.51 0 1.02-.2 1.41-.59l7.78-7.78 2.81-2.81c.8-.78.8-2.07 0-2.86zM5.41 20L4 18.59l7.72-7.72 1.47 1.35L5.41 20z\"/>\n",
              "  </svg>\n",
              "      </button>\n",
              "      \n",
              "  <style>\n",
              "    .colab-df-container {\n",
              "      display:flex;\n",
              "      flex-wrap:wrap;\n",
              "      gap: 12px;\n",
              "    }\n",
              "\n",
              "    .colab-df-convert {\n",
              "      background-color: #E8F0FE;\n",
              "      border: none;\n",
              "      border-radius: 50%;\n",
              "      cursor: pointer;\n",
              "      display: none;\n",
              "      fill: #1967D2;\n",
              "      height: 32px;\n",
              "      padding: 0 0 0 0;\n",
              "      width: 32px;\n",
              "    }\n",
              "\n",
              "    .colab-df-convert:hover {\n",
              "      background-color: #E2EBFA;\n",
              "      box-shadow: 0px 1px 2px rgba(60, 64, 67, 0.3), 0px 1px 3px 1px rgba(60, 64, 67, 0.15);\n",
              "      fill: #174EA6;\n",
              "    }\n",
              "\n",
              "    [theme=dark] .colab-df-convert {\n",
              "      background-color: #3B4455;\n",
              "      fill: #D2E3FC;\n",
              "    }\n",
              "\n",
              "    [theme=dark] .colab-df-convert:hover {\n",
              "      background-color: #434B5C;\n",
              "      box-shadow: 0px 1px 3px 1px rgba(0, 0, 0, 0.15);\n",
              "      filter: drop-shadow(0px 1px 2px rgba(0, 0, 0, 0.3));\n",
              "      fill: #FFFFFF;\n",
              "    }\n",
              "  </style>\n",
              "\n",
              "      <script>\n",
              "        const buttonEl =\n",
              "          document.querySelector('#df-550d4317-c06e-41c3-8bb9-0d6d7451ff8f button.colab-df-convert');\n",
              "        buttonEl.style.display =\n",
              "          google.colab.kernel.accessAllowed ? 'block' : 'none';\n",
              "\n",
              "        async function convertToInteractive(key) {\n",
              "          const element = document.querySelector('#df-550d4317-c06e-41c3-8bb9-0d6d7451ff8f');\n",
              "          const dataTable =\n",
              "            await google.colab.kernel.invokeFunction('convertToInteractive',\n",
              "                                                     [key], {});\n",
              "          if (!dataTable) return;\n",
              "\n",
              "          const docLinkHtml = 'Like what you see? Visit the ' +\n",
              "            '<a target=\"_blank\" href=https://colab.research.google.com/notebooks/data_table.ipynb>data table notebook</a>'\n",
              "            + ' to learn more about interactive tables.';\n",
              "          element.innerHTML = '';\n",
              "          dataTable['output_type'] = 'display_data';\n",
              "          await google.colab.output.renderOutput(dataTable, element);\n",
              "          const docLink = document.createElement('div');\n",
              "          docLink.innerHTML = docLinkHtml;\n",
              "          element.appendChild(docLink);\n",
              "        }\n",
              "      </script>\n",
              "    </div>\n",
              "  </div>\n",
              "  "
            ]
          },
          "metadata": {},
          "execution_count": 140
        }
      ]
    },
    {
      "cell_type": "code",
      "source": [
        "buy_price = min(fivedays_df[\"Predictions\"])\n",
        "sell_price = max(fivedays_df[\"Predictions\"])"
      ],
      "metadata": {
        "id": "MvdvecWME1rp"
      },
      "execution_count": 141,
      "outputs": []
    },
    {
      "cell_type": "code",
      "source": [
        "fivedays_buy = fivedays_df.loc[fivedays_df[\"Predictions\"] == buy_price]\n",
        "fivedays_sell = fivedays_df.loc[fivedays_df[\"Predictions\"] == sell_price]\n"
      ],
      "metadata": {
        "id": "4wKg8bZ6E4mk"
      },
      "execution_count": 142,
      "outputs": []
    },
    {
      "cell_type": "code",
      "source": [
        "print(\"Buy price and date\")\n",
        "print(fivedays_buy)\n",
        "print(\"Sell price and date\")\n",
        "print(fivedays_sell)\n",
        "fivedays_df[\"Predictions\"].plot(figsize=(10, 5), title=\"Forecast for the next 5 days\", color=\"blue\")\n",
        "plt.xlabel(\"Date\")\n",
        "plt.ylabel(\"Price\")\n",
        "plt.legend()\n",
        "plt.show()"
      ],
      "metadata": {
        "colab": {
          "base_uri": "https://localhost:8080/",
          "height": 477
        },
        "id": "7dnwEifhE7YI",
        "outputId": "fc7d8ee9-9dc3-4795-e620-a32667c7faef"
      },
      "execution_count": 143,
      "outputs": [
        {
          "output_type": "stream",
          "name": "stdout",
          "text": [
            "Buy price and date\n",
            "            Predictions\n",
            "2022-06-29   958.522416\n",
            "Sell price and date\n",
            "            Predictions\n",
            "2022-07-03   982.683609\n"
          ]
        },
        {
          "output_type": "display_data",
          "data": {
            "text/plain": [
              "<Figure size 720x360 with 1 Axes>"
            ],
            "image/png": "[encoded data removed]"
          },
          "metadata": {
            "needs_background": "light"
          }
        }
      ]
    },
    {
      "cell_type": "code",
      "source": [],
      "metadata": {
        "id": "eqf3glE2E984"
      },
      "execution_count": 143,
      "outputs": []
    }
  ]
}