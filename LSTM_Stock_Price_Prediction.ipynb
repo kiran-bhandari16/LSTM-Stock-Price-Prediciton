{
  "cells": [
    {
      "cell_type": "markdown",
      "metadata": {
        "id": "view-in-github",
        "colab_type": "text"
      },
      "source": [
        "<a href=\"https://colab.research.google.com/github/kiran-bhandari16/LSTM-Stock-Price-Prediciton/blob/main/LSTM_Stock_Price_Prediction.ipynb\" target=\"_parent\"><img src=\"https://colab.research.google.com/assets/colab-badge.svg\" alt=\"Open In Colab\"/></a>"
      ]
    },
    {
      "cell_type": "markdown",
      "metadata": {
        "id": "g0n3sblCbpZl"
      },
      "source": [
        "**Importing Libraries**"
      ]
    },
    {
      "cell_type": "code",
      "execution_count": 1,
      "metadata": {
        "id": "zZVydFGFdUWk"
      },
      "outputs": [],
      "source": [
        "# !pip install tensorflow"
      ]
    },
    {
      "cell_type": "code",
      "execution_count": 2,
      "metadata": {
        "id": "-nGRYyV7bsk2"
      },
      "outputs": [],
      "source": [
        "import numpy as np\n",
        "import pandas as pd\n",
        "import matplotlib.pyplot as plt\n",
        "%matplotlib inline\n",
        "\n",
        "from sklearn.preprocessing import MinMaxScaler\n",
        "from tensorflow.keras.models import Sequential, load_model\n",
        "from tensorflow.keras.layers import LSTM, Dense, Dropout\n",
        "import os\n",
        "import tensorflow as tf"
      ]
    },
    {
      "cell_type": "code",
      "execution_count": 3,
      "metadata": {
        "id": "jMXqSc7JdEYG",
        "colab": {
          "resources": {
            "http://localhost:8080/nbextensions/google.colab/files.js": {
              "data": "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",
              "ok": true,
              "headers": [
                [
                  "content-type",
                  "application/javascript"
                ]
              ],
              "status": 200,
              "status_text": ""
            }
          },
          "base_uri": "https://localhost:8080/",
          "height": 74
        },
        "outputId": "e142f7b0-9988-415b-ded7-cd82c9be624b"
      },
      "outputs": [
        {
          "output_type": "display_data",
          "data": {
            "text/plain": [
              "<IPython.core.display.HTML object>"
            ],
            "text/html": [
              "\n",
              "     <input type=\"file\" id=\"files-7f7d06a0-bd97-47dc-83f8-0632f7f82868\" name=\"files[]\" multiple disabled\n",
              "        style=\"border:none\" />\n",
              "     <output id=\"result-7f7d06a0-bd97-47dc-83f8-0632f7f82868\">\n",
              "      Upload widget is only available when the cell has been executed in the\n",
              "      current browser session. Please rerun this cell to enable.\n",
              "      </output>\n",
              "      <script src=\"/nbextensions/google.colab/files.js\"></script> "
            ]
          },
          "metadata": {}
        },
        {
          "output_type": "stream",
          "name": "stdout",
          "text": [
            "Saving updated-sbl-data.csv to updated-sbl-data.csv\n"
          ]
        }
      ],
      "source": [
        "from google.colab import files\n",
        "uploaded = files.upload()"
      ]
    },
    {
      "cell_type": "code",
      "execution_count": 4,
      "metadata": {
        "id": "b4iPDKoGdSCm"
      },
      "outputs": [],
      "source": [
        "# df = pd.read_csv(\"sbl_price.csv\")\n",
        "# df.head()"
      ]
    },
    {
      "cell_type": "code",
      "execution_count": 5,
      "metadata": {
        "id": "Z2bzKSlwfIRk"
      },
      "outputs": [],
      "source": [
        "# df.drop('S.N.',axis=1, inplace=True)"
      ]
    },
    {
      "cell_type": "code",
      "execution_count": 6,
      "metadata": {
        "id": "0JoR4zBHgJGe"
      },
      "outputs": [],
      "source": [
        "# df.drop(['% Change','Qty'],axis=1, inplace=True)"
      ]
    },
    {
      "cell_type": "code",
      "execution_count": 7,
      "metadata": {
        "id": "w0xbtLo3hAyU"
      },
      "outputs": [],
      "source": [
        "# df.to_csv(\"updated-sbl-data.csv\", index=False)"
      ]
    },
    {
      "cell_type": "code",
      "source": [
        "df = pd.read_csv(\"updated-sbl-data.csv\")\n",
        "df.head()"
      ],
      "metadata": {
        "colab": {
          "base_uri": "https://localhost:8080/",
          "height": 206
        },
        "id": "ihmv6XKMamnX",
        "outputId": "fcd62cee-e277-48e6-9c17-0d4f56280ac6"
      },
      "execution_count": 8,
      "outputs": [
        {
          "output_type": "execute_result",
          "data": {
            "text/plain": [
              "         Date    Open    High     Low     Ltp       Turnover\n",
              "0  2022-06-29  318.90  318.90  310.00  315.00   6,127,716.20\n",
              "1  2022-06-28  312.00  316.50  306.00  313.00   5,707,986.70\n",
              "2  2022-06-27  322.00  325.00  310.00  312.00  11,125,995.50\n",
              "3  2022-06-26  312.90  320.00  308.00  320.00  28,577,745.10\n",
              "4  2022-06-24  305.00  310.00  298.20  307.00  25,399,389.80"
            ],
            "text/html": [
              "\n",
              "  <div id=\"df-4f87921f-ae36-42d7-b236-920a7ff07556\">\n",
              "    <div class=\"colab-df-container\">\n",
              "      <div>\n",
              "<style scoped>\n",
              "    .dataframe tbody tr th:only-of-type {\n",
              "        vertical-align: middle;\n",
              "    }\n",
              "\n",
              "    .dataframe tbody tr th {\n",
              "        vertical-align: top;\n",
              "    }\n",
              "\n",
              "    .dataframe thead th {\n",
              "        text-align: right;\n",
              "    }\n",
              "</style>\n",
              "<table border=\"1\" class=\"dataframe\">\n",
              "  <thead>\n",
              "    <tr style=\"text-align: right;\">\n",
              "      <th></th>\n",
              "      <th>Date</th>\n",
              "      <th>Open</th>\n",
              "      <th>High</th>\n",
              "      <th>Low</th>\n",
              "      <th>Ltp</th>\n",
              "      <th>Turnover</th>\n",
              "    </tr>\n",
              "  </thead>\n",
              "  <tbody>\n",
              "    <tr>\n",
              "      <th>0</th>\n",
              "      <td>2022-06-29</td>\n",
              "      <td>318.90</td>\n",
              "      <td>318.90</td>\n",
              "      <td>310.00</td>\n",
              "      <td>315.00</td>\n",
              "      <td>6,127,716.20</td>\n",
              "    </tr>\n",
              "    <tr>\n",
              "      <th>1</th>\n",
              "      <td>2022-06-28</td>\n",
              "      <td>312.00</td>\n",
              "      <td>316.50</td>\n",
              "      <td>306.00</td>\n",
              "      <td>313.00</td>\n",
              "      <td>5,707,986.70</td>\n",
              "    </tr>\n",
              "    <tr>\n",
              "      <th>2</th>\n",
              "      <td>2022-06-27</td>\n",
              "      <td>322.00</td>\n",
              "      <td>325.00</td>\n",
              "      <td>310.00</td>\n",
              "      <td>312.00</td>\n",
              "      <td>11,125,995.50</td>\n",
              "    </tr>\n",
              "    <tr>\n",
              "      <th>3</th>\n",
              "      <td>2022-06-26</td>\n",
              "      <td>312.90</td>\n",
              "      <td>320.00</td>\n",
              "      <td>308.00</td>\n",
              "      <td>320.00</td>\n",
              "      <td>28,577,745.10</td>\n",
              "    </tr>\n",
              "    <tr>\n",
              "      <th>4</th>\n",
              "      <td>2022-06-24</td>\n",
              "      <td>305.00</td>\n",
              "      <td>310.00</td>\n",
              "      <td>298.20</td>\n",
              "      <td>307.00</td>\n",
              "      <td>25,399,389.80</td>\n",
              "    </tr>\n",
              "  </tbody>\n",
              "</table>\n",
              "</div>\n",
              "      <button class=\"colab-df-convert\" onclick=\"convertToInteractive('df-4f87921f-ae36-42d7-b236-920a7ff07556')\"\n",
              "              title=\"Convert this dataframe to an interactive table.\"\n",
              "              style=\"display:none;\">\n",
              "        \n",
              "  <svg xmlns=\"http://www.w3.org/2000/svg\" height=\"24px\"viewBox=\"0 0 24 24\"\n",
              "       width=\"24px\">\n",
              "    <path d=\"M0 0h24v24H0V0z\" fill=\"none\"/>\n",
              "    <path d=\"M18.56 5.44l.94 2.06.94-2.06 2.06-.94-2.06-.94-.94-2.06-.94 2.06-2.06.94zm-11 1L8.5 8.5l.94-2.06 2.06-.94-2.06-.94L8.5 2.5l-.94 2.06-2.06.94zm10 10l.94 2.06.94-2.06 2.06-.94-2.06-.94-.94-2.06-.94 2.06-2.06.94z\"/><path d=\"M17.41 7.96l-1.37-1.37c-.4-.4-.92-.59-1.43-.59-.52 0-1.04.2-1.43.59L10.3 9.45l-7.72 7.72c-.78.78-.78 2.05 0 2.83L4 21.41c.39.39.9.59 1.41.59.51 0 1.02-.2 1.41-.59l7.78-7.78 2.81-2.81c.8-.78.8-2.07 0-2.86zM5.41 20L4 18.59l7.72-7.72 1.47 1.35L5.41 20z\"/>\n",
              "  </svg>\n",
              "      </button>\n",
              "      \n",
              "  <style>\n",
              "    .colab-df-container {\n",
              "      display:flex;\n",
              "      flex-wrap:wrap;\n",
              "      gap: 12px;\n",
              "    }\n",
              "\n",
              "    .colab-df-convert {\n",
              "      background-color: #E8F0FE;\n",
              "      border: none;\n",
              "      border-radius: 50%;\n",
              "      cursor: pointer;\n",
              "      display: none;\n",
              "      fill: #1967D2;\n",
              "      height: 32px;\n",
              "      padding: 0 0 0 0;\n",
              "      width: 32px;\n",
              "    }\n",
              "\n",
              "    .colab-df-convert:hover {\n",
              "      background-color: #E2EBFA;\n",
              "      box-shadow: 0px 1px 2px rgba(60, 64, 67, 0.3), 0px 1px 3px 1px rgba(60, 64, 67, 0.15);\n",
              "      fill: #174EA6;\n",
              "    }\n",
              "\n",
              "    [theme=dark] .colab-df-convert {\n",
              "      background-color: #3B4455;\n",
              "      fill: #D2E3FC;\n",
              "    }\n",
              "\n",
              "    [theme=dark] .colab-df-convert:hover {\n",
              "      background-color: #434B5C;\n",
              "      box-shadow: 0px 1px 3px 1px rgba(0, 0, 0, 0.15);\n",
              "      filter: drop-shadow(0px 1px 2px rgba(0, 0, 0, 0.3));\n",
              "      fill: #FFFFFF;\n",
              "    }\n",
              "  </style>\n",
              "\n",
              "      <script>\n",
              "        const buttonEl =\n",
              "          document.querySelector('#df-4f87921f-ae36-42d7-b236-920a7ff07556 button.colab-df-convert');\n",
              "        buttonEl.style.display =\n",
              "          google.colab.kernel.accessAllowed ? 'block' : 'none';\n",
              "\n",
              "        async function convertToInteractive(key) {\n",
              "          const element = document.querySelector('#df-4f87921f-ae36-42d7-b236-920a7ff07556');\n",
              "          const dataTable =\n",
              "            await google.colab.kernel.invokeFunction('convertToInteractive',\n",
              "                                                     [key], {});\n",
              "          if (!dataTable) return;\n",
              "\n",
              "          const docLinkHtml = 'Like what you see? Visit the ' +\n",
              "            '<a target=\"_blank\" href=https://colab.research.google.com/notebooks/data_table.ipynb>data table notebook</a>'\n",
              "            + ' to learn more about interactive tables.';\n",
              "          element.innerHTML = '';\n",
              "          dataTable['output_type'] = 'display_data';\n",
              "          await google.colab.output.renderOutput(dataTable, element);\n",
              "          const docLink = document.createElement('div');\n",
              "          docLink.innerHTML = docLinkHtml;\n",
              "          element.appendChild(docLink);\n",
              "        }\n",
              "      </script>\n",
              "    </div>\n",
              "  </div>\n",
              "  "
            ]
          },
          "metadata": {},
          "execution_count": 8
        }
      ]
    },
    {
      "cell_type": "markdown",
      "metadata": {
        "id": "xF_vVPrfmVqh"
      },
      "source": [
        "**Exploring the dataset**"
      ]
    },
    {
      "cell_type": "code",
      "execution_count": 9,
      "metadata": {
        "colab": {
          "base_uri": "https://localhost:8080/",
          "height": 455
        },
        "id": "hB1g9zhgnM7g",
        "outputId": "d8921f9a-3841-4a90-aa4a-381ea5d1d9dc"
      },
      "outputs": [
        {
          "output_type": "execute_result",
          "data": {
            "text/plain": [
              "              High     Low     Ltp\n",
              "Date                              \n",
              "2022-06-29  318.90  310.00  315.00\n",
              "2022-06-28  316.50  306.00  313.00\n",
              "2022-06-27  325.00  310.00  312.00\n",
              "2022-06-26  320.00  308.00  320.00\n",
              "2022-06-24  310.00  298.20  307.00\n",
              "...            ...     ...     ...\n",
              "2013-03-21  311.00  303.00  308.00\n",
              "2013-03-20  312.00  306.00  306.00\n",
              "2013-03-19  312.00  309.00  312.00\n",
              "2013-03-18  317.00  305.00  311.00\n",
              "2013-03-17  320.00  310.00  315.00\n",
              "\n",
              "[2000 rows x 3 columns]"
            ],
            "text/html": [
              "\n",
              "  <div id=\"df-2ba22ed6-1122-4885-a79b-07a4950c285e\">\n",
              "    <div class=\"colab-df-container\">\n",
              "      <div>\n",
              "<style scoped>\n",
              "    .dataframe tbody tr th:only-of-type {\n",
              "        vertical-align: middle;\n",
              "    }\n",
              "\n",
              "    .dataframe tbody tr th {\n",
              "        vertical-align: top;\n",
              "    }\n",
              "\n",
              "    .dataframe thead th {\n",
              "        text-align: right;\n",
              "    }\n",
              "</style>\n",
              "<table border=\"1\" class=\"dataframe\">\n",
              "  <thead>\n",
              "    <tr style=\"text-align: right;\">\n",
              "      <th></th>\n",
              "      <th>High</th>\n",
              "      <th>Low</th>\n",
              "      <th>Ltp</th>\n",
              "    </tr>\n",
              "    <tr>\n",
              "      <th>Date</th>\n",
              "      <th></th>\n",
              "      <th></th>\n",
              "      <th></th>\n",
              "    </tr>\n",
              "  </thead>\n",
              "  <tbody>\n",
              "    <tr>\n",
              "      <th>2022-06-29</th>\n",
              "      <td>318.90</td>\n",
              "      <td>310.00</td>\n",
              "      <td>315.00</td>\n",
              "    </tr>\n",
              "    <tr>\n",
              "      <th>2022-06-28</th>\n",
              "      <td>316.50</td>\n",
              "      <td>306.00</td>\n",
              "      <td>313.00</td>\n",
              "    </tr>\n",
              "    <tr>\n",
              "      <th>2022-06-27</th>\n",
              "      <td>325.00</td>\n",
              "      <td>310.00</td>\n",
              "      <td>312.00</td>\n",
              "    </tr>\n",
              "    <tr>\n",
              "      <th>2022-06-26</th>\n",
              "      <td>320.00</td>\n",
              "      <td>308.00</td>\n",
              "      <td>320.00</td>\n",
              "    </tr>\n",
              "    <tr>\n",
              "      <th>2022-06-24</th>\n",
              "      <td>310.00</td>\n",
              "      <td>298.20</td>\n",
              "      <td>307.00</td>\n",
              "    </tr>\n",
              "    <tr>\n",
              "      <th>...</th>\n",
              "      <td>...</td>\n",
              "      <td>...</td>\n",
              "      <td>...</td>\n",
              "    </tr>\n",
              "    <tr>\n",
              "      <th>2013-03-21</th>\n",
              "      <td>311.00</td>\n",
              "      <td>303.00</td>\n",
              "      <td>308.00</td>\n",
              "    </tr>\n",
              "    <tr>\n",
              "      <th>2013-03-20</th>\n",
              "      <td>312.00</td>\n",
              "      <td>306.00</td>\n",
              "      <td>306.00</td>\n",
              "    </tr>\n",
              "    <tr>\n",
              "      <th>2013-03-19</th>\n",
              "      <td>312.00</td>\n",
              "      <td>309.00</td>\n",
              "      <td>312.00</td>\n",
              "    </tr>\n",
              "    <tr>\n",
              "      <th>2013-03-18</th>\n",
              "      <td>317.00</td>\n",
              "      <td>305.00</td>\n",
              "      <td>311.00</td>\n",
              "    </tr>\n",
              "    <tr>\n",
              "      <th>2013-03-17</th>\n",
              "      <td>320.00</td>\n",
              "      <td>310.00</td>\n",
              "      <td>315.00</td>\n",
              "    </tr>\n",
              "  </tbody>\n",
              "</table>\n",
              "<p>2000 rows × 3 columns</p>\n",
              "</div>\n",
              "      <button class=\"colab-df-convert\" onclick=\"convertToInteractive('df-2ba22ed6-1122-4885-a79b-07a4950c285e')\"\n",
              "              title=\"Convert this dataframe to an interactive table.\"\n",
              "              style=\"display:none;\">\n",
              "        \n",
              "  <svg xmlns=\"http://www.w3.org/2000/svg\" height=\"24px\"viewBox=\"0 0 24 24\"\n",
              "       width=\"24px\">\n",
              "    <path d=\"M0 0h24v24H0V0z\" fill=\"none\"/>\n",
              "    <path d=\"M18.56 5.44l.94 2.06.94-2.06 2.06-.94-2.06-.94-.94-2.06-.94 2.06-2.06.94zm-11 1L8.5 8.5l.94-2.06 2.06-.94-2.06-.94L8.5 2.5l-.94 2.06-2.06.94zm10 10l.94 2.06.94-2.06 2.06-.94-2.06-.94-.94-2.06-.94 2.06-2.06.94z\"/><path d=\"M17.41 7.96l-1.37-1.37c-.4-.4-.92-.59-1.43-.59-.52 0-1.04.2-1.43.59L10.3 9.45l-7.72 7.72c-.78.78-.78 2.05 0 2.83L4 21.41c.39.39.9.59 1.41.59.51 0 1.02-.2 1.41-.59l7.78-7.78 2.81-2.81c.8-.78.8-2.07 0-2.86zM5.41 20L4 18.59l7.72-7.72 1.47 1.35L5.41 20z\"/>\n",
              "  </svg>\n",
              "      </button>\n",
              "      \n",
              "  <style>\n",
              "    .colab-df-container {\n",
              "      display:flex;\n",
              "      flex-wrap:wrap;\n",
              "      gap: 12px;\n",
              "    }\n",
              "\n",
              "    .colab-df-convert {\n",
              "      background-color: #E8F0FE;\n",
              "      border: none;\n",
              "      border-radius: 50%;\n",
              "      cursor: pointer;\n",
              "      display: none;\n",
              "      fill: #1967D2;\n",
              "      height: 32px;\n",
              "      padding: 0 0 0 0;\n",
              "      width: 32px;\n",
              "    }\n",
              "\n",
              "    .colab-df-convert:hover {\n",
              "      background-color: #E2EBFA;\n",
              "      box-shadow: 0px 1px 2px rgba(60, 64, 67, 0.3), 0px 1px 3px 1px rgba(60, 64, 67, 0.15);\n",
              "      fill: #174EA6;\n",
              "    }\n",
              "\n",
              "    [theme=dark] .colab-df-convert {\n",
              "      background-color: #3B4455;\n",
              "      fill: #D2E3FC;\n",
              "    }\n",
              "\n",
              "    [theme=dark] .colab-df-convert:hover {\n",
              "      background-color: #434B5C;\n",
              "      box-shadow: 0px 1px 3px 1px rgba(0, 0, 0, 0.15);\n",
              "      filter: drop-shadow(0px 1px 2px rgba(0, 0, 0, 0.3));\n",
              "      fill: #FFFFFF;\n",
              "    }\n",
              "  </style>\n",
              "\n",
              "      <script>\n",
              "        const buttonEl =\n",
              "          document.querySelector('#df-2ba22ed6-1122-4885-a79b-07a4950c285e button.colab-df-convert');\n",
              "        buttonEl.style.display =\n",
              "          google.colab.kernel.accessAllowed ? 'block' : 'none';\n",
              "\n",
              "        async function convertToInteractive(key) {\n",
              "          const element = document.querySelector('#df-2ba22ed6-1122-4885-a79b-07a4950c285e');\n",
              "          const dataTable =\n",
              "            await google.colab.kernel.invokeFunction('convertToInteractive',\n",
              "                                                     [key], {});\n",
              "          if (!dataTable) return;\n",
              "\n",
              "          const docLinkHtml = 'Like what you see? Visit the ' +\n",
              "            '<a target=\"_blank\" href=https://colab.research.google.com/notebooks/data_table.ipynb>data table notebook</a>'\n",
              "            + ' to learn more about interactive tables.';\n",
              "          element.innerHTML = '';\n",
              "          dataTable['output_type'] = 'display_data';\n",
              "          await google.colab.output.renderOutput(dataTable, element);\n",
              "          const docLink = document.createElement('div');\n",
              "          docLink.innerHTML = docLinkHtml;\n",
              "          element.appendChild(docLink);\n",
              "        }\n",
              "      </script>\n",
              "    </div>\n",
              "  </div>\n",
              "  "
            ]
          },
          "metadata": {},
          "execution_count": 9
        }
      ],
      "source": [
        "m = df.set_index(\"Date\",drop=True)\n",
        "m = m[[\"High\",\"Low\",\"Ltp\"]]\n",
        "m"
      ]
    },
    {
      "cell_type": "code",
      "execution_count": 10,
      "metadata": {
        "id": "ER2a7EAQuVk6"
      },
      "outputs": [],
      "source": [
        "df[\"Low\"] = df[\"Low\"].str.replace(\",\",\"\")\n",
        "low = df[\"Low\"].apply(lambda x: float(x))"
      ]
    },
    {
      "cell_type": "code",
      "execution_count": 11,
      "metadata": {
        "id": "Y35DgEC1uV6Q"
      },
      "outputs": [],
      "source": [
        "df[\"High\"] = df[\"High\"].str.replace(\",\",\"\")\n",
        "high = df[\"High\"].apply(lambda x: float(x))"
      ]
    },
    {
      "cell_type": "code",
      "source": [
        "df[\"Open\"] = df[\"Open\"].str.replace(\",\",\"\")\n",
        "open = df[\"Open\"].apply(lambda x: float(x))"
      ],
      "metadata": {
        "id": "WGRoUkWZbH5J"
      },
      "execution_count": 12,
      "outputs": []
    },
    {
      "cell_type": "code",
      "source": [
        "df[\"Ltp\"] = df[\"Ltp\"].str.replace(\",\",\"\")\n",
        "ltp = df[\"Ltp\"].apply(lambda x: float(x))"
      ],
      "metadata": {
        "id": "TPoH2SOajqMn"
      },
      "execution_count": 13,
      "outputs": []
    },
    {
      "cell_type": "markdown",
      "source": [
        "**Data Visualization**"
      ],
      "metadata": {
        "id": "b2WBjFqQbwAz"
      }
    },
    {
      "cell_type": "code",
      "execution_count": 14,
      "metadata": {
        "colab": {
          "base_uri": "https://localhost:8080/",
          "height": 613
        },
        "id": "8gtn-g5uru83",
        "outputId": "68ad44df-8e08-4a28-d4e3-dcdfeac11da7"
      },
      "outputs": [
        {
          "output_type": "display_data",
          "data": {
            "text/plain": [
              "<Figure size 1296x648 with 1 Axes>"
            ],
            "image/png": "[encoded data removed]"
          },
          "metadata": {
            "needs_background": "light"
          }
        }
      ],
      "source": [
        "plt.figure(figsize = (18,9))\n",
        "plt.plot(range(df.shape[0]),(low + high)/2.0)\n",
        "plt.xticks(range(0,df.shape[0],50),df['Date'].loc[::50],rotation=45)\n",
        "plt.title(\"High and Low Average Value\")\n",
        "plt.xlabel('Date',fontsize=18)\n",
        "plt.ylabel('Avg Price',fontsize=18)\n",
        "plt.show()"
      ]
    },
    {
      "cell_type": "code",
      "source": [
        "# data = df.set_index(\"Date\",drop=True)\n",
        "# data = data[[\"Open\",\"High\",\"Low\",\"Ltp\",\"Turnover\"]]\n",
        "# data"
      ],
      "metadata": {
        "id": "OdTR_4Pjh68o"
      },
      "execution_count": 15,
      "outputs": []
    },
    {
      "cell_type": "code",
      "source": [
        "## Data Visualization\n",
        "plt.figure(figsize=(16,8))\n",
        "plt.title(\"Opening Price History\")\n",
        "plt.plot(range(df.shape[0]),(open))\n",
        "plt.xticks(range(0,df.shape[0],50),df['Date'].loc[::50],rotation=45)\n",
        "plt.xlabel(\"Date\", fontsize=18)\n",
        "plt.ylabel(\"Opening Price (Rs.)\", fontsize=18)\n",
        "plt.show()"
      ],
      "metadata": {
        "colab": {
          "base_uri": "https://localhost:8080/",
          "height": 559
        },
        "id": "bDYbqF95kpNE",
        "outputId": "abb9b988-768d-4aad-e7dd-9b778b9db405"
      },
      "execution_count": 16,
      "outputs": [
        {
          "output_type": "display_data",
          "data": {
            "text/plain": [
              "<Figure size 1152x576 with 1 Axes>"
            ],
            "image/png": "[encoded data removed]"
          },
          "metadata": {
            "needs_background": "light"
          }
        }
      ]
    },
    {
      "cell_type": "code",
      "source": [
        "# ## Data Visualization\n",
        "# plt.figure(figsize=(16,8))\n",
        "# plt.title(\"Last Trading Price History\")\n",
        "# plt.plot(range(data.shape[0]),(ltp)/2.0)\n",
        "# plt.xticks(range(0,df.shape[0],50),df['Date'].loc[::50],rotation=45)\n",
        "# plt.xlabel(\"Date\", fontsize=18)\n",
        "# plt.ylabel(\"Last Trading Price (Rs.)\", fontsize=18)\n",
        "# plt.show()"
      ],
      "metadata": {
        "id": "yrRmhO-Qe2o4"
      },
      "execution_count": 17,
      "outputs": []
    },
    {
      "cell_type": "code",
      "source": [
        "## creating a new dataframe with one \"Open\" column\n",
        "data = df.filter([\"Open\"])\n",
        "data"
      ],
      "metadata": {
        "colab": {
          "base_uri": "https://localhost:8080/",
          "height": 424
        },
        "id": "IuJtwJZomeI3",
        "outputId": "b9180fcb-98d2-4e24-b1c7-3aff57b1aae0"
      },
      "execution_count": 18,
      "outputs": [
        {
          "output_type": "execute_result",
          "data": {
            "text/plain": [
              "        Open\n",
              "0     318.90\n",
              "1     312.00\n",
              "2     322.00\n",
              "3     312.90\n",
              "4     305.00\n",
              "...      ...\n",
              "1995  306.00\n",
              "1996  312.00\n",
              "1997  311.00\n",
              "1998  315.00\n",
              "1999  321.00\n",
              "\n",
              "[2000 rows x 1 columns]"
            ],
            "text/html": [
              "\n",
              "  <div id=\"df-c3e984ff-e849-4cfb-ae25-a05065fe19bd\">\n",
              "    <div class=\"colab-df-container\">\n",
              "      <div>\n",
              "<style scoped>\n",
              "    .dataframe tbody tr th:only-of-type {\n",
              "        vertical-align: middle;\n",
              "    }\n",
              "\n",
              "    .dataframe tbody tr th {\n",
              "        vertical-align: top;\n",
              "    }\n",
              "\n",
              "    .dataframe thead th {\n",
              "        text-align: right;\n",
              "    }\n",
              "</style>\n",
              "<table border=\"1\" class=\"dataframe\">\n",
              "  <thead>\n",
              "    <tr style=\"text-align: right;\">\n",
              "      <th></th>\n",
              "      <th>Open</th>\n",
              "    </tr>\n",
              "  </thead>\n",
              "  <tbody>\n",
              "    <tr>\n",
              "      <th>0</th>\n",
              "      <td>318.90</td>\n",
              "    </tr>\n",
              "    <tr>\n",
              "      <th>1</th>\n",
              "      <td>312.00</td>\n",
              "    </tr>\n",
              "    <tr>\n",
              "      <th>2</th>\n",
              "      <td>322.00</td>\n",
              "    </tr>\n",
              "    <tr>\n",
              "      <th>3</th>\n",
              "      <td>312.90</td>\n",
              "    </tr>\n",
              "    <tr>\n",
              "      <th>4</th>\n",
              "      <td>305.00</td>\n",
              "    </tr>\n",
              "    <tr>\n",
              "      <th>...</th>\n",
              "      <td>...</td>\n",
              "    </tr>\n",
              "    <tr>\n",
              "      <th>1995</th>\n",
              "      <td>306.00</td>\n",
              "    </tr>\n",
              "    <tr>\n",
              "      <th>1996</th>\n",
              "      <td>312.00</td>\n",
              "    </tr>\n",
              "    <tr>\n",
              "      <th>1997</th>\n",
              "      <td>311.00</td>\n",
              "    </tr>\n",
              "    <tr>\n",
              "      <th>1998</th>\n",
              "      <td>315.00</td>\n",
              "    </tr>\n",
              "    <tr>\n",
              "      <th>1999</th>\n",
              "      <td>321.00</td>\n",
              "    </tr>\n",
              "  </tbody>\n",
              "</table>\n",
              "<p>2000 rows × 1 columns</p>\n",
              "</div>\n",
              "      <button class=\"colab-df-convert\" onclick=\"convertToInteractive('df-c3e984ff-e849-4cfb-ae25-a05065fe19bd')\"\n",
              "              title=\"Convert this dataframe to an interactive table.\"\n",
              "              style=\"display:none;\">\n",
              "        \n",
              "  <svg xmlns=\"http://www.w3.org/2000/svg\" height=\"24px\"viewBox=\"0 0 24 24\"\n",
              "       width=\"24px\">\n",
              "    <path d=\"M0 0h24v24H0V0z\" fill=\"none\"/>\n",
              "    <path d=\"M18.56 5.44l.94 2.06.94-2.06 2.06-.94-2.06-.94-.94-2.06-.94 2.06-2.06.94zm-11 1L8.5 8.5l.94-2.06 2.06-.94-2.06-.94L8.5 2.5l-.94 2.06-2.06.94zm10 10l.94 2.06.94-2.06 2.06-.94-2.06-.94-.94-2.06-.94 2.06-2.06.94z\"/><path d=\"M17.41 7.96l-1.37-1.37c-.4-.4-.92-.59-1.43-.59-.52 0-1.04.2-1.43.59L10.3 9.45l-7.72 7.72c-.78.78-.78 2.05 0 2.83L4 21.41c.39.39.9.59 1.41.59.51 0 1.02-.2 1.41-.59l7.78-7.78 2.81-2.81c.8-.78.8-2.07 0-2.86zM5.41 20L4 18.59l7.72-7.72 1.47 1.35L5.41 20z\"/>\n",
              "  </svg>\n",
              "      </button>\n",
              "      \n",
              "  <style>\n",
              "    .colab-df-container {\n",
              "      display:flex;\n",
              "      flex-wrap:wrap;\n",
              "      gap: 12px;\n",
              "    }\n",
              "\n",
              "    .colab-df-convert {\n",
              "      background-color: #E8F0FE;\n",
              "      border: none;\n",
              "      border-radius: 50%;\n",
              "      cursor: pointer;\n",
              "      display: none;\n",
              "      fill: #1967D2;\n",
              "      height: 32px;\n",
              "      padding: 0 0 0 0;\n",
              "      width: 32px;\n",
              "    }\n",
              "\n",
              "    .colab-df-convert:hover {\n",
              "      background-color: #E2EBFA;\n",
              "      box-shadow: 0px 1px 2px rgba(60, 64, 67, 0.3), 0px 1px 3px 1px rgba(60, 64, 67, 0.15);\n",
              "      fill: #174EA6;\n",
              "    }\n",
              "\n",
              "    [theme=dark] .colab-df-convert {\n",
              "      background-color: #3B4455;\n",
              "      fill: #D2E3FC;\n",
              "    }\n",
              "\n",
              "    [theme=dark] .colab-df-convert:hover {\n",
              "      background-color: #434B5C;\n",
              "      box-shadow: 0px 1px 3px 1px rgba(0, 0, 0, 0.15);\n",
              "      filter: drop-shadow(0px 1px 2px rgba(0, 0, 0, 0.3));\n",
              "      fill: #FFFFFF;\n",
              "    }\n",
              "  </style>\n",
              "\n",
              "      <script>\n",
              "        const buttonEl =\n",
              "          document.querySelector('#df-c3e984ff-e849-4cfb-ae25-a05065fe19bd button.colab-df-convert');\n",
              "        buttonEl.style.display =\n",
              "          google.colab.kernel.accessAllowed ? 'block' : 'none';\n",
              "\n",
              "        async function convertToInteractive(key) {\n",
              "          const element = document.querySelector('#df-c3e984ff-e849-4cfb-ae25-a05065fe19bd');\n",
              "          const dataTable =\n",
              "            await google.colab.kernel.invokeFunction('convertToInteractive',\n",
              "                                                     [key], {});\n",
              "          if (!dataTable) return;\n",
              "\n",
              "          const docLinkHtml = 'Like what you see? Visit the ' +\n",
              "            '<a target=\"_blank\" href=https://colab.research.google.com/notebooks/data_table.ipynb>data table notebook</a>'\n",
              "            + ' to learn more about interactive tables.';\n",
              "          element.innerHTML = '';\n",
              "          dataTable['output_type'] = 'display_data';\n",
              "          await google.colab.output.renderOutput(dataTable, element);\n",
              "          const docLink = document.createElement('div');\n",
              "          docLink.innerHTML = docLinkHtml;\n",
              "          element.appendChild(docLink);\n",
              "        }\n",
              "      </script>\n",
              "    </div>\n",
              "  </div>\n",
              "  "
            ]
          },
          "metadata": {},
          "execution_count": 18
        }
      ]
    },
    {
      "cell_type": "code",
      "execution_count": 19,
      "metadata": {
        "id": "DaCYhNGosuvA",
        "colab": {
          "base_uri": "https://localhost:8080/"
        },
        "outputId": "de4dc693-59d4-4fcf-b7b4-78ff285ff503"
      },
      "outputs": [
        {
          "output_type": "execute_result",
          "data": {
            "text/plain": [
              "(2000, 1)"
            ]
          },
          "metadata": {},
          "execution_count": 19
        }
      ],
      "source": [
        "## converting data into numpy array\n",
        "data = open.values\n",
        "data = data.reshape(-1,1)\n",
        "data.shape"
      ]
    },
    {
      "cell_type": "code",
      "source": [
        "data"
      ],
      "metadata": {
        "colab": {
          "base_uri": "https://localhost:8080/"
        },
        "id": "pLfxi6M6SF7e",
        "outputId": "33a00a59-78c9-42ea-90d4-43fa694492d8"
      },
      "execution_count": 20,
      "outputs": [
        {
          "output_type": "execute_result",
          "data": {
            "text/plain": [
              "array([[318.9],\n",
              "       [312. ],\n",
              "       [322. ],\n",
              "       ...,\n",
              "       [311. ],\n",
              "       [315. ],\n",
              "       [321. ]])"
            ]
          },
          "metadata": {},
          "execution_count": 20
        }
      ]
    },
    {
      "cell_type": "code",
      "source": [
        "training = np.array(data[:int(data.shape[0]*0.8)])\n",
        "testing = np.array(data[int(data.shape[0]*0.8)-50:])"
      ],
      "metadata": {
        "id": "2iTqJfYhSqoj"
      },
      "execution_count": 21,
      "outputs": []
    },
    {
      "cell_type": "code",
      "source": [
        "training.shape, testing.shape"
      ],
      "metadata": {
        "colab": {
          "base_uri": "https://localhost:8080/"
        },
        "id": "DmlCDdsgUTjl",
        "outputId": "da2f478a-fcd2-41b4-e97d-91b819c33fbe"
      },
      "execution_count": 22,
      "outputs": [
        {
          "output_type": "execute_result",
          "data": {
            "text/plain": [
              "((1600, 1), (450, 1))"
            ]
          },
          "metadata": {},
          "execution_count": 22
        }
      ]
    },
    {
      "cell_type": "markdown",
      "source": [
        "**Preprocessing the dataset**"
      ],
      "metadata": {
        "id": "oakAQoVibo9j"
      }
    },
    {
      "cell_type": "code",
      "source": [
        "scaler = MinMaxScaler(feature_range=(0,1))\n",
        "train = scaler.fit_transform(training)\n",
        "train[:5]"
      ],
      "metadata": {
        "colab": {
          "base_uri": "https://localhost:8080/"
        },
        "id": "_X_DhzklUVNC",
        "outputId": "44ea185e-1612-4ba1-d0ef-6a38724e7374"
      },
      "execution_count": 23,
      "outputs": [
        {
          "output_type": "execute_result",
          "data": {
            "text/plain": [
              "array([[0.04765625],\n",
              "       [0.04166667],\n",
              "       [0.05034722],\n",
              "       [0.04244792],\n",
              "       [0.03559028]])"
            ]
          },
          "metadata": {},
          "execution_count": 23
        }
      ]
    },
    {
      "cell_type": "code",
      "source": [
        "test = scaler.transform(testing)\n",
        "test[:5]"
      ],
      "metadata": {
        "colab": {
          "base_uri": "https://localhost:8080/"
        },
        "id": "XJMkGqTCZmnm",
        "outputId": "601d65b9-4e5a-4c86-bb48-3d3c30ae9cf2"
      },
      "execution_count": 24,
      "outputs": [
        {
          "output_type": "execute_result",
          "data": {
            "text/plain": [
              "array([[0.36371528],\n",
              "       [0.36631944],\n",
              "       [0.37760417],\n",
              "       [0.37847222],\n",
              "       [0.37934028]])"
            ]
          },
          "metadata": {},
          "execution_count": 24
        }
      ]
    },
    {
      "cell_type": "code",
      "source": [
        "def dataset(df):\n",
        "  x=[]\n",
        "  y=[]\n",
        "\n",
        "  for i in range(50,df.shape[0]):\n",
        "    x.append(df[i-50:i,0])\n",
        "    y.append(df[i,0])\n",
        "\n",
        "  x=np.array(x)\n",
        "  y=np.array(y)\n",
        "\n",
        "  return x,y"
      ],
      "metadata": {
        "id": "bOdi5ZBmcpds"
      },
      "execution_count": 25,
      "outputs": []
    },
    {
      "cell_type": "code",
      "source": [
        "X_train, y_train = dataset(train)\n",
        "X_train"
      ],
      "metadata": {
        "colab": {
          "base_uri": "https://localhost:8080/"
        },
        "id": "MHCtu1JOpDbz",
        "outputId": "be89d431-feb3-43fb-9fca-c16ed1832881"
      },
      "execution_count": 26,
      "outputs": [
        {
          "output_type": "execute_result",
          "data": {
            "text/plain": [
              "array([[0.04765625, 0.04166667, 0.05034722, ..., 0.11041667, 0.125     ,\n",
              "        0.11458333],\n",
              "       [0.04166667, 0.05034722, 0.04244792, ..., 0.125     , 0.11458333,\n",
              "        0.11631944],\n",
              "       [0.05034722, 0.04244792, 0.03559028, ..., 0.11458333, 0.11631944,\n",
              "        0.12057292],\n",
              "       ...,\n",
              "       [0.36458333, 0.359375  , 0.36545139, ..., 0.33072917, 0.33420139,\n",
              "        0.33940972],\n",
              "       [0.359375  , 0.36545139, 0.36371528, ..., 0.33420139, 0.33940972,\n",
              "        0.32465278],\n",
              "       [0.36545139, 0.36371528, 0.36631944, ..., 0.33940972, 0.32465278,\n",
              "        0.28559028]])"
            ]
          },
          "metadata": {},
          "execution_count": 26
        }
      ]
    },
    {
      "cell_type": "code",
      "source": [
        "X_train[:1]"
      ],
      "metadata": {
        "colab": {
          "base_uri": "https://localhost:8080/"
        },
        "id": "dswt4nYmpIwZ",
        "outputId": "64d32bb2-2087-4ff2-9464-931b448734b4"
      },
      "execution_count": 27,
      "outputs": [
        {
          "output_type": "execute_result",
          "data": {
            "text/plain": [
              "array([[0.04765625, 0.04166667, 0.05034722, 0.04244792, 0.03559028,\n",
              "        0.034375  , 0.04861111, 0.0390625 , 0.0390625 , 0.04861111,\n",
              "        0.04513889, 0.04444444, 0.06119792, 0.05989583, 0.06831597,\n",
              "        0.07005208, 0.07005208, 0.06597222, 0.0703125 , 0.08333333,\n",
              "        0.09401042, 0.09548611, 0.09375   , 0.09201389, 0.10902778,\n",
              "        0.10503472, 0.11258681, 0.10902778, 0.10460069, 0.10989583,\n",
              "        0.10503472, 0.10390625, 0.11197917, 0.11111111, 0.11805556,\n",
              "        0.11371528, 0.10850694, 0.10815972, 0.10416667, 0.10069444,\n",
              "        0.11345486, 0.11284722, 0.12317708, 0.11371528, 0.11631944,\n",
              "        0.12326389, 0.1171875 , 0.11041667, 0.125     , 0.11458333]])"
            ]
          },
          "metadata": {},
          "execution_count": 27
        }
      ]
    },
    {
      "cell_type": "code",
      "source": [
        "X_train[:1].shape, X_train.shape"
      ],
      "metadata": {
        "colab": {
          "base_uri": "https://localhost:8080/"
        },
        "id": "W2nm7yqlqLkv",
        "outputId": "71ad2ce6-6526-4b66-b973-7f83e0e7f05c"
      },
      "execution_count": 28,
      "outputs": [
        {
          "output_type": "execute_result",
          "data": {
            "text/plain": [
              "((1, 50), (1550, 50))"
            ]
          },
          "metadata": {},
          "execution_count": 28
        }
      ]
    },
    {
      "cell_type": "code",
      "source": [
        "X_test, y_test = dataset(test)\n",
        "X_test[:1]"
      ],
      "metadata": {
        "colab": {
          "base_uri": "https://localhost:8080/"
        },
        "id": "oH5w3bY0q_vc",
        "outputId": "069a5cfa-48de-4a2c-e781-163d7afbab83"
      },
      "execution_count": 29,
      "outputs": [
        {
          "output_type": "execute_result",
          "data": {
            "text/plain": [
              "array([[0.36371528, 0.36631944, 0.37760417, 0.37847222, 0.37934028,\n",
              "        0.37934028, 0.37760417, 0.37847222, 0.37847222, 0.38020833,\n",
              "        0.38368056, 0.37847222, 0.39583333, 0.38628472, 0.38975694,\n",
              "        0.39496528, 0.38107639, 0.38454861, 0.36979167, 0.375     ,\n",
              "        0.38541667, 0.359375  , 0.3671875 , 0.38454861, 0.35590278,\n",
              "        0.34722222, 0.34895833, 0.34895833, 0.34895833, 0.34722222,\n",
              "        0.34375   , 0.34201389, 0.33940972, 0.34809028, 0.3359375 ,\n",
              "        0.33246528, 0.33680556, 0.33333333, 0.31597222, 0.31597222,\n",
              "        0.30381944, 0.30729167, 0.31423611, 0.33072917, 0.33072917,\n",
              "        0.33420139, 0.33940972, 0.32465278, 0.28559028, 0.265625  ]])"
            ]
          },
          "metadata": {},
          "execution_count": 29
        }
      ]
    },
    {
      "cell_type": "code",
      "source": [
        "X_train = np.reshape(X_train,(X_train.shape[0], X_train.shape[1], 1))\n",
        "X_test = np.reshape(X_test,(X_test.shape[0], X_test.shape[1], 1))\n",
        "X_train.shape, X_test.shape"
      ],
      "metadata": {
        "colab": {
          "base_uri": "https://localhost:8080/"
        },
        "id": "sTCwj9I-1wlx",
        "outputId": "0229974e-f4e8-4a2b-b90d-10a700a9c1af"
      },
      "execution_count": 30,
      "outputs": [
        {
          "output_type": "execute_result",
          "data": {
            "text/plain": [
              "((1550, 50, 1), (400, 50, 1))"
            ]
          },
          "metadata": {},
          "execution_count": 30
        }
      ]
    },
    {
      "cell_type": "code",
      "source": [
        "## Training the network\n",
        "model = Sequential()\n",
        "model.add(LSTM(units=200, return_sequences=True, input_shape=(X_train.shape[1],1)))\n",
        "model.add(Dropout(0.2))\n",
        "model.add(LSTM(units=200, return_sequences=True))\n",
        "model.add(Dropout(0.2))\n",
        "model.add(LSTM(units=200))\n",
        "model.add(Dropout(0.2))\n",
        "model.add(Dense(units=1))"
      ],
      "metadata": {
        "id": "dfr4Ozl1rM1H"
      },
      "execution_count": 31,
      "outputs": []
    },
    {
      "cell_type": "code",
      "source": [
        "model.summary()"
      ],
      "metadata": {
        "colab": {
          "base_uri": "https://localhost:8080/"
        },
        "id": "VsHcjcJ1wClz",
        "outputId": "47abb260-93e7-4859-81de-17f09118971f"
      },
      "execution_count": 32,
      "outputs": [
        {
          "output_type": "stream",
          "name": "stdout",
          "text": [
            "Model: \"sequential\"\n",
            "_________________________________________________________________\n",
            " Layer (type)                Output Shape              Param #   \n",
            "=================================================================\n",
            " lstm (LSTM)                 (None, 50, 200)           161600    \n",
            "                                                                 \n",
            " dropout (Dropout)           (None, 50, 200)           0         \n",
            "                                                                 \n",
            " lstm_1 (LSTM)               (None, 50, 200)           320800    \n",
            "                                                                 \n",
            " dropout_1 (Dropout)         (None, 50, 200)           0         \n",
            "                                                                 \n",
            " lstm_2 (LSTM)               (None, 200)               320800    \n",
            "                                                                 \n",
            " dropout_2 (Dropout)         (None, 200)               0         \n",
            "                                                                 \n",
            " dense (Dense)               (None, 1)                 201       \n",
            "                                                                 \n",
            "=================================================================\n",
            "Total params: 803,401\n",
            "Trainable params: 803,401\n",
            "Non-trainable params: 0\n",
            "_________________________________________________________________\n"
          ]
        }
      ]
    },
    {
      "cell_type": "code",
      "source": [
        "model.compile(loss=\"mean_squared_error\", optimizer=\"adam\", metrics=[\"accuracy\"])"
      ],
      "metadata": {
        "id": "07K1QGUMwKqd"
      },
      "execution_count": 33,
      "outputs": []
    },
    {
      "cell_type": "code",
      "source": [
        "model.fit(X_train, y_train, epochs=50, batch_size=64)"
      ],
      "metadata": {
        "colab": {
          "base_uri": "https://localhost:8080/"
        },
        "id": "RAoK-Iy7yj1h",
        "outputId": "9be56bb3-5cfe-4db5-c1df-f99f8ba2151c"
      },
      "execution_count": 34,
      "outputs": [
        {
          "output_type": "stream",
          "name": "stdout",
          "text": [
            "Epoch 1/50\n",
            "25/25 [==============================] - 21s 581ms/step - loss: 0.0126 - accuracy: 6.4516e-04\n",
            "Epoch 2/50\n",
            "25/25 [==============================] - 14s 567ms/step - loss: 0.0029 - accuracy: 0.0013\n",
            "Epoch 3/50\n",
            "25/25 [==============================] - 14s 564ms/step - loss: 0.0025 - accuracy: 0.0013\n",
            "Epoch 4/50\n",
            "25/25 [==============================] - 14s 566ms/step - loss: 0.0029 - accuracy: 0.0013\n",
            "Epoch 5/50\n",
            "25/25 [==============================] - 15s 614ms/step - loss: 0.0019 - accuracy: 0.0013\n",
            "Epoch 6/50\n",
            "25/25 [==============================] - 14s 567ms/step - loss: 0.0015 - accuracy: 0.0013\n",
            "Epoch 7/50\n",
            "25/25 [==============================] - 15s 587ms/step - loss: 0.0014 - accuracy: 0.0013\n",
            "Epoch 8/50\n",
            "25/25 [==============================] - 14s 571ms/step - loss: 0.0013 - accuracy: 0.0013\n",
            "Epoch 9/50\n",
            "25/25 [==============================] - 14s 567ms/step - loss: 0.0013 - accuracy: 0.0013\n",
            "Epoch 10/50\n",
            "25/25 [==============================] - 14s 573ms/step - loss: 0.0010 - accuracy: 0.0013\n",
            "Epoch 11/50\n",
            "25/25 [==============================] - 14s 565ms/step - loss: 0.0013 - accuracy: 0.0013\n",
            "Epoch 12/50\n",
            "25/25 [==============================] - 14s 567ms/step - loss: 0.0012 - accuracy: 0.0013\n",
            "Epoch 13/50\n",
            "25/25 [==============================] - 14s 566ms/step - loss: 0.0013 - accuracy: 0.0013\n",
            "Epoch 14/50\n",
            "25/25 [==============================] - 14s 574ms/step - loss: 0.0012 - accuracy: 0.0013\n",
            "Epoch 15/50\n",
            "25/25 [==============================] - 15s 595ms/step - loss: 0.0013 - accuracy: 0.0013\n",
            "Epoch 16/50\n",
            "25/25 [==============================] - 14s 573ms/step - loss: 0.0010 - accuracy: 0.0013\n",
            "Epoch 17/50\n",
            "25/25 [==============================] - 14s 570ms/step - loss: 8.9974e-04 - accuracy: 0.0013\n",
            "Epoch 18/50\n",
            "25/25 [==============================] - 14s 569ms/step - loss: 9.5750e-04 - accuracy: 0.0013\n",
            "Epoch 19/50\n",
            "25/25 [==============================] - 14s 571ms/step - loss: 9.3357e-04 - accuracy: 0.0013\n",
            "Epoch 20/50\n",
            "25/25 [==============================] - 14s 568ms/step - loss: 8.4769e-04 - accuracy: 0.0013\n",
            "Epoch 21/50\n",
            "25/25 [==============================] - 14s 566ms/step - loss: 9.1406e-04 - accuracy: 0.0013\n",
            "Epoch 22/50\n",
            "25/25 [==============================] - 14s 570ms/step - loss: 8.1728e-04 - accuracy: 0.0013\n",
            "Epoch 23/50\n",
            "25/25 [==============================] - 15s 607ms/step - loss: 0.0013 - accuracy: 0.0013\n",
            "Epoch 24/50\n",
            "25/25 [==============================] - 14s 567ms/step - loss: 8.8148e-04 - accuracy: 0.0013\n",
            "Epoch 25/50\n",
            "25/25 [==============================] - 14s 570ms/step - loss: 0.0011 - accuracy: 0.0013\n",
            "Epoch 26/50\n",
            "25/25 [==============================] - 14s 575ms/step - loss: 0.0012 - accuracy: 0.0013\n",
            "Epoch 27/50\n",
            "25/25 [==============================] - 14s 562ms/step - loss: 8.1376e-04 - accuracy: 0.0013\n",
            "Epoch 28/50\n",
            "25/25 [==============================] - 20s 806ms/step - loss: 8.3761e-04 - accuracy: 0.0013\n",
            "Epoch 29/50\n",
            "25/25 [==============================] - 14s 565ms/step - loss: 7.0813e-04 - accuracy: 0.0013\n",
            "Epoch 30/50\n",
            "25/25 [==============================] - 14s 564ms/step - loss: 8.6772e-04 - accuracy: 0.0013\n",
            "Epoch 31/50\n",
            "25/25 [==============================] - 14s 566ms/step - loss: 0.0011 - accuracy: 0.0013\n",
            "Epoch 32/50\n",
            "25/25 [==============================] - 14s 561ms/step - loss: 9.7902e-04 - accuracy: 0.0013\n",
            "Epoch 33/50\n",
            "25/25 [==============================] - 14s 569ms/step - loss: 9.3699e-04 - accuracy: 0.0013\n",
            "Epoch 34/50\n",
            "25/25 [==============================] - 14s 574ms/step - loss: 7.1540e-04 - accuracy: 0.0013\n",
            "Epoch 35/50\n",
            "25/25 [==============================] - 14s 567ms/step - loss: 6.8612e-04 - accuracy: 0.0013\n",
            "Epoch 36/50\n",
            "25/25 [==============================] - 15s 589ms/step - loss: 7.2818e-04 - accuracy: 0.0013\n",
            "Epoch 37/50\n",
            "25/25 [==============================] - 14s 570ms/step - loss: 7.4842e-04 - accuracy: 0.0013\n",
            "Epoch 38/50\n",
            "25/25 [==============================] - 14s 569ms/step - loss: 7.5266e-04 - accuracy: 0.0013\n",
            "Epoch 39/50\n",
            "25/25 [==============================] - 14s 568ms/step - loss: 6.8537e-04 - accuracy: 0.0013\n",
            "Epoch 40/50\n",
            "25/25 [==============================] - 14s 568ms/step - loss: 6.9996e-04 - accuracy: 0.0013\n",
            "Epoch 41/50\n",
            "25/25 [==============================] - 15s 617ms/step - loss: 6.0686e-04 - accuracy: 0.0013\n",
            "Epoch 42/50\n",
            "25/25 [==============================] - 14s 573ms/step - loss: 6.4586e-04 - accuracy: 0.0013\n",
            "Epoch 43/50\n",
            "25/25 [==============================] - 14s 567ms/step - loss: 8.0229e-04 - accuracy: 0.0013\n",
            "Epoch 44/50\n",
            "25/25 [==============================] - 14s 565ms/step - loss: 6.3097e-04 - accuracy: 0.0013\n",
            "Epoch 45/50\n",
            "25/25 [==============================] - 14s 564ms/step - loss: 7.1242e-04 - accuracy: 0.0013\n",
            "Epoch 46/50\n",
            "25/25 [==============================] - 14s 565ms/step - loss: 6.8425e-04 - accuracy: 0.0013\n",
            "Epoch 47/50\n",
            "25/25 [==============================] - 14s 568ms/step - loss: 6.5255e-04 - accuracy: 0.0013\n",
            "Epoch 48/50\n",
            "25/25 [==============================] - 14s 561ms/step - loss: 7.1485e-04 - accuracy: 0.0013\n",
            "Epoch 49/50\n",
            "25/25 [==============================] - 14s 564ms/step - loss: 6.3635e-04 - accuracy: 0.0013\n",
            "Epoch 50/50\n",
            "25/25 [==============================] - 14s 564ms/step - loss: 5.8230e-04 - accuracy: 0.0013\n"
          ]
        },
        {
          "output_type": "execute_result",
          "data": {
            "text/plain": [
              "<keras.callbacks.History at 0x7f2e6be210d0>"
            ]
          },
          "metadata": {},
          "execution_count": 34
        }
      ]
    },
    {
      "cell_type": "code",
      "source": [
        "## make predictions\n",
        "predictions = model.predict(X_test)\n",
        "predictions"
      ],
      "metadata": {
        "colab": {
          "base_uri": "https://localhost:8080/"
        },
        "id": "L6GPM5-B2qnl",
        "outputId": "c70a563b-4511-444a-d34a-5aa05be09ca0"
      },
      "execution_count": 35,
      "outputs": [
        {
          "output_type": "execute_result",
          "data": {
            "text/plain": [
              "array([[ 2.81435937e-01],\n",
              "       [ 2.57944852e-01],\n",
              "       [ 2.47455269e-01],\n",
              "       [ 2.47337937e-01],\n",
              "       [ 2.51510590e-01],\n",
              "       [ 2.57498145e-01],\n",
              "       [ 2.60359138e-01],\n",
              "       [ 2.58434683e-01],\n",
              "       [ 2.60672361e-01],\n",
              "       [ 2.64723539e-01],\n",
              "       [ 2.66461045e-01],\n",
              "       [ 2.66049862e-01],\n",
              "       [ 2.64732033e-01],\n",
              "       [ 2.62298584e-01],\n",
              "       [ 2.59754807e-01],\n",
              "       [ 2.61281908e-01],\n",
              "       [ 2.63436645e-01],\n",
              "       [ 2.71904290e-01],\n",
              "       [ 2.75784910e-01],\n",
              "       [ 2.77181506e-01],\n",
              "       [ 2.72735417e-01],\n",
              "       [ 2.72561371e-01],\n",
              "       [ 2.74809271e-01],\n",
              "       [ 2.82535106e-01],\n",
              "       [ 2.87551314e-01],\n",
              "       [ 2.88790315e-01],\n",
              "       [ 2.91960865e-01],\n",
              "       [ 2.96405166e-01],\n",
              "       [ 2.97387958e-01],\n",
              "       [ 2.95905888e-01],\n",
              "       [ 2.93843508e-01],\n",
              "       [ 2.94145077e-01],\n",
              "       [ 2.95398712e-01],\n",
              "       [ 2.98026174e-01],\n",
              "       [ 3.01982552e-01],\n",
              "       [ 3.28523993e-01],\n",
              "       [ 3.61351371e-01],\n",
              "       [ 3.81690860e-01],\n",
              "       [ 3.83468390e-01],\n",
              "       [ 3.73884171e-01],\n",
              "       [ 3.64361584e-01],\n",
              "       [ 3.65110844e-01],\n",
              "       [ 3.72256726e-01],\n",
              "       [ 3.77787054e-01],\n",
              "       [ 3.73938739e-01],\n",
              "       [ 3.57195914e-01],\n",
              "       [ 3.35589290e-01],\n",
              "       [ 3.23038727e-01],\n",
              "       [ 3.25536549e-01],\n",
              "       [ 3.44237447e-01],\n",
              "       [ 3.65342915e-01],\n",
              "       [ 3.91867876e-01],\n",
              "       [ 4.12945688e-01],\n",
              "       [ 4.25483018e-01],\n",
              "       [ 4.30392593e-01],\n",
              "       [ 4.34004545e-01],\n",
              "       [ 4.17236984e-01],\n",
              "       [ 4.13462877e-01],\n",
              "       [ 4.23891962e-01],\n",
              "       [ 4.44921106e-01],\n",
              "       [ 4.66815114e-01],\n",
              "       [ 4.86651897e-01],\n",
              "       [ 5.01629651e-01],\n",
              "       [ 4.90935862e-01],\n",
              "       [ 4.80696589e-01],\n",
              "       [ 4.86746609e-01],\n",
              "       [ 5.01591504e-01],\n",
              "       [ 5.09503603e-01],\n",
              "       [ 5.18706322e-01],\n",
              "       [ 5.20450354e-01],\n",
              "       [ 5.24349928e-01],\n",
              "       [ 5.27287126e-01],\n",
              "       [ 5.24072826e-01],\n",
              "       [ 5.21280825e-01],\n",
              "       [ 5.17760932e-01],\n",
              "       [ 5.03762782e-01],\n",
              "       [ 4.89071220e-01],\n",
              "       [ 4.85930681e-01],\n",
              "       [ 4.93367970e-01],\n",
              "       [ 5.10846913e-01],\n",
              "       [ 5.21903157e-01],\n",
              "       [ 5.28551102e-01],\n",
              "       [ 5.25328636e-01],\n",
              "       [ 5.13218701e-01],\n",
              "       [ 5.04409730e-01],\n",
              "       [ 5.03584027e-01],\n",
              "       [ 5.10731876e-01],\n",
              "       [ 4.99502927e-01],\n",
              "       [ 4.79470968e-01],\n",
              "       [ 4.63629484e-01],\n",
              "       [ 4.56663668e-01],\n",
              "       [ 4.58807230e-01],\n",
              "       [ 4.59196627e-01],\n",
              "       [ 4.51740265e-01],\n",
              "       [ 4.41326290e-01],\n",
              "       [ 4.25793082e-01],\n",
              "       [ 4.09959912e-01],\n",
              "       [ 3.99252415e-01],\n",
              "       [ 3.97259176e-01],\n",
              "       [ 3.98228079e-01],\n",
              "       [ 3.99933755e-01],\n",
              "       [ 3.99798393e-01],\n",
              "       [ 3.99118185e-01],\n",
              "       [ 3.98286819e-01],\n",
              "       [ 3.94178957e-01],\n",
              "       [ 3.93246800e-01],\n",
              "       [ 3.92714739e-01],\n",
              "       [ 3.94821405e-01],\n",
              "       [ 3.98537636e-01],\n",
              "       [ 4.03487265e-01],\n",
              "       [ 4.07173216e-01],\n",
              "       [ 4.09986675e-01],\n",
              "       [ 4.09739822e-01],\n",
              "       [ 4.04998064e-01],\n",
              "       [ 3.97772014e-01],\n",
              "       [ 3.91138673e-01],\n",
              "       [ 3.90240788e-01],\n",
              "       [ 3.94359529e-01],\n",
              "       [ 4.03817087e-01],\n",
              "       [ 4.07598764e-01],\n",
              "       [ 3.95933509e-01],\n",
              "       [ 3.79704982e-01],\n",
              "       [ 3.52742493e-01],\n",
              "       [ 3.26678336e-01],\n",
              "       [ 3.09874088e-01],\n",
              "       [ 3.03098619e-01],\n",
              "       [ 3.00312877e-01],\n",
              "       [ 3.00422132e-01],\n",
              "       [ 3.00606251e-01],\n",
              "       [ 3.01061422e-01],\n",
              "       [ 3.03482801e-01],\n",
              "       [ 3.04711848e-01],\n",
              "       [ 3.01026285e-01],\n",
              "       [ 2.95907855e-01],\n",
              "       [ 2.91527361e-01],\n",
              "       [ 2.87294358e-01],\n",
              "       [ 2.87124127e-01],\n",
              "       [ 2.90187091e-01],\n",
              "       [ 2.95154959e-01],\n",
              "       [ 2.94719487e-01],\n",
              "       [ 2.78722078e-01],\n",
              "       [ 2.53797084e-01],\n",
              "       [ 2.31264412e-01],\n",
              "       [ 2.19669193e-01],\n",
              "       [ 2.21326172e-01],\n",
              "       [ 2.31160522e-01],\n",
              "       [ 2.40506411e-01],\n",
              "       [ 2.43869096e-01],\n",
              "       [ 2.44076848e-01],\n",
              "       [ 2.44794756e-01],\n",
              "       [ 2.46086091e-01],\n",
              "       [ 2.48551071e-01],\n",
              "       [ 2.52470881e-01],\n",
              "       [ 2.52225727e-01],\n",
              "       [ 2.45103031e-01],\n",
              "       [ 2.36201674e-01],\n",
              "       [ 2.31276214e-01],\n",
              "       [ 2.32385069e-01],\n",
              "       [ 2.37641215e-01],\n",
              "       [ 2.39802808e-01],\n",
              "       [ 2.39418060e-01],\n",
              "       [ 2.35781521e-01],\n",
              "       [ 2.32591212e-01],\n",
              "       [ 2.31580883e-01],\n",
              "       [ 2.32069343e-01],\n",
              "       [ 2.29852349e-01],\n",
              "       [ 2.26085782e-01],\n",
              "       [ 2.21817464e-01],\n",
              "       [ 2.17378438e-01],\n",
              "       [ 2.15756059e-01],\n",
              "       [ 2.20911771e-01],\n",
              "       [ 2.29231358e-01],\n",
              "       [ 2.33105659e-01],\n",
              "       [ 2.34599948e-01],\n",
              "       [ 2.35018551e-01],\n",
              "       [ 2.42993742e-01],\n",
              "       [ 2.56009907e-01],\n",
              "       [ 2.64992476e-01],\n",
              "       [ 2.68710703e-01],\n",
              "       [ 2.72416919e-01],\n",
              "       [ 2.78586954e-01],\n",
              "       [ 2.82167345e-01],\n",
              "       [ 2.82708049e-01],\n",
              "       [ 2.80050814e-01],\n",
              "       [ 2.76116103e-01],\n",
              "       [ 2.72147089e-01],\n",
              "       [ 2.70170480e-01],\n",
              "       [ 2.67930150e-01],\n",
              "       [ 2.65245676e-01],\n",
              "       [ 2.64780849e-01],\n",
              "       [ 2.71485299e-01],\n",
              "       [ 2.70700842e-01],\n",
              "       [ 2.66428679e-01],\n",
              "       [ 2.64200300e-01],\n",
              "       [ 2.61567563e-01],\n",
              "       [ 2.60511577e-01],\n",
              "       [ 2.60763347e-01],\n",
              "       [ 2.61835992e-01],\n",
              "       [ 2.61158913e-01],\n",
              "       [ 2.64071107e-01],\n",
              "       [ 2.69463122e-01],\n",
              "       [ 2.72915184e-01],\n",
              "       [ 2.74747252e-01],\n",
              "       [ 2.72869051e-01],\n",
              "       [ 2.72586286e-01],\n",
              "       [ 2.75112122e-01],\n",
              "       [ 2.79659420e-01],\n",
              "       [ 2.80545354e-01],\n",
              "       [ 2.77664721e-01],\n",
              "       [ 2.71323025e-01],\n",
              "       [ 2.66365379e-01],\n",
              "       [ 2.64156729e-01],\n",
              "       [ 2.62620330e-01],\n",
              "       [ 2.65273035e-01],\n",
              "       [ 2.73307234e-01],\n",
              "       [ 2.77804464e-01],\n",
              "       [ 2.99307108e-01],\n",
              "       [ 3.29034626e-01],\n",
              "       [ 3.54854405e-01],\n",
              "       [ 3.55776012e-01],\n",
              "       [ 3.41040939e-01],\n",
              "       [ 3.31256449e-01],\n",
              "       [ 3.33259076e-01],\n",
              "       [ 3.51318181e-01],\n",
              "       [ 3.64612758e-01],\n",
              "       [ 3.51944536e-01],\n",
              "       [ 3.13478827e-01],\n",
              "       [ 2.73619771e-01],\n",
              "       [ 2.41574228e-01],\n",
              "       [ 2.24250257e-01],\n",
              "       [ 2.16397434e-01],\n",
              "       [ 2.15157092e-01],\n",
              "       [ 2.13383347e-01],\n",
              "       [ 2.07362890e-01],\n",
              "       [ 1.98667437e-01],\n",
              "       [ 1.86221898e-01],\n",
              "       [ 1.71442896e-01],\n",
              "       [ 1.61723852e-01],\n",
              "       [ 1.57705963e-01],\n",
              "       [ 1.58286482e-01],\n",
              "       [ 1.60822213e-01],\n",
              "       [ 1.58332020e-01],\n",
              "       [ 1.44788817e-01],\n",
              "       [ 1.31138295e-01],\n",
              "       [ 1.21191673e-01],\n",
              "       [ 1.14768691e-01],\n",
              "       [ 1.08997531e-01],\n",
              "       [ 1.04449823e-01],\n",
              "       [ 1.02791995e-01],\n",
              "       [ 1.03540927e-01],\n",
              "       [ 1.04401745e-01],\n",
              "       [ 1.03479058e-01],\n",
              "       [ 1.02018766e-01],\n",
              "       [ 1.01394221e-01],\n",
              "       [ 1.01471648e-01],\n",
              "       [ 1.02321215e-01],\n",
              "       [ 1.02726340e-01],\n",
              "       [ 1.05265573e-01],\n",
              "       [ 1.08358547e-01],\n",
              "       [ 1.08428426e-01],\n",
              "       [ 1.06040947e-01],\n",
              "       [ 1.02707028e-01],\n",
              "       [ 1.01108879e-01],\n",
              "       [ 9.92527232e-02],\n",
              "       [ 9.62406546e-02],\n",
              "       [ 9.34753790e-02],\n",
              "       [ 9.00009423e-02],\n",
              "       [ 8.63255113e-02],\n",
              "       [ 8.34649354e-02],\n",
              "       [ 8.09433460e-02],\n",
              "       [ 7.98133761e-02],\n",
              "       [ 8.11536387e-02],\n",
              "       [ 8.31874758e-02],\n",
              "       [ 8.26622099e-02],\n",
              "       [ 8.30295682e-02],\n",
              "       [ 8.62525627e-02],\n",
              "       [ 9.35377777e-02],\n",
              "       [ 9.73077714e-02],\n",
              "       [ 9.83665809e-02],\n",
              "       [ 9.89668071e-02],\n",
              "       [ 9.83348787e-02],\n",
              "       [ 9.66102704e-02],\n",
              "       [ 9.85439122e-02],\n",
              "       [ 1.01953991e-01],\n",
              "       [ 1.04496963e-01],\n",
              "       [ 1.04268320e-01],\n",
              "       [ 1.03360519e-01],\n",
              "       [ 1.03446051e-01],\n",
              "       [ 1.04692176e-01],\n",
              "       [ 1.06923729e-01],\n",
              "       [ 1.08940892e-01],\n",
              "       [ 1.09049991e-01],\n",
              "       [ 1.07751817e-01],\n",
              "       [ 1.06230706e-01],\n",
              "       [ 1.03068143e-01],\n",
              "       [ 9.54022929e-02],\n",
              "       [ 8.23122635e-02],\n",
              "       [ 7.14401603e-02],\n",
              "       [ 6.68110922e-02],\n",
              "       [ 6.62959591e-02],\n",
              "       [ 6.92805797e-02],\n",
              "       [ 7.00139850e-02],\n",
              "       [ 6.80484176e-02],\n",
              "       [ 6.35732114e-02],\n",
              "       [ 5.89661449e-02],\n",
              "       [ 5.84758446e-02],\n",
              "       [ 6.24344945e-02],\n",
              "       [ 6.74167424e-02],\n",
              "       [ 6.81643039e-02],\n",
              "       [ 6.54981881e-02],\n",
              "       [ 6.23289347e-02],\n",
              "       [ 5.98986633e-02],\n",
              "       [ 5.70876598e-02],\n",
              "       [ 5.55055663e-02],\n",
              "       [ 5.59533164e-02],\n",
              "       [ 5.47942482e-02],\n",
              "       [ 4.84086424e-02],\n",
              "       [ 3.83920074e-02],\n",
              "       [ 2.89609302e-02],\n",
              "       [ 2.25289203e-02],\n",
              "       [ 2.04417780e-02],\n",
              "       [ 2.05227584e-02],\n",
              "       [ 2.26689149e-02],\n",
              "       [ 2.40207873e-02],\n",
              "       [ 2.35199817e-02],\n",
              "       [ 2.08975635e-02],\n",
              "       [ 1.74420718e-02],\n",
              "       [ 1.59424208e-02],\n",
              "       [ 1.56471021e-02],\n",
              "       [ 1.68885551e-02],\n",
              "       [ 1.68196894e-02],\n",
              "       [ 1.55067034e-02],\n",
              "       [ 1.64748970e-02],\n",
              "       [ 1.77360177e-02],\n",
              "       [ 1.62385255e-02],\n",
              "       [ 1.29212327e-02],\n",
              "       [ 1.12721361e-02],\n",
              "       [ 1.08428635e-02],\n",
              "       [ 1.15405284e-02],\n",
              "       [ 1.03430673e-02],\n",
              "       [ 1.06586888e-02],\n",
              "       [ 1.30976252e-02],\n",
              "       [ 1.47028118e-02],\n",
              "       [ 1.40539967e-02],\n",
              "       [ 1.20662749e-02],\n",
              "       [ 1.13463476e-02],\n",
              "       [ 1.17692836e-02],\n",
              "       [ 1.25875399e-02],\n",
              "       [ 1.30182058e-02],\n",
              "       [ 1.27944425e-02],\n",
              "       [ 1.22863576e-02],\n",
              "       [ 1.28281116e-02],\n",
              "       [ 1.38996877e-02],\n",
              "       [ 1.43494103e-02],\n",
              "       [ 1.39695033e-02],\n",
              "       [ 1.22732483e-02],\n",
              "       [ 1.03458837e-02],\n",
              "       [ 1.12281218e-02],\n",
              "       [ 1.26321130e-02],\n",
              "       [ 1.35807395e-02],\n",
              "       [ 1.49319097e-02],\n",
              "       [ 1.72263607e-02],\n",
              "       [ 1.73971448e-02],\n",
              "       [ 1.68216750e-02],\n",
              "       [ 1.29892789e-02],\n",
              "       [ 9.54559818e-03],\n",
              "       [ 1.04753859e-02],\n",
              "       [ 1.45412013e-02],\n",
              "       [ 1.20787360e-02],\n",
              "       [ 5.90279698e-03],\n",
              "       [ 5.80959022e-04],\n",
              "       [-2.48812139e-05],\n",
              "       [ 2.83380225e-03],\n",
              "       [ 5.67303598e-03],\n",
              "       [ 1.05180815e-02],\n",
              "       [ 1.63043477e-02],\n",
              "       [ 1.97701585e-02],\n",
              "       [ 2.16862001e-02],\n",
              "       [ 2.31436230e-02],\n",
              "       [ 2.43087411e-02],\n",
              "       [ 2.57227533e-02],\n",
              "       [ 2.73918584e-02],\n",
              "       [ 2.86837444e-02],\n",
              "       [ 2.88234372e-02],\n",
              "       [ 2.80059967e-02],\n",
              "       [ 2.59738732e-02],\n",
              "       [ 2.41426118e-02],\n",
              "       [ 2.31157895e-02],\n",
              "       [ 2.36069765e-02],\n",
              "       [ 2.35504843e-02],\n",
              "       [ 2.32456289e-02],\n",
              "       [ 2.32304707e-02],\n",
              "       [ 2.29441375e-02],\n",
              "       [ 2.37958524e-02],\n",
              "       [ 2.33948324e-02],\n",
              "       [ 2.46948861e-02],\n",
              "       [ 2.63527296e-02],\n",
              "       [ 2.90360786e-02],\n",
              "       [ 3.12948301e-02],\n",
              "       [ 3.35185900e-02]], dtype=float32)"
            ]
          },
          "metadata": {},
          "execution_count": 35
        }
      ]
    },
    {
      "cell_type": "code",
      "source": [
        "predictions = scaler.inverse_transform(predictions)\n",
        "predictions"
      ],
      "metadata": {
        "colab": {
          "base_uri": "https://localhost:8080/"
        },
        "id": "xIi7Q8zB9spK",
        "outputId": "7a7d4dd3-9e78-48ba-83d7-d19627dba6eb"
      },
      "execution_count": 36,
      "outputs": [
        {
          "output_type": "execute_result",
          "data": {
            "text/plain": [
              "array([[588.2142 ],\n",
              "       [561.15247],\n",
              "       [549.0685 ],\n",
              "       [548.9333 ],\n",
              "       [553.7402 ],\n",
              "       [560.6379 ],\n",
              "       [563.9337 ],\n",
              "       [561.71674],\n",
              "       [564.29456],\n",
              "       [568.9615 ],\n",
              "       [570.96313],\n",
              "       [570.48944],\n",
              "       [568.9713 ],\n",
              "       [566.16797],\n",
              "       [563.23755],\n",
              "       [564.99677],\n",
              "       [567.479  ],\n",
              "       [577.23376],\n",
              "       [581.7042 ],\n",
              "       [583.3131 ],\n",
              "       [578.1912 ],\n",
              "       [577.9907 ],\n",
              "       [580.58026],\n",
              "       [589.4804 ],\n",
              "       [595.2591 ],\n",
              "       [596.6864 ],\n",
              "       [600.3389 ],\n",
              "       [605.45874],\n",
              "       [606.59094],\n",
              "       [604.8836 ],\n",
              "       [602.50775],\n",
              "       [602.8551 ],\n",
              "       [604.2993 ],\n",
              "       [607.3262 ],\n",
              "       [611.8839 ],\n",
              "       [642.45966],\n",
              "       [680.2768 ],\n",
              "       [703.7079 ],\n",
              "       [705.7556 ],\n",
              "       [694.71454],\n",
              "       [683.74457],\n",
              "       [684.60767],\n",
              "       [692.8397 ],\n",
              "       [699.2107 ],\n",
              "       [694.77747],\n",
              "       [675.48975],\n",
              "       [650.5989 ],\n",
              "       [636.1406 ],\n",
              "       [639.0181 ],\n",
              "       [660.5616 ],\n",
              "       [684.87506],\n",
              "       [715.4318 ],\n",
              "       [739.71344],\n",
              "       [754.15643],\n",
              "       [759.81226],\n",
              "       [763.97327],\n",
              "       [744.65704],\n",
              "       [740.30927],\n",
              "       [752.32355],\n",
              "       [776.5491 ],\n",
              "       [801.77106],\n",
              "       [824.623  ],\n",
              "       [841.8774 ],\n",
              "       [829.5581 ],\n",
              "       [817.76245],\n",
              "       [824.7321 ],\n",
              "       [841.83344],\n",
              "       [850.9482 ],\n",
              "       [861.5497 ],\n",
              "       [863.55884],\n",
              "       [868.05115],\n",
              "       [871.4348 ],\n",
              "       [867.73193],\n",
              "       [864.5155 ],\n",
              "       [860.46063],\n",
              "       [844.3347 ],\n",
              "       [827.41003],\n",
              "       [823.7922 ],\n",
              "       [832.3599 ],\n",
              "       [852.49567],\n",
              "       [865.2325 ],\n",
              "       [872.89087],\n",
              "       [869.1786 ],\n",
              "       [855.22797],\n",
              "       [845.08   ],\n",
              "       [844.12885],\n",
              "       [852.36316],\n",
              "       [839.42737],\n",
              "       [816.3506 ],\n",
              "       [798.1012 ],\n",
              "       [790.07654],\n",
              "       [792.54596],\n",
              "       [792.9945 ],\n",
              "       [784.4048 ],\n",
              "       [772.4079 ],\n",
              "       [754.5136 ],\n",
              "       [736.27386],\n",
              "       [723.9388 ],\n",
              "       [721.6426 ],\n",
              "       [722.7587 ],\n",
              "       [724.7237 ],\n",
              "       [724.56775],\n",
              "       [723.7842 ],\n",
              "       [722.8264 ],\n",
              "       [718.0941 ],\n",
              "       [717.0203 ],\n",
              "       [716.4074 ],\n",
              "       [718.8343 ],\n",
              "       [723.11536],\n",
              "       [728.8174 ],\n",
              "       [733.0636 ],\n",
              "       [736.3047 ],\n",
              "       [736.02026],\n",
              "       [730.5578 ],\n",
              "       [722.2334 ],\n",
              "       [714.5918 ],\n",
              "       [713.55743],\n",
              "       [718.3022 ],\n",
              "       [729.19727],\n",
              "       [733.5538 ],\n",
              "       [720.1154 ],\n",
              "       [701.4201 ],\n",
              "       [670.3594 ],\n",
              "       [640.3335 ],\n",
              "       [620.9749 ],\n",
              "       [613.1696 ],\n",
              "       [609.96045],\n",
              "       [610.0863 ],\n",
              "       [610.2984 ],\n",
              "       [610.82275],\n",
              "       [613.6122 ],\n",
              "       [615.028  ],\n",
              "       [610.7823 ],\n",
              "       [604.88586],\n",
              "       [599.8395 ],\n",
              "       [594.9631 ],\n",
              "       [594.76697],\n",
              "       [598.29553],\n",
              "       [604.0185 ],\n",
              "       [603.51685],\n",
              "       [585.0878 ],\n",
              "       [556.3742 ],\n",
              "       [530.41656],\n",
              "       [517.0589 ],\n",
              "       [518.9677 ],\n",
              "       [530.29694],\n",
              "       [541.06335],\n",
              "       [544.9372 ],\n",
              "       [545.1765 ],\n",
              "       [546.00354],\n",
              "       [547.49115],\n",
              "       [550.3308 ],\n",
              "       [554.84644],\n",
              "       [554.564  ],\n",
              "       [546.3587 ],\n",
              "       [536.1043 ],\n",
              "       [530.4302 ],\n",
              "       [531.7076 ],\n",
              "       [537.7627 ],\n",
              "       [540.2528 ],\n",
              "       [539.8096 ],\n",
              "       [535.6203 ],\n",
              "       [531.94507],\n",
              "       [530.7812 ],\n",
              "       [531.3439 ],\n",
              "       [528.7899 ],\n",
              "       [524.4508 ],\n",
              "       [519.5337 ],\n",
              "       [514.4199 ],\n",
              "       [512.55096],\n",
              "       [518.49036],\n",
              "       [528.0745 ],\n",
              "       [532.5377 ],\n",
              "       [534.25916],\n",
              "       [534.74133],\n",
              "       [543.9288 ],\n",
              "       [558.9234 ],\n",
              "       [569.2713 ],\n",
              "       [573.5547 ],\n",
              "       [577.8243 ],\n",
              "       [584.9321 ],\n",
              "       [589.05676],\n",
              "       [589.6797 ],\n",
              "       [586.6185 ],\n",
              "       [582.08575],\n",
              "       [577.5134 ],\n",
              "       [575.2364 ],\n",
              "       [572.6555 ],\n",
              "       [569.563  ],\n",
              "       [569.0275 ],\n",
              "       [576.75104],\n",
              "       [575.84735],\n",
              "       [570.92584],\n",
              "       [568.35876],\n",
              "       [565.3258 ],\n",
              "       [564.1093 ],\n",
              "       [564.39935],\n",
              "       [565.6351 ],\n",
              "       [564.85504],\n",
              "       [568.2099 ],\n",
              "       [574.4215 ],\n",
              "       [578.3983 ],\n",
              "       [580.50885],\n",
              "       [578.34515],\n",
              "       [578.0194 ],\n",
              "       [580.92914],\n",
              "       [586.16766],\n",
              "       [587.1883 ],\n",
              "       [583.86975],\n",
              "       [576.56415],\n",
              "       [570.8529 ],\n",
              "       [568.30853],\n",
              "       [566.53864],\n",
              "       [569.59454],\n",
              "       [578.8499 ],\n",
              "       [584.03076],\n",
              "       [608.8018 ],\n",
              "       [643.0479 ],\n",
              "       [672.7923 ],\n",
              "       [673.854  ],\n",
              "       [656.87915],\n",
              "       [645.6074 ],\n",
              "       [647.9144 ],\n",
              "       [668.71857],\n",
              "       [684.03394],\n",
              "       [669.44006],\n",
              "       [625.1276 ],\n",
              "       [579.21   ],\n",
              "       [542.2935 ],\n",
              "       [522.3363 ],\n",
              "       [513.28986],\n",
              "       [511.86096],\n",
              "       [509.8176 ],\n",
              "       [502.88205],\n",
              "       [492.86487],\n",
              "       [478.52762],\n",
              "       [461.5022 ],\n",
              "       [450.30588],\n",
              "       [445.67725],\n",
              "       [446.346  ],\n",
              "       [449.26718],\n",
              "       [446.39847],\n",
              "       [430.79672],\n",
              "       [415.0713 ],\n",
              "       [403.6128 ],\n",
              "       [396.21356],\n",
              "       [389.5652 ],\n",
              "       [384.3262 ],\n",
              "       [382.41638],\n",
              "       [383.27914],\n",
              "       [384.2708 ],\n",
              "       [383.20786],\n",
              "       [381.5256 ],\n",
              "       [380.80615],\n",
              "       [380.89536],\n",
              "       [381.87405],\n",
              "       [382.34073],\n",
              "       [385.26593],\n",
              "       [388.82904],\n",
              "       [388.90955],\n",
              "       [386.15918],\n",
              "       [382.31848],\n",
              "       [380.47742],\n",
              "       [378.33914],\n",
              "       [374.86923],\n",
              "       [371.68365],\n",
              "       [367.6811 ],\n",
              "       [363.447  ],\n",
              "       [360.1516 ],\n",
              "       [357.24673],\n",
              "       [355.945  ],\n",
              "       [357.489  ],\n",
              "       [359.83197],\n",
              "       [359.22687],\n",
              "       [359.65005],\n",
              "       [363.36295],\n",
              "       [371.7555 ],\n",
              "       [376.09854],\n",
              "       [377.3183 ],\n",
              "       [378.00977],\n",
              "       [377.28177],\n",
              "       [375.29504],\n",
              "       [377.52258],\n",
              "       [381.45102],\n",
              "       [384.38052],\n",
              "       [384.11713],\n",
              "       [383.07132],\n",
              "       [383.16986],\n",
              "       [384.6054 ],\n",
              "       [387.17612],\n",
              "       [389.4999 ],\n",
              "       [389.6256 ],\n",
              "       [388.13007],\n",
              "       [386.37775],\n",
              "       [382.7345 ],\n",
              "       [373.90344],\n",
              "       [358.82373],\n",
              "       [346.29904],\n",
              "       [340.9664 ],\n",
              "       [340.37296],\n",
              "       [343.81122],\n",
              "       [344.65613],\n",
              "       [342.39175],\n",
              "       [337.23633],\n",
              "       [331.92902],\n",
              "       [331.36417],\n",
              "       [335.92453],\n",
              "       [341.6641 ],\n",
              "       [342.52527],\n",
              "       [339.45392],\n",
              "       [335.80292],\n",
              "       [333.00327],\n",
              "       [329.76498],\n",
              "       [327.9424 ],\n",
              "       [328.45822],\n",
              "       [327.12296],\n",
              "       [319.76675],\n",
              "       [308.22757],\n",
              "       [297.363  ],\n",
              "       [289.9533 ],\n",
              "       [287.54892],\n",
              "       [287.6422 ],\n",
              "       [290.1146 ],\n",
              "       [291.67194],\n",
              "       [291.09503],\n",
              "       [288.07397],\n",
              "       [284.09326],\n",
              "       [282.36566],\n",
              "       [282.02545],\n",
              "       [283.4556 ],\n",
              "       [283.37628],\n",
              "       [281.8637 ],\n",
              "       [282.97906],\n",
              "       [284.4319 ],\n",
              "       [282.7068 ],\n",
              "       [278.88525],\n",
              "       [276.9855 ],\n",
              "       [276.49097],\n",
              "       [277.29468],\n",
              "       [275.91522],\n",
              "       [276.2788 ],\n",
              "       [279.08847],\n",
              "       [280.93765],\n",
              "       [280.1902 ],\n",
              "       [277.90036],\n",
              "       [277.07098],\n",
              "       [277.55823],\n",
              "       [278.50085],\n",
              "       [278.99698],\n",
              "       [278.7392 ],\n",
              "       [278.15387],\n",
              "       [278.77798],\n",
              "       [280.01245],\n",
              "       [280.53052],\n",
              "       [280.09286],\n",
              "       [278.13876],\n",
              "       [275.91846],\n",
              "       [276.93478],\n",
              "       [278.5522 ],\n",
              "       [279.64502],\n",
              "       [281.20157],\n",
              "       [283.84476],\n",
              "       [284.0415 ],\n",
              "       [283.37857],\n",
              "       [278.96365],\n",
              "       [274.99652],\n",
              "       [276.06766],\n",
              "       [280.75146],\n",
              "       [277.9147 ],\n",
              "       [270.80002],\n",
              "       [264.66925],\n",
              "       [263.97134],\n",
              "       [267.26453],\n",
              "       [270.53534],\n",
              "       [276.11682],\n",
              "       [282.78262],\n",
              "       [286.77524],\n",
              "       [288.98248],\n",
              "       [290.66144],\n",
              "       [292.00366],\n",
              "       [293.63263],\n",
              "       [295.55542],\n",
              "       [297.04367],\n",
              "       [297.2046 ],\n",
              "       [296.2629 ],\n",
              "       [293.9219 ],\n",
              "       [291.8123 ],\n",
              "       [290.6294 ],\n",
              "       [291.19525],\n",
              "       [291.13013],\n",
              "       [290.77896],\n",
              "       [290.7615 ],\n",
              "       [290.43164],\n",
              "       [291.41284],\n",
              "       [290.95087],\n",
              "       [292.4485 ],\n",
              "       [294.35834],\n",
              "       [297.44955],\n",
              "       [300.05167],\n",
              "       [302.61343]], dtype=float32)"
            ]
          },
          "metadata": {},
          "execution_count": 36
        }
      ]
    },
    {
      "cell_type": "code",
      "source": [
        "len(y_train), len(predictions)"
      ],
      "metadata": {
        "colab": {
          "base_uri": "https://localhost:8080/"
        },
        "id": "vqCdT8GY_LV_",
        "outputId": "0af4e01d-310d-4180-ed6f-942942449ea3"
      },
      "execution_count": 37,
      "outputs": [
        {
          "output_type": "execute_result",
          "data": {
            "text/plain": [
              "(1550, 400)"
            ]
          },
          "metadata": {},
          "execution_count": 37
        }
      ]
    },
    {
      "cell_type": "code",
      "source": [
        "## visualize\n",
        "fig, ax = plt.subplots(figsize=(10,8))\n",
        "plt.plot(data, color='red', label='Original StockPrice')\n",
        "ax.plot(range(len(y_train)+50, len(y_train)+50+len(predictions)),predictions, color='blue', label='Predictions')\n",
        "plt.legend()\n",
        "print(range(len(y_train)+50, len(y_train)+50+len(predictions)))"
      ],
      "metadata": {
        "colab": {
          "base_uri": "https://localhost:8080/",
          "height": 500
        },
        "id": "xlAdVjcUBKF9",
        "outputId": "d6f40176-ad07-48df-dbc3-c27763ec21d4"
      },
      "execution_count": 38,
      "outputs": [
        {
          "output_type": "stream",
          "name": "stdout",
          "text": [
            "range(1600, 2000)\n"
          ]
        },
        {
          "output_type": "display_data",
          "data": {
            "text/plain": [
              "<Figure size 720x576 with 1 Axes>"
            ],
            "image/png": "[encoded data removed]"
          },
          "metadata": {
            "needs_background": "light"
          }
        }
      ]
    },
    {
      "cell_type": "code",
      "source": [
        "y_test_scaled = scaler.inverse_transform(y_test.reshape(-1,1))\n",
        "\n",
        "## visualize\n",
        "fig, ax = plt.subplots(figsize=(10,8))\n",
        "plt.plot(y_test_scaled, color='red', label='True Stock Price Value')\n",
        "ax.plot(predictions, color='blue', label='Predictions')\n",
        "plt.legend();"
      ],
      "metadata": {
        "colab": {
          "base_uri": "https://localhost:8080/",
          "height": 483
        },
        "id": "hcrmjUCxBKY4",
        "outputId": "f26df36d-42b0-4a0d-b5ef-6509d9244e48"
      },
      "execution_count": 39,
      "outputs": [
        {
          "output_type": "display_data",
          "data": {
            "text/plain": [
              "<Figure size 720x576 with 1 Axes>"
            ],
            "image/png": "[encoded data removed]"
          },
          "metadata": {
            "needs_background": "light"
          }
        }
      ]
    },
    {
      "cell_type": "code",
      "source": [
        ""
      ],
      "metadata": {
        "id": "PgQSh1AAFJSC"
      },
      "execution_count": null,
      "outputs": []
    }
  ],
  "metadata": {
    "colab": {
      "collapsed_sections": [],
      "name": "LSTM Stock Price Prediction.ipynb",
      "provenance": [],
      "authorship_tag": "ABX9TyOOoqnkbavp0IksX5vXXHQJ",
      "include_colab_link": true
    },
    "kernelspec": {
      "display_name": "Python 3",
      "name": "python3"
    },
    "language_info": {
      "name": "python"
    }
  },
  "nbformat": 4,
  "nbformat_minor": 0
}