{
  "cells": [
    {
      "cell_type": "markdown",
      "metadata": {
        "id": "view-in-github",
        "colab_type": "text"
      },
      "source": [
        "<a href=\"https://colab.research.google.com/github/kiran-bhandari16/LSTM-Stock-Price-Prediciton/blob/main/LSTM_Stock_Price_Prediction.ipynb\" target=\"_parent\"><img src=\"https://colab.research.google.com/assets/colab-badge.svg\" alt=\"Open In Colab\"/></a>"
      ]
    },
    {
      "cell_type": "markdown",
      "metadata": {
        "id": "g0n3sblCbpZl"
      },
      "source": [
        "**Importing Libraries**"
      ]
    },
    {
      "cell_type": "code",
      "execution_count": 1,
      "metadata": {
        "id": "zZVydFGFdUWk"
      },
      "outputs": [],
      "source": [
        "# !pip install tensorflow"
      ]
    },
    {
      "cell_type": "code",
      "execution_count": 2,
      "metadata": {
        "id": "-nGRYyV7bsk2"
      },
      "outputs": [],
      "source": [
        "import numpy as np\n",
        "import pandas as pd\n",
        "import matplotlib.pyplot as plt\n",
        "%matplotlib inline\n",
        "\n",
        "from sklearn.preprocessing import MinMaxScaler\n",
        "from tensorflow.keras.models import Sequential, load_model\n",
        "from tensorflow.keras.layers import LSTM, Dense, Dropout\n",
        "import os\n",
        "import tensorflow as tf"
      ]
    },
    {
      "cell_type": "code",
      "execution_count": 53,
      "metadata": {
        "id": "jMXqSc7JdEYG"
      },
      "outputs": [],
      "source": [
        "# from google.colab import files\n",
        "# uploaded = files.upload()"
      ]
    },
    {
      "cell_type": "code",
      "execution_count": 5,
      "metadata": {
        "colab": {
          "base_uri": "https://localhost:8080/",
          "height": 206
        },
        "id": "b4iPDKoGdSCm",
        "outputId": "ffcd4a22-6299-47ed-ac7d-fa122718e5e4"
      },
      "outputs": [
        {
          "output_type": "execute_result",
          "data": {
            "text/plain": [
              "   S.N.        Date    Open    High     Low     Ltp  % Change        Qty  \\\n",
              "0     1  2022-06-29  318.90  318.90  310.00  315.00      0.64  19,455.00   \n",
              "1     2  2022-06-28  312.00  316.50  306.00  313.00      0.32  18,396.00   \n",
              "2     3  2022-06-27  322.00  325.00  310.00  312.00     -2.50  35,290.00   \n",
              "3     4  2022-06-26  312.90  320.00  308.00  320.00      4.23  90,805.00   \n",
              "4     5  2022-06-24  305.00  310.00  298.20  307.00     -0.97  83,733.00   \n",
              "\n",
              "        Turnover  \n",
              "0   6,127,716.20  \n",
              "1   5,707,986.70  \n",
              "2  11,125,995.50  \n",
              "3  28,577,745.10  \n",
              "4  25,399,389.80  "
            ],
            "text/html": [
              "\n",
              "  <div id=\"df-d0cef6c5-b262-4935-b538-e9c849ee75b0\">\n",
              "    <div class=\"colab-df-container\">\n",
              "      <div>\n",
              "<style scoped>\n",
              "    .dataframe tbody tr th:only-of-type {\n",
              "        vertical-align: middle;\n",
              "    }\n",
              "\n",
              "    .dataframe tbody tr th {\n",
              "        vertical-align: top;\n",
              "    }\n",
              "\n",
              "    .dataframe thead th {\n",
              "        text-align: right;\n",
              "    }\n",
              "</style>\n",
              "<table border=\"1\" class=\"dataframe\">\n",
              "  <thead>\n",
              "    <tr style=\"text-align: right;\">\n",
              "      <th></th>\n",
              "      <th>S.N.</th>\n",
              "      <th>Date</th>\n",
              "      <th>Open</th>\n",
              "      <th>High</th>\n",
              "      <th>Low</th>\n",
              "      <th>Ltp</th>\n",
              "      <th>% Change</th>\n",
              "      <th>Qty</th>\n",
              "      <th>Turnover</th>\n",
              "    </tr>\n",
              "  </thead>\n",
              "  <tbody>\n",
              "    <tr>\n",
              "      <th>0</th>\n",
              "      <td>1</td>\n",
              "      <td>2022-06-29</td>\n",
              "      <td>318.90</td>\n",
              "      <td>318.90</td>\n",
              "      <td>310.00</td>\n",
              "      <td>315.00</td>\n",
              "      <td>0.64</td>\n",
              "      <td>19,455.00</td>\n",
              "      <td>6,127,716.20</td>\n",
              "    </tr>\n",
              "    <tr>\n",
              "      <th>1</th>\n",
              "      <td>2</td>\n",
              "      <td>2022-06-28</td>\n",
              "      <td>312.00</td>\n",
              "      <td>316.50</td>\n",
              "      <td>306.00</td>\n",
              "      <td>313.00</td>\n",
              "      <td>0.32</td>\n",
              "      <td>18,396.00</td>\n",
              "      <td>5,707,986.70</td>\n",
              "    </tr>\n",
              "    <tr>\n",
              "      <th>2</th>\n",
              "      <td>3</td>\n",
              "      <td>2022-06-27</td>\n",
              "      <td>322.00</td>\n",
              "      <td>325.00</td>\n",
              "      <td>310.00</td>\n",
              "      <td>312.00</td>\n",
              "      <td>-2.50</td>\n",
              "      <td>35,290.00</td>\n",
              "      <td>11,125,995.50</td>\n",
              "    </tr>\n",
              "    <tr>\n",
              "      <th>3</th>\n",
              "      <td>4</td>\n",
              "      <td>2022-06-26</td>\n",
              "      <td>312.90</td>\n",
              "      <td>320.00</td>\n",
              "      <td>308.00</td>\n",
              "      <td>320.00</td>\n",
              "      <td>4.23</td>\n",
              "      <td>90,805.00</td>\n",
              "      <td>28,577,745.10</td>\n",
              "    </tr>\n",
              "    <tr>\n",
              "      <th>4</th>\n",
              "      <td>5</td>\n",
              "      <td>2022-06-24</td>\n",
              "      <td>305.00</td>\n",
              "      <td>310.00</td>\n",
              "      <td>298.20</td>\n",
              "      <td>307.00</td>\n",
              "      <td>-0.97</td>\n",
              "      <td>83,733.00</td>\n",
              "      <td>25,399,389.80</td>\n",
              "    </tr>\n",
              "  </tbody>\n",
              "</table>\n",
              "</div>\n",
              "      <button class=\"colab-df-convert\" onclick=\"convertToInteractive('df-d0cef6c5-b262-4935-b538-e9c849ee75b0')\"\n",
              "              title=\"Convert this dataframe to an interactive table.\"\n",
              "              style=\"display:none;\">\n",
              "        \n",
              "  <svg xmlns=\"http://www.w3.org/2000/svg\" height=\"24px\"viewBox=\"0 0 24 24\"\n",
              "       width=\"24px\">\n",
              "    <path d=\"M0 0h24v24H0V0z\" fill=\"none\"/>\n",
              "    <path d=\"M18.56 5.44l.94 2.06.94-2.06 2.06-.94-2.06-.94-.94-2.06-.94 2.06-2.06.94zm-11 1L8.5 8.5l.94-2.06 2.06-.94-2.06-.94L8.5 2.5l-.94 2.06-2.06.94zm10 10l.94 2.06.94-2.06 2.06-.94-2.06-.94-.94-2.06-.94 2.06-2.06.94z\"/><path d=\"M17.41 7.96l-1.37-1.37c-.4-.4-.92-.59-1.43-.59-.52 0-1.04.2-1.43.59L10.3 9.45l-7.72 7.72c-.78.78-.78 2.05 0 2.83L4 21.41c.39.39.9.59 1.41.59.51 0 1.02-.2 1.41-.59l7.78-7.78 2.81-2.81c.8-.78.8-2.07 0-2.86zM5.41 20L4 18.59l7.72-7.72 1.47 1.35L5.41 20z\"/>\n",
              "  </svg>\n",
              "      </button>\n",
              "      \n",
              "  <style>\n",
              "    .colab-df-container {\n",
              "      display:flex;\n",
              "      flex-wrap:wrap;\n",
              "      gap: 12px;\n",
              "    }\n",
              "\n",
              "    .colab-df-convert {\n",
              "      background-color: #E8F0FE;\n",
              "      border: none;\n",
              "      border-radius: 50%;\n",
              "      cursor: pointer;\n",
              "      display: none;\n",
              "      fill: #1967D2;\n",
              "      height: 32px;\n",
              "      padding: 0 0 0 0;\n",
              "      width: 32px;\n",
              "    }\n",
              "\n",
              "    .colab-df-convert:hover {\n",
              "      background-color: #E2EBFA;\n",
              "      box-shadow: 0px 1px 2px rgba(60, 64, 67, 0.3), 0px 1px 3px 1px rgba(60, 64, 67, 0.15);\n",
              "      fill: #174EA6;\n",
              "    }\n",
              "\n",
              "    [theme=dark] .colab-df-convert {\n",
              "      background-color: #3B4455;\n",
              "      fill: #D2E3FC;\n",
              "    }\n",
              "\n",
              "    [theme=dark] .colab-df-convert:hover {\n",
              "      background-color: #434B5C;\n",
              "      box-shadow: 0px 1px 3px 1px rgba(0, 0, 0, 0.15);\n",
              "      filter: drop-shadow(0px 1px 2px rgba(0, 0, 0, 0.3));\n",
              "      fill: #FFFFFF;\n",
              "    }\n",
              "  </style>\n",
              "\n",
              "      <script>\n",
              "        const buttonEl =\n",
              "          document.querySelector('#df-d0cef6c5-b262-4935-b538-e9c849ee75b0 button.colab-df-convert');\n",
              "        buttonEl.style.display =\n",
              "          google.colab.kernel.accessAllowed ? 'block' : 'none';\n",
              "\n",
              "        async function convertToInteractive(key) {\n",
              "          const element = document.querySelector('#df-d0cef6c5-b262-4935-b538-e9c849ee75b0');\n",
              "          const dataTable =\n",
              "            await google.colab.kernel.invokeFunction('convertToInteractive',\n",
              "                                                     [key], {});\n",
              "          if (!dataTable) return;\n",
              "\n",
              "          const docLinkHtml = 'Like what you see? Visit the ' +\n",
              "            '<a target=\"_blank\" href=https://colab.research.google.com/notebooks/data_table.ipynb>data table notebook</a>'\n",
              "            + ' to learn more about interactive tables.';\n",
              "          element.innerHTML = '';\n",
              "          dataTable['output_type'] = 'display_data';\n",
              "          await google.colab.output.renderOutput(dataTable, element);\n",
              "          const docLink = document.createElement('div');\n",
              "          docLink.innerHTML = docLinkHtml;\n",
              "          element.appendChild(docLink);\n",
              "        }\n",
              "      </script>\n",
              "    </div>\n",
              "  </div>\n",
              "  "
            ]
          },
          "metadata": {},
          "execution_count": 5
        }
      ],
      "source": [
        "df = pd.read_csv(\"sbl_price.csv\")\n",
        "df.head()"
      ]
    },
    {
      "cell_type": "code",
      "execution_count": 7,
      "metadata": {
        "id": "Z2bzKSlwfIRk"
      },
      "outputs": [],
      "source": [
        "# df.drop('S.N.',axis=1, inplace=True)"
      ]
    },
    {
      "cell_type": "code",
      "execution_count": 8,
      "metadata": {
        "id": "0JoR4zBHgJGe"
      },
      "outputs": [],
      "source": [
        "# df.drop(['% Change','Qty'],axis=1, inplace=True)"
      ]
    },
    {
      "cell_type": "code",
      "execution_count": 9,
      "metadata": {
        "id": "w0xbtLo3hAyU"
      },
      "outputs": [],
      "source": [
        "# df.to_csv(\"updated-sbl-data.csv\", index=False)"
      ]
    },
    {
      "cell_type": "code",
      "source": [
        "df = pd.read_csv(\"updated-sbl-data.csv\")\n",
        "df.head()"
      ],
      "metadata": {
        "colab": {
          "base_uri": "https://localhost:8080/",
          "height": 206
        },
        "id": "ihmv6XKMamnX",
        "outputId": "c06e3a81-7753-4d55-d957-86d9c97db83f"
      },
      "execution_count": 54,
      "outputs": [
        {
          "output_type": "execute_result",
          "data": {
            "text/plain": [
              "         Date    Open    High     Low     Ltp       Turnover\n",
              "0  2022-06-29  318.90  318.90  310.00  315.00   6,127,716.20\n",
              "1  2022-06-28  312.00  316.50  306.00  313.00   5,707,986.70\n",
              "2  2022-06-27  322.00  325.00  310.00  312.00  11,125,995.50\n",
              "3  2022-06-26  312.90  320.00  308.00  320.00  28,577,745.10\n",
              "4  2022-06-24  305.00  310.00  298.20  307.00  25,399,389.80"
            ],
            "text/html": [
              "\n",
              "  <div id=\"df-d60553b7-f850-47c0-84f4-8b4967a96564\">\n",
              "    <div class=\"colab-df-container\">\n",
              "      <div>\n",
              "<style scoped>\n",
              "    .dataframe tbody tr th:only-of-type {\n",
              "        vertical-align: middle;\n",
              "    }\n",
              "\n",
              "    .dataframe tbody tr th {\n",
              "        vertical-align: top;\n",
              "    }\n",
              "\n",
              "    .dataframe thead th {\n",
              "        text-align: right;\n",
              "    }\n",
              "</style>\n",
              "<table border=\"1\" class=\"dataframe\">\n",
              "  <thead>\n",
              "    <tr style=\"text-align: right;\">\n",
              "      <th></th>\n",
              "      <th>Date</th>\n",
              "      <th>Open</th>\n",
              "      <th>High</th>\n",
              "      <th>Low</th>\n",
              "      <th>Ltp</th>\n",
              "      <th>Turnover</th>\n",
              "    </tr>\n",
              "  </thead>\n",
              "  <tbody>\n",
              "    <tr>\n",
              "      <th>0</th>\n",
              "      <td>2022-06-29</td>\n",
              "      <td>318.90</td>\n",
              "      <td>318.90</td>\n",
              "      <td>310.00</td>\n",
              "      <td>315.00</td>\n",
              "      <td>6,127,716.20</td>\n",
              "    </tr>\n",
              "    <tr>\n",
              "      <th>1</th>\n",
              "      <td>2022-06-28</td>\n",
              "      <td>312.00</td>\n",
              "      <td>316.50</td>\n",
              "      <td>306.00</td>\n",
              "      <td>313.00</td>\n",
              "      <td>5,707,986.70</td>\n",
              "    </tr>\n",
              "    <tr>\n",
              "      <th>2</th>\n",
              "      <td>2022-06-27</td>\n",
              "      <td>322.00</td>\n",
              "      <td>325.00</td>\n",
              "      <td>310.00</td>\n",
              "      <td>312.00</td>\n",
              "      <td>11,125,995.50</td>\n",
              "    </tr>\n",
              "    <tr>\n",
              "      <th>3</th>\n",
              "      <td>2022-06-26</td>\n",
              "      <td>312.90</td>\n",
              "      <td>320.00</td>\n",
              "      <td>308.00</td>\n",
              "      <td>320.00</td>\n",
              "      <td>28,577,745.10</td>\n",
              "    </tr>\n",
              "    <tr>\n",
              "      <th>4</th>\n",
              "      <td>2022-06-24</td>\n",
              "      <td>305.00</td>\n",
              "      <td>310.00</td>\n",
              "      <td>298.20</td>\n",
              "      <td>307.00</td>\n",
              "      <td>25,399,389.80</td>\n",
              "    </tr>\n",
              "  </tbody>\n",
              "</table>\n",
              "</div>\n",
              "      <button class=\"colab-df-convert\" onclick=\"convertToInteractive('df-d60553b7-f850-47c0-84f4-8b4967a96564')\"\n",
              "              title=\"Convert this dataframe to an interactive table.\"\n",
              "              style=\"display:none;\">\n",
              "        \n",
              "  <svg xmlns=\"http://www.w3.org/2000/svg\" height=\"24px\"viewBox=\"0 0 24 24\"\n",
              "       width=\"24px\">\n",
              "    <path d=\"M0 0h24v24H0V0z\" fill=\"none\"/>\n",
              "    <path d=\"M18.56 5.44l.94 2.06.94-2.06 2.06-.94-2.06-.94-.94-2.06-.94 2.06-2.06.94zm-11 1L8.5 8.5l.94-2.06 2.06-.94-2.06-.94L8.5 2.5l-.94 2.06-2.06.94zm10 10l.94 2.06.94-2.06 2.06-.94-2.06-.94-.94-2.06-.94 2.06-2.06.94z\"/><path d=\"M17.41 7.96l-1.37-1.37c-.4-.4-.92-.59-1.43-.59-.52 0-1.04.2-1.43.59L10.3 9.45l-7.72 7.72c-.78.78-.78 2.05 0 2.83L4 21.41c.39.39.9.59 1.41.59.51 0 1.02-.2 1.41-.59l7.78-7.78 2.81-2.81c.8-.78.8-2.07 0-2.86zM5.41 20L4 18.59l7.72-7.72 1.47 1.35L5.41 20z\"/>\n",
              "  </svg>\n",
              "      </button>\n",
              "      \n",
              "  <style>\n",
              "    .colab-df-container {\n",
              "      display:flex;\n",
              "      flex-wrap:wrap;\n",
              "      gap: 12px;\n",
              "    }\n",
              "\n",
              "    .colab-df-convert {\n",
              "      background-color: #E8F0FE;\n",
              "      border: none;\n",
              "      border-radius: 50%;\n",
              "      cursor: pointer;\n",
              "      display: none;\n",
              "      fill: #1967D2;\n",
              "      height: 32px;\n",
              "      padding: 0 0 0 0;\n",
              "      width: 32px;\n",
              "    }\n",
              "\n",
              "    .colab-df-convert:hover {\n",
              "      background-color: #E2EBFA;\n",
              "      box-shadow: 0px 1px 2px rgba(60, 64, 67, 0.3), 0px 1px 3px 1px rgba(60, 64, 67, 0.15);\n",
              "      fill: #174EA6;\n",
              "    }\n",
              "\n",
              "    [theme=dark] .colab-df-convert {\n",
              "      background-color: #3B4455;\n",
              "      fill: #D2E3FC;\n",
              "    }\n",
              "\n",
              "    [theme=dark] .colab-df-convert:hover {\n",
              "      background-color: #434B5C;\n",
              "      box-shadow: 0px 1px 3px 1px rgba(0, 0, 0, 0.15);\n",
              "      filter: drop-shadow(0px 1px 2px rgba(0, 0, 0, 0.3));\n",
              "      fill: #FFFFFF;\n",
              "    }\n",
              "  </style>\n",
              "\n",
              "      <script>\n",
              "        const buttonEl =\n",
              "          document.querySelector('#df-d60553b7-f850-47c0-84f4-8b4967a96564 button.colab-df-convert');\n",
              "        buttonEl.style.display =\n",
              "          google.colab.kernel.accessAllowed ? 'block' : 'none';\n",
              "\n",
              "        async function convertToInteractive(key) {\n",
              "          const element = document.querySelector('#df-d60553b7-f850-47c0-84f4-8b4967a96564');\n",
              "          const dataTable =\n",
              "            await google.colab.kernel.invokeFunction('convertToInteractive',\n",
              "                                                     [key], {});\n",
              "          if (!dataTable) return;\n",
              "\n",
              "          const docLinkHtml = 'Like what you see? Visit the ' +\n",
              "            '<a target=\"_blank\" href=https://colab.research.google.com/notebooks/data_table.ipynb>data table notebook</a>'\n",
              "            + ' to learn more about interactive tables.';\n",
              "          element.innerHTML = '';\n",
              "          dataTable['output_type'] = 'display_data';\n",
              "          await google.colab.output.renderOutput(dataTable, element);\n",
              "          const docLink = document.createElement('div');\n",
              "          docLink.innerHTML = docLinkHtml;\n",
              "          element.appendChild(docLink);\n",
              "        }\n",
              "      </script>\n",
              "    </div>\n",
              "  </div>\n",
              "  "
            ]
          },
          "metadata": {},
          "execution_count": 54
        }
      ]
    },
    {
      "cell_type": "markdown",
      "metadata": {
        "id": "xF_vVPrfmVqh"
      },
      "source": [
        "**Exploring the dataset**"
      ]
    },
    {
      "cell_type": "code",
      "execution_count": 55,
      "metadata": {
        "colab": {
          "base_uri": "https://localhost:8080/",
          "height": 455
        },
        "id": "hB1g9zhgnM7g",
        "outputId": "67d26b27-a756-4e8d-f2d9-4fcbd91518de"
      },
      "outputs": [
        {
          "output_type": "execute_result",
          "data": {
            "text/plain": [
              "              High     Low     Ltp\n",
              "Date                              \n",
              "2022-06-29  318.90  310.00  315.00\n",
              "2022-06-28  316.50  306.00  313.00\n",
              "2022-06-27  325.00  310.00  312.00\n",
              "2022-06-26  320.00  308.00  320.00\n",
              "2022-06-24  310.00  298.20  307.00\n",
              "...            ...     ...     ...\n",
              "2013-03-21  311.00  303.00  308.00\n",
              "2013-03-20  312.00  306.00  306.00\n",
              "2013-03-19  312.00  309.00  312.00\n",
              "2013-03-18  317.00  305.00  311.00\n",
              "2013-03-17  320.00  310.00  315.00\n",
              "\n",
              "[2000 rows x 3 columns]"
            ],
            "text/html": [
              "\n",
              "  <div id=\"df-69d2a91d-2470-474b-bbce-3f01fea9e51c\">\n",
              "    <div class=\"colab-df-container\">\n",
              "      <div>\n",
              "<style scoped>\n",
              "    .dataframe tbody tr th:only-of-type {\n",
              "        vertical-align: middle;\n",
              "    }\n",
              "\n",
              "    .dataframe tbody tr th {\n",
              "        vertical-align: top;\n",
              "    }\n",
              "\n",
              "    .dataframe thead th {\n",
              "        text-align: right;\n",
              "    }\n",
              "</style>\n",
              "<table border=\"1\" class=\"dataframe\">\n",
              "  <thead>\n",
              "    <tr style=\"text-align: right;\">\n",
              "      <th></th>\n",
              "      <th>High</th>\n",
              "      <th>Low</th>\n",
              "      <th>Ltp</th>\n",
              "    </tr>\n",
              "    <tr>\n",
              "      <th>Date</th>\n",
              "      <th></th>\n",
              "      <th></th>\n",
              "      <th></th>\n",
              "    </tr>\n",
              "  </thead>\n",
              "  <tbody>\n",
              "    <tr>\n",
              "      <th>2022-06-29</th>\n",
              "      <td>318.90</td>\n",
              "      <td>310.00</td>\n",
              "      <td>315.00</td>\n",
              "    </tr>\n",
              "    <tr>\n",
              "      <th>2022-06-28</th>\n",
              "      <td>316.50</td>\n",
              "      <td>306.00</td>\n",
              "      <td>313.00</td>\n",
              "    </tr>\n",
              "    <tr>\n",
              "      <th>2022-06-27</th>\n",
              "      <td>325.00</td>\n",
              "      <td>310.00</td>\n",
              "      <td>312.00</td>\n",
              "    </tr>\n",
              "    <tr>\n",
              "      <th>2022-06-26</th>\n",
              "      <td>320.00</td>\n",
              "      <td>308.00</td>\n",
              "      <td>320.00</td>\n",
              "    </tr>\n",
              "    <tr>\n",
              "      <th>2022-06-24</th>\n",
              "      <td>310.00</td>\n",
              "      <td>298.20</td>\n",
              "      <td>307.00</td>\n",
              "    </tr>\n",
              "    <tr>\n",
              "      <th>...</th>\n",
              "      <td>...</td>\n",
              "      <td>...</td>\n",
              "      <td>...</td>\n",
              "    </tr>\n",
              "    <tr>\n",
              "      <th>2013-03-21</th>\n",
              "      <td>311.00</td>\n",
              "      <td>303.00</td>\n",
              "      <td>308.00</td>\n",
              "    </tr>\n",
              "    <tr>\n",
              "      <th>2013-03-20</th>\n",
              "      <td>312.00</td>\n",
              "      <td>306.00</td>\n",
              "      <td>306.00</td>\n",
              "    </tr>\n",
              "    <tr>\n",
              "      <th>2013-03-19</th>\n",
              "      <td>312.00</td>\n",
              "      <td>309.00</td>\n",
              "      <td>312.00</td>\n",
              "    </tr>\n",
              "    <tr>\n",
              "      <th>2013-03-18</th>\n",
              "      <td>317.00</td>\n",
              "      <td>305.00</td>\n",
              "      <td>311.00</td>\n",
              "    </tr>\n",
              "    <tr>\n",
              "      <th>2013-03-17</th>\n",
              "      <td>320.00</td>\n",
              "      <td>310.00</td>\n",
              "      <td>315.00</td>\n",
              "    </tr>\n",
              "  </tbody>\n",
              "</table>\n",
              "<p>2000 rows × 3 columns</p>\n",
              "</div>\n",
              "      <button class=\"colab-df-convert\" onclick=\"convertToInteractive('df-69d2a91d-2470-474b-bbce-3f01fea9e51c')\"\n",
              "              title=\"Convert this dataframe to an interactive table.\"\n",
              "              style=\"display:none;\">\n",
              "        \n",
              "  <svg xmlns=\"http://www.w3.org/2000/svg\" height=\"24px\"viewBox=\"0 0 24 24\"\n",
              "       width=\"24px\">\n",
              "    <path d=\"M0 0h24v24H0V0z\" fill=\"none\"/>\n",
              "    <path d=\"M18.56 5.44l.94 2.06.94-2.06 2.06-.94-2.06-.94-.94-2.06-.94 2.06-2.06.94zm-11 1L8.5 8.5l.94-2.06 2.06-.94-2.06-.94L8.5 2.5l-.94 2.06-2.06.94zm10 10l.94 2.06.94-2.06 2.06-.94-2.06-.94-.94-2.06-.94 2.06-2.06.94z\"/><path d=\"M17.41 7.96l-1.37-1.37c-.4-.4-.92-.59-1.43-.59-.52 0-1.04.2-1.43.59L10.3 9.45l-7.72 7.72c-.78.78-.78 2.05 0 2.83L4 21.41c.39.39.9.59 1.41.59.51 0 1.02-.2 1.41-.59l7.78-7.78 2.81-2.81c.8-.78.8-2.07 0-2.86zM5.41 20L4 18.59l7.72-7.72 1.47 1.35L5.41 20z\"/>\n",
              "  </svg>\n",
              "      </button>\n",
              "      \n",
              "  <style>\n",
              "    .colab-df-container {\n",
              "      display:flex;\n",
              "      flex-wrap:wrap;\n",
              "      gap: 12px;\n",
              "    }\n",
              "\n",
              "    .colab-df-convert {\n",
              "      background-color: #E8F0FE;\n",
              "      border: none;\n",
              "      border-radius: 50%;\n",
              "      cursor: pointer;\n",
              "      display: none;\n",
              "      fill: #1967D2;\n",
              "      height: 32px;\n",
              "      padding: 0 0 0 0;\n",
              "      width: 32px;\n",
              "    }\n",
              "\n",
              "    .colab-df-convert:hover {\n",
              "      background-color: #E2EBFA;\n",
              "      box-shadow: 0px 1px 2px rgba(60, 64, 67, 0.3), 0px 1px 3px 1px rgba(60, 64, 67, 0.15);\n",
              "      fill: #174EA6;\n",
              "    }\n",
              "\n",
              "    [theme=dark] .colab-df-convert {\n",
              "      background-color: #3B4455;\n",
              "      fill: #D2E3FC;\n",
              "    }\n",
              "\n",
              "    [theme=dark] .colab-df-convert:hover {\n",
              "      background-color: #434B5C;\n",
              "      box-shadow: 0px 1px 3px 1px rgba(0, 0, 0, 0.15);\n",
              "      filter: drop-shadow(0px 1px 2px rgba(0, 0, 0, 0.3));\n",
              "      fill: #FFFFFF;\n",
              "    }\n",
              "  </style>\n",
              "\n",
              "      <script>\n",
              "        const buttonEl =\n",
              "          document.querySelector('#df-69d2a91d-2470-474b-bbce-3f01fea9e51c button.colab-df-convert');\n",
              "        buttonEl.style.display =\n",
              "          google.colab.kernel.accessAllowed ? 'block' : 'none';\n",
              "\n",
              "        async function convertToInteractive(key) {\n",
              "          const element = document.querySelector('#df-69d2a91d-2470-474b-bbce-3f01fea9e51c');\n",
              "          const dataTable =\n",
              "            await google.colab.kernel.invokeFunction('convertToInteractive',\n",
              "                                                     [key], {});\n",
              "          if (!dataTable) return;\n",
              "\n",
              "          const docLinkHtml = 'Like what you see? Visit the ' +\n",
              "            '<a target=\"_blank\" href=https://colab.research.google.com/notebooks/data_table.ipynb>data table notebook</a>'\n",
              "            + ' to learn more about interactive tables.';\n",
              "          element.innerHTML = '';\n",
              "          dataTable['output_type'] = 'display_data';\n",
              "          await google.colab.output.renderOutput(dataTable, element);\n",
              "          const docLink = document.createElement('div');\n",
              "          docLink.innerHTML = docLinkHtml;\n",
              "          element.appendChild(docLink);\n",
              "        }\n",
              "      </script>\n",
              "    </div>\n",
              "  </div>\n",
              "  "
            ]
          },
          "metadata": {},
          "execution_count": 55
        }
      ],
      "source": [
        "m = df.set_index(\"Date\",drop=True)\n",
        "m = m[[\"High\",\"Low\",\"Ltp\"]]\n",
        "m"
      ]
    },
    {
      "cell_type": "code",
      "execution_count": 56,
      "metadata": {
        "id": "ER2a7EAQuVk6"
      },
      "outputs": [],
      "source": [
        "df[\"Low\"] = df[\"Low\"].str.replace(\",\",\"\")\n",
        "low = df[\"Low\"].apply(lambda x: float(x))"
      ]
    },
    {
      "cell_type": "code",
      "execution_count": 57,
      "metadata": {
        "id": "Y35DgEC1uV6Q"
      },
      "outputs": [],
      "source": [
        "df[\"High\"] = df[\"High\"].str.replace(\",\",\"\")\n",
        "high = df[\"High\"].apply(lambda x: float(x))"
      ]
    },
    {
      "cell_type": "code",
      "source": [
        "df[\"Open\"] = df[\"Open\"].str.replace(\",\",\"\")\n",
        "open = df[\"Open\"].apply(lambda x: float(x))"
      ],
      "metadata": {
        "id": "WGRoUkWZbH5J"
      },
      "execution_count": 58,
      "outputs": []
    },
    {
      "cell_type": "code",
      "source": [
        "df[\"Ltp\"] = df[\"Ltp\"].str.replace(\",\",\"\")\n",
        "ltp = df[\"Ltp\"].apply(lambda x: float(x))"
      ],
      "metadata": {
        "id": "TPoH2SOajqMn"
      },
      "execution_count": 68,
      "outputs": []
    },
    {
      "cell_type": "markdown",
      "source": [
        "**Data Visualization**"
      ],
      "metadata": {
        "id": "b2WBjFqQbwAz"
      }
    },
    {
      "cell_type": "code",
      "execution_count": 59,
      "metadata": {
        "colab": {
          "base_uri": "https://localhost:8080/",
          "height": 613
        },
        "id": "8gtn-g5uru83",
        "outputId": "71491a5d-1566-4856-afc2-4b31b06df8d6"
      },
      "outputs": [
        {
          "output_type": "display_data",
          "data": {
            "text/plain": [
              "<Figure size 1296x648 with 1 Axes>"
            ],
            "image/png": "[encoded data removed]"
          },
          "metadata": {
            "needs_background": "light"
          }
        }
      ],
      "source": [
        "plt.figure(figsize = (18,9))\n",
        "plt.plot(range(df.shape[0]),(low + high)/2.0)\n",
        "plt.xticks(range(0,df.shape[0],50),df['Date'].loc[::50],rotation=45)\n",
        "plt.title(\"High and Low Average Value\")\n",
        "plt.xlabel('Date',fontsize=18)\n",
        "plt.ylabel('Avg Price',fontsize=18)\n",
        "plt.show()"
      ]
    },
    {
      "cell_type": "code",
      "source": [
        "# data = df.set_index(\"Date\",drop=True)\n",
        "# data = data[[\"Open\",\"High\",\"Low\",\"Ltp\",\"Turnover\"]]\n",
        "# data"
      ],
      "metadata": {
        "id": "OdTR_4Pjh68o"
      },
      "execution_count": 84,
      "outputs": []
    },
    {
      "cell_type": "code",
      "source": [
        "## Data Visualization\n",
        "plt.figure(figsize=(16,8))\n",
        "plt.title(\"Opening Price History\")\n",
        "plt.plot(range(df.shape[0]),(open))\n",
        "plt.xticks(range(0,df.shape[0],50),df['Date'].loc[::50],rotation=45)\n",
        "plt.xlabel(\"Date\", fontsize=18)\n",
        "plt.ylabel(\"Opening Price (Rs.)\", fontsize=18)\n",
        "plt.show()"
      ],
      "metadata": {
        "colab": {
          "base_uri": "https://localhost:8080/",
          "height": 559
        },
        "id": "bDYbqF95kpNE",
        "outputId": "9e322e55-33bb-4687-cb3e-4b8390191261"
      },
      "execution_count": 85,
      "outputs": [
        {
          "output_type": "display_data",
          "data": {
            "text/plain": [
              "<Figure size 1152x576 with 1 Axes>"
            ],
            "image/png": "[encoded data removed]"
          },
          "metadata": {
            "needs_background": "light"
          }
        }
      ]
    },
    {
      "cell_type": "code",
      "source": [
        "# ## Data Visualization\n",
        "# plt.figure(figsize=(16,8))\n",
        "# plt.title(\"Last Trading Price History\")\n",
        "# plt.plot(range(data.shape[0]),(ltp)/2.0)\n",
        "# plt.xticks(range(0,df.shape[0],50),df['Date'].loc[::50],rotation=45)\n",
        "# plt.xlabel(\"Date\", fontsize=18)\n",
        "# plt.ylabel(\"Last Trading Price (Rs.)\", fontsize=18)\n",
        "# plt.show()"
      ],
      "metadata": {
        "id": "yrRmhO-Qe2o4"
      },
      "execution_count": 83,
      "outputs": []
    },
    {
      "cell_type": "code",
      "source": [
        "## creating a new dataframe with one \"Open\" column\n",
        "data = df.filter([\"Open\"])\n",
        "data"
      ],
      "metadata": {
        "colab": {
          "base_uri": "https://localhost:8080/",
          "height": 424
        },
        "id": "IuJtwJZomeI3",
        "outputId": "d5f43327-ce20-4ad6-f1af-2aa6ec4909f2"
      },
      "execution_count": 89,
      "outputs": [
        {
          "output_type": "execute_result",
          "data": {
            "text/plain": [
              "        Open\n",
              "0     318.90\n",
              "1     312.00\n",
              "2     322.00\n",
              "3     312.90\n",
              "4     305.00\n",
              "...      ...\n",
              "1995  306.00\n",
              "1996  312.00\n",
              "1997  311.00\n",
              "1998  315.00\n",
              "1999  321.00\n",
              "\n",
              "[2000 rows x 1 columns]"
            ],
            "text/html": [
              "\n",
              "  <div id=\"df-e3ff1b08-88f9-4a4b-9449-b34e243a4d42\">\n",
              "    <div class=\"colab-df-container\">\n",
              "      <div>\n",
              "<style scoped>\n",
              "    .dataframe tbody tr th:only-of-type {\n",
              "        vertical-align: middle;\n",
              "    }\n",
              "\n",
              "    .dataframe tbody tr th {\n",
              "        vertical-align: top;\n",
              "    }\n",
              "\n",
              "    .dataframe thead th {\n",
              "        text-align: right;\n",
              "    }\n",
              "</style>\n",
              "<table border=\"1\" class=\"dataframe\">\n",
              "  <thead>\n",
              "    <tr style=\"text-align: right;\">\n",
              "      <th></th>\n",
              "      <th>Open</th>\n",
              "    </tr>\n",
              "  </thead>\n",
              "  <tbody>\n",
              "    <tr>\n",
              "      <th>0</th>\n",
              "      <td>318.90</td>\n",
              "    </tr>\n",
              "    <tr>\n",
              "      <th>1</th>\n",
              "      <td>312.00</td>\n",
              "    </tr>\n",
              "    <tr>\n",
              "      <th>2</th>\n",
              "      <td>322.00</td>\n",
              "    </tr>\n",
              "    <tr>\n",
              "      <th>3</th>\n",
              "      <td>312.90</td>\n",
              "    </tr>\n",
              "    <tr>\n",
              "      <th>4</th>\n",
              "      <td>305.00</td>\n",
              "    </tr>\n",
              "    <tr>\n",
              "      <th>...</th>\n",
              "      <td>...</td>\n",
              "    </tr>\n",
              "    <tr>\n",
              "      <th>1995</th>\n",
              "      <td>306.00</td>\n",
              "    </tr>\n",
              "    <tr>\n",
              "      <th>1996</th>\n",
              "      <td>312.00</td>\n",
              "    </tr>\n",
              "    <tr>\n",
              "      <th>1997</th>\n",
              "      <td>311.00</td>\n",
              "    </tr>\n",
              "    <tr>\n",
              "      <th>1998</th>\n",
              "      <td>315.00</td>\n",
              "    </tr>\n",
              "    <tr>\n",
              "      <th>1999</th>\n",
              "      <td>321.00</td>\n",
              "    </tr>\n",
              "  </tbody>\n",
              "</table>\n",
              "<p>2000 rows × 1 columns</p>\n",
              "</div>\n",
              "      <button class=\"colab-df-convert\" onclick=\"convertToInteractive('df-e3ff1b08-88f9-4a4b-9449-b34e243a4d42')\"\n",
              "              title=\"Convert this dataframe to an interactive table.\"\n",
              "              style=\"display:none;\">\n",
              "        \n",
              "  <svg xmlns=\"http://www.w3.org/2000/svg\" height=\"24px\"viewBox=\"0 0 24 24\"\n",
              "       width=\"24px\">\n",
              "    <path d=\"M0 0h24v24H0V0z\" fill=\"none\"/>\n",
              "    <path d=\"M18.56 5.44l.94 2.06.94-2.06 2.06-.94-2.06-.94-.94-2.06-.94 2.06-2.06.94zm-11 1L8.5 8.5l.94-2.06 2.06-.94-2.06-.94L8.5 2.5l-.94 2.06-2.06.94zm10 10l.94 2.06.94-2.06 2.06-.94-2.06-.94-.94-2.06-.94 2.06-2.06.94z\"/><path d=\"M17.41 7.96l-1.37-1.37c-.4-.4-.92-.59-1.43-.59-.52 0-1.04.2-1.43.59L10.3 9.45l-7.72 7.72c-.78.78-.78 2.05 0 2.83L4 21.41c.39.39.9.59 1.41.59.51 0 1.02-.2 1.41-.59l7.78-7.78 2.81-2.81c.8-.78.8-2.07 0-2.86zM5.41 20L4 18.59l7.72-7.72 1.47 1.35L5.41 20z\"/>\n",
              "  </svg>\n",
              "      </button>\n",
              "      \n",
              "  <style>\n",
              "    .colab-df-container {\n",
              "      display:flex;\n",
              "      flex-wrap:wrap;\n",
              "      gap: 12px;\n",
              "    }\n",
              "\n",
              "    .colab-df-convert {\n",
              "      background-color: #E8F0FE;\n",
              "      border: none;\n",
              "      border-radius: 50%;\n",
              "      cursor: pointer;\n",
              "      display: none;\n",
              "      fill: #1967D2;\n",
              "      height: 32px;\n",
              "      padding: 0 0 0 0;\n",
              "      width: 32px;\n",
              "    }\n",
              "\n",
              "    .colab-df-convert:hover {\n",
              "      background-color: #E2EBFA;\n",
              "      box-shadow: 0px 1px 2px rgba(60, 64, 67, 0.3), 0px 1px 3px 1px rgba(60, 64, 67, 0.15);\n",
              "      fill: #174EA6;\n",
              "    }\n",
              "\n",
              "    [theme=dark] .colab-df-convert {\n",
              "      background-color: #3B4455;\n",
              "      fill: #D2E3FC;\n",
              "    }\n",
              "\n",
              "    [theme=dark] .colab-df-convert:hover {\n",
              "      background-color: #434B5C;\n",
              "      box-shadow: 0px 1px 3px 1px rgba(0, 0, 0, 0.15);\n",
              "      filter: drop-shadow(0px 1px 2px rgba(0, 0, 0, 0.3));\n",
              "      fill: #FFFFFF;\n",
              "    }\n",
              "  </style>\n",
              "\n",
              "      <script>\n",
              "        const buttonEl =\n",
              "          document.querySelector('#df-e3ff1b08-88f9-4a4b-9449-b34e243a4d42 button.colab-df-convert');\n",
              "        buttonEl.style.display =\n",
              "          google.colab.kernel.accessAllowed ? 'block' : 'none';\n",
              "\n",
              "        async function convertToInteractive(key) {\n",
              "          const element = document.querySelector('#df-e3ff1b08-88f9-4a4b-9449-b34e243a4d42');\n",
              "          const dataTable =\n",
              "            await google.colab.kernel.invokeFunction('convertToInteractive',\n",
              "                                                     [key], {});\n",
              "          if (!dataTable) return;\n",
              "\n",
              "          const docLinkHtml = 'Like what you see? Visit the ' +\n",
              "            '<a target=\"_blank\" href=https://colab.research.google.com/notebooks/data_table.ipynb>data table notebook</a>'\n",
              "            + ' to learn more about interactive tables.';\n",
              "          element.innerHTML = '';\n",
              "          dataTable['output_type'] = 'display_data';\n",
              "          await google.colab.output.renderOutput(dataTable, element);\n",
              "          const docLink = document.createElement('div');\n",
              "          docLink.innerHTML = docLinkHtml;\n",
              "          element.appendChild(docLink);\n",
              "        }\n",
              "      </script>\n",
              "    </div>\n",
              "  </div>\n",
              "  "
            ]
          },
          "metadata": {},
          "execution_count": 89
        }
      ]
    },
    {
      "cell_type": "code",
      "execution_count": 90,
      "metadata": {
        "id": "DaCYhNGosuvA",
        "colab": {
          "base_uri": "https://localhost:8080/"
        },
        "outputId": "bd157f08-d228-4f48-b2b9-8eaf15cea6ff"
      },
      "outputs": [
        {
          "output_type": "execute_result",
          "data": {
            "text/plain": [
              "(2000, 1)"
            ]
          },
          "metadata": {},
          "execution_count": 90
        }
      ],
      "source": [
        "## converting data into numpy array\n",
        "data = open.values\n",
        "data = data.reshape(-1,1)\n",
        "data.shape"
      ]
    },
    {
      "cell_type": "code",
      "source": [
        "data"
      ],
      "metadata": {
        "colab": {
          "base_uri": "https://localhost:8080/"
        },
        "id": "pLfxi6M6SF7e",
        "outputId": "d5b2ca03-20c6-4aa5-df56-985c6e76b17b"
      },
      "execution_count": 91,
      "outputs": [
        {
          "output_type": "execute_result",
          "data": {
            "text/plain": [
              "array([[318.9],\n",
              "       [312. ],\n",
              "       [322. ],\n",
              "       ...,\n",
              "       [311. ],\n",
              "       [315. ],\n",
              "       [321. ]])"
            ]
          },
          "metadata": {},
          "execution_count": 91
        }
      ]
    },
    {
      "cell_type": "code",
      "source": [
        "training = np.array(data[:int(data.shape[0]*0.8)])\n",
        "testing = np.array(data[int(data.shape[0]*0.8)-50:])"
      ],
      "metadata": {
        "id": "2iTqJfYhSqoj"
      },
      "execution_count": 93,
      "outputs": []
    },
    {
      "cell_type": "code",
      "source": [
        "training.shape, testing.shape"
      ],
      "metadata": {
        "colab": {
          "base_uri": "https://localhost:8080/"
        },
        "id": "DmlCDdsgUTjl",
        "outputId": "823f34a2-3766-47a0-e412-ad07634dd1b3"
      },
      "execution_count": 94,
      "outputs": [
        {
          "output_type": "execute_result",
          "data": {
            "text/plain": [
              "((1600, 1), (450, 1))"
            ]
          },
          "metadata": {},
          "execution_count": 94
        }
      ]
    },
    {
      "cell_type": "markdown",
      "source": [
        "**Preprocessing the dataset**"
      ],
      "metadata": {
        "id": "oakAQoVibo9j"
      }
    },
    {
      "cell_type": "code",
      "source": [
        "scaler = MinMaxScaler(feature_range=(0,1))\n",
        "train = scaler.fit_transform(training)\n",
        "train[:5]"
      ],
      "metadata": {
        "colab": {
          "base_uri": "https://localhost:8080/"
        },
        "id": "_X_DhzklUVNC",
        "outputId": "0bc7573a-c9c6-4e6e-ceae-ebf8e3083f85"
      },
      "execution_count": 105,
      "outputs": [
        {
          "output_type": "execute_result",
          "data": {
            "text/plain": [
              "array([[0.04765625],\n",
              "       [0.04166667],\n",
              "       [0.05034722],\n",
              "       [0.04244792],\n",
              "       [0.03559028]])"
            ]
          },
          "metadata": {},
          "execution_count": 105
        }
      ]
    },
    {
      "cell_type": "code",
      "source": [
        "test = scaler.transform(testing)\n",
        "test[:5]"
      ],
      "metadata": {
        "colab": {
          "base_uri": "https://localhost:8080/"
        },
        "id": "XJMkGqTCZmnm",
        "outputId": "d33c0c92-7565-45a1-c3ae-e0006125728c"
      },
      "execution_count": 106,
      "outputs": [
        {
          "output_type": "execute_result",
          "data": {
            "text/plain": [
              "array([[0.36371528],\n",
              "       [0.36631944],\n",
              "       [0.37760417],\n",
              "       [0.37847222],\n",
              "       [0.37934028]])"
            ]
          },
          "metadata": {},
          "execution_count": 106
        }
      ]
    },
    {
      "cell_type": "code",
      "source": [
        "def dataset(df):\n",
        "  x=[]\n",
        "  y=[]\n",
        "\n",
        "  for i in range(50,df.shape[0]):\n",
        "    x.append(df[i-50:i,0])\n",
        "    y.append(df[i,0])\n",
        "\n",
        "  x=np.array(x)\n",
        "  y=np.array(y)\n",
        "\n",
        "  return x,y"
      ],
      "metadata": {
        "id": "bOdi5ZBmcpds"
      },
      "execution_count": 107,
      "outputs": []
    },
    {
      "cell_type": "code",
      "source": [
        "X_train, y_train = dataset(train)\n",
        "X_train"
      ],
      "metadata": {
        "colab": {
          "base_uri": "https://localhost:8080/"
        },
        "id": "MHCtu1JOpDbz",
        "outputId": "9ac11d07-4514-45b3-c1d7-a38a23f13e24"
      },
      "execution_count": 108,
      "outputs": [
        {
          "output_type": "execute_result",
          "data": {
            "text/plain": [
              "array([[0.04765625, 0.04166667, 0.05034722, ..., 0.11041667, 0.125     ,\n",
              "        0.11458333],\n",
              "       [0.04166667, 0.05034722, 0.04244792, ..., 0.125     , 0.11458333,\n",
              "        0.11631944],\n",
              "       [0.05034722, 0.04244792, 0.03559028, ..., 0.11458333, 0.11631944,\n",
              "        0.12057292],\n",
              "       ...,\n",
              "       [0.36458333, 0.359375  , 0.36545139, ..., 0.33072917, 0.33420139,\n",
              "        0.33940972],\n",
              "       [0.359375  , 0.36545139, 0.36371528, ..., 0.33420139, 0.33940972,\n",
              "        0.32465278],\n",
              "       [0.36545139, 0.36371528, 0.36631944, ..., 0.33940972, 0.32465278,\n",
              "        0.28559028]])"
            ]
          },
          "metadata": {},
          "execution_count": 108
        }
      ]
    },
    {
      "cell_type": "code",
      "source": [
        "X_train[:1]"
      ],
      "metadata": {
        "colab": {
          "base_uri": "https://localhost:8080/"
        },
        "id": "dswt4nYmpIwZ",
        "outputId": "bf289b28-50c7-4890-ce91-54aea4c69644"
      },
      "execution_count": 109,
      "outputs": [
        {
          "output_type": "execute_result",
          "data": {
            "text/plain": [
              "array([[0.04765625, 0.04166667, 0.05034722, 0.04244792, 0.03559028,\n",
              "        0.034375  , 0.04861111, 0.0390625 , 0.0390625 , 0.04861111,\n",
              "        0.04513889, 0.04444444, 0.06119792, 0.05989583, 0.06831597,\n",
              "        0.07005208, 0.07005208, 0.06597222, 0.0703125 , 0.08333333,\n",
              "        0.09401042, 0.09548611, 0.09375   , 0.09201389, 0.10902778,\n",
              "        0.10503472, 0.11258681, 0.10902778, 0.10460069, 0.10989583,\n",
              "        0.10503472, 0.10390625, 0.11197917, 0.11111111, 0.11805556,\n",
              "        0.11371528, 0.10850694, 0.10815972, 0.10416667, 0.10069444,\n",
              "        0.11345486, 0.11284722, 0.12317708, 0.11371528, 0.11631944,\n",
              "        0.12326389, 0.1171875 , 0.11041667, 0.125     , 0.11458333]])"
            ]
          },
          "metadata": {},
          "execution_count": 109
        }
      ]
    },
    {
      "cell_type": "code",
      "source": [
        "X_train[:1].shape, X_train.shape"
      ],
      "metadata": {
        "colab": {
          "base_uri": "https://localhost:8080/"
        },
        "id": "W2nm7yqlqLkv",
        "outputId": "df76e8b6-e502-484f-e56f-f7ad322fc253"
      },
      "execution_count": 110,
      "outputs": [
        {
          "output_type": "execute_result",
          "data": {
            "text/plain": [
              "((1, 50), (1550, 50))"
            ]
          },
          "metadata": {},
          "execution_count": 110
        }
      ]
    },
    {
      "cell_type": "code",
      "source": [
        "X_test, y_test = dataset(test)\n",
        "X_test[:1]"
      ],
      "metadata": {
        "colab": {
          "base_uri": "https://localhost:8080/"
        },
        "id": "oH5w3bY0q_vc",
        "outputId": "eab839a3-80d8-4a5d-b04e-ee2251beeceb"
      },
      "execution_count": 111,
      "outputs": [
        {
          "output_type": "execute_result",
          "data": {
            "text/plain": [
              "array([[0.36371528, 0.36631944, 0.37760417, 0.37847222, 0.37934028,\n",
              "        0.37934028, 0.37760417, 0.37847222, 0.37847222, 0.38020833,\n",
              "        0.38368056, 0.37847222, 0.39583333, 0.38628472, 0.38975694,\n",
              "        0.39496528, 0.38107639, 0.38454861, 0.36979167, 0.375     ,\n",
              "        0.38541667, 0.359375  , 0.3671875 , 0.38454861, 0.35590278,\n",
              "        0.34722222, 0.34895833, 0.34895833, 0.34895833, 0.34722222,\n",
              "        0.34375   , 0.34201389, 0.33940972, 0.34809028, 0.3359375 ,\n",
              "        0.33246528, 0.33680556, 0.33333333, 0.31597222, 0.31597222,\n",
              "        0.30381944, 0.30729167, 0.31423611, 0.33072917, 0.33072917,\n",
              "        0.33420139, 0.33940972, 0.32465278, 0.28559028, 0.265625  ]])"
            ]
          },
          "metadata": {},
          "execution_count": 111
        }
      ]
    },
    {
      "cell_type": "code",
      "source": [
        "X_train = np.reshape(X_train,(X_train.shape[0], X_train.shape[1], 1))\n",
        "X_test = np.reshape(X_test,(X_test.shape[0], X_test.shape[1], 1))\n",
        "X_train.shape, X_test.shape"
      ],
      "metadata": {
        "colab": {
          "base_uri": "https://localhost:8080/"
        },
        "id": "sTCwj9I-1wlx",
        "outputId": "89d4e8a0-d07b-4379-f243-e39c9415cd52"
      },
      "execution_count": 117,
      "outputs": [
        {
          "output_type": "execute_result",
          "data": {
            "text/plain": [
              "((1550, 50, 1), (400, 50, 1))"
            ]
          },
          "metadata": {},
          "execution_count": 117
        }
      ]
    },
    {
      "cell_type": "code",
      "source": [
        "## Training the network\n",
        "model = Sequential()\n",
        "model.add(LSTM(units=200, return_sequences=True, input_shape=(X_train.shape[1],1)))\n",
        "model.add(Dropout(0.2))\n",
        "model.add(LSTM(units=200, return_sequences=True))\n",
        "model.add(Dropout(0.2))\n",
        "model.add(LSTM(units=200))\n",
        "model.add(Dropout(0.2))\n",
        "model.add(Dense(units=1))"
      ],
      "metadata": {
        "id": "dfr4Ozl1rM1H"
      },
      "execution_count": 118,
      "outputs": []
    },
    {
      "cell_type": "code",
      "source": [
        "model.summary()"
      ],
      "metadata": {
        "colab": {
          "base_uri": "https://localhost:8080/"
        },
        "id": "VsHcjcJ1wClz",
        "outputId": "3df3b5b8-f27d-43c9-b017-3a21754c4047"
      },
      "execution_count": 119,
      "outputs": [
        {
          "output_type": "stream",
          "name": "stdout",
          "text": [
            "Model: \"sequential_2\"\n",
            "_________________________________________________________________\n",
            " Layer (type)                Output Shape              Param #   \n",
            "=================================================================\n",
            " lstm_6 (LSTM)               (None, 50, 200)           161600    \n",
            "                                                                 \n",
            " dropout_6 (Dropout)         (None, 50, 200)           0         \n",
            "                                                                 \n",
            " lstm_7 (LSTM)               (None, 50, 200)           320800    \n",
            "                                                                 \n",
            " dropout_7 (Dropout)         (None, 50, 200)           0         \n",
            "                                                                 \n",
            " lstm_8 (LSTM)               (None, 200)               320800    \n",
            "                                                                 \n",
            " dropout_8 (Dropout)         (None, 200)               0         \n",
            "                                                                 \n",
            " dense_2 (Dense)             (None, 1)                 201       \n",
            "                                                                 \n",
            "=================================================================\n",
            "Total params: 803,401\n",
            "Trainable params: 803,401\n",
            "Non-trainable params: 0\n",
            "_________________________________________________________________\n"
          ]
        }
      ]
    },
    {
      "cell_type": "code",
      "source": [
        "model.compile(loss=\"mean_squared_error\", optimizer=\"adam\")"
      ],
      "metadata": {
        "id": "07K1QGUMwKqd"
      },
      "execution_count": 120,
      "outputs": []
    },
    {
      "cell_type": "code",
      "source": [
        "model.fit(X_train, y_train, epochs=50, batch_size=32)"
      ],
      "metadata": {
        "colab": {
          "base_uri": "https://localhost:8080/"
        },
        "id": "RAoK-Iy7yj1h",
        "outputId": "c7be6f95-0410-4819-a857-867c8489cfe7"
      },
      "execution_count": 123,
      "outputs": [
        {
          "output_type": "stream",
          "name": "stdout",
          "text": [
            "Epoch 1/50\n",
            "49/49 [==============================] - 24s 372ms/step - loss: 0.0081\n",
            "Epoch 2/50\n",
            "49/49 [==============================] - 18s 371ms/step - loss: 0.0027\n",
            "Epoch 3/50\n",
            "49/49 [==============================] - 18s 370ms/step - loss: 0.0020\n",
            "Epoch 4/50\n",
            "49/49 [==============================] - 18s 371ms/step - loss: 0.0024\n",
            "Epoch 5/50\n",
            "49/49 [==============================] - 19s 388ms/step - loss: 0.0014\n",
            "Epoch 6/50\n",
            "49/49 [==============================] - 18s 369ms/step - loss: 0.0014\n",
            "Epoch 7/50\n",
            "49/49 [==============================] - 18s 370ms/step - loss: 0.0012\n",
            "Epoch 8/50\n",
            "49/49 [==============================] - 18s 367ms/step - loss: 0.0011\n",
            "Epoch 9/50\n",
            "49/49 [==============================] - 18s 368ms/step - loss: 0.0016\n",
            "Epoch 10/50\n",
            "49/49 [==============================] - 18s 368ms/step - loss: 0.0010\n",
            "Epoch 11/50\n",
            "49/49 [==============================] - 18s 368ms/step - loss: 0.0011\n",
            "Epoch 12/50\n",
            "49/49 [==============================] - 18s 370ms/step - loss: 0.0012\n",
            "Epoch 13/50\n",
            "49/49 [==============================] - 18s 367ms/step - loss: 0.0011\n",
            "Epoch 14/50\n",
            "49/49 [==============================] - 18s 366ms/step - loss: 0.0011\n",
            "Epoch 15/50\n",
            "49/49 [==============================] - 18s 365ms/step - loss: 8.8250e-04\n",
            "Epoch 16/50\n",
            "49/49 [==============================] - 18s 366ms/step - loss: 7.7666e-04\n",
            "Epoch 17/50\n",
            "49/49 [==============================] - 18s 367ms/step - loss: 9.7810e-04\n",
            "Epoch 18/50\n",
            "49/49 [==============================] - 18s 367ms/step - loss: 7.8810e-04\n",
            "Epoch 19/50\n",
            "49/49 [==============================] - 18s 364ms/step - loss: 7.3839e-04\n",
            "Epoch 20/50\n",
            "49/49 [==============================] - 18s 365ms/step - loss: 9.9341e-04\n",
            "Epoch 21/50\n",
            "49/49 [==============================] - 18s 367ms/step - loss: 9.8068e-04\n",
            "Epoch 22/50\n",
            "49/49 [==============================] - 18s 363ms/step - loss: 7.7206e-04\n",
            "Epoch 23/50\n",
            "49/49 [==============================] - 18s 366ms/step - loss: 9.4978e-04\n",
            "Epoch 24/50\n",
            "49/49 [==============================] - 18s 366ms/step - loss: 6.9812e-04\n",
            "Epoch 25/50\n",
            "49/49 [==============================] - 18s 366ms/step - loss: 7.2567e-04\n",
            "Epoch 26/50\n",
            "49/49 [==============================] - 18s 364ms/step - loss: 8.3520e-04\n",
            "Epoch 27/50\n",
            "49/49 [==============================] - 18s 366ms/step - loss: 6.5545e-04\n",
            "Epoch 28/50\n",
            "49/49 [==============================] - 18s 370ms/step - loss: 7.9758e-04\n",
            "Epoch 29/50\n",
            "49/49 [==============================] - 18s 368ms/step - loss: 7.2163e-04\n",
            "Epoch 30/50\n",
            "49/49 [==============================] - 18s 368ms/step - loss: 8.0124e-04\n",
            "Epoch 31/50\n",
            "49/49 [==============================] - 18s 368ms/step - loss: 7.1287e-04\n",
            "Epoch 32/50\n",
            "49/49 [==============================] - 18s 366ms/step - loss: 8.0485e-04\n",
            "Epoch 33/50\n",
            "49/49 [==============================] - 18s 369ms/step - loss: 6.6258e-04\n",
            "Epoch 34/50\n",
            "49/49 [==============================] - 18s 369ms/step - loss: 7.6061e-04\n",
            "Epoch 35/50\n",
            "49/49 [==============================] - 18s 369ms/step - loss: 6.4003e-04\n",
            "Epoch 36/50\n",
            "49/49 [==============================] - 18s 371ms/step - loss: 6.0125e-04\n",
            "Epoch 37/50\n",
            "49/49 [==============================] - 18s 367ms/step - loss: 6.2179e-04\n",
            "Epoch 38/50\n",
            "49/49 [==============================] - 18s 367ms/step - loss: 6.3605e-04\n",
            "Epoch 39/50\n",
            "49/49 [==============================] - 18s 367ms/step - loss: 6.1016e-04\n",
            "Epoch 40/50\n",
            "49/49 [==============================] - 18s 368ms/step - loss: 6.6574e-04\n",
            "Epoch 41/50\n",
            "49/49 [==============================] - 18s 368ms/step - loss: 5.9430e-04\n",
            "Epoch 42/50\n",
            "49/49 [==============================] - 18s 367ms/step - loss: 7.8330e-04\n",
            "Epoch 43/50\n",
            "49/49 [==============================] - 18s 366ms/step - loss: 6.3865e-04\n",
            "Epoch 44/50\n",
            "49/49 [==============================] - 18s 367ms/step - loss: 5.6870e-04\n",
            "Epoch 45/50\n",
            "49/49 [==============================] - 18s 367ms/step - loss: 5.8142e-04\n",
            "Epoch 46/50\n",
            "49/49 [==============================] - 18s 370ms/step - loss: 5.5722e-04\n",
            "Epoch 47/50\n",
            "49/49 [==============================] - 18s 368ms/step - loss: 6.6600e-04\n",
            "Epoch 48/50\n",
            "49/49 [==============================] - 18s 368ms/step - loss: 6.7002e-04\n",
            "Epoch 49/50\n",
            "49/49 [==============================] - 18s 367ms/step - loss: 6.2960e-04\n",
            "Epoch 50/50\n",
            "49/49 [==============================] - 18s 370ms/step - loss: 5.4705e-04\n"
          ]
        },
        {
          "output_type": "execute_result",
          "data": {
            "text/plain": [
              "<keras.callbacks.History at 0x7efecdd482d0>"
            ]
          },
          "metadata": {},
          "execution_count": 123
        }
      ]
    },
    {
      "cell_type": "code",
      "source": [
        "## make predictions\n",
        "predictions = model.predict(X_test)\n",
        "predictions"
      ],
      "metadata": {
        "colab": {
          "base_uri": "https://localhost:8080/"
        },
        "id": "L6GPM5-B2qnl",
        "outputId": "cf8cef9f-b72f-47d4-d24a-356e75ac36e0"
      },
      "execution_count": 125,
      "outputs": [
        {
          "output_type": "execute_result",
          "data": {
            "text/plain": [
              "array([[ 2.73027599e-01],\n",
              "       [ 2.56256044e-01],\n",
              "       [ 2.54990995e-01],\n",
              "       [ 2.59021491e-01],\n",
              "       [ 2.61722773e-01],\n",
              "       [ 2.65459806e-01],\n",
              "       [ 2.64354080e-01],\n",
              "       [ 2.59065121e-01],\n",
              "       [ 2.65337706e-01],\n",
              "       [ 2.71224797e-01],\n",
              "       [ 2.71202415e-01],\n",
              "       [ 2.69495875e-01],\n",
              "       [ 2.68217027e-01],\n",
              "       [ 2.65667379e-01],\n",
              "       [ 2.63509095e-01],\n",
              "       [ 2.68035561e-01],\n",
              "       [ 2.70109385e-01],\n",
              "       [ 2.82264113e-01],\n",
              "       [ 2.81937927e-01],\n",
              "       [ 2.81514049e-01],\n",
              "       [ 2.73934364e-01],\n",
              "       [ 2.78110266e-01],\n",
              "       [ 2.82501221e-01],\n",
              "       [ 2.93445677e-01],\n",
              "       [ 2.95447737e-01],\n",
              "       [ 2.93731928e-01],\n",
              "       [ 2.98961610e-01],\n",
              "       [ 3.04823667e-01],\n",
              "       [ 3.03508639e-01],\n",
              "       [ 3.00809026e-01],\n",
              "       [ 2.99175411e-01],\n",
              "       [ 3.01668853e-01],\n",
              "       [ 3.03456455e-01],\n",
              "       [ 3.06568563e-01],\n",
              "       [ 3.10954094e-01],\n",
              "       [ 3.52342486e-01],\n",
              "       [ 3.85762811e-01],\n",
              "       [ 3.94253433e-01],\n",
              "       [ 3.85043442e-01],\n",
              "       [ 3.73296082e-01],\n",
              "       [ 3.69440913e-01],\n",
              "       [ 3.79865468e-01],\n",
              "       [ 3.90330017e-01],\n",
              "       [ 3.92294914e-01],\n",
              "       [ 3.81078124e-01],\n",
              "       [ 3.57116133e-01],\n",
              "       [ 3.35140407e-01],\n",
              "       [ 3.30756217e-01],\n",
              "       [ 3.42525065e-01],\n",
              "       [ 3.68122041e-01],\n",
              "       [ 3.85270178e-01],\n",
              "       [ 4.11780417e-01],\n",
              "       [ 4.27666128e-01],\n",
              "       [ 4.35687184e-01],\n",
              "       [ 4.38925773e-01],\n",
              "       [ 4.45551872e-01],\n",
              "       [ 4.18773830e-01],\n",
              "       [ 4.27393436e-01],\n",
              "       [ 4.47585762e-01],\n",
              "       [ 4.71926808e-01],\n",
              "       [ 4.89922643e-01],\n",
              "       [ 5.06195068e-01],\n",
              "       [ 5.18367648e-01],\n",
              "       [ 4.94259834e-01],\n",
              "       [ 4.90298033e-01],\n",
              "       [ 5.10420144e-01],\n",
              "       [ 5.29075563e-01],\n",
              "       [ 5.29187620e-01],\n",
              "       [ 5.38477004e-01],\n",
              "       [ 5.36149383e-01],\n",
              "       [ 5.43128848e-01],\n",
              "       [ 5.46488404e-01],\n",
              "       [ 5.40177286e-01],\n",
              "       [ 5.39010048e-01],\n",
              "       [ 5.35871387e-01],\n",
              "       [ 5.15963912e-01],\n",
              "       [ 5.02497852e-01],\n",
              "       [ 5.07315397e-01],\n",
              "       [ 5.19086599e-01],\n",
              "       [ 5.38709044e-01],\n",
              "       [ 5.41781366e-01],\n",
              "       [ 5.45139849e-01],\n",
              "       [ 5.37666321e-01],\n",
              "       [ 5.23467064e-01],\n",
              "       [ 5.20122230e-01],\n",
              "       [ 5.25216877e-01],\n",
              "       [ 5.35542130e-01],\n",
              "       [ 5.10524333e-01],\n",
              "       [ 4.86617029e-01],\n",
              "       [ 4.76254165e-01],\n",
              "       [ 4.75332111e-01],\n",
              "       [ 4.80842173e-01],\n",
              "       [ 4.76545185e-01],\n",
              "       [ 4.62329209e-01],\n",
              "       [ 4.50708032e-01],\n",
              "       [ 4.33214784e-01],\n",
              "       [ 4.18348223e-01],\n",
              "       [ 4.11156178e-01],\n",
              "       [ 4.13432658e-01],\n",
              "       [ 4.13550377e-01],\n",
              "       [ 4.13281024e-01],\n",
              "       [ 4.10680234e-01],\n",
              "       [ 4.09542501e-01],\n",
              "       [ 4.08958197e-01],\n",
              "       [ 4.03075069e-01],\n",
              "       [ 4.04812217e-01],\n",
              "       [ 4.04510736e-01],\n",
              "       [ 4.07962948e-01],\n",
              "       [ 4.12106216e-01],\n",
              "       [ 4.17231590e-01],\n",
              "       [ 4.19703394e-01],\n",
              "       [ 4.22111481e-01],\n",
              "       [ 4.20422554e-01],\n",
              "       [ 4.13736403e-01],\n",
              "       [ 4.06234562e-01],\n",
              "       [ 4.01075065e-01],\n",
              "       [ 4.04116631e-01],\n",
              "       [ 4.10342783e-01],\n",
              "       [ 4.21383798e-01],\n",
              "       [ 4.19659019e-01],\n",
              "       [ 3.98269773e-01],\n",
              "       [ 3.82011175e-01],\n",
              "       [ 3.50946337e-01],\n",
              "       [ 3.27627629e-01],\n",
              "       [ 3.17319125e-01],\n",
              "       [ 3.14941823e-01],\n",
              "       [ 3.10862690e-01],\n",
              "       [ 3.09421569e-01],\n",
              "       [ 3.07404429e-01],\n",
              "       [ 3.07037145e-01],\n",
              "       [ 3.10547650e-01],\n",
              "       [ 3.10826629e-01],\n",
              "       [ 3.04000407e-01],\n",
              "       [ 2.98853993e-01],\n",
              "       [ 2.95959562e-01],\n",
              "       [ 2.92168289e-01],\n",
              "       [ 2.94632047e-01],\n",
              "       [ 2.99134642e-01],\n",
              "       [ 3.04286003e-01],\n",
              "       [ 2.99324811e-01],\n",
              "       [ 2.73245156e-01],\n",
              "       [ 2.44664043e-01],\n",
              "       [ 2.26485610e-01],\n",
              "       [ 2.23255754e-01],\n",
              "       [ 2.32120901e-01],\n",
              "       [ 2.43591011e-01],\n",
              "       [ 2.48564929e-01],\n",
              "       [ 2.45814413e-01],\n",
              "       [ 2.44364142e-01],\n",
              "       [ 2.47037470e-01],\n",
              "       [ 2.49881983e-01],\n",
              "       [ 2.53622413e-01],\n",
              "       [ 2.58585602e-01],\n",
              "       [ 2.55289972e-01],\n",
              "       [ 2.43852288e-01],\n",
              "       [ 2.35042781e-01],\n",
              "       [ 2.34047592e-01],\n",
              "       [ 2.39250571e-01],\n",
              "       [ 2.45995820e-01],\n",
              "       [ 2.44284660e-01],\n",
              "       [ 2.41539836e-01],\n",
              "       [ 2.36134410e-01],\n",
              "       [ 2.34175801e-01],\n",
              "       [ 2.35251904e-01],\n",
              "       [ 2.36620933e-01],\n",
              "       [ 2.31984675e-01],\n",
              "       [ 2.27051228e-01],\n",
              "       [ 2.22751439e-01],\n",
              "       [ 2.18434632e-01],\n",
              "       [ 2.18801618e-01],\n",
              "       [ 2.28271574e-01],\n",
              "       [ 2.37514108e-01],\n",
              "       [ 2.36893207e-01],\n",
              "       [ 2.36671895e-01],\n",
              "       [ 2.37263858e-01],\n",
              "       [ 2.51453966e-01],\n",
              "       [ 2.67612696e-01],\n",
              "       [ 2.72548765e-01],\n",
              "       [ 2.72546768e-01],\n",
              "       [ 2.77583241e-01],\n",
              "       [ 2.86740541e-01],\n",
              "       [ 2.88938820e-01],\n",
              "       [ 2.87795424e-01],\n",
              "       [ 2.83780813e-01],\n",
              "       [ 2.79976517e-01],\n",
              "       [ 2.76696056e-01],\n",
              "       [ 2.76264846e-01],\n",
              "       [ 2.73428142e-01],\n",
              "       [ 2.69938260e-01],\n",
              "       [ 2.70706147e-01],\n",
              "       [ 2.81880438e-01],\n",
              "       [ 2.74691850e-01],\n",
              "       [ 2.67962366e-01],\n",
              "       [ 2.68177778e-01],\n",
              "       [ 2.65767246e-01],\n",
              "       [ 2.65774399e-01],\n",
              "       [ 2.66599417e-01],\n",
              "       [ 2.67741472e-01],\n",
              "       [ 2.65437007e-01],\n",
              "       [ 2.70821422e-01],\n",
              "       [ 2.77658761e-01],\n",
              "       [ 2.79178768e-01],\n",
              "       [ 2.79843092e-01],\n",
              "       [ 2.75947481e-01],\n",
              "       [ 2.77691752e-01],\n",
              "       [ 2.82631993e-01],\n",
              "       [ 2.88248628e-01],\n",
              "       [ 2.86024243e-01],\n",
              "       [ 2.80716419e-01],\n",
              "       [ 2.72905558e-01],\n",
              "       [ 2.69944996e-01],\n",
              "       [ 2.69964218e-01],\n",
              "       [ 2.68327892e-01],\n",
              "       [ 2.73102462e-01],\n",
              "       [ 2.83840388e-01],\n",
              "       [ 2.84560472e-01],\n",
              "       [ 3.17367256e-01],\n",
              "       [ 3.50652218e-01],\n",
              "       [ 3.70972812e-01],\n",
              "       [ 3.55308175e-01],\n",
              "       [ 3.35114121e-01],\n",
              "       [ 3.35002303e-01],\n",
              "       [ 3.47867429e-01],\n",
              "       [ 3.75162303e-01],\n",
              "       [ 3.80907357e-01],\n",
              "       [ 3.49394053e-01],\n",
              "       [ 2.97583401e-01],\n",
              "       [ 2.62708753e-01],\n",
              "       [ 2.39247411e-01],\n",
              "       [ 2.30853915e-01],\n",
              "       [ 2.24913269e-01],\n",
              "       [ 2.22792357e-01],\n",
              "       [ 2.16251105e-01],\n",
              "       [ 2.04944640e-01],\n",
              "       [ 1.94096699e-01],\n",
              "       [ 1.79643661e-01],\n",
              "       [ 1.63976699e-01],\n",
              "       [ 1.58436880e-01],\n",
              "       [ 1.58070385e-01],\n",
              "       [ 1.60437495e-01],\n",
              "       [ 1.62587523e-01],\n",
              "       [ 1.55161172e-01],\n",
              "       [ 1.33590937e-01],\n",
              "       [ 1.21330731e-01],\n",
              "       [ 1.15511388e-01],\n",
              "       [ 1.11589029e-01],\n",
              "       [ 1.05106361e-01],\n",
              "       [ 1.00218870e-01],\n",
              "       [ 9.98367965e-02],\n",
              "       [ 1.01606846e-01],\n",
              "       [ 1.01785138e-01],\n",
              "       [ 9.90817919e-02],\n",
              "       [ 9.73205864e-02],\n",
              "       [ 9.77029651e-02],\n",
              "       [ 9.85251591e-02],\n",
              "       [ 9.99418795e-02],\n",
              "       [ 9.99073386e-02],\n",
              "       [ 1.04028210e-01],\n",
              "       [ 1.07452162e-01],\n",
              "       [ 1.05104364e-01],\n",
              "       [ 1.01138234e-01],\n",
              "       [ 9.77558196e-02],\n",
              "       [ 9.80308801e-02],\n",
              "       [ 9.60555896e-02],\n",
              "       [ 9.19454843e-02],\n",
              "       [ 8.92602205e-02],\n",
              "       [ 8.51968452e-02],\n",
              "       [ 8.12869966e-02],\n",
              "       [ 7.89611414e-02],\n",
              "       [ 7.64947385e-02],\n",
              "       [ 7.61258602e-02],\n",
              "       [ 7.89910555e-02],\n",
              "       [ 8.10551718e-02],\n",
              "       [ 7.81548992e-02],\n",
              "       [ 7.92523026e-02],\n",
              "       [ 8.49154294e-02],\n",
              "       [ 9.51634794e-02],\n",
              "       [ 9.57176536e-02],\n",
              "       [ 9.46279764e-02],\n",
              "       [ 9.55806822e-02],\n",
              "       [ 9.47768018e-02],\n",
              "       [ 9.27376673e-02],\n",
              "       [ 9.77760851e-02],\n",
              "       [ 1.02144003e-01],\n",
              "       [ 1.03490695e-01],\n",
              "       [ 1.00930832e-01],\n",
              "       [ 9.98164937e-02],\n",
              "       [ 1.01140797e-01],\n",
              "       [ 1.03439108e-01],\n",
              "       [ 1.06249094e-01],\n",
              "       [ 1.07828848e-01],\n",
              "       [ 1.06371149e-01],\n",
              "       [ 1.04218170e-01],\n",
              "       [ 1.02945626e-01],\n",
              "       [ 9.88605395e-02],\n",
              "       [ 8.80295634e-02],\n",
              "       [ 7.12853968e-02],\n",
              "       [ 6.27587438e-02],\n",
              "       [ 6.30580187e-02],\n",
              "       [ 6.46246970e-02],\n",
              "       [ 6.85775429e-02],\n",
              "       [ 6.60936609e-02],\n",
              "       [ 6.14263490e-02],\n",
              "       [ 5.53569719e-02],\n",
              "       [ 5.13462089e-02],\n",
              "       [ 5.45241982e-02],\n",
              "       [ 6.17014989e-02],\n",
              "       [ 6.65754005e-02],\n",
              "       [ 6.32814914e-02],\n",
              "       [ 5.80955893e-02],\n",
              "       [ 5.54004684e-02],\n",
              "       [ 5.43158501e-02],\n",
              "       [ 5.14461063e-02],\n",
              "       [ 5.07048592e-02],\n",
              "       [ 5.24631850e-02],\n",
              "       [ 4.96204756e-02],\n",
              "       [ 3.89398262e-02],\n",
              "       [ 2.64713615e-02],\n",
              "       [ 1.82131678e-02],\n",
              "       [ 1.44418478e-02],\n",
              "       [ 1.52656958e-02],\n",
              "       [ 1.59247145e-02],\n",
              "       [ 1.84868276e-02],\n",
              "       [ 1.83741376e-02],\n",
              "       [ 1.60925612e-02],\n",
              "       [ 1.20493397e-02],\n",
              "       [ 8.48723203e-03],\n",
              "       [ 9.02871042e-03],\n",
              "       [ 9.78109986e-03],\n",
              "       [ 1.19282752e-02],\n",
              "       [ 1.04402229e-02],\n",
              "       [ 7.96454400e-03],\n",
              "       [ 1.08953938e-02],\n",
              "       [ 1.24690533e-02],\n",
              "       [ 8.64892453e-03],\n",
              "       [ 3.99846584e-03],\n",
              "       [ 4.07316536e-03],\n",
              "       [ 4.80353087e-03],\n",
              "       [ 6.15593046e-03],\n",
              "       [ 3.10411304e-03],\n",
              "       [ 4.46368009e-03],\n",
              "       [ 8.60208273e-03],\n",
              "       [ 9.33172554e-03],\n",
              "       [ 6.72807544e-03],\n",
              "       [ 3.90117615e-03],\n",
              "       [ 4.61956114e-03],\n",
              "       [ 6.16402179e-03],\n",
              "       [ 7.14311749e-03],\n",
              "       [ 7.02659041e-03],\n",
              "       [ 6.18147105e-03],\n",
              "       [ 5.51747531e-03],\n",
              "       [ 7.01697916e-03],\n",
              "       [ 8.52072984e-03],\n",
              "       [ 8.35695863e-03],\n",
              "       [ 7.27564096e-03],\n",
              "       [ 4.66326624e-03],\n",
              "       [ 2.77817994e-03],\n",
              "       [ 6.06971234e-03],\n",
              "       [ 7.74544477e-03],\n",
              "       [ 7.94648379e-03],\n",
              "       [ 9.43005085e-03],\n",
              "       [ 1.24675333e-02],\n",
              "       [ 1.09557509e-02],\n",
              "       [ 9.91248339e-03],\n",
              "       [ 3.86146456e-03],\n",
              "       [ 1.14370137e-03],\n",
              "       [ 5.87364286e-03],\n",
              "       [ 1.21139809e-02],\n",
              "       [ 3.70571762e-03],\n",
              "       [-5.60464710e-03],\n",
              "       [-9.51218605e-03],\n",
              "       [-5.80924004e-03],\n",
              "       [-5.21801412e-04],\n",
              "       [ 1.33015215e-03],\n",
              "       [ 6.99587911e-03],\n",
              "       [ 1.32004842e-02],\n",
              "       [ 1.47006288e-02],\n",
              "       [ 1.56528279e-02],\n",
              "       [ 1.73846856e-02],\n",
              "       [ 1.89133063e-02],\n",
              "       [ 2.08884999e-02],\n",
              "       [ 2.29218602e-02],\n",
              "       [ 2.39463449e-02],\n",
              "       [ 2.32102722e-02],\n",
              "       [ 2.17838213e-02],\n",
              "       [ 1.90310627e-02],\n",
              "       [ 1.75813958e-02],\n",
              "       [ 1.72877237e-02],\n",
              "       [ 1.88339502e-02],\n",
              "       [ 1.80241913e-02],\n",
              "       [ 1.72445998e-02],\n",
              "       [ 1.73976123e-02],\n",
              "       [ 1.69005170e-02],\n",
              "       [ 1.86437592e-02],\n",
              "       [ 1.72130466e-02],\n",
              "       [ 1.98175535e-02],\n",
              "       [ 2.17483416e-02],\n",
              "       [ 2.50935927e-02],\n",
              "       [ 2.68991813e-02],\n",
              "       [ 2.90698856e-02]], dtype=float32)"
            ]
          },
          "metadata": {},
          "execution_count": 125
        }
      ]
    },
    {
      "cell_type": "code",
      "source": [
        "predictions = scaler.inverse_transform(predictions)\n",
        "predictions"
      ],
      "metadata": {
        "colab": {
          "base_uri": "https://localhost:8080/"
        },
        "id": "xIi7Q8zB9spK",
        "outputId": "a6f07eac-fc7a-4a13-91af-5f37cc679d53"
      },
      "execution_count": 127,
      "outputs": [
        {
          "output_type": "execute_result",
          "data": {
            "text/plain": [
              "array([[578.52783],\n",
              "       [559.207  ],\n",
              "       [557.74963],\n",
              "       [562.39276],\n",
              "       [565.50464],\n",
              "       [569.8097 ],\n",
              "       [568.5359 ],\n",
              "       [562.443  ],\n",
              "       [569.669  ],\n",
              "       [576.451  ],\n",
              "       [576.4252 ],\n",
              "       [574.4592 ],\n",
              "       [572.986  ],\n",
              "       [570.0488 ],\n",
              "       [567.56244],\n",
              "       [572.777  ],\n",
              "       [575.166  ],\n",
              "       [589.1683 ],\n",
              "       [588.7925 ],\n",
              "       [588.3042 ],\n",
              "       [579.5724 ],\n",
              "       [584.38306],\n",
              "       [589.4414 ],\n",
              "       [602.04944],\n",
              "       [604.3558 ],\n",
              "       [602.3792 ],\n",
              "       [608.40375],\n",
              "       [615.15686],\n",
              "       [613.64197],\n",
              "       [610.53204],\n",
              "       [608.6501 ],\n",
              "       [611.5225 ],\n",
              "       [613.58185],\n",
              "       [617.167  ],\n",
              "       [622.2191 ],\n",
              "       [669.89856],\n",
              "       [708.3988 ],\n",
              "       [718.18   ],\n",
              "       [707.57007],\n",
              "       [694.0371 ],\n",
              "       [689.59595],\n",
              "       [701.60504],\n",
              "       [713.6602 ],\n",
              "       [715.9237 ],\n",
              "       [703.002  ],\n",
              "       [675.39777],\n",
              "       [650.0818 ],\n",
              "       [645.0311 ],\n",
              "       [658.58887],\n",
              "       [688.0766 ],\n",
              "       [707.8313 ],\n",
              "       [738.3711 ],\n",
              "       [756.6714 ],\n",
              "       [765.9117 ],\n",
              "       [769.64246],\n",
              "       [777.27576],\n",
              "       [746.4275 ],\n",
              "       [756.35724],\n",
              "       [779.61884],\n",
              "       [807.6597 ],\n",
              "       [828.3909 ],\n",
              "       [847.1367 ],\n",
              "       [861.15955],\n",
              "       [833.3873 ],\n",
              "       [828.82336],\n",
              "       [852.004  ],\n",
              "       [873.49506],\n",
              "       [873.62415],\n",
              "       [884.32556],\n",
              "       [881.6441 ],\n",
              "       [889.68445],\n",
              "       [893.5547 ],\n",
              "       [886.28424],\n",
              "       [884.9396 ],\n",
              "       [881.32385],\n",
              "       [858.39044],\n",
              "       [842.87756],\n",
              "       [848.42737],\n",
              "       [861.9878 ],\n",
              "       [884.59283],\n",
              "       [888.13214],\n",
              "       [892.0011 ],\n",
              "       [883.3916 ],\n",
              "       [867.03406],\n",
              "       [863.18085],\n",
              "       [869.04987],\n",
              "       [880.9446 ],\n",
              "       [852.124  ],\n",
              "       [824.5828 ],\n",
              "       [812.64484],\n",
              "       [811.5826 ],\n",
              "       [817.9302 ],\n",
              "       [812.98004],\n",
              "       [796.6033 ],\n",
              "       [783.2157 ],\n",
              "       [763.0635 ],\n",
              "       [745.93713],\n",
              "       [737.6519 ],\n",
              "       [740.2744 ],\n",
              "       [740.41003],\n",
              "       [740.09973],\n",
              "       [737.10364],\n",
              "       [735.79297],\n",
              "       [735.1199 ],\n",
              "       [728.34247],\n",
              "       [730.3437 ],\n",
              "       [729.9964 ],\n",
              "       [733.9733 ],\n",
              "       [738.7464 ],\n",
              "       [744.65076],\n",
              "       [747.4983 ],\n",
              "       [750.2724 ],\n",
              "       [748.3268 ],\n",
              "       [740.6244 ],\n",
              "       [731.98224],\n",
              "       [726.0385 ],\n",
              "       [729.54236],\n",
              "       [736.71484],\n",
              "       [749.43414],\n",
              "       [747.4472 ],\n",
              "       [722.8068 ],\n",
              "       [704.0769 ],\n",
              "       [668.29016],\n",
              "       [641.427  ],\n",
              "       [629.55164],\n",
              "       [626.813  ],\n",
              "       [622.11383],\n",
              "       [620.4536 ],\n",
              "       [618.1299 ],\n",
              "       [617.7068 ],\n",
              "       [621.7509 ],\n",
              "       [622.07227],\n",
              "       [614.20844],\n",
              "       [608.27985],\n",
              "       [604.94543],\n",
              "       [600.5779 ],\n",
              "       [603.41614],\n",
              "       [608.6031 ],\n",
              "       [614.5375 ],\n",
              "       [608.8222 ],\n",
              "       [578.77844],\n",
              "       [545.85297],\n",
              "       [524.91144],\n",
              "       [521.1906 ],\n",
              "       [531.40326],\n",
              "       [544.6168 ],\n",
              "       [550.3468 ],\n",
              "       [547.1782 ],\n",
              "       [545.5075 ],\n",
              "       [548.58716],\n",
              "       [551.864  ],\n",
              "       [556.17303],\n",
              "       [561.8906 ],\n",
              "       [558.09406],\n",
              "       [544.91785],\n",
              "       [534.7693 ],\n",
              "       [533.6228 ],\n",
              "       [539.61664],\n",
              "       [547.38715],\n",
              "       [545.4159 ],\n",
              "       [542.2539 ],\n",
              "       [536.02686],\n",
              "       [533.7705 ],\n",
              "       [535.0102 ],\n",
              "       [536.5873 ],\n",
              "       [531.24634],\n",
              "       [525.563  ],\n",
              "       [520.6096 ],\n",
              "       [515.63666],\n",
              "       [516.05945],\n",
              "       [526.9689 ],\n",
              "       [537.6162 ],\n",
              "       [536.90094],\n",
              "       [536.646  ],\n",
              "       [537.32794],\n",
              "       [553.6749 ],\n",
              "       [572.2898 ],\n",
              "       [577.9762 ],\n",
              "       [577.9739 ],\n",
              "       [583.77594],\n",
              "       [594.32513],\n",
              "       [596.85754],\n",
              "       [595.54034],\n",
              "       [590.9155 ],\n",
              "       [586.53296],\n",
              "       [582.75385],\n",
              "       [582.25714],\n",
              "       [578.98926],\n",
              "       [574.9689 ],\n",
              "       [575.85345],\n",
              "       [588.7263 ],\n",
              "       [580.445  ],\n",
              "       [572.6926 ],\n",
              "       [572.9408 ],\n",
              "       [570.1639 ],\n",
              "       [570.1721 ],\n",
              "       [571.1225 ],\n",
              "       [572.4382 ],\n",
              "       [569.78345],\n",
              "       [575.98627],\n",
              "       [583.8629 ],\n",
              "       [585.61395],\n",
              "       [586.3793 ],\n",
              "       [581.8915 ],\n",
              "       [583.9009 ],\n",
              "       [589.5921 ],\n",
              "       [596.0624 ],\n",
              "       [593.49994],\n",
              "       [587.3853 ],\n",
              "       [578.3872 ],\n",
              "       [574.9766 ],\n",
              "       [574.9988 ],\n",
              "       [573.1137 ],\n",
              "       [578.6141 ],\n",
              "       [590.98413],\n",
              "       [591.81366],\n",
              "       [629.6071 ],\n",
              "       [667.95135],\n",
              "       [691.3607 ],\n",
              "       [673.31506],\n",
              "       [650.0515 ],\n",
              "       [649.92267],\n",
              "       [664.7433 ],\n",
              "       [696.187  ],\n",
              "       [702.8053 ],\n",
              "       [666.50195],\n",
              "       [606.8161 ],\n",
              "       [566.6405 ],\n",
              "       [539.61304],\n",
              "       [529.9437 ],\n",
              "       [523.1001 ],\n",
              "       [520.6568 ],\n",
              "       [513.1213 ],\n",
              "       [500.09622],\n",
              "       [487.5994 ],\n",
              "       [470.9495 ],\n",
              "       [452.90115],\n",
              "       [446.5193 ],\n",
              "       [446.09708],\n",
              "       [448.82397],\n",
              "       [451.3008 ],\n",
              "       [442.74567],\n",
              "       [417.89676],\n",
              "       [403.773  ],\n",
              "       [397.0691 ],\n",
              "       [392.55057],\n",
              "       [385.08255],\n",
              "       [379.45215],\n",
              "       [379.01196],\n",
              "       [381.0511 ],\n",
              "       [381.25647],\n",
              "       [378.14224],\n",
              "       [376.1133 ],\n",
              "       [376.55383],\n",
              "       [377.50098],\n",
              "       [379.13303],\n",
              "       [379.09323],\n",
              "       [383.8405 ],\n",
              "       [387.7849 ],\n",
              "       [385.08023],\n",
              "       [380.51123],\n",
              "       [376.6147 ],\n",
              "       [376.93158],\n",
              "       [374.65604],\n",
              "       [369.9212 ],\n",
              "       [366.82776],\n",
              "       [362.14676],\n",
              "       [357.6426 ],\n",
              "       [354.96326],\n",
              "       [352.12195],\n",
              "       [351.697  ],\n",
              "       [354.99768],\n",
              "       [357.37558],\n",
              "       [354.03445],\n",
              "       [355.29865],\n",
              "       [361.82257],\n",
              "       [373.62833],\n",
              "       [374.26675],\n",
              "       [373.0114 ],\n",
              "       [374.10895],\n",
              "       [373.18286],\n",
              "       [370.8338 ],\n",
              "       [376.63803],\n",
              "       [381.6699 ],\n",
              "       [383.22128],\n",
              "       [380.2723 ],\n",
              "       [378.9886 ],\n",
              "       [380.5142 ],\n",
              "       [383.16187],\n",
              "       [386.39896],\n",
              "       [388.21884],\n",
              "       [386.53958],\n",
              "       [384.05933],\n",
              "       [382.59335],\n",
              "       [377.88736],\n",
              "       [365.41003],\n",
              "       [346.12076],\n",
              "       [336.29807],\n",
              "       [336.64282],\n",
              "       [338.44763],\n",
              "       [343.00134],\n",
              "       [340.13992],\n",
              "       [334.76318],\n",
              "       [327.77124],\n",
              "       [323.15082],\n",
              "       [326.8119 ],\n",
              "       [335.08014],\n",
              "       [340.69485],\n",
              "       [336.90027],\n",
              "       [330.92612],\n",
              "       [327.82135],\n",
              "       [326.57187],\n",
              "       [323.2659 ],\n",
              "       [322.412  ],\n",
              "       [324.4376 ],\n",
              "       [321.16278],\n",
              "       [308.85867],\n",
              "       [294.49503],\n",
              "       [284.98157],\n",
              "       [280.63702],\n",
              "       [281.5861 ],\n",
              "       [282.34528],\n",
              "       [285.29684],\n",
              "       [285.167  ],\n",
              "       [282.53864],\n",
              "       [277.88083],\n",
              "       [273.77728],\n",
              "       [274.40106],\n",
              "       [275.26782],\n",
              "       [277.7414 ],\n",
              "       [276.02713],\n",
              "       [273.17514],\n",
              "       [276.55148],\n",
              "       [278.36435],\n",
              "       [273.96356],\n",
              "       [268.60623],\n",
              "       [268.6923 ],\n",
              "       [269.53366],\n",
              "       [271.0916 ],\n",
              "       [267.57593],\n",
              "       [269.14215],\n",
              "       [273.9096 ],\n",
              "       [274.75015],\n",
              "       [271.75073],\n",
              "       [268.49414],\n",
              "       [269.32172],\n",
              "       [271.10095],\n",
              "       [272.22888],\n",
              "       [272.09464],\n",
              "       [271.12106],\n",
              "       [270.35614],\n",
              "       [272.08356],\n",
              "       [273.8159 ],\n",
              "       [273.62723],\n",
              "       [272.38153],\n",
              "       [269.37207],\n",
              "       [267.20047],\n",
              "       [270.9923 ],\n",
              "       [272.92276],\n",
              "       [273.15436],\n",
              "       [274.86343],\n",
              "       [278.3626 ],\n",
              "       [276.62103],\n",
              "       [275.4192 ],\n",
              "       [268.4484 ],\n",
              "       [265.31754],\n",
              "       [270.76642],\n",
              "       [277.9553 ],\n",
              "       [268.26898],\n",
              "       [257.54346],\n",
              "       [253.04196],\n",
              "       [257.30774],\n",
              "       [263.3989 ],\n",
              "       [265.53235],\n",
              "       [272.05927],\n",
              "       [279.20697],\n",
              "       [280.93512],\n",
              "       [282.03204],\n",
              "       [284.02716],\n",
              "       [285.78812],\n",
              "       [288.06354],\n",
              "       [290.40598],\n",
              "       [291.58618],\n",
              "       [290.73825],\n",
              "       [289.09497],\n",
              "       [285.9238 ],\n",
              "       [284.25375],\n",
              "       [283.91547],\n",
              "       [285.69672],\n",
              "       [284.7639 ],\n",
              "       [283.86578],\n",
              "       [284.04205],\n",
              "       [283.4694 ],\n",
              "       [285.4776 ],\n",
              "       [283.82944],\n",
              "       [286.82983],\n",
              "       [289.0541 ],\n",
              "       [292.90784],\n",
              "       [294.98785],\n",
              "       [297.48853]], dtype=float32)"
            ]
          },
          "metadata": {},
          "execution_count": 127
        }
      ]
    },
    {
      "cell_type": "code",
      "source": [
        "len(y_train), len(predictions)"
      ],
      "metadata": {
        "colab": {
          "base_uri": "https://localhost:8080/"
        },
        "id": "vqCdT8GY_LV_",
        "outputId": "b7da1099-9a30-4ac8-8a84-f0f714aa4efb"
      },
      "execution_count": 128,
      "outputs": [
        {
          "output_type": "execute_result",
          "data": {
            "text/plain": [
              "(1550, 400)"
            ]
          },
          "metadata": {},
          "execution_count": 128
        }
      ]
    },
    {
      "cell_type": "code",
      "source": [
        "## visualize\n",
        "fig, ax = plt.subplots(figsize=(10,8))\n",
        "plt.plot(data, color='red', label='Original StockPrice')\n",
        "ax.plot(range(len(y_train)+50, len(y_train)+50+len(predictions)),predictions, color='blue', label='Predictions')\n",
        "plt.legend()\n",
        "print(range(len(y_train)+50, len(y_train)+50+len(predictions)))"
      ],
      "metadata": {
        "colab": {
          "base_uri": "https://localhost:8080/",
          "height": 500
        },
        "id": "xlAdVjcUBKF9",
        "outputId": "030086cc-ed42-427a-86e4-c4903fda77d7"
      },
      "execution_count": 135,
      "outputs": [
        {
          "output_type": "stream",
          "name": "stdout",
          "text": [
            "range(1600, 2000)\n"
          ]
        },
        {
          "output_type": "display_data",
          "data": {
            "text/plain": [
              "<Figure size 720x576 with 1 Axes>"
            ],
            "image/png": "[encoded data removed]"
          },
          "metadata": {
            "needs_background": "light"
          }
        }
      ]
    },
    {
      "cell_type": "code",
      "source": [
        "y_test_scaled = scaler.inverse_transform(y_test.reshape(-1,1))\n",
        "\n",
        "## visualize\n",
        "fig, ax = plt.subplots(figsize=(10,8))\n",
        "plt.plot(y_test_scaled, color='red', label='True Stock Price Value')\n",
        "ax.plot(predictions, color='blue', label='Predictions')\n",
        "plt.legend();"
      ],
      "metadata": {
        "colab": {
          "base_uri": "https://localhost:8080/",
          "height": 483
        },
        "id": "hcrmjUCxBKY4",
        "outputId": "d1becd3c-af44-44e0-c005-392839d1a3ec"
      },
      "execution_count": 137,
      "outputs": [
        {
          "output_type": "display_data",
          "data": {
            "text/plain": [
              "<Figure size 720x576 with 1 Axes>"
            ],
            "image/png": "[encoded data removed]"
          },
          "metadata": {
            "needs_background": "light"
          }
        }
      ]
    },
    {
      "cell_type": "code",
      "source": [
        ""
      ],
      "metadata": {
        "id": "PgQSh1AAFJSC"
      },
      "execution_count": null,
      "outputs": []
    }
  ],
  "metadata": {
    "colab": {
      "collapsed_sections": [],
      "name": "LSTM Stock Price Prediction.ipynb",
      "provenance": [],
      "authorship_tag": "ABX9TyOqLYXh1IczepICkNDlkmoJ",
      "include_colab_link": true
    },
    "kernelspec": {
      "display_name": "Python 3",
      "name": "python3"
    },
    "language_info": {
      "name": "python"
    }
  },
  "nbformat": 4,
  "nbformat_minor": 0
}